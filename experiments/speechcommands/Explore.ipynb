{
 "cells": [
  {
   "cell_type": "code",
   "execution_count": 1,
   "metadata": {},
   "outputs": [],
   "source": [
    "# Explore"
   ]
  },
  {
   "cell_type": "code",
   "execution_count": 143,
   "metadata": {},
   "outputs": [
    {
     "name": "stdout",
     "output_type": "stream",
     "text": [
      "The autoreload extension is already loaded. To reload it, use:\n",
      "  %reload_ext autoreload\n"
     ]
    }
   ],
   "source": [
    "%matplotlib inline\n",
    "%load_ext autoreload\n",
    "%autoreload 2\n",
    "\n",
    "import os\n",
    "import sys\n",
    "import time\n",
    "\n",
    "from lime import lime_image\n",
    "import tensorflow as tf\n",
    "import numpy as np\n",
    "import matplotlib.pyplot as plt\n",
    "import pandas\n",
    "\n",
    "import input_data\n",
    "import models"
   ]
  },
  {
   "cell_type": "code",
   "execution_count": 237,
   "metadata": {},
   "outputs": [
    {
     "name": "stdout",
     "output_type": "stream",
     "text": [
      "ff 32 98\n"
     ]
    }
   ],
   "source": [
    "\n",
    "tf.reset_default_graph()\n",
    "\n",
    "def setup(sample_rate=16000, clip_duration_ms=1000.0,\n",
    "            window_size_ms=30.0, window_stride_ms=10.0,\n",
    "            feature_bin_count=40, preprocess='logmel', n_classes=12,\n",
    "            silence = 10.0, unknown = 10.0,\n",
    "            testing = 10.0, validation = 10.0):\n",
    "\n",
    "    m = models.prepare_model_settings(n_classes, sample_rate,\n",
    "                                      clip_duration_ms, window_size_ms, window_stride_ms,\n",
    "                                      feature_bin_count, preprocess)\n",
    "    \n",
    "    wanted_words = 'yes,no,up,down,left,right,on,off,stop,go'.split(',')\n",
    "    p = input_data.AudioProcessor(None, '../../data/speech_dataset/',\n",
    "                                silence, unknown, wanted_words,\n",
    "                                validation, testing, m, None)\n",
    "    p.wanted_words = wanted_words\n",
    "    return m, p\n",
    "\n",
    "model_settings, audio_processor = setup(feature_bin_count=32)\n",
    "\n",
    "\n",
    "def wav_to_features(input_wav):\n",
    "    results = audio_processor.get_features_for_wav(input_wav, model_settings, session)\n",
    "    features = results[0]\n",
    "    return features\n",
    "\n",
    "#f = wav_to_features('../../data/speech_dataset/nine/122c5aa7_nohash_0.wav')\n",
    "#f.shape"
   ]
  },
  {
   "cell_type": "code",
   "execution_count": 238,
   "metadata": {},
   "outputs": [
    {
     "name": "stdout",
     "output_type": "stream",
     "text": [
      "conv out 25 1 186\n",
      "---------\n",
      "Variables: name (type shape) [size]\n",
      "---------\n",
      "first_weights:0 (float32_ref 98x8x1x186) [145824, bytes: 583296]\n",
      "first_bias:0 (float32_ref 186) [186, bytes: 744]\n",
      "first_fc_weights:0 (float32_ref 4650x128) [595200, bytes: 2380800]\n",
      "first_fc_bias:0 (float32_ref 128) [128, bytes: 512]\n",
      "second_fc_weights:0 (float32_ref 128x128) [16384, bytes: 65536]\n",
      "second_fc_bias:0 (float32_ref 128) [128, bytes: 512]\n",
      "final_fc_weights:0 (float32_ref 128x12) [1536, bytes: 6144]\n",
      "final_fc_bias:0 (float32_ref 12) [12, bytes: 48]\n",
      "Total size of variables: 759398\n",
      "Total bytes of variables: 3037592\n",
      "INFO:tensorflow:Restoring parameters from ../../data/speech-logmel32/low_latency_conv.ckpt-26000\n",
      "INFO:tensorflow:Restoring parameters from ../../data/speech-logmel32/low_latency_conv.ckpt-26000\n"
     ]
    }
   ],
   "source": [
    "image_size = (98, model_settings['fingerprint_width'], 1)\n",
    "f_size = (None, 98, model_settings['fingerprint_width'], 1)\n",
    "\n",
    "processed_images = tf.placeholder(tf.float32, shape=f_size)\n",
    "model = models.create_model(processed_images, model_settings,\n",
    "                            model_architecture='low_latency_conv', is_training=False)\n",
    "\n",
    "session = tf.Session()\n",
    "\n",
    "def transform_img_fn(path_list):\n",
    "    out = []\n",
    "    for f in path_list:\n",
    "        image = wav_to_features(f).squeeze()\n",
    "        s = (image.shape[0], image.shape[1], 3)\n",
    "        fake_rgb = np.ndarray(shape=s, dtype=image.dtype)\n",
    "        fake_rgb[:,:, 0] = image\n",
    "        fake_rgb[:,:, 1] = 0\n",
    "        fake_rgb[:,:, 2] = 0\n",
    "        i = tf.convert_to_tensor(fake_rgb) \n",
    "        out.append(i)\n",
    "    return session.run([out])[0]\n",
    "\n",
    "#tf.get_variable_scope().reuse_variables()\n",
    "\n",
    "checkpoint = '../../data/speech-logmel32/low_latency_conv.ckpt-26000'\n",
    "\n",
    "models.load_variables_from_checkpoint(session, checkpoint)\n",
    "saver = tf.train.Saver(tf.global_variables())\n",
    "saver.restore(session, checkpoint)\n",
    "\n",
    "probabilities = model\n",
    "def predict_fn(images):\n",
    "    images = [ np.expand_dims(img[:,:,0], axis=-1) for img in images ]\n",
    "    return session.run(probabilities, feed_dict={processed_images: images})\n",
    "\n",
    "\n",
    "p = predict_fn(transform_img_fn(['../../data/speech_dataset/left/122c5aa7_nohash_0.wav']))\n"
   ]
  },
  {
   "cell_type": "code",
   "execution_count": 22,
   "metadata": {},
   "outputs": [
    {
     "name": "stdout",
     "output_type": "stream",
     "text": [
      "s (98, 32) (98, 32, 3)\n"
     ]
    }
   ],
   "source": []
  },
  {
   "cell_type": "code",
   "execution_count": 246,
   "metadata": {},
   "outputs": [
    {
     "name": "stderr",
     "output_type": "stream",
     "text": [
      "Clipping input data to the valid range for imshow with RGB data ([0..1] for floats or [0..255] for integers).\n"
     ]
    },
    {
     "data": {
      "image/png": "[encoded data removed]",
      "text/plain": [
       "<Figure size 432x1440 with 1 Axes>"
      ]
     },
     "metadata": {
      "needs_background": "light"
     },
     "output_type": "display_data"
    }
   ],
   "source": [
    "\n",
    "def explain(filepath, expected_label, ax=None):\n",
    "    images = transform_img_fn([filepath])\n",
    "    p = predict_fn(images)\n",
    "    image = images[0]\n",
    "\n",
    "    predicted = np.argmax(p[0])\n",
    "    score = p[0][predicted]\n",
    "    label = audio_processor.words_list[predicted]\n",
    "    \n",
    "    explainer = lime_image.LimeImageExplainer()\n",
    "    start_time = time.time()\n",
    "    \n",
    "    explanation = explainer.explain_instance(image, predict_fn, top_labels=5, hide_color=0, num_samples=1000)\n",
    "    explanation_time = time.time() - start_time\n",
    "    \n",
    "    from skimage.segmentation import mark_boundaries\n",
    "    \n",
    "    # TODO: plot frequency and time on axis\n",
    "    temp, mask = explanation.get_image_and_mask(predicted, positive_only=True, num_features=10, hide_rest=True)\n",
    "    \n",
    "    if not ax:\n",
    "        fig = plt.figure(figsize=(6,20))\n",
    "        ax = fig.add_subplot(1, 1, 1)\n",
    "    ax.imshow(mark_boundaries(temp / 2 + 0.5, mask), aspect=1/6)\n",
    "    \n",
    "explain('../../data/speech_dataset/down/122c5aa7_nohash_1.wav', 'down')\n",
    "    "
   ]
  },
  {
   "cell_type": "code",
   "execution_count": 197,
   "metadata": {},
   "outputs": [
    {
     "name": "stdout",
     "output_type": "stream",
     "text": [
      "labels ['go' 'up' 'no' 'down' 'yes' 'stop' 'off' 'right' 'left' 'on'] 10\n"
     ]
    },
    {
     "data": {
      "text/html": [
       "<div>\n",
       "<style scoped>\n",
       "    .dataframe tbody tr th:only-of-type {\n",
       "        vertical-align: middle;\n",
       "    }\n",
       "\n",
       "    .dataframe tbody tr th {\n",
       "        vertical-align: top;\n",
       "    }\n",
       "\n",
       "    .dataframe thead th {\n",
       "        text-align: right;\n",
       "    }\n",
       "</style>\n",
       "<table border=\"1\" class=\"dataframe\">\n",
       "  <thead>\n",
       "    <tr style=\"text-align: right;\">\n",
       "      <th></th>\n",
       "      <th>split</th>\n",
       "      <th>file</th>\n",
       "      <th>label</th>\n",
       "      <th>included</th>\n",
       "    </tr>\n",
       "  </thead>\n",
       "  <tbody>\n",
       "    <tr>\n",
       "      <th>2</th>\n",
       "      <td>validation</td>\n",
       "      <td>../../data/speech_dataset/go/099d52ad_nohash_2...</td>\n",
       "      <td>go</td>\n",
       "      <td>True</td>\n",
       "    </tr>\n",
       "    <tr>\n",
       "      <th>4</th>\n",
       "      <td>validation</td>\n",
       "      <td>../../data/speech_dataset/up/026290a7_nohash_0...</td>\n",
       "      <td>up</td>\n",
       "      <td>True</td>\n",
       "    </tr>\n",
       "    <tr>\n",
       "      <th>5</th>\n",
       "      <td>validation</td>\n",
       "      <td>../../data/speech_dataset/no/c2d15ea5_nohash_0...</td>\n",
       "      <td>no</td>\n",
       "      <td>True</td>\n",
       "    </tr>\n",
       "  </tbody>\n",
       "</table>\n",
       "</div>"
      ],
      "text/plain": [
       "        split                                               file label  \\\n",
       "2  validation  ../../data/speech_dataset/go/099d52ad_nohash_2...    go   \n",
       "4  validation  ../../data/speech_dataset/up/026290a7_nohash_0...    up   \n",
       "5  validation  ../../data/speech_dataset/no/c2d15ea5_nohash_0...    no   \n",
       "\n",
       "   included  \n",
       "2      True  \n",
       "4      True  \n",
       "5      True  "
      ]
     },
     "execution_count": 197,
     "metadata": {},
     "output_type": "execute_result"
    }
   ],
   "source": [
    "# return Pandas.DataFrame\n",
    "def get_samples(audio_processor):\n",
    "    \n",
    "    data = {\n",
    "        'split': [],\n",
    "        'file': [],\n",
    "        'label': [],\n",
    "        'included': [],\n",
    "    }\n",
    "    \n",
    "    for dataset, files in audio_processor.data_index.items():\n",
    "        for sample in files:\n",
    "            label = sample['label']\n",
    "            data['included'].append(label in audio_processor.wanted_words)\n",
    "            data['split'].append(dataset)\n",
    "            data['label'].append(label)\n",
    "            data['file'].append(sample['file'])\n",
    "                  \n",
    "    return pandas.DataFrame(data)\n",
    "\n",
    "all_samples = get_samples(audio_processor)\n",
    "samples = all_samples[all_samples.included == True]\n",
    "print('labels', samples.label.unique(), len(samples.label.unique()))\n",
    "samples.head(3)"
   ]
  },
  {
   "cell_type": "code",
   "execution_count": 247,
   "metadata": {},
   "outputs": [
    {
     "name": "stdout",
     "output_type": "stream",
     "text": [
      "go\n"
     ]
    },
    {
     "name": "stderr",
     "output_type": "stream",
     "text": [
      "Clipping input data to the valid range for imshow with RGB data ([0..1] for floats or [0..255] for integers).\n",
      "Clipping input data to the valid range for imshow with RGB data ([0..1] for floats or [0..255] for integers).\n",
      "Clipping input data to the valid range for imshow with RGB data ([0..1] for floats or [0..255] for integers).\n",
      "Clipping input data to the valid range for imshow with RGB data ([0..1] for floats or [0..255] for integers).\n",
      "Clipping input data to the valid range for imshow with RGB data ([0..1] for floats or [0..255] for integers).\n",
      "Clipping input data to the valid range for imshow with RGB data ([0..1] for floats or [0..255] for integers).\n",
      "Clipping input data to the valid range for imshow with RGB data ([0..1] for floats or [0..255] for integers).\n",
      "Clipping input data to the valid range for imshow with RGB data ([0..1] for floats or [0..255] for integers).\n",
      "Clipping input data to the valid range for imshow with RGB data ([0..1] for floats or [0..255] for integers).\n",
      "Clipping input data to the valid range for imshow with RGB data ([0..1] for floats or [0..255] for integers).\n"
     ]
    },
    {
     "data": {
      "image/png": "[encoded data removed]",
      "text/plain": [
       "<Figure size 432x1440 with 1 Axes>"
      ]
     },
     "metadata": {
      "needs_background": "light"
     },
     "output_type": "display_data"
    },
    {
     "data": {
      "image/png": "[encoded data removed]",
      "text/plain": [
       "<Figure size 432x1440 with 1 Axes>"
      ]
     },
     "metadata": {
      "needs_background": "light"
     },
     "output_type": "display_data"
    },
    {
     "data": {
      "image/png": "[encoded data removed]",
      "text/plain": [
       "<Figure size 432x1440 with 1 Axes>"
      ]
     },
     "metadata": {
      "needs_background": "light"
     },
     "output_type": "display_data"
    },
    {
     "data": {
      "image/png": "[encoded data removed]",
      "text/plain": [
       "<Figure size 432x1440 with 1 Axes>"
      ]
     },
     "metadata": {
      "needs_background": "light"
     },
     "output_type": "display_data"
    },
    {
     "data": {
      "image/png": "[encoded data removed]",
      "text/plain": [
       "<Figure size 432x1440 with 1 Axes>"
      ]
     },
     "metadata": {
      "needs_background": "light"
     },
     "output_type": "display_data"
    },
    {
     "data": {
      "image/png": "[encoded data removed]",
      "text/plain": [
       "<Figure size 432x1440 with 1 Axes>"
      ]
     },
     "metadata": {
      "needs_background": "light"
     },
     "output_type": "display_data"
    },
    {
     "data": {
      "image/png": "[encoded data removed]",
      "text/plain": [
       "<Figure size 432x1440 with 1 Axes>"
      ]
     },
     "metadata": {
      "needs_background": "light"
     },
     "output_type": "display_data"
    },
    {
     "data": {
      "image/png": "[encoded data removed]",
      "text/plain": [
       "<Figure size 432x1440 with 1 Axes>"
      ]
     },
     "metadata": {
      "needs_background": "light"
     },
     "output_type": "display_data"
    },
    {
     "data": {
      "image/png": "[encoded data removed]",
      "text/plain": [
       "<Figure size 432x1440 with 1 Axes>"
      ]
     },
     "metadata": {
      "needs_background": "light"
     },
     "output_type": "display_data"
    },
    {
     "data": {
      "image/png": "[encoded data removed]",
      "text/plain": [
       "<Figure size 432x1440 with 1 Axes>"
      ]
     },
     "metadata": {
      "needs_background": "light"
     },
     "output_type": "display_data"
    }
   ],
   "source": [
    "for label in samples.label.unique()[:1]:\n",
    "    print(label)\n",
    "    test = samples[samples.label == label].sample(10)\n",
    "    for t in test.iterrows():\n",
    "        _, data = t\n",
    "        explain(data.file, data.label)"
   ]
  },
  {
   "cell_type": "code",
   "execution_count": null,
   "metadata": {},
   "outputs": [],
   "source": []
  }
 ],
 "metadata": {
  "kernelspec": {
   "display_name": "Python 3",
   "language": "python",
   "name": "python3"
  },
  "language_info": {
   "codemirror_mode": {
    "name": "ipython",
    "version": 3
   },
   "file_extension": ".py",
   "mimetype": "text/x-python",
   "name": "python",
   "nbconvert_exporter": "python",
   "pygments_lexer": "ipython3",
   "version": "3.7.2"
  }
 },
 "nbformat": 4,
 "nbformat_minor": 2
}
