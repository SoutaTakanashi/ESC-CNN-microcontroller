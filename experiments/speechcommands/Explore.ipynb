{
 "cells": [
  {
   "cell_type": "code",
   "execution_count": 1,
   "metadata": {},
   "outputs": [],
   "source": [
    "# Explore"
   ]
  },
  {
   "cell_type": "code",
   "execution_count": 90,
   "metadata": {},
   "outputs": [
    {
     "name": "stdout",
     "output_type": "stream",
     "text": [
      "The autoreload extension is already loaded. To reload it, use:\n",
      "  %reload_ext autoreload\n"
     ]
    }
   ],
   "source": [
    "%matplotlib inline\n",
    "%load_ext autoreload\n",
    "%autoreload 2\n",
    "\n",
    "import os\n",
    "import sys\n",
    "import time\n",
    "\n",
    "from lime import lime_image\n",
    "import tensorflow as tf\n",
    "import numpy as np\n",
    "import matplotlib.pyplot as plt\n",
    "\n",
    "import input_data\n",
    "import models"
   ]
  },
  {
   "cell_type": "code",
   "execution_count": 4,
   "metadata": {},
   "outputs": [],
   "source": []
  },
  {
   "cell_type": "code",
   "execution_count": 118,
   "metadata": {},
   "outputs": [
    {
     "name": "stdout",
     "output_type": "stream",
     "text": [
      "ff 43 98\n"
     ]
    }
   ],
   "source": [
    "\n",
    "tf.reset_default_graph()\n",
    "\n",
    "def setup(sample_rate=16000, clip_duration_ms=1000.0,\n",
    "            window_size_ms=30.0, window_stride_ms=10.0,\n",
    "            feature_bin_count=40, preprocess='average', n_classes=12,\n",
    "            silence = 10.0, unknown = 10.0,\n",
    "            testing = 10.0, validation = 10.0):\n",
    "\n",
    "    m = models.prepare_model_settings(n_classes, sample_rate,\n",
    "                                      clip_duration_ms, window_size_ms, window_stride_ms,\n",
    "                                      feature_bin_count, preprocess)\n",
    "    \n",
    "    wanted_words = 'yes,no,up,down,left,right,on,off,stop,go'.split(',')\n",
    "    p = input_data.AudioProcessor(None, '../../data/speech_dataset/',\n",
    "                                silence, unknown, wanted_words,\n",
    "                                validation, testing, model_settings, None)\n",
    "    return m, p\n",
    "\n",
    "model_settings, audio_processor = setup()\n",
    "\n",
    "\n",
    "def wav_to_features(input_wav):\n",
    "    results = audio_processor.get_features_for_wav(input_wav, model_settings, session)\n",
    "    features = results[0]\n",
    "    return features\n",
    "\n",
    "#f = wav_to_features('../../data/speech_dataset/nine/122c5aa7_nohash_0.wav')\n",
    "#f.shape"
   ]
  },
  {
   "cell_type": "code",
   "execution_count": 119,
   "metadata": {},
   "outputs": [
    {
     "name": "stdout",
     "output_type": "stream",
     "text": [
      "conv out 36 1 186\n",
      "---------\n",
      "Variables: name (type shape) [size]\n",
      "---------\n",
      "first_weights:0 (float32_ref 98x8x1x186) [145824, bytes: 583296]\n",
      "first_bias:0 (float32_ref 186) [186, bytes: 744]\n",
      "first_fc_weights:0 (float32_ref 6696x128) [857088, bytes: 3428352]\n",
      "first_fc_bias:0 (float32_ref 128) [128, bytes: 512]\n",
      "second_fc_weights:0 (float32_ref 128x128) [16384, bytes: 65536]\n",
      "second_fc_bias:0 (float32_ref 128) [128, bytes: 512]\n",
      "final_fc_weights:0 (float32_ref 128x12) [1536, bytes: 6144]\n",
      "final_fc_bias:0 (float32_ref 12) [12, bytes: 48]\n",
      "Total size of variables: 1021286\n",
      "Total bytes of variables: 4085144\n",
      "INFO:tensorflow:Restoring parameters from train/low_latency_conv.ckpt-12600\n",
      "INFO:tensorflow:Restoring parameters from train/low_latency_conv.ckpt-12600\n",
      "s (98, 43) (98, 43, 3)\n"
     ]
    }
   ],
   "source": [
    "\n",
    "\n",
    "image_size = (98, 43, 1)\n",
    "f_size = (None, 98, 43, 1)\n",
    "\n",
    "\n",
    "\n",
    "processed_images = tf.placeholder(tf.float32, shape=f_size)\n",
    "model = models.create_model(processed_images, model_settings,\n",
    "                            model_architecture='low_latency_conv', is_training=False)\n",
    "\n",
    "session = tf.Session()\n",
    "\n",
    "def transform_img_fn(path_list):\n",
    "    out = []\n",
    "    for f in path_list:\n",
    "        image = wav_to_features(f).squeeze()\n",
    "        s = (image.shape[0], image.shape[1], 3)\n",
    "        fake_rgb = np.ndarray(shape=s, dtype=image.dtype)\n",
    "        print('s', image.shape, fake_rgb.shape)\n",
    "        fake_rgb[:,:, 0] = image\n",
    "        fake_rgb[:,:, 1] = image\n",
    "        fake_rgb[:,:, 2] = image\n",
    "        i = tf.convert_to_tensor(fake_rgb) \n",
    "        out.append(i)\n",
    "    return session.run([out])[0]\n",
    "\n",
    "#tf.get_variable_scope().reuse_variables()\n",
    "\n",
    "checkpoint = 'train/low_latency_conv.ckpt-12600'\n",
    "\n",
    "models.load_variables_from_checkpoint(session, checkpoint)\n",
    "saver = tf.train.Saver(tf.global_variables())\n",
    "saver.restore(session, checkpoint)\n",
    "\n",
    "probabilities = model\n",
    "def predict_fn(images):\n",
    "    images = [ np.expand_dims(img[:,:,0], axis=-1) for img in images ]\n",
    "    return session.run(probabilities, feed_dict={processed_images: images})\n",
    "\n",
    "\n",
    "p = predict_fn(transform_img_fn(['../../data/speech_dataset/left/122c5aa7_nohash_0.wav']))\n"
   ]
  },
  {
   "cell_type": "code",
   "execution_count": 120,
   "metadata": {},
   "outputs": [
    {
     "name": "stdout",
     "output_type": "stream",
     "text": [
      "s (98, 43) (98, 43, 3)\n"
     ]
    }
   ],
   "source": [
    "images = transform_img_fn([\n",
    "    '../../data/speech_dataset/down/122c5aa7_nohash_0.wav'\n",
    "])\n",
    "p = predict_fn(images)"
   ]
  },
  {
   "cell_type": "code",
   "execution_count": 121,
   "metadata": {},
   "outputs": [
    {
     "data": {
      "text/plain": [
       "'down'"
      ]
     },
     "execution_count": 121,
     "metadata": {},
     "output_type": "execute_result"
    }
   ],
   "source": [
    "audio_processor.words_list[np.argmax(p)]"
   ]
  },
  {
   "cell_type": "code",
   "execution_count": 124,
   "metadata": {},
   "outputs": [
    {
     "name": "stdout",
     "output_type": "stream",
     "text": [
      "explanation time:  0.7265348434448242\n"
     ]
    }
   ],
   "source": [
    "explainer = lime_image.LimeImageExplainer()\n",
    "start_time = time.time()\n",
    "# Hide color is the color for a superpixel turned OFF.\n",
    "# Alternatively, if it is NONE, the superpixel will be replaced by the average of its pixels\n",
    "image = images[0]\n",
    "explanation = explainer.explain_instance(image, predict_fn, top_labels=5, hide_color=None, num_samples=1000)\n",
    "print('explanation time: ', time.time() - start_time)"
   ]
  },
  {
   "cell_type": "code",
   "execution_count": 133,
   "metadata": {},
   "outputs": [
    {
     "name": "stderr",
     "output_type": "stream",
     "text": [
      "Clipping input data to the valid range for imshow with RGB data ([0..1] for floats or [0..255] for integers).\n"
     ]
    },
    {
     "data": {
      "text/plain": [
       "<matplotlib.image.AxesImage at 0x7f81e558df28>"
      ]
     },
     "execution_count": 133,
     "metadata": {},
     "output_type": "execute_result"
    },
    {
     "data": {
      "image/png": "[encoded data removed]",
      "text/plain": [
       "<Figure size 432x288 with 1 Axes>"
      ]
     },
     "metadata": {
      "needs_background": "light"
     },
     "output_type": "display_data"
    }
   ],
   "source": [
    "from skimage.segmentation import mark_boundaries\n",
    "temp, mask = explanation.get_image_and_mask(1, positive_only=True, num_features=5, hide_rest=True)\n",
    "plt.imshow(mark_boundaries(temp / 2 + 0.5, mask))"
   ]
  },
  {
   "cell_type": "code",
   "execution_count": null,
   "metadata": {},
   "outputs": [],
   "source": []
  }
 ],
 "metadata": {
  "kernelspec": {
   "display_name": "Python 3",
   "language": "python",
   "name": "python3"
  },
  "language_info": {
   "codemirror_mode": {
    "name": "ipython",
    "version": 3
   },
   "file_extension": ".py",
   "mimetype": "text/x-python",
   "name": "python",
   "nbconvert_exporter": "python",
   "pygments_lexer": "ipython3",
   "version": "3.7.2"
  }
 },
 "nbformat": 4,
 "nbformat_minor": 2
}
