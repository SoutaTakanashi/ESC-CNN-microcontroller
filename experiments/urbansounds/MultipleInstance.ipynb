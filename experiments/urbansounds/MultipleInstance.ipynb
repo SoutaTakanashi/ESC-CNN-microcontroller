{
 "cells": [
  {
   "cell_type": "code",
   "execution_count": 2,
   "metadata": {},
   "outputs": [],
   "source": [
    "%matplotlib inline\n",
    "%load_ext autoreload\n",
    "%autoreload 2"
   ]
  },
  {
   "cell_type": "code",
   "execution_count": 3,
   "metadata": {},
   "outputs": [
    {
     "name": "stderr",
     "output_type": "stream",
     "text": [
      "Using TensorFlow backend.\n"
     ]
    }
   ],
   "source": [
    "import math\n",
    "import os.path\n",
    "\n",
    "import keras\n",
    "import librosa.feature\n",
    "import sklearn\n",
    "\n",
    "import pandas\n",
    "import numpy\n",
    "from matplotlib import pyplot as plt\n",
    "\n",
    "import urbansound8k\n",
    "import preprocess"
   ]
  },
  {
   "cell_type": "code",
   "execution_count": 4,
   "metadata": {},
   "outputs": [
    {
     "data": {
      "text/html": [
       "<div>\n",
       "<style scoped>\n",
       "    .dataframe tbody tr th:only-of-type {\n",
       "        vertical-align: middle;\n",
       "    }\n",
       "\n",
       "    .dataframe tbody tr th {\n",
       "        vertical-align: top;\n",
       "    }\n",
       "\n",
       "    .dataframe thead th {\n",
       "        text-align: right;\n",
       "    }\n",
       "</style>\n",
       "<table border=\"1\" class=\"dataframe\">\n",
       "  <thead>\n",
       "    <tr style=\"text-align: right;\">\n",
       "      <th></th>\n",
       "      <th>slice_file_name</th>\n",
       "      <th>fsID</th>\n",
       "      <th>start</th>\n",
       "      <th>end</th>\n",
       "      <th>salience</th>\n",
       "      <th>fold</th>\n",
       "      <th>classID</th>\n",
       "      <th>class</th>\n",
       "    </tr>\n",
       "  </thead>\n",
       "  <tbody>\n",
       "    <tr>\n",
       "      <th>0</th>\n",
       "      <td>100032-3-0-0.wav</td>\n",
       "      <td>100032</td>\n",
       "      <td>0.0</td>\n",
       "      <td>0.317551</td>\n",
       "      <td>1</td>\n",
       "      <td>5</td>\n",
       "      <td>3</td>\n",
       "      <td>dog_bark</td>\n",
       "    </tr>\n",
       "    <tr>\n",
       "      <th>1</th>\n",
       "      <td>100263-2-0-117.wav</td>\n",
       "      <td>100263</td>\n",
       "      <td>58.5</td>\n",
       "      <td>62.500000</td>\n",
       "      <td>1</td>\n",
       "      <td>5</td>\n",
       "      <td>2</td>\n",
       "      <td>children_playing</td>\n",
       "    </tr>\n",
       "    <tr>\n",
       "      <th>2</th>\n",
       "      <td>100263-2-0-121.wav</td>\n",
       "      <td>100263</td>\n",
       "      <td>60.5</td>\n",
       "      <td>64.500000</td>\n",
       "      <td>1</td>\n",
       "      <td>5</td>\n",
       "      <td>2</td>\n",
       "      <td>children_playing</td>\n",
       "    </tr>\n",
       "    <tr>\n",
       "      <th>3</th>\n",
       "      <td>100263-2-0-126.wav</td>\n",
       "      <td>100263</td>\n",
       "      <td>63.0</td>\n",
       "      <td>67.000000</td>\n",
       "      <td>1</td>\n",
       "      <td>5</td>\n",
       "      <td>2</td>\n",
       "      <td>children_playing</td>\n",
       "    </tr>\n",
       "    <tr>\n",
       "      <th>4</th>\n",
       "      <td>100263-2-0-137.wav</td>\n",
       "      <td>100263</td>\n",
       "      <td>68.5</td>\n",
       "      <td>72.500000</td>\n",
       "      <td>1</td>\n",
       "      <td>5</td>\n",
       "      <td>2</td>\n",
       "      <td>children_playing</td>\n",
       "    </tr>\n",
       "  </tbody>\n",
       "</table>\n",
       "</div>"
      ],
      "text/plain": [
       "      slice_file_name    fsID  start        end  salience  fold  classID  \\\n",
       "0    100032-3-0-0.wav  100032    0.0   0.317551         1     5        3   \n",
       "1  100263-2-0-117.wav  100263   58.5  62.500000         1     5        2   \n",
       "2  100263-2-0-121.wav  100263   60.5  64.500000         1     5        2   \n",
       "3  100263-2-0-126.wav  100263   63.0  67.000000         1     5        2   \n",
       "4  100263-2-0-137.wav  100263   68.5  72.500000         1     5        2   \n",
       "\n",
       "              class  \n",
       "0          dog_bark  \n",
       "1  children_playing  \n",
       "2  children_playing  \n",
       "3  children_playing  \n",
       "4  children_playing  "
      ]
     },
     "execution_count": 4,
     "metadata": {},
     "output_type": "execute_result"
    }
   ],
   "source": [
    "data = urbansound8k.load_dataset()\n",
    "data.head()"
   ]
  },
  {
   "cell_type": "code",
   "execution_count": 5,
   "metadata": {},
   "outputs": [
    {
     "data": {
      "text/plain": [
       "<matplotlib.axes._subplots.AxesSubplot at 0x7fa243b5d860>"
      ]
     },
     "execution_count": 5,
     "metadata": {},
     "output_type": "execute_result"
    },
    {
     "data": {
      "image/png": "[encoded data removed]",
      "text/plain": [
       "<Figure size 432x288 with 1 Axes>"
      ]
     },
     "metadata": {
      "needs_background": "light"
     },
     "output_type": "display_data"
    }
   ],
   "source": [
    "(data.end - data.start).hist()"
   ]
  },
  {
   "cell_type": "code",
   "execution_count": 6,
   "metadata": {},
   "outputs": [
    {
     "data": {
      "text/plain": [
       "0    4.0\n",
       "dtype: float64"
      ]
     },
     "execution_count": 6,
     "metadata": {},
     "output_type": "execute_result"
    }
   ],
   "source": [
    "(data.end-data.start).mode()"
   ]
  },
  {
   "cell_type": "code",
   "execution_count": 7,
   "metadata": {},
   "outputs": [
    {
     "data": {
      "text/plain": [
       "(9, (7022, 8), (873, 8), (837, 8))"
      ]
     },
     "execution_count": 7,
     "metadata": {},
     "output_type": "execute_result"
    }
   ],
   "source": [
    "folds, test = urbansound8k.folds(data)\n",
    "len(folds), folds[0][0].shape, folds[0][1].shape, test.shape"
   ]
  },
  {
   "cell_type": "code",
   "execution_count": 8,
   "metadata": {},
   "outputs": [
    {
     "name": "stdout",
     "output_type": "stream",
     "text": [
      "window size 1.152\n",
      "17920.0 8704.0\n"
     ]
    },
    {
     "data": {
      "text/plain": [
       "[(0, 18432),\n",
       " (9216.0, 27648.0),\n",
       " (18432.0, 36864.0),\n",
       " (27648.0, 46080.0),\n",
       " (36864.0, 55296.0),\n",
       " (46080.0, 64000),\n",
       " (55296.0, 64000)]"
      ]
     },
     "execution_count": 8,
     "metadata": {},
     "output_type": "execute_result"
    }
   ],
   "source": [
    "# PicakCNN used 950ms, 41 frames for short-frame variant. 50% overlap\n",
    "def sample_windows(length, frame_samples, window_frames, overlap=0.5):\n",
    "    \"\"\"Split @samples into a number of windows of samples\n",
    "    with length @frame_samples * @window_frames\n",
    "    \"\"\"\n",
    "    ws = frame_samples * window_frames\n",
    "    start = 0\n",
    "    while start < length:\n",
    "        end = min(start + ws, length)\n",
    "        yield start, end\n",
    "        start += (ws * (1-overlap))\n",
    "\n",
    "def test_windows_shorter_than_window():\n",
    "    frame_samples=256\n",
    "    window_frames=64\n",
    "    fs=16000\n",
    "    length = 0.4*fs\n",
    "    w = list(sample_windows(int(length), frame_samples, window_frames))\n",
    "    assert len(w) == 1, len(w)\n",
    "    assert w[-1][1] == length\n",
    "\n",
    "def test_window_typical():\n",
    "    frame_samples=256\n",
    "    window_frames=64\n",
    "    fs=16000\n",
    "    length = 4.0*fs\n",
    "    w = list(sample_windows(int(length), frame_samples, window_frames))\n",
    "    assert len(w) == 8, len(w) \n",
    "    assert w[-1][1] == length\n",
    "    \n",
    "test_windows_shorter_than_window()\n",
    "test_window_typical()    \n",
    "    \n",
    "frame_samples=256\n",
    "window_frames=72\n",
    "fs=16000\n",
    "w_ms = (frame_samples*window_frames/fs)\n",
    "print('window size', w_ms)\n",
    "w = list(sample_windows(int(4.0*fs), frame_samples=frame_samples, window_frames=window_frames))\n",
    "print(w[-2][1] - w[-2][0], w[-1][1] - w[-1][0])\n",
    "w"
   ]
  },
  {
   "cell_type": "code",
   "execution_count": 9,
   "metadata": {},
   "outputs": [
    {
     "name": "stdout",
     "output_type": "stream",
     "text": [
      "cutting 7752 samples shorter than 1.0 seconds\n",
      "37064\n"
     ]
    },
    {
     "data": {
      "text/plain": [
       "<matplotlib.axes._subplots.AxesSubplot at 0x7fa228f282e8>"
      ]
     },
     "execution_count": 9,
     "metadata": {},
     "output_type": "execute_result"
    },
    {
     "data": {
      "image/png": "[encoded data removed]",
      "text/plain": [
       "<Figure size 432x288 with 1 Axes>"
      ]
     },
     "metadata": {
      "needs_background": "light"
     },
     "output_type": "display_data"
    }
   ],
   "source": [
    "def expand_training_set(samples, frame_samples, window_frames,\n",
    "                        sample_rate=16000, cut_length=1.0, augmentations=0):\n",
    "    chunks = {\n",
    "        'slice_file_name': [],\n",
    "        'fold': [],\n",
    "        'classID': [],\n",
    "        'start': [],\n",
    "        'end': [],\n",
    "        'augmentation': [],\n",
    "    }\n",
    "    \n",
    "    for (index, sample) in samples.iterrows():\n",
    "        duration = sample.end - sample.start\n",
    "        length = int(sample_rate * duration)\n",
    "        \n",
    "        for aug in range(-1, augmentations):\n",
    "        \n",
    "            for win in sample_windows(length, frame_samples, window_frames):\n",
    "                start, end = win\n",
    "                chunks['slice_file_name'].append(sample.slice_file_name)\n",
    "                chunks['fold'].append(sample.fold)\n",
    "                # to assume class is same as that of parent sample maybe a bit optimistic\n",
    "                # not certain that every chunk has content representative of class\n",
    "                # alternative would be multi-instance learning\n",
    "                chunks['classID'].append(sample.classID) \n",
    "                chunks['start'].append(start/sample_rate)\n",
    "                chunks['end'].append(end/sample_rate)\n",
    "                chunks['augmentation'].append(None if aug == -1 else aug)\n",
    "            \n",
    "    df = pandas.DataFrame(chunks)\n",
    "    \n",
    "    if cut_length:\n",
    "        w = (df.end-df.start > cut_length)\n",
    "        cleaned = df[w]\n",
    "        print('cutting {} samples shorter than {} seconds'.format(len(df) - len(cleaned), cut_length))\n",
    "    \n",
    "    return cleaned\n",
    "\n",
    "        \n",
    "df = expand_training_set(folds[0][0], frame_samples=frame_samples, window_frames=window_frames)\n",
    "print(len(df))\n",
    "(df.end-df.start).hist(bins=20)  "
   ]
  },
  {
   "cell_type": "code",
   "execution_count": 51,
   "metadata": {},
   "outputs": [
    {
     "data": {
      "text/plain": [
       "(7, 32, 72)"
      ]
     },
     "execution_count": 51,
     "metadata": {},
     "output_type": "execute_result"
    }
   ],
   "source": [
    "settings = dict(\n",
    "    samplerate=16000,\n",
    "    n_mels=32,\n",
    "    fmin=0,\n",
    "    fmax=8000,\n",
    "    n_fft=512,\n",
    "    hop_length=256,\n",
    "    augmentations=5,\n",
    ")\n",
    "\n",
    "# TODO: implement data augmentation\n",
    "def load_sample(sample, window_frames=72):\n",
    "    n_mels = settings['n_mels']\n",
    "    sample_rate = settings['samplerate']\n",
    "    hop_length = settings['hop_length']\n",
    "    \n",
    "    # Load precomputed features\n",
    "    aug = None\n",
    "    folder = os.path.join('aug', preprocess.settings_id(settings, feature='mels'))\n",
    "    path = preprocess.feature_path(sample, out_folder=folder, augmentation=aug)\n",
    "    mels = numpy.load(path)['arr_0']\n",
    "    assert mels.shape[0] == n_mels, mels.shape\n",
    "    \n",
    "    # Cut out the relevant part\n",
    "    #sample_length = (sample.end - sample.start) * sample_rate\n",
    "\n",
    "    windows = 7\n",
    "    features = numpy.zeros(shape=(windows, n_mels, window_frames))\n",
    "    for i, win in enumerate(sample_windows(mels.shape[1], 1, window_frames)):\n",
    "        start, end = int(win[0]), int(win[1])\n",
    "        #print(mels.shape[1], start, end)\n",
    "        mels = mels[:, start:end]\n",
    "\n",
    "        if mels.shape[1] > 0:\n",
    "            mels = librosa.core.power_to_db(mels, top_db=80, ref=numpy.max)\n",
    "\n",
    "        # zero-pad window to standard length\n",
    "        if window_frames is None:\n",
    "            padded = mels\n",
    "        else:\n",
    "            padded = numpy.full((n_mels, window_frames), 0)    \n",
    "            inp = mels[:, 0:min(window_frames, mels.shape[1])]\n",
    "            padded[:, 0:inp.shape[1]] = inp\n",
    "\n",
    "        if i < windows:\n",
    "            features[i, :, :] = padded\n",
    "    \n",
    "    s = numpy.stack(features)\n",
    "    return s\n",
    "\n",
    "load_sample(folds[0][0].iloc[8]).shape"
   ]
  },
  {
   "cell_type": "code",
   "execution_count": 52,
   "metadata": {},
   "outputs": [
    {
     "data": {
      "text/plain": [
       "(16, (8, 7, 32, 72, 1), (8, 10))"
      ]
     },
     "execution_count": 52,
     "metadata": {},
     "output_type": "execute_result"
    }
   ],
   "source": [
    "import joblib\n",
    "def gen(X, Y, loader, batchsize=10, n_classes=10):\n",
    "    \n",
    "    assert len(X) == len(Y), 'X and Y must be equal length'\n",
    "    assert len(X) % batchsize == 0, 'input length must be divisible by @batchsize'\n",
    "        \n",
    "    sample_idx = 0\n",
    "    while True:\n",
    "        batch_data = []\n",
    "        batch_labels = []\n",
    "\n",
    "        if sample_idx >= len(X):\n",
    "            sample_idx = 0\n",
    "        \n",
    "        while len(batch_data) < batchsize:\n",
    "            data = loader(X.iloc[sample_idx])\n",
    "            data = numpy.expand_dims(data, -1)    \n",
    "            y = Y.iloc[sample_idx]\n",
    "            y = keras.utils.to_categorical(y, num_classes=n_classes)\n",
    "            batch_data.append(data)\n",
    "            batch_labels.append(y)\n",
    "            sample_idx += 1\n",
    "            \n",
    "        batch = (numpy.stack(batch_data), numpy.stack(batch_labels))\n",
    "        yield batch\n",
    "\n",
    "fold = df\n",
    "import itertools\n",
    "g = gen(fold[0:16], fold.classID[0:16], loader=load_sample, batchsize=8)\n",
    "batches = list(itertools.islice(g, 16))\n",
    "len(batches), batches[0][0].shape, batches[0][1].shape"
   ]
  },
  {
   "cell_type": "code",
   "execution_count": null,
   "metadata": {},
   "outputs": [],
   "source": []
  },
  {
   "cell_type": "code",
   "execution_count": 68,
   "metadata": {},
   "outputs": [
    {
     "name": "stdout",
     "output_type": "stream",
     "text": [
      "_________________________________________________________________\n",
      "Layer (type)                 Output Shape              Param #   \n",
      "=================================================================\n",
      "conv2d_34 (Conv2D)           (None, 32, 72, 24)        240       \n",
      "_________________________________________________________________\n",
      "max_pooling2d_23 (MaxPooling (None, 10, 24, 24)        0         \n",
      "_________________________________________________________________\n",
      "activation_56 (Activation)   (None, 10, 24, 24)        0         \n",
      "_________________________________________________________________\n",
      "conv2d_35 (Conv2D)           (None, 10, 24, 48)        10416     \n",
      "_________________________________________________________________\n",
      "max_pooling2d_24 (MaxPooling (None, 3, 8, 48)          0         \n",
      "_________________________________________________________________\n",
      "activation_57 (Activation)   (None, 3, 8, 48)          0         \n",
      "_________________________________________________________________\n",
      "conv2d_36 (Conv2D)           (None, 1, 6, 48)          20784     \n",
      "_________________________________________________________________\n",
      "activation_58 (Activation)   (None, 1, 6, 48)          0         \n",
      "_________________________________________________________________\n",
      "flatten_12 (Flatten)         (None, 288)               0         \n",
      "_________________________________________________________________\n",
      "dense_23 (Dense)             (None, 64)                18496     \n",
      "_________________________________________________________________\n",
      "activation_59 (Activation)   (None, 64)                0         \n",
      "_________________________________________________________________\n",
      "dropout_23 (Dropout)         (None, 64)                0         \n",
      "_________________________________________________________________\n",
      "dense_24 (Dense)             (None, 10)                650       \n",
      "_________________________________________________________________\n",
      "dropout_24 (Dropout)         (None, 10)                0         \n",
      "_________________________________________________________________\n",
      "activation_60 (Activation)   (None, 10)                0         \n",
      "=================================================================\n",
      "Total params: 50,586\n",
      "Trainable params: 50,586\n",
      "Non-trainable params: 0\n",
      "_________________________________________________________________\n"
     ]
    }
   ],
   "source": [
    "# import dense\n",
    "import sbcnn\n",
    "import dilated\n",
    "#model = dilated.build_model(bands=32, frames=72, channels=1, kernels=[32,32,32,32])\n",
    "model = sbcnn.build_model(bands=32, frames=72, channels=1, pool=(3,3))\n",
    "\n",
    "model.summary()"
   ]
  },
  {
   "cell_type": "code",
   "execution_count": 69,
   "metadata": {},
   "outputs": [
    {
     "name": "stdout",
     "output_type": "stream",
     "text": [
      "_________________________________________________________________\n",
      "Layer (type)                 Output Shape              Param #   \n",
      "=================================================================\n",
      "input_17 (InputLayer)        (None, 7, 32, 72, 1)      0         \n",
      "_________________________________________________________________\n",
      "time_distributed_17 (TimeDis (None, 7, 10)             50586     \n",
      "_________________________________________________________________\n",
      "global_max_pooling1d_1 (Glob (None, 10)                0         \n",
      "=================================================================\n",
      "Total params: 50,586\n",
      "Trainable params: 50,586\n",
      "Non-trainable params: 0\n",
      "_________________________________________________________________\n"
     ]
    }
   ],
   "source": [
    "def build_multi_instance(base, windows=7, bands=32, frames=72, channels=1):\n",
    "    from keras import Model\n",
    "    from keras.layers import Input, TimeDistributed, GlobalMaxPooling1D\n",
    "    \n",
    "    input_shape = (windows, bands, frames, channels)\n",
    "    \n",
    "    input = Input(shape=input_shape)\n",
    "    x = input # BatchNormalization()(input)\n",
    "    x = TimeDistributed(base)(x)\n",
    "    x = GlobalMaxPooling1D()(x)\n",
    "    model = Model(input,x)\n",
    "    return model\n",
    "    \n",
    "model = build_multi_instance(model)\n",
    "model.summary()"
   ]
  },
  {
   "cell_type": "code",
   "execution_count": null,
   "metadata": {},
   "outputs": [],
   "source": [
    "def expand_set(samples, ):\n",
    "    "
   ]
  },
  {
   "cell_type": "code",
   "execution_count": null,
   "metadata": {},
   "outputs": [
    {
     "name": "stdout",
     "output_type": "stream",
     "text": [
      "(7022, 8) (873, 8)\n",
      "Epoch 1/20\n",
      "140/140 [==============================] - 50s 355ms/step - loss: 2.2896 - acc: 0.2181 - val_loss: 2.1192 - val_acc: 0.2743\n",
      "\n",
      "Epoch 00001: val_acc improved from -inf to 0.27429, saving model to multi.sbcnn.hdf5\n",
      "Epoch 2/20\n",
      "140/140 [==============================] - 49s 349ms/step - loss: 1.7451 - acc: 0.4281 - val_loss: 2.0118 - val_acc: 0.3214\n",
      "\n",
      "Epoch 00002: val_acc improved from 0.27429 to 0.32143, saving model to multi.sbcnn.hdf5\n",
      "Epoch 3/20\n",
      "140/140 [==============================] - 50s 354ms/step - loss: 1.5814 - acc: 0.5097 - val_loss: 1.8205 - val_acc: 0.3971\n",
      "\n",
      "Epoch 00003: val_acc improved from 0.32143 to 0.39714, saving model to multi.sbcnn.hdf5\n",
      "Epoch 4/20\n",
      "140/140 [==============================] - 48s 341ms/step - loss: 1.4931 - acc: 0.5499 - val_loss: 1.8498 - val_acc: 0.3957\n",
      "\n",
      "Epoch 00004: val_acc did not improve from 0.39714\n",
      "Epoch 5/20\n",
      "140/140 [==============================] - 48s 344ms/step - loss: 1.4400 - acc: 0.5717 - val_loss: 1.8910 - val_acc: 0.4200\n",
      "\n",
      "Epoch 00005: val_acc improved from 0.39714 to 0.42000, saving model to multi.sbcnn.hdf5\n",
      "Epoch 6/20\n",
      "140/140 [==============================] - 49s 353ms/step - loss: 1.3988 - acc: 0.5874 - val_loss: 1.7655 - val_acc: 0.4543\n",
      "\n",
      "Epoch 00006: val_acc improved from 0.42000 to 0.45429, saving model to multi.sbcnn.hdf5\n",
      "Epoch 7/20\n",
      "140/140 [==============================] - 49s 353ms/step - loss: 1.3474 - acc: 0.6120 - val_loss: 1.8210 - val_acc: 0.4643\n",
      "\n",
      "Epoch 00007: val_acc improved from 0.45429 to 0.46429, saving model to multi.sbcnn.hdf5\n",
      "Epoch 8/20\n",
      "140/140 [==============================] - 49s 352ms/step - loss: 1.3220 - acc: 0.6259 - val_loss: 1.8818 - val_acc: 0.4500\n",
      "\n",
      "Epoch 00008: val_acc did not improve from 0.46429\n",
      "Epoch 9/20\n",
      "140/140 [==============================] - 51s 364ms/step - loss: 1.2827 - acc: 0.6464 - val_loss: 1.8914 - val_acc: 0.4700\n",
      "\n",
      "Epoch 00009: val_acc improved from 0.46429 to 0.47000, saving model to multi.sbcnn.hdf5\n",
      "Epoch 10/20\n",
      "140/140 [==============================] - 49s 351ms/step - loss: 1.2548 - acc: 0.6604 - val_loss: 1.9931 - val_acc: 0.4657\n",
      "\n",
      "Epoch 00010: val_acc did not improve from 0.47000\n",
      "Epoch 11/20\n",
      "140/140 [==============================] - 51s 366ms/step - loss: 1.2340 - acc: 0.6756 - val_loss: 1.9615 - val_acc: 0.4629\n",
      "\n",
      "Epoch 00011: val_acc did not improve from 0.47000\n",
      "Epoch 12/20\n",
      "140/140 [==============================] - 49s 350ms/step - loss: 1.2095 - acc: 0.6891 - val_loss: 1.9364 - val_acc: 0.4786\n",
      "\n",
      "Epoch 00012: val_acc improved from 0.47000 to 0.47857, saving model to multi.sbcnn.hdf5\n",
      "Epoch 13/20\n",
      "140/140 [==============================] - 50s 355ms/step - loss: 1.1905 - acc: 0.6981 - val_loss: 1.9418 - val_acc: 0.4814\n",
      "\n",
      "Epoch 00013: val_acc improved from 0.47857 to 0.48143, saving model to multi.sbcnn.hdf5\n",
      "Epoch 14/20\n",
      "140/140 [==============================] - 51s 367ms/step - loss: 1.1740 - acc: 0.7051 - val_loss: 2.0916 - val_acc: 0.4886\n",
      "\n",
      "Epoch 00014: val_acc improved from 0.48143 to 0.48857, saving model to multi.sbcnn.hdf5\n",
      "Epoch 15/20\n",
      "140/140 [==============================] - 49s 349ms/step - loss: 1.1507 - acc: 0.7234 - val_loss: 2.0617 - val_acc: 0.4786\n",
      "\n",
      "Epoch 00015: val_acc did not improve from 0.48857\n",
      "Epoch 16/20\n",
      "140/140 [==============================] - 76s 543ms/step - loss: 1.1511 - acc: 0.7244 - val_loss: 2.0967 - val_acc: 0.4671\n",
      "\n",
      "Epoch 00016: val_acc did not improve from 0.48857\n",
      "Epoch 17/20\n",
      " 41/140 [=======>......................] - ETA: 34s - loss: 1.1584 - acc: 0.7059"
     ]
    }
   ],
   "source": [
    "# Clean model\n",
    "model = sbcnn.build_model(bands=32, frames=72, channels=1, pool=(3,3))\n",
    "model = build_multi_instance(model)\n",
    "model.compile(loss='categorical_crossentropy', optimizer='rmsprop', metrics=['accuracy'])\n",
    "\n",
    "#train = expand_training_set(folds[0][0], frame_samples=frame_samples, window_frames=window_frames,\n",
    "#                            augmentations=settings['augmentations'])\n",
    "#val = expand_training_set(folds[0][1], frame_samples=frame_samples, window_frames=window_frames)\n",
    "\n",
    "train = folds[0][0]\n",
    "val = folds[0][1]\n",
    "print(train.shape, val.shape)\n",
    "\n",
    "train = train.sample(7000, replace=False)\n",
    "val = val.sample(700, replace=False)\n",
    "\n",
    "batch_size = 50\n",
    "\n",
    "checkpoint = keras.callbacks.ModelCheckpoint('multi.sbcnn.hdf5', monitor='val_acc', mode='max',\n",
    "                             period=1, verbose=1, save_best_only=True)\n",
    "callbacks_list = [checkpoint]\n",
    "\n",
    "train_gen = gen(train, train.classID, loader=load_sample, batchsize=batch_size)\n",
    "val_gen = gen(val, val.classID, loader=load_sample, batchsize=batch_size)\n",
    "\n",
    "model.fit_generator(train_gen, validation_data=val_gen,\n",
    "                    steps_per_epoch=math.ceil(len(train)/batch_size),\n",
    "                    validation_steps=math.ceil(len(val)/batch_size),\n",
    "                    callbacks=callbacks_list,\n",
    "                    epochs=20, verbose=1)"
   ]
  },
  {
   "cell_type": "code",
   "execution_count": 71,
   "metadata": {},
   "outputs": [],
   "source": [
    "model = keras.models.load_model('multi.sbcnn.hdf5')"
   ]
  },
  {
   "cell_type": "code",
   "execution_count": 79,
   "metadata": {},
   "outputs": [
    {
     "data": {
      "text/plain": [
       "(837, 10)"
      ]
     },
     "execution_count": 79,
     "metadata": {},
     "output_type": "execute_result"
    }
   ],
   "source": [
    "def pred(model, samples):\n",
    "    inp = []\n",
    "    for index, sample in samples.iterrows():\n",
    "        s = load_sample(sample)\n",
    "        inp.append(s)\n",
    "    \n",
    "    inp = numpy.stack(inp)\n",
    "    inp = numpy.expand_dims(inp, axis=-1)\n",
    "    \n",
    "    return model.predict(inp)\n",
    "    \n",
    "\n",
    "p = pred(model, test)\n",
    "p.shape"
   ]
  },
  {
   "cell_type": "code",
   "execution_count": 83,
   "metadata": {},
   "outputs": [
    {
     "data": {
      "text/plain": [
       "0.5675029868578255"
      ]
     },
     "execution_count": 83,
     "metadata": {},
     "output_type": "execute_result"
    }
   ],
   "source": [
    "from sklearn.metrics import accuracy_score\n",
    "accuracy_score(test.classID, numpy.argmax(p, axis=1))"
   ]
  },
  {
   "cell_type": "code",
   "execution_count": 88,
   "metadata": {},
   "outputs": [
    {
     "data": {
      "text/plain": [
       "0.6162657502863689"
      ]
     },
     "execution_count": 88,
     "metadata": {},
     "output_type": "execute_result"
    }
   ],
   "source": [
    "v = folds[0][1]\n",
    "v_pred = numpy.argmax(pred(model, v), axis=1)\n",
    "accuracy_score(v.classID, v_pred)"
   ]
  },
  {
   "cell_type": "code",
   "execution_count": 90,
   "metadata": {},
   "outputs": [
    {
     "data": {
      "image/png": "[encoded data removed]",
      "text/plain": [
       "<Figure size 720x576 with 2 Axes>"
      ]
     },
     "metadata": {
      "needs_background": "light"
     },
     "output_type": "display_data"
    }
   ],
   "source": [
    "import seaborn as sns\n",
    "import matplotlib.pyplot as plt     \n",
    "\n",
    "def plot_confusion(cm, classnames):\n",
    "\n",
    "    fig, ax = plt.subplots(1, figsize=(10,8))\n",
    "    sns.heatmap(cm, annot=True, ax=ax);\n",
    "\n",
    "    ax.set_xlabel('Predicted labels')\n",
    "    ax.set_ylabel('True labels')\n",
    "    ax.set_title('Confusion Matrix') \n",
    "    ax.xaxis.set_ticklabels(classnames, rotation=45)\n",
    "    ax.yaxis.set_ticklabels(classnames, rotation=45)\n",
    "\n",
    "from sklearn.metrics import confusion_matrix\n",
    "cm = confusion_matrix(v.classID, v_pred, labels=None, sample_weight=None)\n",
    "#cm = confusion_matrix(t.classID, mean_m, labels=None, sample_weight=None)\n",
    "plot_confusion(cm, urbansound8k.classnames)"
   ]
  },
  {
   "cell_type": "code",
   "execution_count": null,
   "metadata": {},
   "outputs": [],
   "source": []
  }
 ],
 "metadata": {
  "kernelspec": {
   "display_name": "Python 3",
   "language": "python",
   "name": "python3"
  },
  "language_info": {
   "codemirror_mode": {
    "name": "ipython",
    "version": 3
   },
   "file_extension": ".py",
   "mimetype": "text/x-python",
   "name": "python",
   "nbconvert_exporter": "python",
   "pygments_lexer": "ipython3",
   "version": "3.7.2"
  }
 },
 "nbformat": 4,
 "nbformat_minor": 2
}
