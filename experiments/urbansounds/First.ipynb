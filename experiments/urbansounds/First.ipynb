{
 "cells": [
  {
   "cell_type": "code",
   "execution_count": 263,
   "metadata": {},
   "outputs": [],
   "source": [
    "%matplotlib inline\n",
    "%load_ext autoreload\n",
    "%autoreload 2"
   ]
  },
  {
   "cell_type": "code",
   "execution_count": 251,
   "metadata": {},
   "outputs": [],
   "source": [
    "import math\n",
    "import os.path\n",
    "\n",
    "import keras\n",
    "import librosa.feature\n",
    "import sklearn\n",
    "\n",
    "import pandas\n",
    "import numpy\n",
    "from matplotlib import pyplot as plt\n",
    "\n",
    "import urbansound8k\n",
    "import preprocess"
   ]
  },
  {
   "cell_type": "code",
   "execution_count": 252,
   "metadata": {},
   "outputs": [
    {
     "data": {
      "text/html": [
       "<div>\n",
       "<style scoped>\n",
       "    .dataframe tbody tr th:only-of-type {\n",
       "        vertical-align: middle;\n",
       "    }\n",
       "\n",
       "    .dataframe tbody tr th {\n",
       "        vertical-align: top;\n",
       "    }\n",
       "\n",
       "    .dataframe thead th {\n",
       "        text-align: right;\n",
       "    }\n",
       "</style>\n",
       "<table border=\"1\" class=\"dataframe\">\n",
       "  <thead>\n",
       "    <tr style=\"text-align: right;\">\n",
       "      <th></th>\n",
       "      <th>slice_file_name</th>\n",
       "      <th>fsID</th>\n",
       "      <th>start</th>\n",
       "      <th>end</th>\n",
       "      <th>salience</th>\n",
       "      <th>fold</th>\n",
       "      <th>classID</th>\n",
       "      <th>class</th>\n",
       "    </tr>\n",
       "  </thead>\n",
       "  <tbody>\n",
       "    <tr>\n",
       "      <th>0</th>\n",
       "      <td>100032-3-0-0.wav</td>\n",
       "      <td>100032</td>\n",
       "      <td>0.0</td>\n",
       "      <td>0.317551</td>\n",
       "      <td>1</td>\n",
       "      <td>5</td>\n",
       "      <td>3</td>\n",
       "      <td>dog_bark</td>\n",
       "    </tr>\n",
       "    <tr>\n",
       "      <th>1</th>\n",
       "      <td>100263-2-0-117.wav</td>\n",
       "      <td>100263</td>\n",
       "      <td>58.5</td>\n",
       "      <td>62.500000</td>\n",
       "      <td>1</td>\n",
       "      <td>5</td>\n",
       "      <td>2</td>\n",
       "      <td>children_playing</td>\n",
       "    </tr>\n",
       "    <tr>\n",
       "      <th>2</th>\n",
       "      <td>100263-2-0-121.wav</td>\n",
       "      <td>100263</td>\n",
       "      <td>60.5</td>\n",
       "      <td>64.500000</td>\n",
       "      <td>1</td>\n",
       "      <td>5</td>\n",
       "      <td>2</td>\n",
       "      <td>children_playing</td>\n",
       "    </tr>\n",
       "    <tr>\n",
       "      <th>3</th>\n",
       "      <td>100263-2-0-126.wav</td>\n",
       "      <td>100263</td>\n",
       "      <td>63.0</td>\n",
       "      <td>67.000000</td>\n",
       "      <td>1</td>\n",
       "      <td>5</td>\n",
       "      <td>2</td>\n",
       "      <td>children_playing</td>\n",
       "    </tr>\n",
       "    <tr>\n",
       "      <th>4</th>\n",
       "      <td>100263-2-0-137.wav</td>\n",
       "      <td>100263</td>\n",
       "      <td>68.5</td>\n",
       "      <td>72.500000</td>\n",
       "      <td>1</td>\n",
       "      <td>5</td>\n",
       "      <td>2</td>\n",
       "      <td>children_playing</td>\n",
       "    </tr>\n",
       "  </tbody>\n",
       "</table>\n",
       "</div>"
      ],
      "text/plain": [
       "      slice_file_name    fsID  start        end  salience  fold  classID  \\\n",
       "0    100032-3-0-0.wav  100032    0.0   0.317551         1     5        3   \n",
       "1  100263-2-0-117.wav  100263   58.5  62.500000         1     5        2   \n",
       "2  100263-2-0-121.wav  100263   60.5  64.500000         1     5        2   \n",
       "3  100263-2-0-126.wav  100263   63.0  67.000000         1     5        2   \n",
       "4  100263-2-0-137.wav  100263   68.5  72.500000         1     5        2   \n",
       "\n",
       "              class  \n",
       "0          dog_bark  \n",
       "1  children_playing  \n",
       "2  children_playing  \n",
       "3  children_playing  \n",
       "4  children_playing  "
      ]
     },
     "execution_count": 252,
     "metadata": {},
     "output_type": "execute_result"
    }
   ],
   "source": [
    "data = urbansound8k.load_dataset()\n",
    "data.head()"
   ]
  },
  {
   "cell_type": "code",
   "execution_count": 253,
   "metadata": {},
   "outputs": [
    {
     "data": {
      "text/plain": [
       "<matplotlib.axes._subplots.AxesSubplot at 0x7f4b642d3f60>"
      ]
     },
     "execution_count": 253,
     "metadata": {},
     "output_type": "execute_result"
    },
    {
     "data": {
      "image/png": "[encoded data removed]",
      "text/plain": [
       "<Figure size 432x288 with 1 Axes>"
      ]
     },
     "metadata": {
      "needs_background": "light"
     },
     "output_type": "display_data"
    }
   ],
   "source": [
    "(data.end - data.start).hist()"
   ]
  },
  {
   "cell_type": "code",
   "execution_count": 254,
   "metadata": {},
   "outputs": [
    {
     "data": {
      "text/plain": [
       "0    4.0\n",
       "dtype: float64"
      ]
     },
     "execution_count": 254,
     "metadata": {},
     "output_type": "execute_result"
    }
   ],
   "source": [
    "(data.end-data.start).mode()"
   ]
  },
  {
   "cell_type": "code",
   "execution_count": 255,
   "metadata": {},
   "outputs": [
    {
     "data": {
      "text/plain": [
       "(9, (7022, 8), (873, 8), (837, 8))"
      ]
     },
     "execution_count": 255,
     "metadata": {},
     "output_type": "execute_result"
    }
   ],
   "source": [
    "folds, test = urbansound8k.folds(data)\n",
    "len(folds), folds[0][0].shape, folds[0][1].shape, test.shape"
   ]
  },
  {
   "cell_type": "code",
   "execution_count": 388,
   "metadata": {},
   "outputs": [
    {
     "name": "stdout",
     "output_type": "stream",
     "text": [
      "window size 1.152\n",
      "17920.0 8704.0\n"
     ]
    },
    {
     "data": {
      "text/plain": [
       "[(0, 18432),\n",
       " (9216.0, 27648.0),\n",
       " (18432.0, 36864.0),\n",
       " (27648.0, 46080.0),\n",
       " (36864.0, 55296.0),\n",
       " (46080.0, 64000),\n",
       " (55296.0, 64000)]"
      ]
     },
     "execution_count": 388,
     "metadata": {},
     "output_type": "execute_result"
    }
   ],
   "source": [
    "# PicakCNN used 950ms, 41 frames for short-frame variant. 50% overlap\n",
    "def sample_windows(length, frame_samples, window_frames, overlap=0.5):\n",
    "    \"\"\"Split @samples into a number of windows of samples\n",
    "    with length @frame_samples * @window_frames\n",
    "    \"\"\"\n",
    "    ws = frame_samples * window_frames\n",
    "    start = 0\n",
    "    while start < length:\n",
    "        end = min(start + ws, length)\n",
    "        yield start, end\n",
    "        start += (ws * (1-overlap))\n",
    "\n",
    "def test_windows_shorter_than_window():\n",
    "    frame_samples=256\n",
    "    window_frames=64\n",
    "    fs=16000\n",
    "    length = 0.4*fs\n",
    "    w = list(sample_windows(int(length), frame_samples, window_frames))\n",
    "    assert len(w) == 1, len(w)\n",
    "    assert w[-1][1] == length\n",
    "\n",
    "def test_window_typical():\n",
    "    frame_samples=256\n",
    "    window_frames=64\n",
    "    fs=16000\n",
    "    length = 4.0*fs\n",
    "    w = list(sample_windows(int(length), frame_samples, window_frames))\n",
    "    assert len(w) == 8, len(w) \n",
    "    assert w[-1][1] == length\n",
    "    \n",
    "test_windows_shorter_than_window()\n",
    "test_window_typical()    \n",
    "    \n",
    "frame_samples=256\n",
    "window_frames=72\n",
    "fs=16000\n",
    "w_ms = (frame_samples*window_frames/fs)\n",
    "print('window size', w_ms)\n",
    "w = list(sample_windows(int(4.0*fs), frame_samples=frame_samples, window_frames=window_frames))\n",
    "print(w[-2][1] - w[-2][0], w[-1][1] - w[-1][0])\n",
    "w"
   ]
  },
  {
   "cell_type": "code",
   "execution_count": 521,
   "metadata": {},
   "outputs": [
    {
     "name": "stdout",
     "output_type": "stream",
     "text": [
      "cutting 7752 samples shorter than 1.0 seconds\n",
      "37064\n"
     ]
    },
    {
     "data": {
      "text/plain": [
       "<matplotlib.axes._subplots.AxesSubplot at 0x7f4b0126dcf8>"
      ]
     },
     "execution_count": 521,
     "metadata": {},
     "output_type": "execute_result"
    },
    {
     "data": {
      "image/png": "[encoded data removed]",
      "text/plain": [
       "<Figure size 432x288 with 1 Axes>"
      ]
     },
     "metadata": {
      "needs_background": "light"
     },
     "output_type": "display_data"
    }
   ],
   "source": [
    "def expand_training_set(samples, frame_samples, window_frames,\n",
    "                        sample_rate=16000, cut_length=1.0, augmentations=0):\n",
    "    chunks = {\n",
    "        'slice_file_name': [],\n",
    "        'fold': [],\n",
    "        'classID': [],\n",
    "        'start': [],\n",
    "        'end': [],\n",
    "        'augmentation': [],\n",
    "    }\n",
    "    \n",
    "    for (index, sample) in samples.iterrows():\n",
    "        duration = sample.end - sample.start\n",
    "        length = int(sample_rate * duration)\n",
    "        \n",
    "        for aug in range(-1, augmentations):\n",
    "        \n",
    "            for win in sample_windows(length, frame_samples, window_frames):\n",
    "                start, end = win\n",
    "                chunks['slice_file_name'].append(sample.slice_file_name)\n",
    "                chunks['fold'].append(sample.fold)\n",
    "                # to assume class is same as that of parent sample maybe a bit optimistic\n",
    "                # not certain that every chunk has content representative of class\n",
    "                # alternative would be multi-instance learning\n",
    "                chunks['classID'].append(sample.classID) \n",
    "                chunks['start'].append(start/sample_rate)\n",
    "                chunks['end'].append(end/sample_rate)\n",
    "                chunks['augmentation'].append(None if aug == -1 else aug)\n",
    "            \n",
    "    df = pandas.DataFrame(chunks)\n",
    "    \n",
    "    if cut_length:\n",
    "        w = (df.end-df.start > cut_length)\n",
    "        cleaned = df[w]\n",
    "        print('cutting {} samples shorter than {} seconds'.format(len(df) - len(cleaned), cut_length))\n",
    "    \n",
    "    return cleaned\n",
    "\n",
    "        \n",
    "df = expand_training_set(folds[0][0], frame_samples=frame_samples, window_frames=window_frames)\n",
    "print(len(df))\n",
    "(df.end-df.start).hist(bins=20)  "
   ]
  },
  {
   "cell_type": "code",
   "execution_count": 664,
   "metadata": {},
   "outputs": [
    {
     "data": {
      "text/plain": [
       "(32, 72, 1)"
      ]
     },
     "execution_count": 664,
     "metadata": {},
     "output_type": "execute_result"
    }
   ],
   "source": [
    "settings = dict(\n",
    "    samplerate=16000,\n",
    "    n_mels=32,\n",
    "    fmin=0,\n",
    "    fmax=8000,\n",
    "    n_fft=512,\n",
    "    hop_length=256,\n",
    "    augmentations=5,\n",
    ")\n",
    "\n",
    "def load_sample(sample, window_frames=72):\n",
    "    n_mels = settings['n_mels']\n",
    "    sample_rate = settings['samplerate']\n",
    "    hop_length = settings['hop_length']\n",
    "    \n",
    "    # Load precomputed features\n",
    "    aug = None\n",
    "    if hasattr(sample, 'augmentation'):\n",
    "        aug = sample.augmentation\n",
    "    folder = os.path.join('aug', preprocess.settings_id(settings, feature='mels'))\n",
    "    path = preprocess.feature_path(sample, out_folder=folder, augmentation=aug)\n",
    "    mels = numpy.load(path)['arr_0']\n",
    "    assert mels.shape[0] == n_mels, mels.shape\n",
    "    \n",
    "    # Cut out the relevant part\n",
    "    start = int(sample.start * (sample_rate / hop_length))\n",
    "    end = int(sample.end * (sample_rate / hop_length))\n",
    "    d = (sample.end-sample.start)\n",
    "    mels = mels[:, start:end]\n",
    "    #assert mels.shape[1] > 0, (sample)\n",
    "\n",
    "    if mels.shape[1] > 0:\n",
    "        mels = librosa.core.power_to_db(mels, top_db=80, ref=numpy.max)\n",
    "    \n",
    "    # zero-pad window to standard length\n",
    "    if window_frames is None:\n",
    "        padded = mels\n",
    "    else:\n",
    "        padded = numpy.full((n_mels, window_frames), 0)    \n",
    "        inp = mels[:, 0:min(window_frames, mels.shape[1])]\n",
    "        padded[:, 0:inp.shape[1]] = inp\n",
    "\n",
    "    # add channel dimension\n",
    "    data = numpy.expand_dims(padded, -1)\n",
    "    return data\n",
    "    \n",
    "load_sample(df.iloc[5]).shape"
   ]
  },
  {
   "cell_type": "code",
   "execution_count": 666,
   "metadata": {},
   "outputs": [
    {
     "data": {
      "text/plain": [
       "(16, (8, 32, 72, 1), (8, 10))"
      ]
     },
     "execution_count": 666,
     "metadata": {},
     "output_type": "execute_result"
    }
   ],
   "source": [
    "\n",
    "def gen(X, Y, loader, batchsize=10, n_classes=10):\n",
    "    \n",
    "    assert len(X) == len(Y), 'X and Y must be equal length'\n",
    "    assert len(X) % batchsize == 0, 'input length must be divisible by @batchsize'\n",
    "        \n",
    "    sample_idx = 0\n",
    "    while True:\n",
    "        batch_data = []\n",
    "        batch_labels = []\n",
    "\n",
    "        if sample_idx >= len(X):\n",
    "            sample_idx = 0\n",
    "        \n",
    "        while len(batch_data) < batchsize:\n",
    "            data = loader(X.iloc[sample_idx])  \n",
    "            y = Y.iloc[sample_idx]\n",
    "            y = keras.utils.to_categorical(y, num_classes=n_classes)\n",
    "            batch_data.append(data)\n",
    "            batch_labels.append(y)\n",
    "            sample_idx += 1\n",
    "            \n",
    "        batch = (numpy.stack(batch_data), numpy.stack(batch_labels))\n",
    "        yield batch\n",
    "\n",
    "fold = df\n",
    "import itertools\n",
    "g = gen(fold[0:16], fold.classID[0:16], loader=load_sample, batchsize=8)\n",
    "batches = list(itertools.islice(g, 16))\n",
    "len(batches), batches[0][0].shape, batches[0][1].shape"
   ]
  },
  {
   "cell_type": "code",
   "execution_count": 663,
   "metadata": {},
   "outputs": [
    {
     "name": "stdout",
     "output_type": "stream",
     "text": [
      "_________________________________________________________________\n",
      "Layer (type)                 Output Shape              Param #   \n",
      "=================================================================\n",
      "conv2d_163 (Conv2D)          (None, 32, 72, 24)        240       \n",
      "_________________________________________________________________\n",
      "max_pooling2d_34 (MaxPooling (None, 10, 24, 24)        0         \n",
      "_________________________________________________________________\n",
      "activation_229 (Activation)  (None, 10, 24, 24)        0         \n",
      "_________________________________________________________________\n",
      "conv2d_164 (Conv2D)          (None, 10, 24, 48)        10416     \n",
      "_________________________________________________________________\n",
      "max_pooling2d_35 (MaxPooling (None, 3, 8, 48)          0         \n",
      "_________________________________________________________________\n",
      "activation_230 (Activation)  (None, 3, 8, 48)          0         \n",
      "_________________________________________________________________\n",
      "conv2d_165 (Conv2D)          (None, 1, 6, 48)          20784     \n",
      "_________________________________________________________________\n",
      "activation_231 (Activation)  (None, 1, 6, 48)          0         \n",
      "_________________________________________________________________\n",
      "flatten_10 (Flatten)         (None, 288)               0         \n",
      "_________________________________________________________________\n",
      "dense_81 (Dense)             (None, 64)                18496     \n",
      "_________________________________________________________________\n",
      "activation_232 (Activation)  (None, 64)                0         \n",
      "_________________________________________________________________\n",
      "dropout_86 (Dropout)         (None, 64)                0         \n",
      "_________________________________________________________________\n",
      "dense_82 (Dense)             (None, 10)                650       \n",
      "_________________________________________________________________\n",
      "dropout_87 (Dropout)         (None, 10)                0         \n",
      "_________________________________________________________________\n",
      "activation_233 (Activation)  (None, 10)                0         \n",
      "=================================================================\n",
      "Total params: 50,586\n",
      "Trainable params: 50,586\n",
      "Non-trainable params: 0\n",
      "_________________________________________________________________\n"
     ]
    }
   ],
   "source": [
    "import dense\n",
    "import sbcnn\n",
    "import dilated\n",
    "\n",
    "def build_model():\n",
    "\n",
    "    #model = dilated.build_model(bands=32, frames=72, channels=1, kernels=[32,32,32,32])\n",
    "    model = sbcnn.build_model(bands=32, frames=72, channels=1, pool=(3,3))\n",
    "    #model = dense.build_model(bands=32, frames=72, channels=1, pooling='avg',\n",
    "    #                          dropout=0.5, growth=30, reduction=0.5)\n",
    "    return model\n",
    "\n",
    "build_model().summary()"
   ]
  },
  {
   "cell_type": "code",
   "execution_count": 670,
   "metadata": {},
   "outputs": [
    {
     "name": "stdout",
     "output_type": "stream",
     "text": [
      "cutting 7752 samples shorter than 1.0 seconds\n",
      "cutting 947 samples shorter than 1.0 seconds\n",
      "Epoch 1/1\n",
      "4/4 [==============================] - 19s 5s/step - loss: 6.7605 - acc: 0.1000 - val_loss: 3.3963 - val_acc: 0.0000e+00\n",
      "\n",
      "Epoch 00001: saving model to test.model.01-3.40.hdf5\n"
     ]
    }
   ],
   "source": [
    "def train_model(name, fold, train_samples=35000, val_samples=3000, batch_size=200, epochs=50, seed=1):\n",
    "    \n",
    "    model = build_model()\n",
    "    model.compile(loss='categorical_crossentropy',\n",
    "                  optimizer=keras.optimizers.RMSprop(lr=3e-4),\n",
    "                  metrics=['accuracy'])\n",
    "\n",
    "    train = expand_training_set(fold[0], frame_samples=frame_samples, window_frames=window_frames,\n",
    "                                augmentations=0)\n",
    "    val = expand_training_set(fold[1], frame_samples=frame_samples, window_frames=window_frames)\n",
    "\n",
    "    train = train.sample(train_samples, replace=False, random_state=seed)\n",
    "    val = val.sample(val_samples, replace=False, random_state=seed)\n",
    "\n",
    "    model_name = name+'.e{epoch:02d}-v{val_loss:.2f}.model.hdf5'\n",
    "    checkpoint = keras.callbacks.ModelCheckpoint(model_name, monitor='val_acc', mode='max',\n",
    "                                         period=1, verbose=1, save_best_only=False)\n",
    "    callbacks_list = [checkpoint]\n",
    "\n",
    "    train_gen = gen(train, train.classID, loader=load_sample, batchsize=batch_size)\n",
    "    val_gen = gen(val, val.classID, loader=load_sample, batchsize=batch_size)\n",
    "\n",
    "    hist = model.fit_generator(train_gen, validation_data=val_gen,\n",
    "                        steps_per_epoch=math.ceil(len(train)/batch_size),\n",
    "                        validation_steps=math.ceil(len(val)/batch_size),\n",
    "                        callbacks=callbacks_list,\n",
    "                        epochs=epochs, verbose=1)\n",
    "    \n",
    "    return hist\n",
    "    \n",
    "h = train_model(\"test\", folds[0], epochs=1, train_samples=20, val_samples=20, batch_size=5)"
   ]
  },
  {
   "cell_type": "code",
   "execution_count": 679,
   "metadata": {},
   "outputs": [
    {
     "data": {
      "text/plain": [
       "([0],\n",
       " {'val_loss': [3.396274149417877],\n",
       "  'val_acc': [0.0],\n",
       "  'loss': [6.7605085372924805],\n",
       "  'acc': [0.10000000149011612]})"
      ]
     },
     "execution_count": 679,
     "metadata": {},
     "output_type": "execute_result"
    }
   ],
   "source": [
    "h.epoch, h.history"
   ]
  },
  {
   "cell_type": "code",
   "execution_count": 689,
   "metadata": {},
   "outputs": [
    {
     "data": {
      "text/html": [
       "<div>\n",
       "<style scoped>\n",
       "    .dataframe tbody tr th:only-of-type {\n",
       "        vertical-align: middle;\n",
       "    }\n",
       "\n",
       "    .dataframe tbody tr th {\n",
       "        vertical-align: top;\n",
       "    }\n",
       "\n",
       "    .dataframe thead th {\n",
       "        text-align: right;\n",
       "    }\n",
       "</style>\n",
       "<table border=\"1\" class=\"dataframe\">\n",
       "  <thead>\n",
       "    <tr style=\"text-align: right;\">\n",
       "      <th></th>\n",
       "      <th>epoch</th>\n",
       "      <th>val_loss</th>\n",
       "      <th>val_acc</th>\n",
       "      <th>loss</th>\n",
       "      <th>acc</th>\n",
       "    </tr>\n",
       "  </thead>\n",
       "  <tbody>\n",
       "    <tr>\n",
       "      <th>0</th>\n",
       "      <td>0</td>\n",
       "      <td>3.396274</td>\n",
       "      <td>0.0</td>\n",
       "      <td>6.760509</td>\n",
       "      <td>0.1</td>\n",
       "    </tr>\n",
       "  </tbody>\n",
       "</table>\n",
       "</div>"
      ],
      "text/plain": [
       "   epoch  val_loss  val_acc      loss  acc\n",
       "0      0  3.396274      0.0  6.760509  0.1"
      ]
     },
     "execution_count": 689,
     "metadata": {},
     "output_type": "execute_result"
    }
   ],
   "source": [
    "def history_dataframe(h):\n",
    "    data = {}\n",
    "    data['epoch'] = h.epoch\n",
    "    for k, v in h.history.items():\n",
    "        data[k] = v\n",
    "    df = pandas.DataFrame(data)\n",
    "    return df\n",
    "    \n",
    "history_dataframe(h)"
   ]
  },
  {
   "cell_type": "code",
   "execution_count": 690,
   "metadata": {},
   "outputs": [
    {
     "ename": "KeyboardInterrupt",
     "evalue": "",
     "output_type": "error",
     "traceback": [
      "\u001b[0;31m---------------------------------------------------------------------------\u001b[0m",
      "\u001b[0;31mKeyboardInterrupt\u001b[0m                         Traceback (most recent call last)",
      "\u001b[0;32m<ipython-input-690-e05958dbab97>\u001b[0m in \u001b[0;36m<module>\u001b[0;34m\u001b[0m\n\u001b[1;32m      8\u001b[0m         \u001b[0mdf\u001b[0m\u001b[0;34m.\u001b[0m\u001b[0mto_csv\u001b[0m\u001b[0;34m(\u001b[0m\u001b[0mmodel_name\u001b[0m\u001b[0;34m+\u001b[0m\u001b[0;34m'.history.csv'\u001b[0m\u001b[0;34m,\u001b[0m \u001b[0mindex\u001b[0m\u001b[0;34m=\u001b[0m\u001b[0;32mFalse\u001b[0m\u001b[0;34m)\u001b[0m\u001b[0;34m\u001b[0m\u001b[0;34m\u001b[0m\u001b[0m\n\u001b[1;32m      9\u001b[0m \u001b[0;34m\u001b[0m\u001b[0m\n\u001b[0;32m---> 10\u001b[0;31m \u001b[0mrun_experiment\u001b[0m\u001b[0;34m(\u001b[0m\u001b[0;34m\"first\"\u001b[0m\u001b[0;34m)\u001b[0m\u001b[0;34m\u001b[0m\u001b[0;34m\u001b[0m\u001b[0m\n\u001b[0m\u001b[1;32m     11\u001b[0m \u001b[0;34m\u001b[0m\u001b[0m\n",
      "\u001b[0;32m<ipython-input-690-e05958dbab97>\u001b[0m in \u001b[0;36mrun_experiment\u001b[0;34m(name)\u001b[0m\n\u001b[1;32m      4\u001b[0m         \u001b[0mmodel_name\u001b[0m \u001b[0;34m=\u001b[0m \u001b[0;34m\"{}.f{}\"\u001b[0m\u001b[0;34m.\u001b[0m\u001b[0mformat\u001b[0m\u001b[0;34m(\u001b[0m\u001b[0mname\u001b[0m\u001b[0;34m,\u001b[0m \u001b[0mfold_no\u001b[0m\u001b[0;34m)\u001b[0m\u001b[0;34m\u001b[0m\u001b[0;34m\u001b[0m\u001b[0m\n\u001b[1;32m      5\u001b[0m         hist = train_model(model_name, fold_data,\n\u001b[0;32m----> 6\u001b[0;31m                            epochs=1, train_samples=20, val_samples=20, batch_size=10)\n\u001b[0m\u001b[1;32m      7\u001b[0m         \u001b[0mdf\u001b[0m \u001b[0;34m=\u001b[0m \u001b[0mhistory_dataframe\u001b[0m\u001b[0;34m(\u001b[0m\u001b[0mhist\u001b[0m\u001b[0;34m)\u001b[0m\u001b[0;34m\u001b[0m\u001b[0;34m\u001b[0m\u001b[0m\n\u001b[1;32m      8\u001b[0m         \u001b[0mdf\u001b[0m\u001b[0;34m.\u001b[0m\u001b[0mto_csv\u001b[0m\u001b[0;34m(\u001b[0m\u001b[0mmodel_name\u001b[0m\u001b[0;34m+\u001b[0m\u001b[0;34m'.history.csv'\u001b[0m\u001b[0;34m,\u001b[0m \u001b[0mindex\u001b[0m\u001b[0;34m=\u001b[0m\u001b[0;32mFalse\u001b[0m\u001b[0;34m)\u001b[0m\u001b[0;34m\u001b[0m\u001b[0;34m\u001b[0m\u001b[0m\n",
      "\u001b[0;32m<ipython-input-670-e1564cef2904>\u001b[0m in \u001b[0;36mtrain_model\u001b[0;34m(name, fold, train_samples, val_samples, batch_size, epochs, seed)\u001b[0m\n\u001b[1;32m      7\u001b[0m \u001b[0;34m\u001b[0m\u001b[0m\n\u001b[1;32m      8\u001b[0m     train = expand_training_set(fold[0], frame_samples=frame_samples, window_frames=window_frames,\n\u001b[0;32m----> 9\u001b[0;31m                                 augmentations=0)\n\u001b[0m\u001b[1;32m     10\u001b[0m     \u001b[0mval\u001b[0m \u001b[0;34m=\u001b[0m \u001b[0mexpand_training_set\u001b[0m\u001b[0;34m(\u001b[0m\u001b[0mfold\u001b[0m\u001b[0;34m[\u001b[0m\u001b[0;36m1\u001b[0m\u001b[0;34m]\u001b[0m\u001b[0;34m,\u001b[0m \u001b[0mframe_samples\u001b[0m\u001b[0;34m=\u001b[0m\u001b[0mframe_samples\u001b[0m\u001b[0;34m,\u001b[0m \u001b[0mwindow_frames\u001b[0m\u001b[0;34m=\u001b[0m\u001b[0mwindow_frames\u001b[0m\u001b[0;34m)\u001b[0m\u001b[0;34m\u001b[0m\u001b[0;34m\u001b[0m\u001b[0m\n\u001b[1;32m     11\u001b[0m \u001b[0;34m\u001b[0m\u001b[0m\n",
      "\u001b[0;32m<ipython-input-521-95da7054baba>\u001b[0m in \u001b[0;36mexpand_training_set\u001b[0;34m(samples, frame_samples, window_frames, sample_rate, cut_length, augmentations)\u001b[0m\n\u001b[1;32m     23\u001b[0m                 \u001b[0;31m# not certain that every chunk has content representative of class\u001b[0m\u001b[0;34m\u001b[0m\u001b[0;34m\u001b[0m\u001b[0;34m\u001b[0m\u001b[0m\n\u001b[1;32m     24\u001b[0m                 \u001b[0;31m# alternative would be multi-instance learning\u001b[0m\u001b[0;34m\u001b[0m\u001b[0;34m\u001b[0m\u001b[0;34m\u001b[0m\u001b[0m\n\u001b[0;32m---> 25\u001b[0;31m                 \u001b[0mchunks\u001b[0m\u001b[0;34m[\u001b[0m\u001b[0;34m'classID'\u001b[0m\u001b[0;34m]\u001b[0m\u001b[0;34m.\u001b[0m\u001b[0mappend\u001b[0m\u001b[0;34m(\u001b[0m\u001b[0msample\u001b[0m\u001b[0;34m.\u001b[0m\u001b[0mclassID\u001b[0m\u001b[0;34m)\u001b[0m\u001b[0;34m\u001b[0m\u001b[0;34m\u001b[0m\u001b[0m\n\u001b[0m\u001b[1;32m     26\u001b[0m                 \u001b[0mchunks\u001b[0m\u001b[0;34m[\u001b[0m\u001b[0;34m'start'\u001b[0m\u001b[0;34m]\u001b[0m\u001b[0;34m.\u001b[0m\u001b[0mappend\u001b[0m\u001b[0;34m(\u001b[0m\u001b[0mstart\u001b[0m\u001b[0;34m/\u001b[0m\u001b[0msample_rate\u001b[0m\u001b[0;34m)\u001b[0m\u001b[0;34m\u001b[0m\u001b[0;34m\u001b[0m\u001b[0m\n\u001b[1;32m     27\u001b[0m                 \u001b[0mchunks\u001b[0m\u001b[0;34m[\u001b[0m\u001b[0;34m'end'\u001b[0m\u001b[0;34m]\u001b[0m\u001b[0;34m.\u001b[0m\u001b[0mappend\u001b[0m\u001b[0;34m(\u001b[0m\u001b[0mend\u001b[0m\u001b[0;34m/\u001b[0m\u001b[0msample_rate\u001b[0m\u001b[0;34m)\u001b[0m\u001b[0;34m\u001b[0m\u001b[0;34m\u001b[0m\u001b[0m\n",
      "\u001b[0;32m/usr/lib/python3.7/site-packages/pandas/core/generic.py\u001b[0m in \u001b[0;36m__getattr__\u001b[0;34m(self, name)\u001b[0m\n\u001b[1;32m   5064\u001b[0m         \u001b[0;32melse\u001b[0m\u001b[0;34m:\u001b[0m\u001b[0;34m\u001b[0m\u001b[0;34m\u001b[0m\u001b[0m\n\u001b[1;32m   5065\u001b[0m             \u001b[0;32mif\u001b[0m \u001b[0mself\u001b[0m\u001b[0;34m.\u001b[0m\u001b[0m_info_axis\u001b[0m\u001b[0;34m.\u001b[0m\u001b[0m_can_hold_identifiers_and_holds_name\u001b[0m\u001b[0;34m(\u001b[0m\u001b[0mname\u001b[0m\u001b[0;34m)\u001b[0m\u001b[0;34m:\u001b[0m\u001b[0;34m\u001b[0m\u001b[0;34m\u001b[0m\u001b[0m\n\u001b[0;32m-> 5066\u001b[0;31m                 \u001b[0;32mreturn\u001b[0m \u001b[0mself\u001b[0m\u001b[0;34m[\u001b[0m\u001b[0mname\u001b[0m\u001b[0;34m]\u001b[0m\u001b[0;34m\u001b[0m\u001b[0;34m\u001b[0m\u001b[0m\n\u001b[0m\u001b[1;32m   5067\u001b[0m             \u001b[0;32mreturn\u001b[0m \u001b[0mobject\u001b[0m\u001b[0;34m.\u001b[0m\u001b[0m__getattribute__\u001b[0m\u001b[0;34m(\u001b[0m\u001b[0mself\u001b[0m\u001b[0;34m,\u001b[0m \u001b[0mname\u001b[0m\u001b[0;34m)\u001b[0m\u001b[0;34m\u001b[0m\u001b[0;34m\u001b[0m\u001b[0m\n\u001b[1;32m   5068\u001b[0m \u001b[0;34m\u001b[0m\u001b[0m\n",
      "\u001b[0;32m/usr/lib/python3.7/site-packages/pandas/core/series.py\u001b[0m in \u001b[0;36m__getitem__\u001b[0;34m(self, key)\u001b[0m\n\u001b[1;32m    866\u001b[0m         \u001b[0mkey\u001b[0m \u001b[0;34m=\u001b[0m \u001b[0mcom\u001b[0m\u001b[0;34m.\u001b[0m\u001b[0mapply_if_callable\u001b[0m\u001b[0;34m(\u001b[0m\u001b[0mkey\u001b[0m\u001b[0;34m,\u001b[0m \u001b[0mself\u001b[0m\u001b[0;34m)\u001b[0m\u001b[0;34m\u001b[0m\u001b[0;34m\u001b[0m\u001b[0m\n\u001b[1;32m    867\u001b[0m         \u001b[0;32mtry\u001b[0m\u001b[0;34m:\u001b[0m\u001b[0;34m\u001b[0m\u001b[0;34m\u001b[0m\u001b[0m\n\u001b[0;32m--> 868\u001b[0;31m             \u001b[0mresult\u001b[0m \u001b[0;34m=\u001b[0m \u001b[0mself\u001b[0m\u001b[0;34m.\u001b[0m\u001b[0mindex\u001b[0m\u001b[0;34m.\u001b[0m\u001b[0mget_value\u001b[0m\u001b[0;34m(\u001b[0m\u001b[0mself\u001b[0m\u001b[0;34m,\u001b[0m \u001b[0mkey\u001b[0m\u001b[0;34m)\u001b[0m\u001b[0;34m\u001b[0m\u001b[0;34m\u001b[0m\u001b[0m\n\u001b[0m\u001b[1;32m    869\u001b[0m \u001b[0;34m\u001b[0m\u001b[0m\n\u001b[1;32m    870\u001b[0m             \u001b[0;32mif\u001b[0m \u001b[0;32mnot\u001b[0m \u001b[0mis_scalar\u001b[0m\u001b[0;34m(\u001b[0m\u001b[0mresult\u001b[0m\u001b[0;34m)\u001b[0m\u001b[0;34m:\u001b[0m\u001b[0;34m\u001b[0m\u001b[0;34m\u001b[0m\u001b[0m\n",
      "\u001b[0;32m/usr/lib/python3.7/site-packages/pandas/core/indexes/base.py\u001b[0m in \u001b[0;36mget_value\u001b[0;34m(self, series, key)\u001b[0m\n\u001b[1;32m   4369\u001b[0m         \u001b[0mk\u001b[0m \u001b[0;34m=\u001b[0m \u001b[0mcom\u001b[0m\u001b[0;34m.\u001b[0m\u001b[0mvalues_from_object\u001b[0m\u001b[0;34m(\u001b[0m\u001b[0mkey\u001b[0m\u001b[0;34m)\u001b[0m\u001b[0;34m\u001b[0m\u001b[0;34m\u001b[0m\u001b[0m\n\u001b[1;32m   4370\u001b[0m \u001b[0;34m\u001b[0m\u001b[0m\n\u001b[0;32m-> 4371\u001b[0;31m         \u001b[0mk\u001b[0m \u001b[0;34m=\u001b[0m \u001b[0mself\u001b[0m\u001b[0;34m.\u001b[0m\u001b[0m_convert_scalar_indexer\u001b[0m\u001b[0;34m(\u001b[0m\u001b[0mk\u001b[0m\u001b[0;34m,\u001b[0m \u001b[0mkind\u001b[0m\u001b[0;34m=\u001b[0m\u001b[0;34m'getitem'\u001b[0m\u001b[0;34m)\u001b[0m\u001b[0;34m\u001b[0m\u001b[0;34m\u001b[0m\u001b[0m\n\u001b[0m\u001b[1;32m   4372\u001b[0m         \u001b[0;32mtry\u001b[0m\u001b[0;34m:\u001b[0m\u001b[0;34m\u001b[0m\u001b[0;34m\u001b[0m\u001b[0m\n\u001b[1;32m   4373\u001b[0m             return self._engine.get_value(s, k,\n",
      "\u001b[0;32m/usr/lib/python3.7/site-packages/pandas/core/indexes/base.py\u001b[0m in \u001b[0;36m_convert_scalar_indexer\u001b[0;34m(self, key, kind)\u001b[0m\n\u001b[1;32m   2853\u001b[0m             \u001b[0;32mreturn\u001b[0m \u001b[0mself\u001b[0m\u001b[0;34m.\u001b[0m\u001b[0m_validate_indexer\u001b[0m\u001b[0;34m(\u001b[0m\u001b[0;34m'positional'\u001b[0m\u001b[0;34m,\u001b[0m \u001b[0mkey\u001b[0m\u001b[0;34m,\u001b[0m \u001b[0mkind\u001b[0m\u001b[0;34m)\u001b[0m\u001b[0;34m\u001b[0m\u001b[0;34m\u001b[0m\u001b[0m\n\u001b[1;32m   2854\u001b[0m \u001b[0;34m\u001b[0m\u001b[0m\n\u001b[0;32m-> 2855\u001b[0;31m         \u001b[0;32mif\u001b[0m \u001b[0mlen\u001b[0m\u001b[0;34m(\u001b[0m\u001b[0mself\u001b[0m\u001b[0;34m)\u001b[0m \u001b[0;32mand\u001b[0m \u001b[0;32mnot\u001b[0m \u001b[0misinstance\u001b[0m\u001b[0;34m(\u001b[0m\u001b[0mself\u001b[0m\u001b[0;34m,\u001b[0m \u001b[0mABCMultiIndex\u001b[0m\u001b[0;34m,\u001b[0m\u001b[0;34m)\u001b[0m\u001b[0;34m:\u001b[0m\u001b[0;34m\u001b[0m\u001b[0;34m\u001b[0m\u001b[0m\n\u001b[0m\u001b[1;32m   2856\u001b[0m \u001b[0;34m\u001b[0m\u001b[0m\n\u001b[1;32m   2857\u001b[0m             \u001b[0;31m# we can raise here if we are definitive that this\u001b[0m\u001b[0;34m\u001b[0m\u001b[0;34m\u001b[0m\u001b[0;34m\u001b[0m\u001b[0m\n",
      "\u001b[0;31mKeyboardInterrupt\u001b[0m: "
     ]
    }
   ],
   "source": [
    "def run_experiment(name):\n",
    "    \n",
    "    for fold_no, fold_data in enumerate(folds):\n",
    "        model_name = \"{}.f{}\".format(name, fold_no)\n",
    "        hist = train_model(model_name, fold_data,\n",
    "                           epochs=1, train_samples=20, val_samples=20, batch_size=10)\n",
    "        df = history_dataframe(hist)\n",
    "        df.to_csv(model_name+'.history.csv')\n",
    "\n",
    "run_experiment(\"first\")\n",
    "        "
   ]
  },
  {
   "cell_type": "code",
   "execution_count": 654,
   "metadata": {},
   "outputs": [
    {
     "data": {
      "text/plain": [
       "<keras.engine.sequential.Sequential at 0x7f4a418d55c0>"
      ]
     },
     "execution_count": 654,
     "metadata": {},
     "output_type": "execute_result"
    }
   ],
   "source": [
    "model = keras.models.load_model('sbcnn.hdf5')\n",
    "model"
   ]
  },
  {
   "cell_type": "code",
   "execution_count": 655,
   "metadata": {},
   "outputs": [
    {
     "data": {
      "text/plain": [
       "0.7025089605734767"
      ]
     },
     "execution_count": 655,
     "metadata": {},
     "output_type": "execute_result"
    }
   ],
   "source": [
    "import collections\n",
    "\n",
    "def predict_windowed(model, samples, method='mean'):\n",
    "    sample_rate = settings['samplerate']\n",
    "    Sample = collections.namedtuple('Sample', 'start end fold slice_file_name')\n",
    "\n",
    "    out = []\n",
    "    for _, sample in samples.iterrows():\n",
    "        duration = sample.end - sample.start\n",
    "        length = int(sample_rate * duration)\n",
    "        windows = []\n",
    "        \n",
    "        for win in sample_windows(length, frame_samples, window_frames):\n",
    "            chunk = Sample(start=win[0]/sample_rate,\n",
    "                           end=win[1]/sample_rate,\n",
    "                           fold=sample.fold,\n",
    "                           slice_file_name=sample.slice_file_name)    \n",
    "            d = load_sample(chunk)\n",
    "            windows.append(d)\n",
    "\n",
    "        inputs = numpy.stack(windows)\n",
    "        inputs = numpy.expand_dims(inputs, axis=-1)\n",
    "        predictions = model.predict(inputs)\n",
    "\n",
    "        if method == 'mean':\n",
    "            p = numpy.mean(predictions, axis=0)\n",
    "            assert len(p) == 10\n",
    "            out.append(numpy.argmax(p))\n",
    "        elif method == 'majority':\n",
    "            votes = numpy.argmax(predictions, axis=1)\n",
    "            p = numpy.argmax(numpy.bincount(votes))\n",
    "            out.append(p)\n",
    "\n",
    "    return numpy.stack(out)\n",
    "\n",
    "from sklearn.metrics import accuracy_score\n",
    "\n",
    "t = test[0:10]\n",
    "mean_m = predict_windowed(model, t, method='mean')\n",
    "accuracy_score(t.classID, mean_m)"
   ]
  },
  {
   "cell_type": "code",
   "execution_count": 660,
   "metadata": {},
   "outputs": [
    {
     "data": {
      "image/png": "[encoded data removed]",
      "text/plain": [
       "<Figure size 720x576 with 2 Axes>"
      ]
     },
     "metadata": {
      "needs_background": "light"
     },
     "output_type": "display_data"
    }
   ],
   "source": [
    "#import seaborn as sns\n",
    "import matplotlib.pyplot as plt     \n",
    "\n",
    "def plot_confusion(cm, classnames):\n",
    "\n",
    "    fig, ax = plt.subplots(1, figsize=(10,8))\n",
    "    sns.heatmap(cm, annot=True, ax=ax);\n",
    "\n",
    "    ax.set_xlabel('Predicted labels')\n",
    "    ax.set_ylabel('True labels')\n",
    "    ax.set_title('Confusion Matrix') \n",
    "    ax.xaxis.set_ticklabels(classnames, rotation=60)\n",
    "    ax.yaxis.set_ticklabels(classnames, rotation=0)\n",
    "\n",
    "from sklearn.metrics import confusion_matrix\n",
    "#cm = confusion_matrix(val_d.classID, val_p, labels=None, sample_weight=None)\n",
    "cm = confusion_matrix(t.classID, mean_m, labels=None, sample_weight=None)\n",
    "plot_confusion(cm, urbansound8k.classnames)"
   ]
  },
  {
   "cell_type": "code",
   "execution_count": 536,
   "metadata": {},
   "outputs": [
    {
     "data": {
      "text/plain": [
       "fold  class           \n",
       "1     air_conditioner     100\n",
       "      car_horn             36\n",
       "      children_playing    100\n",
       "      dog_bark            100\n",
       "      drilling            100\n",
       "      engine_idling        96\n",
       "      gun_shot             35\n",
       "      jackhammer          120\n",
       "      siren                86\n",
       "      street_music        100\n",
       "2     air_conditioner     100\n",
       "      car_horn             42\n",
       "      children_playing    100\n",
       "      dog_bark            100\n",
       "      drilling            100\n",
       "      engine_idling       100\n",
       "      gun_shot             35\n",
       "      jackhammer          120\n",
       "      siren                91\n",
       "      street_music        100\n",
       "3     air_conditioner     100\n",
       "      car_horn             43\n",
       "      children_playing    100\n",
       "      dog_bark            100\n",
       "      drilling            100\n",
       "      engine_idling       107\n",
       "      gun_shot             36\n",
       "      jackhammer          120\n",
       "      siren               119\n",
       "      street_music        100\n",
       "                         ... \n",
       "8     air_conditioner     100\n",
       "      car_horn             30\n",
       "      children_playing    100\n",
       "      dog_bark            100\n",
       "      drilling            100\n",
       "      engine_idling        88\n",
       "      gun_shot             30\n",
       "      jackhammer           78\n",
       "      siren                80\n",
       "      street_music        100\n",
       "9     air_conditioner     100\n",
       "      car_horn             32\n",
       "      children_playing    100\n",
       "      dog_bark            100\n",
       "      drilling            100\n",
       "      engine_idling        89\n",
       "      gun_shot             31\n",
       "      jackhammer           82\n",
       "      siren                82\n",
       "      street_music        100\n",
       "10    air_conditioner     100\n",
       "      car_horn             33\n",
       "      children_playing    100\n",
       "      dog_bark            100\n",
       "      drilling            100\n",
       "      engine_idling        93\n",
       "      gun_shot             32\n",
       "      jackhammer           96\n",
       "      siren                83\n",
       "      street_music        100\n",
       "Name: classID, Length: 100, dtype: int64"
      ]
     },
     "execution_count": 536,
     "metadata": {},
     "output_type": "execute_result"
    }
   ],
   "source": [
    "data.groupby(['fold', 'class'])['classID'].count()"
   ]
  },
  {
   "cell_type": "code",
   "execution_count": 537,
   "metadata": {},
   "outputs": [
    {
     "data": {
      "text/plain": [
       "<matplotlib.axes._subplots.AxesSubplot at 0x7f4b012e9978>"
      ]
     },
     "execution_count": 537,
     "metadata": {},
     "output_type": "execute_result"
    },
    {
     "data": {
      "image/png": "[encoded data removed]",
      "text/plain": [
       "<Figure size 432x288 with 1 Axes>"
      ]
     },
     "metadata": {
      "needs_background": "light"
     },
     "output_type": "display_data"
    }
   ],
   "source": [
    "drilling = data[data['class'] == 'drilling']\n",
    "(drilling.end - drilling.start).hist()"
   ]
  },
  {
   "cell_type": "code",
   "execution_count": 560,
   "metadata": {},
   "outputs": [
    {
     "data": {
      "text/plain": [
       "array([array([ 14113, 147764, 165642, 165645,  17913,  22962,  46669,  55020,\n",
       "        57584,  71087,  78360,  96158]),\n",
       "       array([104817, 118723, 165643, 180126, 185800,  34621,  46668,  50416,\n",
       "        59594,  71080,  76086,  77751]),\n",
       "       array([103199, 103357,  14115, 165786, 185801,  29721,  37560,  42937,\n",
       "        63095,  66622,  69598,  95562]),\n",
       "       array([128607, 140824,  14110, 144351, 151005, 156362, 165785, 169466,\n",
       "       179212, 187377, 199929,  29722]),\n",
       "       array([118440, 180125, 180128,  19007, 205874, 205878,  39533,  50413,\n",
       "        71086,  71171,  77774,  84699]),\n",
       "       array([107842,  14114, 165641, 166931, 167701, 179725,  24364,  34643,\n",
       "        58005,  66623,  71079,  71088]),\n",
       "       array([104625, 127443, 130961, 135849, 165644,  50415,  50629,    518,\n",
       "        57696,  71529,  74965,  89099]),\n",
       "       array([139000, 147019, 161129, 167702, 168037, 180132, 180134, 205610,\n",
       "        42324,  59595,  76085,  96159]),\n",
       "       array([127538, 137815,  14111, 146249, 180029, 180937,  39532,  50414,\n",
       "        54976,  58937,  71082,  81117]),\n",
       "       array([118278, 146244, 165640, 167750, 180127, 181624, 187863, 195063,\n",
       "        26344,  74922,  99192])], dtype=object)"
      ]
     },
     "execution_count": 560,
     "metadata": {},
     "output_type": "execute_result"
    }
   ],
   "source": [
    "drilling.groupby('fold')['fsID'].unique().values"
   ]
  },
  {
   "cell_type": "code",
   "execution_count": null,
   "metadata": {},
   "outputs": [],
   "source": []
  }
 ],
 "metadata": {
  "kernelspec": {
   "display_name": "Python 3",
   "language": "python",
   "name": "python3"
  },
  "language_info": {
   "codemirror_mode": {
    "name": "ipython",
    "version": 3
   },
   "file_extension": ".py",
   "mimetype": "text/x-python",
   "name": "python",
   "nbconvert_exporter": "python",
   "pygments_lexer": "ipython3",
   "version": "3.7.2"
  }
 },
 "nbformat": 4,
 "nbformat_minor": 2
}
