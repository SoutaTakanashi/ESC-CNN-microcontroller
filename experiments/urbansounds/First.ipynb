{
 "cells": [
  {
   "cell_type": "code",
   "execution_count": 263,
   "metadata": {},
   "outputs": [],
   "source": [
    "%matplotlib inline\n",
    "%load_ext autoreload\n",
    "%autoreload 2"
   ]
  },
  {
   "cell_type": "code",
   "execution_count": 251,
   "metadata": {},
   "outputs": [],
   "source": [
    "import math\n",
    "import os.path\n",
    "\n",
    "import keras\n",
    "import librosa.feature\n",
    "import sklearn\n",
    "\n",
    "import pandas\n",
    "import numpy\n",
    "from matplotlib import pyplot as plt\n",
    "\n",
    "import urbansound8k\n",
    "import preprocess"
   ]
  },
  {
   "cell_type": "code",
   "execution_count": 252,
   "metadata": {},
   "outputs": [
    {
     "data": {
      "text/html": [
       "<div>\n",
       "<style scoped>\n",
       "    .dataframe tbody tr th:only-of-type {\n",
       "        vertical-align: middle;\n",
       "    }\n",
       "\n",
       "    .dataframe tbody tr th {\n",
       "        vertical-align: top;\n",
       "    }\n",
       "\n",
       "    .dataframe thead th {\n",
       "        text-align: right;\n",
       "    }\n",
       "</style>\n",
       "<table border=\"1\" class=\"dataframe\">\n",
       "  <thead>\n",
       "    <tr style=\"text-align: right;\">\n",
       "      <th></th>\n",
       "      <th>slice_file_name</th>\n",
       "      <th>fsID</th>\n",
       "      <th>start</th>\n",
       "      <th>end</th>\n",
       "      <th>salience</th>\n",
       "      <th>fold</th>\n",
       "      <th>classID</th>\n",
       "      <th>class</th>\n",
       "    </tr>\n",
       "  </thead>\n",
       "  <tbody>\n",
       "    <tr>\n",
       "      <th>0</th>\n",
       "      <td>100032-3-0-0.wav</td>\n",
       "      <td>100032</td>\n",
       "      <td>0.0</td>\n",
       "      <td>0.317551</td>\n",
       "      <td>1</td>\n",
       "      <td>5</td>\n",
       "      <td>3</td>\n",
       "      <td>dog_bark</td>\n",
       "    </tr>\n",
       "    <tr>\n",
       "      <th>1</th>\n",
       "      <td>100263-2-0-117.wav</td>\n",
       "      <td>100263</td>\n",
       "      <td>58.5</td>\n",
       "      <td>62.500000</td>\n",
       "      <td>1</td>\n",
       "      <td>5</td>\n",
       "      <td>2</td>\n",
       "      <td>children_playing</td>\n",
       "    </tr>\n",
       "    <tr>\n",
       "      <th>2</th>\n",
       "      <td>100263-2-0-121.wav</td>\n",
       "      <td>100263</td>\n",
       "      <td>60.5</td>\n",
       "      <td>64.500000</td>\n",
       "      <td>1</td>\n",
       "      <td>5</td>\n",
       "      <td>2</td>\n",
       "      <td>children_playing</td>\n",
       "    </tr>\n",
       "    <tr>\n",
       "      <th>3</th>\n",
       "      <td>100263-2-0-126.wav</td>\n",
       "      <td>100263</td>\n",
       "      <td>63.0</td>\n",
       "      <td>67.000000</td>\n",
       "      <td>1</td>\n",
       "      <td>5</td>\n",
       "      <td>2</td>\n",
       "      <td>children_playing</td>\n",
       "    </tr>\n",
       "    <tr>\n",
       "      <th>4</th>\n",
       "      <td>100263-2-0-137.wav</td>\n",
       "      <td>100263</td>\n",
       "      <td>68.5</td>\n",
       "      <td>72.500000</td>\n",
       "      <td>1</td>\n",
       "      <td>5</td>\n",
       "      <td>2</td>\n",
       "      <td>children_playing</td>\n",
       "    </tr>\n",
       "  </tbody>\n",
       "</table>\n",
       "</div>"
      ],
      "text/plain": [
       "      slice_file_name    fsID  start        end  salience  fold  classID  \\\n",
       "0    100032-3-0-0.wav  100032    0.0   0.317551         1     5        3   \n",
       "1  100263-2-0-117.wav  100263   58.5  62.500000         1     5        2   \n",
       "2  100263-2-0-121.wav  100263   60.5  64.500000         1     5        2   \n",
       "3  100263-2-0-126.wav  100263   63.0  67.000000         1     5        2   \n",
       "4  100263-2-0-137.wav  100263   68.5  72.500000         1     5        2   \n",
       "\n",
       "              class  \n",
       "0          dog_bark  \n",
       "1  children_playing  \n",
       "2  children_playing  \n",
       "3  children_playing  \n",
       "4  children_playing  "
      ]
     },
     "execution_count": 252,
     "metadata": {},
     "output_type": "execute_result"
    }
   ],
   "source": [
    "data = urbansound8k.load_dataset()\n",
    "data.head()"
   ]
  },
  {
   "cell_type": "code",
   "execution_count": 253,
   "metadata": {},
   "outputs": [
    {
     "data": {
      "text/plain": [
       "<matplotlib.axes._subplots.AxesSubplot at 0x7f4b642d3f60>"
      ]
     },
     "execution_count": 253,
     "metadata": {},
     "output_type": "execute_result"
    },
    {
     "data": {
      "image/png": "[encoded data removed]",
      "text/plain": [
       "<Figure size 432x288 with 1 Axes>"
      ]
     },
     "metadata": {
      "needs_background": "light"
     },
     "output_type": "display_data"
    }
   ],
   "source": [
    "(data.end - data.start).hist()"
   ]
  },
  {
   "cell_type": "code",
   "execution_count": 254,
   "metadata": {},
   "outputs": [
    {
     "data": {
      "text/plain": [
       "0    4.0\n",
       "dtype: float64"
      ]
     },
     "execution_count": 254,
     "metadata": {},
     "output_type": "execute_result"
    }
   ],
   "source": [
    "(data.end-data.start).mode()"
   ]
  },
  {
   "cell_type": "code",
   "execution_count": 255,
   "metadata": {},
   "outputs": [
    {
     "data": {
      "text/plain": [
       "(9, (7022, 8), (873, 8), (837, 8))"
      ]
     },
     "execution_count": 255,
     "metadata": {},
     "output_type": "execute_result"
    }
   ],
   "source": [
    "folds, test = urbansound8k.folds(data)\n",
    "len(folds), folds[0][0].shape, folds[0][1].shape, test.shape"
   ]
  },
  {
   "cell_type": "code",
   "execution_count": 388,
   "metadata": {},
   "outputs": [
    {
     "name": "stdout",
     "output_type": "stream",
     "text": [
      "window size 1.152\n",
      "17920.0 8704.0\n"
     ]
    },
    {
     "data": {
      "text/plain": [
       "[(0, 18432),\n",
       " (9216.0, 27648.0),\n",
       " (18432.0, 36864.0),\n",
       " (27648.0, 46080.0),\n",
       " (36864.0, 55296.0),\n",
       " (46080.0, 64000),\n",
       " (55296.0, 64000)]"
      ]
     },
     "execution_count": 388,
     "metadata": {},
     "output_type": "execute_result"
    }
   ],
   "source": [
    "# PicakCNN used 950ms, 41 frames for short-frame variant. 50% overlap\n",
    "def sample_windows(length, frame_samples, window_frames, overlap=0.5):\n",
    "    \"\"\"Split @samples into a number of windows of samples\n",
    "    with length @frame_samples * @window_frames\n",
    "    \"\"\"\n",
    "    ws = frame_samples * window_frames\n",
    "    start = 0\n",
    "    while start < length:\n",
    "        end = min(start + ws, length)\n",
    "        yield start, end\n",
    "        start += (ws * (1-overlap))\n",
    "\n",
    "def test_windows_shorter_than_window():\n",
    "    frame_samples=256\n",
    "    window_frames=64\n",
    "    fs=16000\n",
    "    length = 0.4*fs\n",
    "    w = list(sample_windows(int(length), frame_samples, window_frames))\n",
    "    assert len(w) == 1, len(w)\n",
    "    assert w[-1][1] == length\n",
    "\n",
    "def test_window_typical():\n",
    "    frame_samples=256\n",
    "    window_frames=64\n",
    "    fs=16000\n",
    "    length = 4.0*fs\n",
    "    w = list(sample_windows(int(length), frame_samples, window_frames))\n",
    "    assert len(w) == 8, len(w) \n",
    "    assert w[-1][1] == length\n",
    "    \n",
    "test_windows_shorter_than_window()\n",
    "test_window_typical()    \n",
    "    \n",
    "frame_samples=256\n",
    "window_frames=72\n",
    "fs=16000\n",
    "w_ms = (frame_samples*window_frames/fs)\n",
    "print('window size', w_ms)\n",
    "w = list(sample_windows(int(4.0*fs), frame_samples=frame_samples, window_frames=window_frames))\n",
    "print(w[-2][1] - w[-2][0], w[-1][1] - w[-1][0])\n",
    "w"
   ]
  },
  {
   "cell_type": "code",
   "execution_count": 521,
   "metadata": {},
   "outputs": [
    {
     "name": "stdout",
     "output_type": "stream",
     "text": [
      "cutting 7752 samples shorter than 1.0 seconds\n",
      "37064\n"
     ]
    },
    {
     "data": {
      "text/plain": [
       "<matplotlib.axes._subplots.AxesSubplot at 0x7f4b0126dcf8>"
      ]
     },
     "execution_count": 521,
     "metadata": {},
     "output_type": "execute_result"
    },
    {
     "data": {
      "image/png": "[encoded data removed]",
      "text/plain": [
       "<Figure size 432x288 with 1 Axes>"
      ]
     },
     "metadata": {
      "needs_background": "light"
     },
     "output_type": "display_data"
    }
   ],
   "source": [
    "def expand_training_set(samples, frame_samples, window_frames,\n",
    "                        sample_rate=16000, cut_length=1.0, augmentations=0):\n",
    "    chunks = {\n",
    "        'slice_file_name': [],\n",
    "        'fold': [],\n",
    "        'classID': [],\n",
    "        'start': [],\n",
    "        'end': [],\n",
    "        'augmentation': [],\n",
    "    }\n",
    "    \n",
    "    for (index, sample) in samples.iterrows():\n",
    "        duration = sample.end - sample.start\n",
    "        length = int(sample_rate * duration)\n",
    "        \n",
    "        for aug in range(-1, augmentations):\n",
    "        \n",
    "            for win in sample_windows(length, frame_samples, window_frames):\n",
    "                start, end = win\n",
    "                chunks['slice_file_name'].append(sample.slice_file_name)\n",
    "                chunks['fold'].append(sample.fold)\n",
    "                # to assume class is same as that of parent sample maybe a bit optimistic\n",
    "                # not certain that every chunk has content representative of class\n",
    "                # alternative would be multi-instance learning\n",
    "                chunks['classID'].append(sample.classID) \n",
    "                chunks['start'].append(start/sample_rate)\n",
    "                chunks['end'].append(end/sample_rate)\n",
    "                chunks['augmentation'].append(None if aug == -1 else aug)\n",
    "            \n",
    "    df = pandas.DataFrame(chunks)\n",
    "    \n",
    "    if cut_length:\n",
    "        w = (df.end-df.start > cut_length)\n",
    "        cleaned = df[w]\n",
    "        print('cutting {} samples shorter than {} seconds'.format(len(df) - len(cleaned), cut_length))\n",
    "    \n",
    "    return cleaned\n",
    "\n",
    "        \n",
    "df = expand_training_set(folds[0][0], frame_samples=frame_samples, window_frames=window_frames)\n",
    "print(len(df))\n",
    "(df.end-df.start).hist(bins=20)  "
   ]
  },
  {
   "cell_type": "code",
   "execution_count": 530,
   "metadata": {},
   "outputs": [
    {
     "data": {
      "text/plain": [
       "(32, 72)"
      ]
     },
     "execution_count": 530,
     "metadata": {},
     "output_type": "execute_result"
    }
   ],
   "source": [
    "settings = dict(\n",
    "    samplerate=16000,\n",
    "    n_mels=32,\n",
    "    fmin=0,\n",
    "    fmax=8000,\n",
    "    n_fft=512,\n",
    "    hop_length=256,\n",
    "    augmentations=5,\n",
    ")\n",
    "\n",
    "# TODO: implement data augmentation\n",
    "def load_sample(sample, window_frames=72):\n",
    "    n_mels = settings['n_mels']\n",
    "    sample_rate = settings['samplerate']\n",
    "    hop_length = settings['hop_length']\n",
    "    \n",
    "    # Load precomputed features\n",
    "    aug = None\n",
    "    if hasattr(sample, 'augmentation'):\n",
    "        aug = sample.augmentation\n",
    "    folder = os.path.join('aug', preprocess.settings_id(settings, feature='mels'))\n",
    "    path = preprocess.feature_path(sample, out_folder=folder, augmentation=aug)\n",
    "    mels = numpy.load(path)['arr_0']\n",
    "    assert mels.shape[0] == n_mels, mels.shape\n",
    "    \n",
    "    # Cut out the relevant part\n",
    "    start = int(sample.start * (sample_rate / hop_length))\n",
    "    end = int(sample.end * (sample_rate / hop_length))\n",
    "    d = (sample.end-sample.start)\n",
    "    mels = mels[:, start:end]\n",
    "    #assert mels.shape[1] > 0, (sample)\n",
    "\n",
    "    if mels.shape[1] > 0:\n",
    "        mels = librosa.core.power_to_db(mels, top_db=80, ref=numpy.max)\n",
    "    \n",
    "    # zero-pad window to standard length\n",
    "    if window_frames is None:\n",
    "        padded = mels\n",
    "    else:\n",
    "        padded = numpy.full((n_mels, window_frames), 0)    \n",
    "        inp = mels[:, 0:min(window_frames, mels.shape[1])]\n",
    "        padded[:, 0:inp.shape[1]] = inp\n",
    "\n",
    "    return padded\n",
    "    \n",
    "load_sample(df.iloc[5]).shape"
   ]
  },
  {
   "cell_type": "code",
   "execution_count": 525,
   "metadata": {},
   "outputs": [
    {
     "data": {
      "text/plain": [
       "(16, (8, 32, 72, 1), (8, 10))"
      ]
     },
     "execution_count": 525,
     "metadata": {},
     "output_type": "execute_result"
    }
   ],
   "source": [
    "import joblib\n",
    "def gen(X, Y, loader, batchsize=10, n_classes=10):\n",
    "    \n",
    "    assert len(X) == len(Y), 'X and Y must be equal length'\n",
    "    assert len(X) % batchsize == 0, 'input length must be divisible by @batchsize'\n",
    "        \n",
    "    sample_idx = 0\n",
    "    while True:\n",
    "        batch_data = []\n",
    "        batch_labels = []\n",
    "\n",
    "        if sample_idx >= len(X):\n",
    "            sample_idx = 0\n",
    "        \n",
    "        while len(batch_data) < batchsize:\n",
    "            data = loader(X.iloc[sample_idx])\n",
    "            data = numpy.expand_dims(data, -1)    \n",
    "            y = Y.iloc[sample_idx]\n",
    "            y = keras.utils.to_categorical(y, num_classes=n_classes)\n",
    "            batch_data.append(data)\n",
    "            batch_labels.append(y)\n",
    "            sample_idx += 1\n",
    "            \n",
    "        batch = (numpy.stack(batch_data), numpy.stack(batch_labels))\n",
    "        yield batch\n",
    "\n",
    "fold = df\n",
    "import itertools\n",
    "g = gen(fold[0:16], fold.classID[0:16], loader=load_sample, batchsize=8)\n",
    "batches = list(itertools.islice(g, 16))\n",
    "len(batches), batches[0][0].shape, batches[0][1].shape"
   ]
  },
  {
   "cell_type": "code",
   "execution_count": 526,
   "metadata": {},
   "outputs": [
    {
     "name": "stdout",
     "output_type": "stream",
     "text": [
      "_________________________________________________________________\n",
      "Layer (type)                 Output Shape              Param #   \n",
      "=================================================================\n",
      "conv2d_151 (Conv2D)          (None, 32, 72, 24)        240       \n",
      "_________________________________________________________________\n",
      "max_pooling2d_13 (MaxPooling (None, 10, 24, 24)        0         \n",
      "_________________________________________________________________\n",
      "activation_28 (Activation)   (None, 10, 24, 24)        0         \n",
      "_________________________________________________________________\n",
      "conv2d_152 (Conv2D)          (None, 10, 24, 48)        10416     \n",
      "_________________________________________________________________\n",
      "max_pooling2d_14 (MaxPooling (None, 3, 8, 48)          0         \n",
      "_________________________________________________________________\n",
      "activation_29 (Activation)   (None, 3, 8, 48)          0         \n",
      "_________________________________________________________________\n",
      "conv2d_153 (Conv2D)          (None, 1, 6, 48)          20784     \n",
      "_________________________________________________________________\n",
      "activation_30 (Activation)   (None, 1, 6, 48)          0         \n",
      "_________________________________________________________________\n",
      "flatten_6 (Flatten)          (None, 288)               0         \n",
      "_________________________________________________________________\n",
      "dense_44 (Dense)             (None, 64)                18496     \n",
      "_________________________________________________________________\n",
      "activation_31 (Activation)   (None, 64)                0         \n",
      "_________________________________________________________________\n",
      "dropout_44 (Dropout)         (None, 64)                0         \n",
      "_________________________________________________________________\n",
      "dense_45 (Dense)             (None, 10)                650       \n",
      "_________________________________________________________________\n",
      "dropout_45 (Dropout)         (None, 10)                0         \n",
      "_________________________________________________________________\n",
      "activation_32 (Activation)   (None, 10)                0         \n",
      "=================================================================\n",
      "Total params: 50,586\n",
      "Trainable params: 50,586\n",
      "Non-trainable params: 0\n",
      "_________________________________________________________________\n"
     ]
    }
   ],
   "source": [
    "# import dense\n",
    "import sbcnn\n",
    "import dilated\n",
    "#model = dilated.build_model(bands=32, frames=72, channels=1, kernels=[32,32,32,32])\n",
    "model = sbcnn.build_model(bands=32, frames=72, channels=1, pool=(3,3))\n",
    "\n",
    "model.summary()"
   ]
  },
  {
   "cell_type": "code",
   "execution_count": 527,
   "metadata": {},
   "outputs": [
    {
     "name": "stdout",
     "output_type": "stream",
     "text": [
      "cutting 46512 samples shorter than 1.0 seconds\n",
      "cutting 947 samples shorter than 1.0 seconds\n",
      "Epoch 1/20\n",
      "4000/4000 [==============================] - 343s 86ms/step - loss: 1.6553 - acc: 0.3994 - val_loss: 1.5932 - val_acc: 0.5410\n",
      "\n",
      "Epoch 00001: val_acc improved from -inf to 0.54100, saving model to sbcnn.hdf5\n",
      "Epoch 2/20\n",
      "4000/4000 [==============================] - 333s 83ms/step - loss: 1.3854 - acc: 0.4865 - val_loss: 2.0372 - val_acc: 0.5950\n",
      "\n",
      "Epoch 00002: val_acc improved from 0.54100 to 0.59500, saving model to sbcnn.hdf5\n",
      "Epoch 3/20\n",
      "4000/4000 [==============================] - 332s 83ms/step - loss: 1.3556 - acc: 0.4941 - val_loss: 2.0046 - val_acc: 0.5597\n",
      "\n",
      "Epoch 00003: val_acc did not improve from 0.59500\n",
      "Epoch 4/20\n",
      "4000/4000 [==============================] - 336s 84ms/step - loss: 1.3483 - acc: 0.4983 - val_loss: 1.7518 - val_acc: 0.5877\n",
      "\n",
      "Epoch 00004: val_acc did not improve from 0.59500\n",
      "Epoch 5/20\n",
      "4000/4000 [==============================] - 330s 82ms/step - loss: 1.3384 - acc: 0.5002 - val_loss: 2.2626 - val_acc: 0.5613\n",
      "\n",
      "Epoch 00005: val_acc did not improve from 0.59500\n",
      "Epoch 6/20\n",
      "4000/4000 [==============================] - 328s 82ms/step - loss: 1.3552 - acc: 0.4976 - val_loss: 2.1802 - val_acc: 0.5917\n",
      "\n",
      "Epoch 00006: val_acc did not improve from 0.59500\n",
      "Epoch 7/20\n",
      "4000/4000 [==============================] - 330s 82ms/step - loss: 1.3606 - acc: 0.4955 - val_loss: 2.0589 - val_acc: 0.5497\n",
      "\n",
      "Epoch 00007: val_acc did not improve from 0.59500\n",
      "Epoch 8/20\n",
      "4000/4000 [==============================] - 327s 82ms/step - loss: 1.3852 - acc: 0.4911 - val_loss: 2.0705 - val_acc: 0.5727\n",
      "\n",
      "Epoch 00008: val_acc did not improve from 0.59500\n",
      "Epoch 9/20\n",
      " 476/4000 [==>...........................] - ETA: 4:43 - loss: 1.3708 - acc: 0.4938"
     ]
    },
    {
     "ename": "KeyboardInterrupt",
     "evalue": "",
     "output_type": "error",
     "traceback": [
      "\u001b[0;31m---------------------------------------------------------------------------\u001b[0m",
      "\u001b[0;31mKeyboardInterrupt\u001b[0m                         Traceback (most recent call last)",
      "\u001b[0;32m<ipython-input-527-1dfe858cce8f>\u001b[0m in \u001b[0;36m<module>\u001b[0;34m\u001b[0m\n\u001b[1;32m     21\u001b[0m                     \u001b[0mvalidation_steps\u001b[0m\u001b[0;34m=\u001b[0m\u001b[0mmath\u001b[0m\u001b[0;34m.\u001b[0m\u001b[0mceil\u001b[0m\u001b[0;34m(\u001b[0m\u001b[0mlen\u001b[0m\u001b[0;34m(\u001b[0m\u001b[0mval\u001b[0m\u001b[0;34m)\u001b[0m\u001b[0;34m/\u001b[0m\u001b[0mbatch_size\u001b[0m\u001b[0;34m)\u001b[0m\u001b[0;34m,\u001b[0m\u001b[0;34m\u001b[0m\u001b[0;34m\u001b[0m\u001b[0m\n\u001b[1;32m     22\u001b[0m                     \u001b[0mcallbacks\u001b[0m\u001b[0;34m=\u001b[0m\u001b[0mcallbacks_list\u001b[0m\u001b[0;34m,\u001b[0m\u001b[0;34m\u001b[0m\u001b[0;34m\u001b[0m\u001b[0m\n\u001b[0;32m---> 23\u001b[0;31m                     epochs=20, verbose=1)\n\u001b[0m",
      "\u001b[0;32m/usr/lib/python3.7/site-packages/keras/legacy/interfaces.py\u001b[0m in \u001b[0;36mwrapper\u001b[0;34m(*args, **kwargs)\u001b[0m\n\u001b[1;32m     89\u001b[0m                 warnings.warn('Update your `' + object_name + '` call to the ' +\n\u001b[1;32m     90\u001b[0m                               'Keras 2 API: ' + signature, stacklevel=2)\n\u001b[0;32m---> 91\u001b[0;31m             \u001b[0;32mreturn\u001b[0m \u001b[0mfunc\u001b[0m\u001b[0;34m(\u001b[0m\u001b[0;34m*\u001b[0m\u001b[0margs\u001b[0m\u001b[0;34m,\u001b[0m \u001b[0;34m**\u001b[0m\u001b[0mkwargs\u001b[0m\u001b[0;34m)\u001b[0m\u001b[0;34m\u001b[0m\u001b[0;34m\u001b[0m\u001b[0m\n\u001b[0m\u001b[1;32m     92\u001b[0m         \u001b[0mwrapper\u001b[0m\u001b[0;34m.\u001b[0m\u001b[0m_original_function\u001b[0m \u001b[0;34m=\u001b[0m \u001b[0mfunc\u001b[0m\u001b[0;34m\u001b[0m\u001b[0;34m\u001b[0m\u001b[0m\n\u001b[1;32m     93\u001b[0m         \u001b[0;32mreturn\u001b[0m \u001b[0mwrapper\u001b[0m\u001b[0;34m\u001b[0m\u001b[0;34m\u001b[0m\u001b[0m\n",
      "\u001b[0;32m/usr/lib/python3.7/site-packages/keras/engine/training.py\u001b[0m in \u001b[0;36mfit_generator\u001b[0;34m(self, generator, steps_per_epoch, epochs, verbose, callbacks, validation_data, validation_steps, class_weight, max_queue_size, workers, use_multiprocessing, shuffle, initial_epoch)\u001b[0m\n\u001b[1;32m   1416\u001b[0m             \u001b[0muse_multiprocessing\u001b[0m\u001b[0;34m=\u001b[0m\u001b[0muse_multiprocessing\u001b[0m\u001b[0;34m,\u001b[0m\u001b[0;34m\u001b[0m\u001b[0;34m\u001b[0m\u001b[0m\n\u001b[1;32m   1417\u001b[0m             \u001b[0mshuffle\u001b[0m\u001b[0;34m=\u001b[0m\u001b[0mshuffle\u001b[0m\u001b[0;34m,\u001b[0m\u001b[0;34m\u001b[0m\u001b[0;34m\u001b[0m\u001b[0m\n\u001b[0;32m-> 1418\u001b[0;31m             initial_epoch=initial_epoch)\n\u001b[0m\u001b[1;32m   1419\u001b[0m \u001b[0;34m\u001b[0m\u001b[0m\n\u001b[1;32m   1420\u001b[0m     \u001b[0;34m@\u001b[0m\u001b[0minterfaces\u001b[0m\u001b[0;34m.\u001b[0m\u001b[0mlegacy_generator_methods_support\u001b[0m\u001b[0;34m\u001b[0m\u001b[0;34m\u001b[0m\u001b[0m\n",
      "\u001b[0;32m/usr/lib/python3.7/site-packages/keras/engine/training_generator.py\u001b[0m in \u001b[0;36mfit_generator\u001b[0;34m(model, generator, steps_per_epoch, epochs, verbose, callbacks, validation_data, validation_steps, class_weight, max_queue_size, workers, use_multiprocessing, shuffle, initial_epoch)\u001b[0m\n\u001b[1;32m    179\u001b[0m             \u001b[0mbatch_index\u001b[0m \u001b[0;34m=\u001b[0m \u001b[0;36m0\u001b[0m\u001b[0;34m\u001b[0m\u001b[0;34m\u001b[0m\u001b[0m\n\u001b[1;32m    180\u001b[0m             \u001b[0;32mwhile\u001b[0m \u001b[0msteps_done\u001b[0m \u001b[0;34m<\u001b[0m \u001b[0msteps_per_epoch\u001b[0m\u001b[0;34m:\u001b[0m\u001b[0;34m\u001b[0m\u001b[0;34m\u001b[0m\u001b[0m\n\u001b[0;32m--> 181\u001b[0;31m                 \u001b[0mgenerator_output\u001b[0m \u001b[0;34m=\u001b[0m \u001b[0mnext\u001b[0m\u001b[0;34m(\u001b[0m\u001b[0moutput_generator\u001b[0m\u001b[0;34m)\u001b[0m\u001b[0;34m\u001b[0m\u001b[0;34m\u001b[0m\u001b[0m\n\u001b[0m\u001b[1;32m    182\u001b[0m \u001b[0;34m\u001b[0m\u001b[0m\n\u001b[1;32m    183\u001b[0m                 \u001b[0;32mif\u001b[0m \u001b[0;32mnot\u001b[0m \u001b[0mhasattr\u001b[0m\u001b[0;34m(\u001b[0m\u001b[0mgenerator_output\u001b[0m\u001b[0;34m,\u001b[0m \u001b[0;34m'__len__'\u001b[0m\u001b[0;34m)\u001b[0m\u001b[0;34m:\u001b[0m\u001b[0;34m\u001b[0m\u001b[0;34m\u001b[0m\u001b[0m\n",
      "\u001b[0;32m/usr/lib/python3.7/site-packages/keras/utils/data_utils.py\u001b[0m in \u001b[0;36mget\u001b[0;34m(self)\u001b[0m\n\u001b[1;32m    683\u001b[0m         \u001b[0;32mtry\u001b[0m\u001b[0;34m:\u001b[0m\u001b[0;34m\u001b[0m\u001b[0;34m\u001b[0m\u001b[0m\n\u001b[1;32m    684\u001b[0m             \u001b[0;32mwhile\u001b[0m \u001b[0mself\u001b[0m\u001b[0;34m.\u001b[0m\u001b[0mis_running\u001b[0m\u001b[0;34m(\u001b[0m\u001b[0;34m)\u001b[0m\u001b[0;34m:\u001b[0m\u001b[0;34m\u001b[0m\u001b[0;34m\u001b[0m\u001b[0m\n\u001b[0;32m--> 685\u001b[0;31m                 \u001b[0minputs\u001b[0m \u001b[0;34m=\u001b[0m \u001b[0mself\u001b[0m\u001b[0;34m.\u001b[0m\u001b[0mqueue\u001b[0m\u001b[0;34m.\u001b[0m\u001b[0mget\u001b[0m\u001b[0;34m(\u001b[0m\u001b[0mblock\u001b[0m\u001b[0;34m=\u001b[0m\u001b[0;32mTrue\u001b[0m\u001b[0;34m)\u001b[0m\u001b[0;34m.\u001b[0m\u001b[0mget\u001b[0m\u001b[0;34m(\u001b[0m\u001b[0;34m)\u001b[0m\u001b[0;34m\u001b[0m\u001b[0;34m\u001b[0m\u001b[0m\n\u001b[0m\u001b[1;32m    686\u001b[0m                 \u001b[0mself\u001b[0m\u001b[0;34m.\u001b[0m\u001b[0mqueue\u001b[0m\u001b[0;34m.\u001b[0m\u001b[0mtask_done\u001b[0m\u001b[0;34m(\u001b[0m\u001b[0;34m)\u001b[0m\u001b[0;34m\u001b[0m\u001b[0;34m\u001b[0m\u001b[0m\n\u001b[1;32m    687\u001b[0m                 \u001b[0;32mif\u001b[0m \u001b[0minputs\u001b[0m \u001b[0;32mis\u001b[0m \u001b[0;32mnot\u001b[0m \u001b[0;32mNone\u001b[0m\u001b[0;34m:\u001b[0m\u001b[0;34m\u001b[0m\u001b[0;34m\u001b[0m\u001b[0m\n",
      "\u001b[0;32m/usr/lib/python3.7/multiprocessing/pool.py\u001b[0m in \u001b[0;36mget\u001b[0;34m(self, timeout)\u001b[0m\n\u001b[1;32m    649\u001b[0m \u001b[0;34m\u001b[0m\u001b[0m\n\u001b[1;32m    650\u001b[0m     \u001b[0;32mdef\u001b[0m \u001b[0mget\u001b[0m\u001b[0;34m(\u001b[0m\u001b[0mself\u001b[0m\u001b[0;34m,\u001b[0m \u001b[0mtimeout\u001b[0m\u001b[0;34m=\u001b[0m\u001b[0;32mNone\u001b[0m\u001b[0;34m)\u001b[0m\u001b[0;34m:\u001b[0m\u001b[0;34m\u001b[0m\u001b[0;34m\u001b[0m\u001b[0m\n\u001b[0;32m--> 651\u001b[0;31m         \u001b[0mself\u001b[0m\u001b[0;34m.\u001b[0m\u001b[0mwait\u001b[0m\u001b[0;34m(\u001b[0m\u001b[0mtimeout\u001b[0m\u001b[0;34m)\u001b[0m\u001b[0;34m\u001b[0m\u001b[0;34m\u001b[0m\u001b[0m\n\u001b[0m\u001b[1;32m    652\u001b[0m         \u001b[0;32mif\u001b[0m \u001b[0;32mnot\u001b[0m \u001b[0mself\u001b[0m\u001b[0;34m.\u001b[0m\u001b[0mready\u001b[0m\u001b[0;34m(\u001b[0m\u001b[0;34m)\u001b[0m\u001b[0;34m:\u001b[0m\u001b[0;34m\u001b[0m\u001b[0;34m\u001b[0m\u001b[0m\n\u001b[1;32m    653\u001b[0m             \u001b[0;32mraise\u001b[0m \u001b[0mTimeoutError\u001b[0m\u001b[0;34m\u001b[0m\u001b[0;34m\u001b[0m\u001b[0m\n",
      "\u001b[0;32m/usr/lib/python3.7/multiprocessing/pool.py\u001b[0m in \u001b[0;36mwait\u001b[0;34m(self, timeout)\u001b[0m\n\u001b[1;32m    646\u001b[0m \u001b[0;34m\u001b[0m\u001b[0m\n\u001b[1;32m    647\u001b[0m     \u001b[0;32mdef\u001b[0m \u001b[0mwait\u001b[0m\u001b[0;34m(\u001b[0m\u001b[0mself\u001b[0m\u001b[0;34m,\u001b[0m \u001b[0mtimeout\u001b[0m\u001b[0;34m=\u001b[0m\u001b[0;32mNone\u001b[0m\u001b[0;34m)\u001b[0m\u001b[0;34m:\u001b[0m\u001b[0;34m\u001b[0m\u001b[0;34m\u001b[0m\u001b[0m\n\u001b[0;32m--> 648\u001b[0;31m         \u001b[0mself\u001b[0m\u001b[0;34m.\u001b[0m\u001b[0m_event\u001b[0m\u001b[0;34m.\u001b[0m\u001b[0mwait\u001b[0m\u001b[0;34m(\u001b[0m\u001b[0mtimeout\u001b[0m\u001b[0;34m)\u001b[0m\u001b[0;34m\u001b[0m\u001b[0;34m\u001b[0m\u001b[0m\n\u001b[0m\u001b[1;32m    649\u001b[0m \u001b[0;34m\u001b[0m\u001b[0m\n\u001b[1;32m    650\u001b[0m     \u001b[0;32mdef\u001b[0m \u001b[0mget\u001b[0m\u001b[0;34m(\u001b[0m\u001b[0mself\u001b[0m\u001b[0;34m,\u001b[0m \u001b[0mtimeout\u001b[0m\u001b[0;34m=\u001b[0m\u001b[0;32mNone\u001b[0m\u001b[0;34m)\u001b[0m\u001b[0;34m:\u001b[0m\u001b[0;34m\u001b[0m\u001b[0;34m\u001b[0m\u001b[0m\n",
      "\u001b[0;32m/usr/lib/python3.7/threading.py\u001b[0m in \u001b[0;36mwait\u001b[0;34m(self, timeout)\u001b[0m\n\u001b[1;32m    550\u001b[0m             \u001b[0msignaled\u001b[0m \u001b[0;34m=\u001b[0m \u001b[0mself\u001b[0m\u001b[0;34m.\u001b[0m\u001b[0m_flag\u001b[0m\u001b[0;34m\u001b[0m\u001b[0;34m\u001b[0m\u001b[0m\n\u001b[1;32m    551\u001b[0m             \u001b[0;32mif\u001b[0m \u001b[0;32mnot\u001b[0m \u001b[0msignaled\u001b[0m\u001b[0;34m:\u001b[0m\u001b[0;34m\u001b[0m\u001b[0;34m\u001b[0m\u001b[0m\n\u001b[0;32m--> 552\u001b[0;31m                 \u001b[0msignaled\u001b[0m \u001b[0;34m=\u001b[0m \u001b[0mself\u001b[0m\u001b[0;34m.\u001b[0m\u001b[0m_cond\u001b[0m\u001b[0;34m.\u001b[0m\u001b[0mwait\u001b[0m\u001b[0;34m(\u001b[0m\u001b[0mtimeout\u001b[0m\u001b[0;34m)\u001b[0m\u001b[0;34m\u001b[0m\u001b[0;34m\u001b[0m\u001b[0m\n\u001b[0m\u001b[1;32m    553\u001b[0m             \u001b[0;32mreturn\u001b[0m \u001b[0msignaled\u001b[0m\u001b[0;34m\u001b[0m\u001b[0;34m\u001b[0m\u001b[0m\n\u001b[1;32m    554\u001b[0m \u001b[0;34m\u001b[0m\u001b[0m\n",
      "\u001b[0;32m/usr/lib/python3.7/threading.py\u001b[0m in \u001b[0;36mwait\u001b[0;34m(self, timeout)\u001b[0m\n\u001b[1;32m    294\u001b[0m         \u001b[0;32mtry\u001b[0m\u001b[0;34m:\u001b[0m    \u001b[0;31m# restore state no matter what (e.g., KeyboardInterrupt)\u001b[0m\u001b[0;34m\u001b[0m\u001b[0;34m\u001b[0m\u001b[0m\n\u001b[1;32m    295\u001b[0m             \u001b[0;32mif\u001b[0m \u001b[0mtimeout\u001b[0m \u001b[0;32mis\u001b[0m \u001b[0;32mNone\u001b[0m\u001b[0;34m:\u001b[0m\u001b[0;34m\u001b[0m\u001b[0;34m\u001b[0m\u001b[0m\n\u001b[0;32m--> 296\u001b[0;31m                 \u001b[0mwaiter\u001b[0m\u001b[0;34m.\u001b[0m\u001b[0macquire\u001b[0m\u001b[0;34m(\u001b[0m\u001b[0;34m)\u001b[0m\u001b[0;34m\u001b[0m\u001b[0;34m\u001b[0m\u001b[0m\n\u001b[0m\u001b[1;32m    297\u001b[0m                 \u001b[0mgotit\u001b[0m \u001b[0;34m=\u001b[0m \u001b[0;32mTrue\u001b[0m\u001b[0;34m\u001b[0m\u001b[0;34m\u001b[0m\u001b[0m\n\u001b[1;32m    298\u001b[0m             \u001b[0;32melse\u001b[0m\u001b[0;34m:\u001b[0m\u001b[0;34m\u001b[0m\u001b[0;34m\u001b[0m\u001b[0m\n",
      "\u001b[0;31mKeyboardInterrupt\u001b[0m: "
     ]
    }
   ],
   "source": [
    "model.compile(loss='categorical_crossentropy', optimizer='rmsprop', metrics=['accuracy'])\n",
    "\n",
    "train = expand_training_set(folds[0][0], frame_samples=frame_samples, window_frames=window_frames,\n",
    "                            augmentations=settings['augmentations'])\n",
    "val = expand_training_set(folds[0][1], frame_samples=frame_samples, window_frames=window_frames)\n",
    "\n",
    "train = train.sample(200000, replace=False)\n",
    "val = val.sample(3000, replace=False)\n",
    "\n",
    "batch_size = 50\n",
    "\n",
    "checkpoint = keras.callbacks.ModelCheckpoint('sbcnn.hdf5', monitor='val_acc', mode='max',\n",
    "                             period=1, verbose=1, save_best_only=True)\n",
    "callbacks_list = [checkpoint]\n",
    "\n",
    "train_gen = gen(train, train.classID, loader=load_sample, batchsize=batch_size)\n",
    "val_gen = gen(val, val.classID, loader=load_sample, batchsize=batch_size)\n",
    "\n",
    "model.fit_generator(train_gen, validation_data=val_gen,\n",
    "                    steps_per_epoch=math.ceil(len(train)/batch_size),\n",
    "                    validation_steps=math.ceil(len(val)/batch_size),\n",
    "                    callbacks=callbacks_list,\n",
    "                    epochs=20, verbose=1)"
   ]
  },
  {
   "cell_type": "code",
   "execution_count": 528,
   "metadata": {},
   "outputs": [],
   "source": [
    "model = keras.models.load_model('sbcnn.hdf5')"
   ]
  },
  {
   "cell_type": "code",
   "execution_count": 532,
   "metadata": {},
   "outputs": [
    {
     "data": {
      "text/plain": [
       "0.6403823178016727"
      ]
     },
     "execution_count": 532,
     "metadata": {},
     "output_type": "execute_result"
    }
   ],
   "source": [
    "import collections\n",
    "\n",
    "def predict_windowed(model, samples, method='mean'):\n",
    "    sample_rate = settings['samplerate']\n",
    "    Sample = collections.namedtuple('Sample', 'start end fold slice_file_name')\n",
    "\n",
    "    out = []\n",
    "    for _, sample in samples.iterrows():\n",
    "        duration = sample.end - sample.start\n",
    "        length = int(sample_rate * duration)\n",
    "        windows = []\n",
    "        \n",
    "        for win in sample_windows(length, frame_samples, window_frames):\n",
    "            chunk = Sample(start=win[0]/sample_rate,\n",
    "                           end=win[1]/sample_rate,\n",
    "                           fold=sample.fold,\n",
    "                           slice_file_name=sample.slice_file_name)    \n",
    "            d = load_sample(chunk)\n",
    "            windows.append(d)\n",
    "\n",
    "        inputs = numpy.stack(windows)\n",
    "        inputs = numpy.expand_dims(inputs, axis=-1)\n",
    "        predictions = model.predict_proba(inputs)\n",
    "\n",
    "        if method == 'mean':\n",
    "            p = numpy.mean(predictions, axis=0)\n",
    "            assert len(p) == 10\n",
    "            out.append(numpy.argmax(p))\n",
    "        elif method == 'majority':\n",
    "            votes = numpy.argmax(predictions, axis=1)\n",
    "            p = numpy.argmax(numpy.bincount(votes))\n",
    "            out.append(p)\n",
    "\n",
    "    return numpy.stack(out)\n",
    "\n",
    "from sklearn.metrics import accuracy_score\n",
    "\n",
    "t = test\n",
    "mean_m = predict_windowed(model, t, method='majority')\n",
    "accuracy_score(t.classID, mean_m)"
   ]
  },
  {
   "cell_type": "code",
   "execution_count": 564,
   "metadata": {},
   "outputs": [
    {
     "data": {
      "text/plain": [
       "0.6475507765830346"
      ]
     },
     "execution_count": 564,
     "metadata": {},
     "output_type": "execute_result"
    }
   ],
   "source": [
    "mean_p = predict_windowed(model, t, method='mean')\n",
    "accuracy_score(t.classID, mean_p)"
   ]
  },
  {
   "cell_type": "code",
   "execution_count": 565,
   "metadata": {},
   "outputs": [
    {
     "data": {
      "text/plain": [
       "0.6036655211912944"
      ]
     },
     "execution_count": 565,
     "metadata": {},
     "output_type": "execute_result"
    }
   ],
   "source": [
    "val_d = folds[0][1]\n",
    "val_p = predict_windowed(model, val_d, method='mean')\n",
    "accuracy_score(val_d.classID, val_p)"
   ]
  },
  {
   "cell_type": "code",
   "execution_count": 563,
   "metadata": {},
   "outputs": [
    {
     "data": {
      "image/png": "[encoded data removed]",
      "text/plain": [
       "<Figure size 720x576 with 2 Axes>"
      ]
     },
     "metadata": {
      "needs_background": "light"
     },
     "output_type": "display_data"
    }
   ],
   "source": [
    "import seaborn as sns\n",
    "import matplotlib.pyplot as plt     \n",
    "\n",
    "def plot_confusion(cm, classnames):\n",
    "\n",
    "    fig, ax = plt.subplots(1, figsize=(10,8))\n",
    "    sns.heatmap(cm, annot=True, ax=ax);\n",
    "\n",
    "    ax.set_xlabel('Predicted labels')\n",
    "    ax.set_ylabel('True labels')\n",
    "    ax.set_title('Confusion Matrix') \n",
    "    ax.xaxis.set_ticklabels(classnames, rotation=60)\n",
    "    ax.yaxis.set_ticklabels(classnames, rotation=0)\n",
    "\n",
    "from sklearn.metrics import confusion_matrix\n",
    "cm = confusion_matrix(val_d.classID, val_p, labels=None, sample_weight=None)\n",
    "cm =confusion_matrix(t.classID, mean_m, labels=None, sample_weight=None)\n",
    "plot_confusion(cm, urbansound8k.classnames)"
   ]
  },
  {
   "cell_type": "code",
   "execution_count": 536,
   "metadata": {},
   "outputs": [
    {
     "data": {
      "text/plain": [
       "fold  class           \n",
       "1     air_conditioner     100\n",
       "      car_horn             36\n",
       "      children_playing    100\n",
       "      dog_bark            100\n",
       "      drilling            100\n",
       "      engine_idling        96\n",
       "      gun_shot             35\n",
       "      jackhammer          120\n",
       "      siren                86\n",
       "      street_music        100\n",
       "2     air_conditioner     100\n",
       "      car_horn             42\n",
       "      children_playing    100\n",
       "      dog_bark            100\n",
       "      drilling            100\n",
       "      engine_idling       100\n",
       "      gun_shot             35\n",
       "      jackhammer          120\n",
       "      siren                91\n",
       "      street_music        100\n",
       "3     air_conditioner     100\n",
       "      car_horn             43\n",
       "      children_playing    100\n",
       "      dog_bark            100\n",
       "      drilling            100\n",
       "      engine_idling       107\n",
       "      gun_shot             36\n",
       "      jackhammer          120\n",
       "      siren               119\n",
       "      street_music        100\n",
       "                         ... \n",
       "8     air_conditioner     100\n",
       "      car_horn             30\n",
       "      children_playing    100\n",
       "      dog_bark            100\n",
       "      drilling            100\n",
       "      engine_idling        88\n",
       "      gun_shot             30\n",
       "      jackhammer           78\n",
       "      siren                80\n",
       "      street_music        100\n",
       "9     air_conditioner     100\n",
       "      car_horn             32\n",
       "      children_playing    100\n",
       "      dog_bark            100\n",
       "      drilling            100\n",
       "      engine_idling        89\n",
       "      gun_shot             31\n",
       "      jackhammer           82\n",
       "      siren                82\n",
       "      street_music        100\n",
       "10    air_conditioner     100\n",
       "      car_horn             33\n",
       "      children_playing    100\n",
       "      dog_bark            100\n",
       "      drilling            100\n",
       "      engine_idling        93\n",
       "      gun_shot             32\n",
       "      jackhammer           96\n",
       "      siren                83\n",
       "      street_music        100\n",
       "Name: classID, Length: 100, dtype: int64"
      ]
     },
     "execution_count": 536,
     "metadata": {},
     "output_type": "execute_result"
    }
   ],
   "source": [
    "data.groupby(['fold', 'class'])['classID'].count()"
   ]
  },
  {
   "cell_type": "code",
   "execution_count": 537,
   "metadata": {},
   "outputs": [
    {
     "data": {
      "text/plain": [
       "<matplotlib.axes._subplots.AxesSubplot at 0x7f4b012e9978>"
      ]
     },
     "execution_count": 537,
     "metadata": {},
     "output_type": "execute_result"
    },
    {
     "data": {
      "image/png": "[encoded data removed]",
      "text/plain": [
       "<Figure size 432x288 with 1 Axes>"
      ]
     },
     "metadata": {
      "needs_background": "light"
     },
     "output_type": "display_data"
    }
   ],
   "source": [
    "drilling = data[data['class'] == 'drilling']\n",
    "(drilling.end - drilling.start).hist()"
   ]
  },
  {
   "cell_type": "code",
   "execution_count": 560,
   "metadata": {},
   "outputs": [
    {
     "data": {
      "text/plain": [
       "array([array([ 14113, 147764, 165642, 165645,  17913,  22962,  46669,  55020,\n",
       "        57584,  71087,  78360,  96158]),\n",
       "       array([104817, 118723, 165643, 180126, 185800,  34621,  46668,  50416,\n",
       "        59594,  71080,  76086,  77751]),\n",
       "       array([103199, 103357,  14115, 165786, 185801,  29721,  37560,  42937,\n",
       "        63095,  66622,  69598,  95562]),\n",
       "       array([128607, 140824,  14110, 144351, 151005, 156362, 165785, 169466,\n",
       "       179212, 187377, 199929,  29722]),\n",
       "       array([118440, 180125, 180128,  19007, 205874, 205878,  39533,  50413,\n",
       "        71086,  71171,  77774,  84699]),\n",
       "       array([107842,  14114, 165641, 166931, 167701, 179725,  24364,  34643,\n",
       "        58005,  66623,  71079,  71088]),\n",
       "       array([104625, 127443, 130961, 135849, 165644,  50415,  50629,    518,\n",
       "        57696,  71529,  74965,  89099]),\n",
       "       array([139000, 147019, 161129, 167702, 168037, 180132, 180134, 205610,\n",
       "        42324,  59595,  76085,  96159]),\n",
       "       array([127538, 137815,  14111, 146249, 180029, 180937,  39532,  50414,\n",
       "        54976,  58937,  71082,  81117]),\n",
       "       array([118278, 146244, 165640, 167750, 180127, 181624, 187863, 195063,\n",
       "        26344,  74922,  99192])], dtype=object)"
      ]
     },
     "execution_count": 560,
     "metadata": {},
     "output_type": "execute_result"
    }
   ],
   "source": [
    "drilling.groupby('fold')['fsID'].unique().values"
   ]
  },
  {
   "cell_type": "code",
   "execution_count": null,
   "metadata": {},
   "outputs": [],
   "source": []
  }
 ],
 "metadata": {
  "kernelspec": {
   "display_name": "Python 3",
   "language": "python",
   "name": "python3"
  },
  "language_info": {
   "codemirror_mode": {
    "name": "ipython",
    "version": 3
   },
   "file_extension": ".py",
   "mimetype": "text/x-python",
   "name": "python",
   "nbconvert_exporter": "python",
   "pygments_lexer": "ipython3",
   "version": "3.7.2"
  }
 },
 "nbformat": 4,
 "nbformat_minor": 2
}
