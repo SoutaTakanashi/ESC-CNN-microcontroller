{
 "cells": [
  {
   "cell_type": "code",
   "execution_count": 263,
   "metadata": {},
   "outputs": [],
   "source": [
    "%matplotlib inline\n",
    "%load_ext autoreload\n",
    "%autoreload 2"
   ]
  },
  {
   "cell_type": "code",
   "execution_count": 251,
   "metadata": {},
   "outputs": [],
   "source": [
    "import math\n",
    "import os.path\n",
    "\n",
    "import keras\n",
    "import librosa.feature\n",
    "import sklearn\n",
    "\n",
    "import pandas\n",
    "import numpy\n",
    "from matplotlib import pyplot as plt\n",
    "\n",
    "import urbansound8k\n",
    "import preprocess"
   ]
  },
  {
   "cell_type": "code",
   "execution_count": 252,
   "metadata": {},
   "outputs": [
    {
     "data": {
      "text/html": [
       "<div>\n",
       "<style scoped>\n",
       "    .dataframe tbody tr th:only-of-type {\n",
       "        vertical-align: middle;\n",
       "    }\n",
       "\n",
       "    .dataframe tbody tr th {\n",
       "        vertical-align: top;\n",
       "    }\n",
       "\n",
       "    .dataframe thead th {\n",
       "        text-align: right;\n",
       "    }\n",
       "</style>\n",
       "<table border=\"1\" class=\"dataframe\">\n",
       "  <thead>\n",
       "    <tr style=\"text-align: right;\">\n",
       "      <th></th>\n",
       "      <th>slice_file_name</th>\n",
       "      <th>fsID</th>\n",
       "      <th>start</th>\n",
       "      <th>end</th>\n",
       "      <th>salience</th>\n",
       "      <th>fold</th>\n",
       "      <th>classID</th>\n",
       "      <th>class</th>\n",
       "    </tr>\n",
       "  </thead>\n",
       "  <tbody>\n",
       "    <tr>\n",
       "      <th>0</th>\n",
       "      <td>100032-3-0-0.wav</td>\n",
       "      <td>100032</td>\n",
       "      <td>0.0</td>\n",
       "      <td>0.317551</td>\n",
       "      <td>1</td>\n",
       "      <td>5</td>\n",
       "      <td>3</td>\n",
       "      <td>dog_bark</td>\n",
       "    </tr>\n",
       "    <tr>\n",
       "      <th>1</th>\n",
       "      <td>100263-2-0-117.wav</td>\n",
       "      <td>100263</td>\n",
       "      <td>58.5</td>\n",
       "      <td>62.500000</td>\n",
       "      <td>1</td>\n",
       "      <td>5</td>\n",
       "      <td>2</td>\n",
       "      <td>children_playing</td>\n",
       "    </tr>\n",
       "    <tr>\n",
       "      <th>2</th>\n",
       "      <td>100263-2-0-121.wav</td>\n",
       "      <td>100263</td>\n",
       "      <td>60.5</td>\n",
       "      <td>64.500000</td>\n",
       "      <td>1</td>\n",
       "      <td>5</td>\n",
       "      <td>2</td>\n",
       "      <td>children_playing</td>\n",
       "    </tr>\n",
       "    <tr>\n",
       "      <th>3</th>\n",
       "      <td>100263-2-0-126.wav</td>\n",
       "      <td>100263</td>\n",
       "      <td>63.0</td>\n",
       "      <td>67.000000</td>\n",
       "      <td>1</td>\n",
       "      <td>5</td>\n",
       "      <td>2</td>\n",
       "      <td>children_playing</td>\n",
       "    </tr>\n",
       "    <tr>\n",
       "      <th>4</th>\n",
       "      <td>100263-2-0-137.wav</td>\n",
       "      <td>100263</td>\n",
       "      <td>68.5</td>\n",
       "      <td>72.500000</td>\n",
       "      <td>1</td>\n",
       "      <td>5</td>\n",
       "      <td>2</td>\n",
       "      <td>children_playing</td>\n",
       "    </tr>\n",
       "  </tbody>\n",
       "</table>\n",
       "</div>"
      ],
      "text/plain": [
       "      slice_file_name    fsID  start        end  salience  fold  classID  \\\n",
       "0    100032-3-0-0.wav  100032    0.0   0.317551         1     5        3   \n",
       "1  100263-2-0-117.wav  100263   58.5  62.500000         1     5        2   \n",
       "2  100263-2-0-121.wav  100263   60.5  64.500000         1     5        2   \n",
       "3  100263-2-0-126.wav  100263   63.0  67.000000         1     5        2   \n",
       "4  100263-2-0-137.wav  100263   68.5  72.500000         1     5        2   \n",
       "\n",
       "              class  \n",
       "0          dog_bark  \n",
       "1  children_playing  \n",
       "2  children_playing  \n",
       "3  children_playing  \n",
       "4  children_playing  "
      ]
     },
     "execution_count": 252,
     "metadata": {},
     "output_type": "execute_result"
    }
   ],
   "source": [
    "data = urbansound8k.load_dataset()\n",
    "data.head()"
   ]
  },
  {
   "cell_type": "code",
   "execution_count": 253,
   "metadata": {},
   "outputs": [
    {
     "data": {
      "text/plain": [
       "<matplotlib.axes._subplots.AxesSubplot at 0x7f4b642d3f60>"
      ]
     },
     "execution_count": 253,
     "metadata": {},
     "output_type": "execute_result"
    },
    {
     "data": {
      "image/png": "[encoded data removed]",
      "text/plain": [
       "<Figure size 432x288 with 1 Axes>"
      ]
     },
     "metadata": {
      "needs_background": "light"
     },
     "output_type": "display_data"
    }
   ],
   "source": [
    "(data.end - data.start).hist()"
   ]
  },
  {
   "cell_type": "code",
   "execution_count": 254,
   "metadata": {},
   "outputs": [
    {
     "data": {
      "text/plain": [
       "0    4.0\n",
       "dtype: float64"
      ]
     },
     "execution_count": 254,
     "metadata": {},
     "output_type": "execute_result"
    }
   ],
   "source": [
    "(data.end-data.start).mode()"
   ]
  },
  {
   "cell_type": "code",
   "execution_count": 255,
   "metadata": {},
   "outputs": [
    {
     "data": {
      "text/plain": [
       "(9, (7022, 8), (873, 8), (837, 8))"
      ]
     },
     "execution_count": 255,
     "metadata": {},
     "output_type": "execute_result"
    }
   ],
   "source": [
    "folds, test = urbansound8k.folds(data)\n",
    "len(folds), folds[0][0].shape, folds[0][1].shape, test.shape"
   ]
  },
  {
   "cell_type": "code",
   "execution_count": 388,
   "metadata": {},
   "outputs": [
    {
     "name": "stdout",
     "output_type": "stream",
     "text": [
      "window size 1.152\n",
      "17920.0 8704.0\n"
     ]
    },
    {
     "data": {
      "text/plain": [
       "[(0, 18432),\n",
       " (9216.0, 27648.0),\n",
       " (18432.0, 36864.0),\n",
       " (27648.0, 46080.0),\n",
       " (36864.0, 55296.0),\n",
       " (46080.0, 64000),\n",
       " (55296.0, 64000)]"
      ]
     },
     "execution_count": 388,
     "metadata": {},
     "output_type": "execute_result"
    }
   ],
   "source": [
    "# PicakCNN used 950ms, 41 frames for short-frame variant. 50% overlap\n",
    "def sample_windows(length, frame_samples, window_frames, overlap=0.5):\n",
    "    \"\"\"Split @samples into a number of windows of samples\n",
    "    with length @frame_samples * @window_frames\n",
    "    \"\"\"\n",
    "    ws = frame_samples * window_frames\n",
    "    start = 0\n",
    "    while start < length:\n",
    "        end = min(start + ws, length)\n",
    "        yield start, end\n",
    "        start += (ws * (1-overlap))\n",
    "\n",
    "def test_windows_shorter_than_window():\n",
    "    frame_samples=256\n",
    "    window_frames=64\n",
    "    fs=16000\n",
    "    length = 0.4*fs\n",
    "    w = list(sample_windows(int(length), frame_samples, window_frames))\n",
    "    assert len(w) == 1, len(w)\n",
    "    assert w[-1][1] == length\n",
    "\n",
    "def test_window_typical():\n",
    "    frame_samples=256\n",
    "    window_frames=64\n",
    "    fs=16000\n",
    "    length = 4.0*fs\n",
    "    w = list(sample_windows(int(length), frame_samples, window_frames))\n",
    "    assert len(w) == 8, len(w) \n",
    "    assert w[-1][1] == length\n",
    "    \n",
    "test_windows_shorter_than_window()\n",
    "test_window_typical()    \n",
    "    \n",
    "frame_samples=256\n",
    "window_frames=72\n",
    "fs=16000\n",
    "w_ms = (frame_samples*window_frames/fs)\n",
    "print('window size', w_ms)\n",
    "w = list(sample_windows(int(4.0*fs), frame_samples=frame_samples, window_frames=window_frames))\n",
    "print(w[-2][1] - w[-2][0], w[-1][1] - w[-1][0])\n",
    "w"
   ]
  },
  {
   "cell_type": "code",
   "execution_count": 521,
   "metadata": {},
   "outputs": [
    {
     "name": "stdout",
     "output_type": "stream",
     "text": [
      "cutting 7752 samples shorter than 1.0 seconds\n",
      "37064\n"
     ]
    },
    {
     "data": {
      "text/plain": [
       "<matplotlib.axes._subplots.AxesSubplot at 0x7f4b0126dcf8>"
      ]
     },
     "execution_count": 521,
     "metadata": {},
     "output_type": "execute_result"
    },
    {
     "data": {
      "image/png": "[encoded data removed]",
      "text/plain": [
       "<Figure size 432x288 with 1 Axes>"
      ]
     },
     "metadata": {
      "needs_background": "light"
     },
     "output_type": "display_data"
    }
   ],
   "source": [
    "def expand_training_set(samples, frame_samples, window_frames,\n",
    "                        sample_rate=16000, cut_length=1.0, augmentations=0):\n",
    "    chunks = {\n",
    "        'slice_file_name': [],\n",
    "        'fold': [],\n",
    "        'classID': [],\n",
    "        'start': [],\n",
    "        'end': [],\n",
    "        'augmentation': [],\n",
    "    }\n",
    "    \n",
    "    for (index, sample) in samples.iterrows():\n",
    "        duration = sample.end - sample.start\n",
    "        length = int(sample_rate * duration)\n",
    "        \n",
    "        for aug in range(-1, augmentations):\n",
    "        \n",
    "            for win in sample_windows(length, frame_samples, window_frames):\n",
    "                start, end = win\n",
    "                chunks['slice_file_name'].append(sample.slice_file_name)\n",
    "                chunks['fold'].append(sample.fold)\n",
    "                # to assume class is same as that of parent sample maybe a bit optimistic\n",
    "                # not certain that every chunk has content representative of class\n",
    "                # alternative would be multi-instance learning\n",
    "                chunks['classID'].append(sample.classID) \n",
    "                chunks['start'].append(start/sample_rate)\n",
    "                chunks['end'].append(end/sample_rate)\n",
    "                chunks['augmentation'].append(None if aug == -1 else aug)\n",
    "            \n",
    "    df = pandas.DataFrame(chunks)\n",
    "    \n",
    "    if cut_length:\n",
    "        w = (df.end-df.start > cut_length)\n",
    "        cleaned = df[w]\n",
    "        print('cutting {} samples shorter than {} seconds'.format(len(df) - len(cleaned), cut_length))\n",
    "    \n",
    "    return cleaned\n",
    "\n",
    "        \n",
    "df = expand_training_set(folds[0][0], frame_samples=frame_samples, window_frames=window_frames)\n",
    "print(len(df))\n",
    "(df.end-df.start).hist(bins=20)  "
   ]
  },
  {
   "cell_type": "code",
   "execution_count": 530,
   "metadata": {},
   "outputs": [
    {
     "data": {
      "text/plain": [
       "(32, 72)"
      ]
     },
     "execution_count": 530,
     "metadata": {},
     "output_type": "execute_result"
    }
   ],
   "source": [
    "settings = dict(\n",
    "    samplerate=16000,\n",
    "    n_mels=32,\n",
    "    fmin=0,\n",
    "    fmax=8000,\n",
    "    n_fft=512,\n",
    "    hop_length=256,\n",
    "    augmentations=5,\n",
    ")\n",
    "\n",
    "# TODO: implement data augmentation\n",
    "def load_sample(sample, window_frames=72):\n",
    "    n_mels = settings['n_mels']\n",
    "    sample_rate = settings['samplerate']\n",
    "    hop_length = settings['hop_length']\n",
    "    \n",
    "    # Load precomputed features\n",
    "    aug = None\n",
    "    if hasattr(sample, 'augmentation'):\n",
    "        aug = sample.augmentation\n",
    "    folder = os.path.join('aug', preprocess.settings_id(settings, feature='mels'))\n",
    "    path = preprocess.feature_path(sample, out_folder=folder, augmentation=aug)\n",
    "    mels = numpy.load(path)['arr_0']\n",
    "    assert mels.shape[0] == n_mels, mels.shape\n",
    "    \n",
    "    # Cut out the relevant part\n",
    "    start = int(sample.start * (sample_rate / hop_length))\n",
    "    end = int(sample.end * (sample_rate / hop_length))\n",
    "    d = (sample.end-sample.start)\n",
    "    mels = mels[:, start:end]\n",
    "    #assert mels.shape[1] > 0, (sample)\n",
    "\n",
    "    if mels.shape[1] > 0:\n",
    "        mels = librosa.core.power_to_db(mels, top_db=80, ref=numpy.max)\n",
    "    \n",
    "    # zero-pad window to standard length\n",
    "    if window_frames is None:\n",
    "        padded = mels\n",
    "    else:\n",
    "        padded = numpy.full((n_mels, window_frames), 0)    \n",
    "        inp = mels[:, 0:min(window_frames, mels.shape[1])]\n",
    "        padded[:, 0:inp.shape[1]] = inp\n",
    "\n",
    "    return padded\n",
    "    \n",
    "load_sample(df.iloc[5]).shape"
   ]
  },
  {
   "cell_type": "code",
   "execution_count": 525,
   "metadata": {},
   "outputs": [
    {
     "data": {
      "text/plain": [
       "(16, (8, 32, 72, 1), (8, 10))"
      ]
     },
     "execution_count": 525,
     "metadata": {},
     "output_type": "execute_result"
    }
   ],
   "source": [
    "import joblib\n",
    "def gen(X, Y, loader, batchsize=10, n_classes=10):\n",
    "    \n",
    "    assert len(X) == len(Y), 'X and Y must be equal length'\n",
    "    assert len(X) % batchsize == 0, 'input length must be divisible by @batchsize'\n",
    "        \n",
    "    sample_idx = 0\n",
    "    while True:\n",
    "        batch_data = []\n",
    "        batch_labels = []\n",
    "\n",
    "        if sample_idx >= len(X):\n",
    "            sample_idx = 0\n",
    "        \n",
    "        while len(batch_data) < batchsize:\n",
    "            data = loader(X.iloc[sample_idx])\n",
    "            data = numpy.expand_dims(data, -1)    \n",
    "            y = Y.iloc[sample_idx]\n",
    "            y = keras.utils.to_categorical(y, num_classes=n_classes)\n",
    "            batch_data.append(data)\n",
    "            batch_labels.append(y)\n",
    "            sample_idx += 1\n",
    "            \n",
    "        batch = (numpy.stack(batch_data), numpy.stack(batch_labels))\n",
    "        yield batch\n",
    "\n",
    "fold = df\n",
    "import itertools\n",
    "g = gen(fold[0:16], fold.classID[0:16], loader=load_sample, batchsize=8)\n",
    "batches = list(itertools.islice(g, 16))\n",
    "len(batches), batches[0][0].shape, batches[0][1].shape"
   ]
  },
  {
   "cell_type": "code",
   "execution_count": 642,
   "metadata": {},
   "outputs": [
    {
     "name": "stdout",
     "output_type": "stream",
     "text": [
      "__________________________________________________________________________________________________\n",
      "Layer (type)                    Output Shape         Param #     Connected to                     \n",
      "==================================================================================================\n",
      "input_30 (InputLayer)           (None, 32, 72, 1)    0                                            \n",
      "__________________________________________________________________________________________________\n",
      "initial_conv2D (Conv2D)         (None, 16, 36, 60)   2940        input_30[0][0]                   \n",
      "__________________________________________________________________________________________________\n",
      "initial_bn (BatchNormalization) (None, 16, 36, 60)   240         initial_conv2D[0][0]             \n",
      "__________________________________________________________________________________________________\n",
      "activation_214 (Activation)     (None, 16, 36, 60)   0           initial_bn[0][0]                 \n",
      "__________________________________________________________________________________________________\n",
      "max_pooling2d_29 (MaxPooling2D) (None, 8, 18, 60)    0           activation_214[0][0]             \n",
      "__________________________________________________________________________________________________\n",
      "dense_0_0_bn (BatchNormalizatio (None, 8, 18, 60)    240         max_pooling2d_29[0][0]           \n",
      "__________________________________________________________________________________________________\n",
      "activation_215 (Activation)     (None, 8, 18, 60)    0           dense_0_0_bn[0][0]               \n",
      "__________________________________________________________________________________________________\n",
      "dense_0_0_conv2D (Conv2D)       (None, 8, 18, 30)    16200       activation_215[0][0]             \n",
      "__________________________________________________________________________________________________\n",
      "dropout_80 (Dropout)            (None, 8, 18, 30)    0           dense_0_0_conv2D[0][0]           \n",
      "__________________________________________________________________________________________________\n",
      "concatenate_97 (Concatenate)    (None, 8, 18, 90)    0           max_pooling2d_29[0][0]           \n",
      "                                                                 dropout_80[0][0]                 \n",
      "__________________________________________________________________________________________________\n",
      "tr_0_bn (BatchNormalization)    (None, 8, 18, 90)    360         concatenate_97[0][0]             \n",
      "__________________________________________________________________________________________________\n",
      "activation_216 (Activation)     (None, 8, 18, 90)    0           tr_0_bn[0][0]                    \n",
      "__________________________________________________________________________________________________\n",
      "tr_0_conv2D (Conv2D)            (None, 8, 18, 45)    4050        activation_216[0][0]             \n",
      "__________________________________________________________________________________________________\n",
      "average_pooling2d_41 (AveragePo (None, 4, 9, 45)     0           tr_0_conv2D[0][0]                \n",
      "__________________________________________________________________________________________________\n",
      "dense_1_0_bn (BatchNormalizatio (None, 4, 9, 45)     180         average_pooling2d_41[0][0]       \n",
      "__________________________________________________________________________________________________\n",
      "activation_217 (Activation)     (None, 4, 9, 45)     0           dense_1_0_bn[0][0]               \n",
      "__________________________________________________________________________________________________\n",
      "dense_1_0_conv2D (Conv2D)       (None, 4, 9, 30)     12150       activation_217[0][0]             \n",
      "__________________________________________________________________________________________________\n",
      "dropout_81 (Dropout)            (None, 4, 9, 30)     0           dense_1_0_conv2D[0][0]           \n",
      "__________________________________________________________________________________________________\n",
      "concatenate_98 (Concatenate)    (None, 4, 9, 75)     0           average_pooling2d_41[0][0]       \n",
      "                                                                 dropout_81[0][0]                 \n",
      "__________________________________________________________________________________________________\n",
      "final_bn (BatchNormalization)   (None, 4, 9, 75)     300         concatenate_98[0][0]             \n",
      "__________________________________________________________________________________________________\n",
      "activation_218 (Activation)     (None, 4, 9, 75)     0           final_bn[0][0]                   \n",
      "__________________________________________________________________________________________________\n",
      "global_average_pooling2d_52 (Gl (None, 75)           0           activation_218[0][0]             \n",
      "__________________________________________________________________________________________________\n",
      "dense_76 (Dense)                (None, 10)           760         global_average_pooling2d_52[0][0]\n",
      "==================================================================================================\n",
      "Total params: 37,420\n",
      "Trainable params: 36,760\n",
      "Non-trainable params: 660\n",
      "__________________________________________________________________________________________________\n"
     ]
    }
   ],
   "source": [
    "import dense\n",
    "import sbcnn\n",
    "import dilated\n",
    "#model = dilated.build_model(bands=32, frames=72, channels=1, kernels=[32,32,32,32])\n",
    "#model = sbcnn.build_model(bands=32, frames=72, channels=1, pool=(3,3))\n",
    "model = dense.build_model(bands=32, frames=72, channels=1, pooling='avg',\n",
    "                          dropout=0.5, growth=30, reduction=0.5)\n",
    "\n",
    "model.summary()"
   ]
  },
  {
   "cell_type": "code",
   "execution_count": 643,
   "metadata": {},
   "outputs": [
    {
     "name": "stdout",
     "output_type": "stream",
     "text": [
      "cutting 7752 samples shorter than 1.0 seconds\n",
      "cutting 947 samples shorter than 1.0 seconds\n",
      "Epoch 1/20\n",
      "175/175 [==============================] - 112s 639ms/step - loss: 2.0642 - acc: 0.2726 - val_loss: 1.7753 - val_acc: 0.4000\n",
      "\n",
      "Epoch 00001: val_acc improved from -inf to 0.40000, saving model to dense.hdf5\n",
      "Epoch 2/20\n",
      "175/175 [==============================] - 96s 548ms/step - loss: 1.6968 - acc: 0.4500 - val_loss: 1.6122 - val_acc: 0.5103\n",
      "\n",
      "Epoch 00002: val_acc improved from 0.40000 to 0.51033, saving model to dense.hdf5\n",
      "Epoch 3/20\n",
      "175/175 [==============================] - 97s 552ms/step - loss: 1.5322 - acc: 0.5117 - val_loss: 1.5028 - val_acc: 0.5980\n",
      "\n",
      "Epoch 00003: val_acc improved from 0.51033 to 0.59800, saving model to dense.hdf5\n",
      "Epoch 4/20\n",
      "175/175 [==============================] - 97s 553ms/step - loss: 1.4212 - acc: 0.5473 - val_loss: 1.4139 - val_acc: 0.6093\n",
      "\n",
      "Epoch 00004: val_acc improved from 0.59800 to 0.60933, saving model to dense.hdf5\n",
      "Epoch 5/20\n",
      "175/175 [==============================] - 97s 552ms/step - loss: 1.3346 - acc: 0.5749 - val_loss: 1.3335 - val_acc: 0.6203\n",
      "\n",
      "Epoch 00005: val_acc improved from 0.60933 to 0.62033, saving model to dense.hdf5\n",
      "Epoch 6/20\n",
      "175/175 [==============================] - 97s 552ms/step - loss: 1.2630 - acc: 0.6041 - val_loss: 1.2968 - val_acc: 0.6100\n",
      "\n",
      "Epoch 00006: val_acc did not improve from 0.62033\n",
      "Epoch 7/20\n",
      "175/175 [==============================] - 96s 550ms/step - loss: 1.2029 - acc: 0.6267 - val_loss: 1.2815 - val_acc: 0.6070\n",
      "\n",
      "Epoch 00007: val_acc did not improve from 0.62033\n",
      "Epoch 8/20\n",
      "175/175 [==============================] - 96s 551ms/step - loss: 1.1494 - acc: 0.6485 - val_loss: 1.2762 - val_acc: 0.5937\n",
      "\n",
      "Epoch 00008: val_acc did not improve from 0.62033\n",
      "Epoch 9/20\n",
      "175/175 [==============================] - 96s 550ms/step - loss: 1.1024 - acc: 0.6646 - val_loss: 1.3032 - val_acc: 0.5780\n",
      "\n",
      "Epoch 00009: val_acc did not improve from 0.62033\n",
      "Epoch 10/20\n",
      "175/175 [==============================] - 97s 553ms/step - loss: 1.0593 - acc: 0.6803 - val_loss: 1.3228 - val_acc: 0.5740\n",
      "\n",
      "Epoch 00010: val_acc did not improve from 0.62033\n",
      "Epoch 11/20\n",
      "175/175 [==============================] - 96s 551ms/step - loss: 1.0210 - acc: 0.6930 - val_loss: 1.3494 - val_acc: 0.5573\n",
      "\n",
      "Epoch 00011: val_acc did not improve from 0.62033\n",
      "Epoch 12/20\n",
      "175/175 [==============================] - 96s 549ms/step - loss: 0.9852 - acc: 0.7054 - val_loss: 1.3693 - val_acc: 0.5620\n",
      "\n",
      "Epoch 00012: val_acc did not improve from 0.62033\n",
      "Epoch 13/20\n",
      "175/175 [==============================] - 96s 551ms/step - loss: 0.9548 - acc: 0.7142 - val_loss: 1.4253 - val_acc: 0.5323\n",
      "\n",
      "Epoch 00013: val_acc did not improve from 0.62033\n",
      "Epoch 14/20\n",
      "175/175 [==============================] - 96s 550ms/step - loss: 0.9265 - acc: 0.7226 - val_loss: 1.4648 - val_acc: 0.5247\n",
      "\n",
      "Epoch 00014: val_acc did not improve from 0.62033\n",
      "Epoch 15/20\n",
      "175/175 [==============================] - 96s 549ms/step - loss: 0.9001 - acc: 0.7304 - val_loss: 1.4947 - val_acc: 0.5303\n",
      "\n",
      "Epoch 00015: val_acc did not improve from 0.62033\n",
      "Epoch 16/20\n",
      "175/175 [==============================] - 96s 550ms/step - loss: 0.8759 - acc: 0.7375 - val_loss: 1.5576 - val_acc: 0.5287\n",
      "\n",
      "Epoch 00016: val_acc did not improve from 0.62033\n",
      "Epoch 17/20\n",
      "175/175 [==============================] - 96s 549ms/step - loss: 0.8538 - acc: 0.7436 - val_loss: 1.5523 - val_acc: 0.5343\n",
      "\n",
      "Epoch 00017: val_acc did not improve from 0.62033\n",
      "Epoch 18/20\n",
      "175/175 [==============================] - 96s 550ms/step - loss: 0.8326 - acc: 0.7505 - val_loss: 1.5744 - val_acc: 0.5333\n",
      "\n",
      "Epoch 00018: val_acc did not improve from 0.62033\n",
      "Epoch 19/20\n",
      "175/175 [==============================] - 96s 550ms/step - loss: 0.8126 - acc: 0.7553 - val_loss: 1.6044 - val_acc: 0.5297\n",
      "\n",
      "Epoch 00019: val_acc did not improve from 0.62033\n",
      "Epoch 20/20\n",
      "175/175 [==============================] - 96s 550ms/step - loss: 0.7964 - acc: 0.7576 - val_loss: 1.6477 - val_acc: 0.5253\n",
      "\n",
      "Epoch 00020: val_acc did not improve from 0.62033\n"
     ]
    },
    {
     "data": {
      "text/plain": [
       "<keras.callbacks.History at 0x7f4a7968f940>"
      ]
     },
     "execution_count": 643,
     "metadata": {},
     "output_type": "execute_result"
    }
   ],
   "source": [
    "model.compile(loss='categorical_crossentropy',\n",
    "              optimizer=keras.optimizers.RMSprop(lr=1e-4),\n",
    "              metrics=['accuracy'])\n",
    "\n",
    "train = expand_training_set(folds[0][0], frame_samples=frame_samples, window_frames=window_frames,\n",
    "                            augmentations=0)\n",
    "val = expand_training_set(folds[0][1], frame_samples=frame_samples, window_frames=window_frames)\n",
    "\n",
    "train = train.sample(35000, replace=False)\n",
    "val = val.sample(3000, replace=False)\n",
    "\n",
    "batch_size = 200\n",
    "\n",
    "checkpoint = keras.callbacks.ModelCheckpoint('dense.hdf5', monitor='val_acc', mode='max',\n",
    "                             period=1, verbose=1, save_best_only=True)\n",
    "callbacks_list = [checkpoint]\n",
    "\n",
    "train_gen = gen(train, train.classID, loader=load_sample, batchsize=batch_size)\n",
    "val_gen = gen(val, val.classID, loader=load_sample, batchsize=batch_size)\n",
    "\n",
    "model.fit_generator(train_gen, validation_data=val_gen,\n",
    "                    steps_per_epoch=math.ceil(len(train)/batch_size),\n",
    "                    validation_steps=math.ceil(len(val)/batch_size),\n",
    "                    callbacks=callbacks_list,\n",
    "                    epochs=20, verbose=1)"
   ]
  },
  {
   "cell_type": "code",
   "execution_count": 644,
   "metadata": {},
   "outputs": [
    {
     "data": {
      "text/plain": [
       "<keras.engine.training.Model at 0x7f4a78e60828>"
      ]
     },
     "execution_count": 644,
     "metadata": {},
     "output_type": "execute_result"
    }
   ],
   "source": [
    "model = keras.models.load_model('dense.hdf5')\n",
    "model"
   ]
  },
  {
   "cell_type": "code",
   "execution_count": 631,
   "metadata": {},
   "outputs": [
    {
     "name": "stdout",
     "output_type": "stream",
     "text": [
      "Epoch 1/40\n",
      "700/700 [==============================] - 332s 474ms/step - loss: 0.9341 - acc: 0.7149 - val_loss: 1.4330 - val_acc: 0.5563\n",
      "\n",
      "Epoch 00001: val_acc improved from -inf to 0.55633, saving model to dense.fine.hdf5\n",
      "Epoch 2/40\n",
      "700/700 [==============================] - 317s 453ms/step - loss: 0.9162 - acc: 0.7223 - val_loss: 1.4387 - val_acc: 0.5520\n",
      "\n",
      "Epoch 00002: val_acc did not improve from 0.55633\n",
      "Epoch 3/40\n",
      " 96/700 [===>..........................] - ETA: 3:58 - loss: 0.9018 - acc: 0.7280"
     ]
    },
    {
     "ename": "KeyboardInterrupt",
     "evalue": "",
     "output_type": "error",
     "traceback": [
      "\u001b[0;31m---------------------------------------------------------------------------\u001b[0m",
      "\u001b[0;31mKeyboardInterrupt\u001b[0m                         Traceback (most recent call last)",
      "\u001b[0;32m<ipython-input-631-9275e05b71ca>\u001b[0m in \u001b[0;36m<module>\u001b[0;34m\u001b[0m\n\u001b[1;32m     11\u001b[0m                     \u001b[0mvalidation_steps\u001b[0m\u001b[0;34m=\u001b[0m\u001b[0mmath\u001b[0m\u001b[0;34m.\u001b[0m\u001b[0mceil\u001b[0m\u001b[0;34m(\u001b[0m\u001b[0mlen\u001b[0m\u001b[0;34m(\u001b[0m\u001b[0mval\u001b[0m\u001b[0;34m)\u001b[0m\u001b[0;34m/\u001b[0m\u001b[0mbatch_size\u001b[0m\u001b[0;34m)\u001b[0m\u001b[0;34m,\u001b[0m\u001b[0;34m\u001b[0m\u001b[0;34m\u001b[0m\u001b[0m\n\u001b[1;32m     12\u001b[0m                     \u001b[0mcallbacks\u001b[0m\u001b[0;34m=\u001b[0m\u001b[0mcallbacks_list\u001b[0m\u001b[0;34m,\u001b[0m\u001b[0;34m\u001b[0m\u001b[0;34m\u001b[0m\u001b[0m\n\u001b[0;32m---> 13\u001b[0;31m                     epochs=40, verbose=1)\n\u001b[0m",
      "\u001b[0;32m/usr/lib/python3.7/site-packages/keras/legacy/interfaces.py\u001b[0m in \u001b[0;36mwrapper\u001b[0;34m(*args, **kwargs)\u001b[0m\n\u001b[1;32m     89\u001b[0m                 warnings.warn('Update your `' + object_name + '` call to the ' +\n\u001b[1;32m     90\u001b[0m                               'Keras 2 API: ' + signature, stacklevel=2)\n\u001b[0;32m---> 91\u001b[0;31m             \u001b[0;32mreturn\u001b[0m \u001b[0mfunc\u001b[0m\u001b[0;34m(\u001b[0m\u001b[0;34m*\u001b[0m\u001b[0margs\u001b[0m\u001b[0;34m,\u001b[0m \u001b[0;34m**\u001b[0m\u001b[0mkwargs\u001b[0m\u001b[0;34m)\u001b[0m\u001b[0;34m\u001b[0m\u001b[0;34m\u001b[0m\u001b[0m\n\u001b[0m\u001b[1;32m     92\u001b[0m         \u001b[0mwrapper\u001b[0m\u001b[0;34m.\u001b[0m\u001b[0m_original_function\u001b[0m \u001b[0;34m=\u001b[0m \u001b[0mfunc\u001b[0m\u001b[0;34m\u001b[0m\u001b[0;34m\u001b[0m\u001b[0m\n\u001b[1;32m     93\u001b[0m         \u001b[0;32mreturn\u001b[0m \u001b[0mwrapper\u001b[0m\u001b[0;34m\u001b[0m\u001b[0;34m\u001b[0m\u001b[0m\n",
      "\u001b[0;32m/usr/lib/python3.7/site-packages/keras/engine/training.py\u001b[0m in \u001b[0;36mfit_generator\u001b[0;34m(self, generator, steps_per_epoch, epochs, verbose, callbacks, validation_data, validation_steps, class_weight, max_queue_size, workers, use_multiprocessing, shuffle, initial_epoch)\u001b[0m\n\u001b[1;32m   1416\u001b[0m             \u001b[0muse_multiprocessing\u001b[0m\u001b[0;34m=\u001b[0m\u001b[0muse_multiprocessing\u001b[0m\u001b[0;34m,\u001b[0m\u001b[0;34m\u001b[0m\u001b[0;34m\u001b[0m\u001b[0m\n\u001b[1;32m   1417\u001b[0m             \u001b[0mshuffle\u001b[0m\u001b[0;34m=\u001b[0m\u001b[0mshuffle\u001b[0m\u001b[0;34m,\u001b[0m\u001b[0;34m\u001b[0m\u001b[0;34m\u001b[0m\u001b[0m\n\u001b[0;32m-> 1418\u001b[0;31m             initial_epoch=initial_epoch)\n\u001b[0m\u001b[1;32m   1419\u001b[0m \u001b[0;34m\u001b[0m\u001b[0m\n\u001b[1;32m   1420\u001b[0m     \u001b[0;34m@\u001b[0m\u001b[0minterfaces\u001b[0m\u001b[0;34m.\u001b[0m\u001b[0mlegacy_generator_methods_support\u001b[0m\u001b[0;34m\u001b[0m\u001b[0;34m\u001b[0m\u001b[0m\n",
      "\u001b[0;32m/usr/lib/python3.7/site-packages/keras/engine/training_generator.py\u001b[0m in \u001b[0;36mfit_generator\u001b[0;34m(model, generator, steps_per_epoch, epochs, verbose, callbacks, validation_data, validation_steps, class_weight, max_queue_size, workers, use_multiprocessing, shuffle, initial_epoch)\u001b[0m\n\u001b[1;32m    215\u001b[0m                 outs = model.train_on_batch(x, y,\n\u001b[1;32m    216\u001b[0m                                             \u001b[0msample_weight\u001b[0m\u001b[0;34m=\u001b[0m\u001b[0msample_weight\u001b[0m\u001b[0;34m,\u001b[0m\u001b[0;34m\u001b[0m\u001b[0;34m\u001b[0m\u001b[0m\n\u001b[0;32m--> 217\u001b[0;31m                                             class_weight=class_weight)\n\u001b[0m\u001b[1;32m    218\u001b[0m \u001b[0;34m\u001b[0m\u001b[0m\n\u001b[1;32m    219\u001b[0m                 \u001b[0mouts\u001b[0m \u001b[0;34m=\u001b[0m \u001b[0mto_list\u001b[0m\u001b[0;34m(\u001b[0m\u001b[0mouts\u001b[0m\u001b[0;34m)\u001b[0m\u001b[0;34m\u001b[0m\u001b[0;34m\u001b[0m\u001b[0m\n",
      "\u001b[0;32m/usr/lib/python3.7/site-packages/keras/engine/training.py\u001b[0m in \u001b[0;36mtrain_on_batch\u001b[0;34m(self, x, y, sample_weight, class_weight)\u001b[0m\n\u001b[1;32m   1215\u001b[0m             \u001b[0mins\u001b[0m \u001b[0;34m=\u001b[0m \u001b[0mx\u001b[0m \u001b[0;34m+\u001b[0m \u001b[0my\u001b[0m \u001b[0;34m+\u001b[0m \u001b[0msample_weights\u001b[0m\u001b[0;34m\u001b[0m\u001b[0;34m\u001b[0m\u001b[0m\n\u001b[1;32m   1216\u001b[0m         \u001b[0mself\u001b[0m\u001b[0;34m.\u001b[0m\u001b[0m_make_train_function\u001b[0m\u001b[0;34m(\u001b[0m\u001b[0;34m)\u001b[0m\u001b[0;34m\u001b[0m\u001b[0;34m\u001b[0m\u001b[0m\n\u001b[0;32m-> 1217\u001b[0;31m         \u001b[0moutputs\u001b[0m \u001b[0;34m=\u001b[0m \u001b[0mself\u001b[0m\u001b[0;34m.\u001b[0m\u001b[0mtrain_function\u001b[0m\u001b[0;34m(\u001b[0m\u001b[0mins\u001b[0m\u001b[0;34m)\u001b[0m\u001b[0;34m\u001b[0m\u001b[0;34m\u001b[0m\u001b[0m\n\u001b[0m\u001b[1;32m   1218\u001b[0m         \u001b[0;32mreturn\u001b[0m \u001b[0munpack_singleton\u001b[0m\u001b[0;34m(\u001b[0m\u001b[0moutputs\u001b[0m\u001b[0;34m)\u001b[0m\u001b[0;34m\u001b[0m\u001b[0;34m\u001b[0m\u001b[0m\n\u001b[1;32m   1219\u001b[0m \u001b[0;34m\u001b[0m\u001b[0m\n",
      "\u001b[0;32m/usr/lib/python3.7/site-packages/keras/backend/tensorflow_backend.py\u001b[0m in \u001b[0;36m__call__\u001b[0;34m(self, inputs)\u001b[0m\n\u001b[1;32m   2713\u001b[0m                 \u001b[0;32mreturn\u001b[0m \u001b[0mself\u001b[0m\u001b[0;34m.\u001b[0m\u001b[0m_legacy_call\u001b[0m\u001b[0;34m(\u001b[0m\u001b[0minputs\u001b[0m\u001b[0;34m)\u001b[0m\u001b[0;34m\u001b[0m\u001b[0;34m\u001b[0m\u001b[0m\n\u001b[1;32m   2714\u001b[0m \u001b[0;34m\u001b[0m\u001b[0m\n\u001b[0;32m-> 2715\u001b[0;31m             \u001b[0;32mreturn\u001b[0m \u001b[0mself\u001b[0m\u001b[0;34m.\u001b[0m\u001b[0m_call\u001b[0m\u001b[0;34m(\u001b[0m\u001b[0minputs\u001b[0m\u001b[0;34m)\u001b[0m\u001b[0;34m\u001b[0m\u001b[0;34m\u001b[0m\u001b[0m\n\u001b[0m\u001b[1;32m   2716\u001b[0m         \u001b[0;32melse\u001b[0m\u001b[0;34m:\u001b[0m\u001b[0;34m\u001b[0m\u001b[0;34m\u001b[0m\u001b[0m\n\u001b[1;32m   2717\u001b[0m             \u001b[0;32mif\u001b[0m \u001b[0mpy_any\u001b[0m\u001b[0;34m(\u001b[0m\u001b[0mis_tensor\u001b[0m\u001b[0;34m(\u001b[0m\u001b[0mx\u001b[0m\u001b[0;34m)\u001b[0m \u001b[0;32mfor\u001b[0m \u001b[0mx\u001b[0m \u001b[0;32min\u001b[0m \u001b[0minputs\u001b[0m\u001b[0;34m)\u001b[0m\u001b[0;34m:\u001b[0m\u001b[0;34m\u001b[0m\u001b[0;34m\u001b[0m\u001b[0m\n",
      "\u001b[0;32m/usr/lib/python3.7/site-packages/keras/backend/tensorflow_backend.py\u001b[0m in \u001b[0;36m_call\u001b[0;34m(self, inputs)\u001b[0m\n\u001b[1;32m   2673\u001b[0m             \u001b[0mfetched\u001b[0m \u001b[0;34m=\u001b[0m \u001b[0mself\u001b[0m\u001b[0;34m.\u001b[0m\u001b[0m_callable_fn\u001b[0m\u001b[0;34m(\u001b[0m\u001b[0;34m*\u001b[0m\u001b[0marray_vals\u001b[0m\u001b[0;34m,\u001b[0m \u001b[0mrun_metadata\u001b[0m\u001b[0;34m=\u001b[0m\u001b[0mself\u001b[0m\u001b[0;34m.\u001b[0m\u001b[0mrun_metadata\u001b[0m\u001b[0;34m)\u001b[0m\u001b[0;34m\u001b[0m\u001b[0;34m\u001b[0m\u001b[0m\n\u001b[1;32m   2674\u001b[0m         \u001b[0;32melse\u001b[0m\u001b[0;34m:\u001b[0m\u001b[0;34m\u001b[0m\u001b[0;34m\u001b[0m\u001b[0m\n\u001b[0;32m-> 2675\u001b[0;31m             \u001b[0mfetched\u001b[0m \u001b[0;34m=\u001b[0m \u001b[0mself\u001b[0m\u001b[0;34m.\u001b[0m\u001b[0m_callable_fn\u001b[0m\u001b[0;34m(\u001b[0m\u001b[0;34m*\u001b[0m\u001b[0marray_vals\u001b[0m\u001b[0;34m)\u001b[0m\u001b[0;34m\u001b[0m\u001b[0;34m\u001b[0m\u001b[0m\n\u001b[0m\u001b[1;32m   2676\u001b[0m         \u001b[0;32mreturn\u001b[0m \u001b[0mfetched\u001b[0m\u001b[0;34m[\u001b[0m\u001b[0;34m:\u001b[0m\u001b[0mlen\u001b[0m\u001b[0;34m(\u001b[0m\u001b[0mself\u001b[0m\u001b[0;34m.\u001b[0m\u001b[0moutputs\u001b[0m\u001b[0;34m)\u001b[0m\u001b[0;34m]\u001b[0m\u001b[0;34m\u001b[0m\u001b[0;34m\u001b[0m\u001b[0m\n\u001b[1;32m   2677\u001b[0m \u001b[0;34m\u001b[0m\u001b[0m\n",
      "\u001b[0;32m/usr/lib/python3.7/site-packages/tensorflow/python/client/session.py\u001b[0m in \u001b[0;36m__call__\u001b[0;34m(self, *args, **kwargs)\u001b[0m\n\u001b[1;32m   1437\u001b[0m           ret = tf_session.TF_SessionRunCallable(\n\u001b[1;32m   1438\u001b[0m               \u001b[0mself\u001b[0m\u001b[0;34m.\u001b[0m\u001b[0m_session\u001b[0m\u001b[0;34m.\u001b[0m\u001b[0m_session\u001b[0m\u001b[0;34m,\u001b[0m \u001b[0mself\u001b[0m\u001b[0;34m.\u001b[0m\u001b[0m_handle\u001b[0m\u001b[0;34m,\u001b[0m \u001b[0margs\u001b[0m\u001b[0;34m,\u001b[0m \u001b[0mstatus\u001b[0m\u001b[0;34m,\u001b[0m\u001b[0;34m\u001b[0m\u001b[0;34m\u001b[0m\u001b[0m\n\u001b[0;32m-> 1439\u001b[0;31m               run_metadata_ptr)\n\u001b[0m\u001b[1;32m   1440\u001b[0m         \u001b[0;32mif\u001b[0m \u001b[0mrun_metadata\u001b[0m\u001b[0;34m:\u001b[0m\u001b[0;34m\u001b[0m\u001b[0;34m\u001b[0m\u001b[0m\n\u001b[1;32m   1441\u001b[0m           \u001b[0mproto_data\u001b[0m \u001b[0;34m=\u001b[0m \u001b[0mtf_session\u001b[0m\u001b[0;34m.\u001b[0m\u001b[0mTF_GetBuffer\u001b[0m\u001b[0;34m(\u001b[0m\u001b[0mrun_metadata_ptr\u001b[0m\u001b[0;34m)\u001b[0m\u001b[0;34m\u001b[0m\u001b[0;34m\u001b[0m\u001b[0m\n",
      "\u001b[0;31mKeyboardInterrupt\u001b[0m: "
     ]
    }
   ],
   "source": [
    "fine_opt = keras.optimizers.SGD(lr=2.5e-4, momentum=0.9)\n",
    "model.compile(loss='categorical_crossentropy', optimizer=fine_opt, metrics=['accuracy'])\n",
    "\n",
    "checkpoint = keras.callbacks.ModelCheckpoint('dense.fine.hdf5', monitor='val_acc', mode='max',\n",
    "                             period=1, verbose=1, save_best_only=True)\n",
    "callbacks_list = [checkpoint]\n",
    "\n",
    "batch_size = 50\n",
    "model.fit_generator(train_gen, validation_data=val_gen,\n",
    "                    steps_per_epoch=math.ceil(len(train)/batch_size),\n",
    "                    validation_steps=math.ceil(len(val)/batch_size),\n",
    "                    callbacks=callbacks_list,\n",
    "                    epochs=40, verbose=1)"
   ]
  },
  {
   "cell_type": "code",
   "execution_count": 645,
   "metadata": {},
   "outputs": [
    {
     "data": {
      "text/plain": [
       "0.5663082437275986"
      ]
     },
     "execution_count": 645,
     "metadata": {},
     "output_type": "execute_result"
    }
   ],
   "source": [
    "import collections\n",
    "\n",
    "def predict_windowed(model, samples, method='mean'):\n",
    "    sample_rate = settings['samplerate']\n",
    "    Sample = collections.namedtuple('Sample', 'start end fold slice_file_name')\n",
    "\n",
    "    out = []\n",
    "    for _, sample in samples.iterrows():\n",
    "        duration = sample.end - sample.start\n",
    "        length = int(sample_rate * duration)\n",
    "        windows = []\n",
    "        \n",
    "        for win in sample_windows(length, frame_samples, window_frames):\n",
    "            chunk = Sample(start=win[0]/sample_rate,\n",
    "                           end=win[1]/sample_rate,\n",
    "                           fold=sample.fold,\n",
    "                           slice_file_name=sample.slice_file_name)    \n",
    "            d = load_sample(chunk)\n",
    "            windows.append(d)\n",
    "\n",
    "        inputs = numpy.stack(windows)\n",
    "        inputs = numpy.expand_dims(inputs, axis=-1)\n",
    "        predictions = model.predict(inputs)\n",
    "\n",
    "        if method == 'mean':\n",
    "            p = numpy.mean(predictions, axis=0)\n",
    "            assert len(p) == 10\n",
    "            out.append(numpy.argmax(p))\n",
    "        elif method == 'majority':\n",
    "            votes = numpy.argmax(predictions, axis=1)\n",
    "            p = numpy.argmax(numpy.bincount(votes))\n",
    "            out.append(p)\n",
    "\n",
    "    return numpy.stack(out)\n",
    "\n",
    "from sklearn.metrics import accuracy_score\n",
    "\n",
    "t = test\n",
    "mean_m = predict_windowed(model, t, method='majority')\n",
    "accuracy_score(t.classID, mean_m)"
   ]
  },
  {
   "cell_type": "code",
   "execution_count": 646,
   "metadata": {},
   "outputs": [
    {
     "data": {
      "text/plain": [
       "0.5686977299880526"
      ]
     },
     "execution_count": 646,
     "metadata": {},
     "output_type": "execute_result"
    }
   ],
   "source": [
    "mean_p = predict_windowed(model, t, method='mean')\n",
    "accuracy_score(t.classID, mean_p)"
   ]
  },
  {
   "cell_type": "code",
   "execution_count": 647,
   "metadata": {},
   "outputs": [
    {
     "data": {
      "text/plain": [
       "0.6059564719358533"
      ]
     },
     "execution_count": 647,
     "metadata": {},
     "output_type": "execute_result"
    }
   ],
   "source": [
    "val_d = folds[0][1]\n",
    "val_p = predict_windowed(model, val_d, method='mean')\n",
    "accuracy_score(val_d.classID, val_p)"
   ]
  },
  {
   "cell_type": "code",
   "execution_count": 648,
   "metadata": {},
   "outputs": [
    {
     "data": {
      "image/png": "[encoded data removed]",
      "text/plain": [
       "<Figure size 720x576 with 2 Axes>"
      ]
     },
     "metadata": {
      "needs_background": "light"
     },
     "output_type": "display_data"
    }
   ],
   "source": [
    "import seaborn as sns\n",
    "import matplotlib.pyplot as plt     \n",
    "\n",
    "def plot_confusion(cm, classnames):\n",
    "\n",
    "    fig, ax = plt.subplots(1, figsize=(10,8))\n",
    "    sns.heatmap(cm, annot=True, ax=ax);\n",
    "\n",
    "    ax.set_xlabel('Predicted labels')\n",
    "    ax.set_ylabel('True labels')\n",
    "    ax.set_title('Confusion Matrix') \n",
    "    ax.xaxis.set_ticklabels(classnames, rotation=60)\n",
    "    ax.yaxis.set_ticklabels(classnames, rotation=0)\n",
    "\n",
    "from sklearn.metrics import confusion_matrix\n",
    "cm = confusion_matrix(val_d.classID, val_p, labels=None, sample_weight=None)\n",
    "cm =confusion_matrix(t.classID, mean_m, labels=None, sample_weight=None)\n",
    "plot_confusion(cm, urbansound8k.classnames)"
   ]
  },
  {
   "cell_type": "code",
   "execution_count": 536,
   "metadata": {},
   "outputs": [
    {
     "data": {
      "text/plain": [
       "fold  class           \n",
       "1     air_conditioner     100\n",
       "      car_horn             36\n",
       "      children_playing    100\n",
       "      dog_bark            100\n",
       "      drilling            100\n",
       "      engine_idling        96\n",
       "      gun_shot             35\n",
       "      jackhammer          120\n",
       "      siren                86\n",
       "      street_music        100\n",
       "2     air_conditioner     100\n",
       "      car_horn             42\n",
       "      children_playing    100\n",
       "      dog_bark            100\n",
       "      drilling            100\n",
       "      engine_idling       100\n",
       "      gun_shot             35\n",
       "      jackhammer          120\n",
       "      siren                91\n",
       "      street_music        100\n",
       "3     air_conditioner     100\n",
       "      car_horn             43\n",
       "      children_playing    100\n",
       "      dog_bark            100\n",
       "      drilling            100\n",
       "      engine_idling       107\n",
       "      gun_shot             36\n",
       "      jackhammer          120\n",
       "      siren               119\n",
       "      street_music        100\n",
       "                         ... \n",
       "8     air_conditioner     100\n",
       "      car_horn             30\n",
       "      children_playing    100\n",
       "      dog_bark            100\n",
       "      drilling            100\n",
       "      engine_idling        88\n",
       "      gun_shot             30\n",
       "      jackhammer           78\n",
       "      siren                80\n",
       "      street_music        100\n",
       "9     air_conditioner     100\n",
       "      car_horn             32\n",
       "      children_playing    100\n",
       "      dog_bark            100\n",
       "      drilling            100\n",
       "      engine_idling        89\n",
       "      gun_shot             31\n",
       "      jackhammer           82\n",
       "      siren                82\n",
       "      street_music        100\n",
       "10    air_conditioner     100\n",
       "      car_horn             33\n",
       "      children_playing    100\n",
       "      dog_bark            100\n",
       "      drilling            100\n",
       "      engine_idling        93\n",
       "      gun_shot             32\n",
       "      jackhammer           96\n",
       "      siren                83\n",
       "      street_music        100\n",
       "Name: classID, Length: 100, dtype: int64"
      ]
     },
     "execution_count": 536,
     "metadata": {},
     "output_type": "execute_result"
    }
   ],
   "source": [
    "data.groupby(['fold', 'class'])['classID'].count()"
   ]
  },
  {
   "cell_type": "code",
   "execution_count": 537,
   "metadata": {},
   "outputs": [
    {
     "data": {
      "text/plain": [
       "<matplotlib.axes._subplots.AxesSubplot at 0x7f4b012e9978>"
      ]
     },
     "execution_count": 537,
     "metadata": {},
     "output_type": "execute_result"
    },
    {
     "data": {
      "image/png": "[encoded data removed]",
      "text/plain": [
       "<Figure size 432x288 with 1 Axes>"
      ]
     },
     "metadata": {
      "needs_background": "light"
     },
     "output_type": "display_data"
    }
   ],
   "source": [
    "drilling = data[data['class'] == 'drilling']\n",
    "(drilling.end - drilling.start).hist()"
   ]
  },
  {
   "cell_type": "code",
   "execution_count": 560,
   "metadata": {},
   "outputs": [
    {
     "data": {
      "text/plain": [
       "array([array([ 14113, 147764, 165642, 165645,  17913,  22962,  46669,  55020,\n",
       "        57584,  71087,  78360,  96158]),\n",
       "       array([104817, 118723, 165643, 180126, 185800,  34621,  46668,  50416,\n",
       "        59594,  71080,  76086,  77751]),\n",
       "       array([103199, 103357,  14115, 165786, 185801,  29721,  37560,  42937,\n",
       "        63095,  66622,  69598,  95562]),\n",
       "       array([128607, 140824,  14110, 144351, 151005, 156362, 165785, 169466,\n",
       "       179212, 187377, 199929,  29722]),\n",
       "       array([118440, 180125, 180128,  19007, 205874, 205878,  39533,  50413,\n",
       "        71086,  71171,  77774,  84699]),\n",
       "       array([107842,  14114, 165641, 166931, 167701, 179725,  24364,  34643,\n",
       "        58005,  66623,  71079,  71088]),\n",
       "       array([104625, 127443, 130961, 135849, 165644,  50415,  50629,    518,\n",
       "        57696,  71529,  74965,  89099]),\n",
       "       array([139000, 147019, 161129, 167702, 168037, 180132, 180134, 205610,\n",
       "        42324,  59595,  76085,  96159]),\n",
       "       array([127538, 137815,  14111, 146249, 180029, 180937,  39532,  50414,\n",
       "        54976,  58937,  71082,  81117]),\n",
       "       array([118278, 146244, 165640, 167750, 180127, 181624, 187863, 195063,\n",
       "        26344,  74922,  99192])], dtype=object)"
      ]
     },
     "execution_count": 560,
     "metadata": {},
     "output_type": "execute_result"
    }
   ],
   "source": [
    "drilling.groupby('fold')['fsID'].unique().values"
   ]
  },
  {
   "cell_type": "code",
   "execution_count": null,
   "metadata": {},
   "outputs": [],
   "source": []
  }
 ],
 "metadata": {
  "kernelspec": {
   "display_name": "Python 3",
   "language": "python",
   "name": "python3"
  },
  "language_info": {
   "codemirror_mode": {
    "name": "ipython",
    "version": 3
   },
   "file_extension": ".py",
   "mimetype": "text/x-python",
   "name": "python",
   "nbconvert_exporter": "python",
   "pygments_lexer": "ipython3",
   "version": "3.7.2"
  }
 },
 "nbformat": 4,
 "nbformat_minor": 2
}
