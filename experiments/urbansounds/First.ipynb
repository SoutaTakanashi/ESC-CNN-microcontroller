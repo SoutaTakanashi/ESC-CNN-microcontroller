{
 "cells": [
  {
   "cell_type": "code",
   "execution_count": 2,
   "metadata": {},
   "outputs": [],
   "source": [
    "%matplotlib inline\n",
    "%load_ext autoreload\n",
    "%autoreload 2"
   ]
  },
  {
   "cell_type": "code",
   "execution_count": 2,
   "metadata": {},
   "outputs": [
    {
     "name": "stderr",
     "output_type": "stream",
     "text": [
      "Using TensorFlow backend.\n"
     ]
    }
   ],
   "source": [
    "import math\n",
    "import os.path\n",
    "\n",
    "import keras\n",
    "import librosa.feature\n",
    "import sklearn\n",
    "\n",
    "import pandas\n",
    "import numpy\n",
    "from matplotlib import pyplot as plt\n",
    "\n",
    "import urbansound8k\n",
    "import preprocess"
   ]
  },
  {
   "cell_type": "code",
   "execution_count": 3,
   "metadata": {},
   "outputs": [
    {
     "data": {
      "text/html": [
       "<div>\n",
       "<style scoped>\n",
       "    .dataframe tbody tr th:only-of-type {\n",
       "        vertical-align: middle;\n",
       "    }\n",
       "\n",
       "    .dataframe tbody tr th {\n",
       "        vertical-align: top;\n",
       "    }\n",
       "\n",
       "    .dataframe thead th {\n",
       "        text-align: right;\n",
       "    }\n",
       "</style>\n",
       "<table border=\"1\" class=\"dataframe\">\n",
       "  <thead>\n",
       "    <tr style=\"text-align: right;\">\n",
       "      <th></th>\n",
       "      <th>slice_file_name</th>\n",
       "      <th>fsID</th>\n",
       "      <th>start</th>\n",
       "      <th>end</th>\n",
       "      <th>salience</th>\n",
       "      <th>fold</th>\n",
       "      <th>classID</th>\n",
       "      <th>class</th>\n",
       "    </tr>\n",
       "  </thead>\n",
       "  <tbody>\n",
       "    <tr>\n",
       "      <th>0</th>\n",
       "      <td>100032-3-0-0.wav</td>\n",
       "      <td>100032</td>\n",
       "      <td>0.0</td>\n",
       "      <td>0.317551</td>\n",
       "      <td>1</td>\n",
       "      <td>5</td>\n",
       "      <td>3</td>\n",
       "      <td>dog_bark</td>\n",
       "    </tr>\n",
       "    <tr>\n",
       "      <th>1</th>\n",
       "      <td>100263-2-0-117.wav</td>\n",
       "      <td>100263</td>\n",
       "      <td>58.5</td>\n",
       "      <td>62.500000</td>\n",
       "      <td>1</td>\n",
       "      <td>5</td>\n",
       "      <td>2</td>\n",
       "      <td>children_playing</td>\n",
       "    </tr>\n",
       "    <tr>\n",
       "      <th>2</th>\n",
       "      <td>100263-2-0-121.wav</td>\n",
       "      <td>100263</td>\n",
       "      <td>60.5</td>\n",
       "      <td>64.500000</td>\n",
       "      <td>1</td>\n",
       "      <td>5</td>\n",
       "      <td>2</td>\n",
       "      <td>children_playing</td>\n",
       "    </tr>\n",
       "    <tr>\n",
       "      <th>3</th>\n",
       "      <td>100263-2-0-126.wav</td>\n",
       "      <td>100263</td>\n",
       "      <td>63.0</td>\n",
       "      <td>67.000000</td>\n",
       "      <td>1</td>\n",
       "      <td>5</td>\n",
       "      <td>2</td>\n",
       "      <td>children_playing</td>\n",
       "    </tr>\n",
       "    <tr>\n",
       "      <th>4</th>\n",
       "      <td>100263-2-0-137.wav</td>\n",
       "      <td>100263</td>\n",
       "      <td>68.5</td>\n",
       "      <td>72.500000</td>\n",
       "      <td>1</td>\n",
       "      <td>5</td>\n",
       "      <td>2</td>\n",
       "      <td>children_playing</td>\n",
       "    </tr>\n",
       "  </tbody>\n",
       "</table>\n",
       "</div>"
      ],
      "text/plain": [
       "      slice_file_name    fsID  start        end  salience  fold  classID  \\\n",
       "0    100032-3-0-0.wav  100032    0.0   0.317551         1     5        3   \n",
       "1  100263-2-0-117.wav  100263   58.5  62.500000         1     5        2   \n",
       "2  100263-2-0-121.wav  100263   60.5  64.500000         1     5        2   \n",
       "3  100263-2-0-126.wav  100263   63.0  67.000000         1     5        2   \n",
       "4  100263-2-0-137.wav  100263   68.5  72.500000         1     5        2   \n",
       "\n",
       "              class  \n",
       "0          dog_bark  \n",
       "1  children_playing  \n",
       "2  children_playing  \n",
       "3  children_playing  \n",
       "4  children_playing  "
      ]
     },
     "execution_count": 3,
     "metadata": {},
     "output_type": "execute_result"
    }
   ],
   "source": [
    "data = urbansound8k.load_dataset()\n",
    "data.head()"
   ]
  },
  {
   "cell_type": "code",
   "execution_count": 4,
   "metadata": {},
   "outputs": [
    {
     "data": {
      "text/plain": [
       "<matplotlib.axes._subplots.AxesSubplot at 0x7f4baceb74a8>"
      ]
     },
     "execution_count": 4,
     "metadata": {},
     "output_type": "execute_result"
    },
    {
     "data": {
      "image/png": "[encoded data removed]",
      "text/plain": [
       "<Figure size 432x288 with 1 Axes>"
      ]
     },
     "metadata": {
      "needs_background": "light"
     },
     "output_type": "display_data"
    }
   ],
   "source": [
    "(data.end - data.start).hist()"
   ]
  },
  {
   "cell_type": "code",
   "execution_count": 117,
   "metadata": {},
   "outputs": [
    {
     "data": {
      "text/plain": [
       "0    4.0\n",
       "dtype: float64"
      ]
     },
     "execution_count": 117,
     "metadata": {},
     "output_type": "execute_result"
    }
   ],
   "source": [
    "(data.end-data.start).mode()"
   ]
  },
  {
   "cell_type": "code",
   "execution_count": 14,
   "metadata": {},
   "outputs": [
    {
     "data": {
      "text/plain": [
       "(9, (7022, 8), (873, 8), (837, 8))"
      ]
     },
     "execution_count": 14,
     "metadata": {},
     "output_type": "execute_result"
    }
   ],
   "source": [
    "folds, test = urbansound8k.folds(data)\n",
    "len(folds), folds[0][0].shape, folds[0][1].shape, test.shape"
   ]
  },
  {
   "cell_type": "code",
   "execution_count": 169,
   "metadata": {},
   "outputs": [
    {
     "name": "stdout",
     "output_type": "stream",
     "text": [
      "window size 1.152\n"
     ]
    },
    {
     "data": {
      "text/plain": [
       "(-18432.0, -17920.0)"
      ]
     },
     "execution_count": 169,
     "metadata": {},
     "output_type": "execute_result"
    }
   ],
   "source": [
    "# PicakCNN used 950ms, 41 frames for short-frame variant. 50% overlap\n",
    "def sample_windows(length, frame_samples, window_frames, overlap=0.5):\n",
    "    \"\"\"Split @samples into a number of windows of samples\n",
    "    with length @frame_samples * @window_frames\n",
    "    \"\"\"\n",
    "    ws = frame_samples * window_frames\n",
    "    start = 0\n",
    "    while start < (length - (ws * (1-overlap))):\n",
    "        end = min(start + ws, length)\n",
    "        yield start, end\n",
    "        start += (ws * (1-overlap))\n",
    "\n",
    "frame_samples=512\n",
    "window_frames=36\n",
    "fs=16000\n",
    "w_ms = (frame_samples*window_frames/fs)\n",
    "print('window size', w_ms)\n",
    "w = list(sample_windows(int(4.0*fs), frame_samples=frame_samples, window_frames=window_frames))\n",
    "w[-2][0] - w[-2][1], w[-1][0] - w[-1][1]"
   ]
  },
  {
   "cell_type": "code",
   "execution_count": 211,
   "metadata": {},
   "outputs": [
    {
     "name": "stdout",
     "output_type": "stream",
     "text": [
      "cutting 730 samples shorter than 1.0 seconds\n",
      "37064\n"
     ]
    },
    {
     "data": {
      "text/plain": [
       "<matplotlib.axes._subplots.AxesSubplot at 0x7f4ba41c23c8>"
      ]
     },
     "execution_count": 211,
     "metadata": {},
     "output_type": "execute_result"
    },
    {
     "data": {
      "image/png": "[encoded data removed]",
      "text/plain": [
       "<Figure size 432x288 with 1 Axes>"
      ]
     },
     "metadata": {
      "needs_background": "light"
     },
     "output_type": "display_data"
    }
   ],
   "source": [
    "def expand_training_set(samples, frame_samples, window_frames, sample_rate=16000, cut_length=1.0):\n",
    "    chunks = {\n",
    "        'slice_file_name': [],\n",
    "        'fold': [],\n",
    "        'classID': [],\n",
    "        'start': [],\n",
    "        'end': [],\n",
    "    }\n",
    "    \n",
    "    for (index, sample) in samples.iterrows():\n",
    "        duration = sample.end - sample.start\n",
    "        length = int(sample_rate * duration)\n",
    "        for win in sample_windows(length, frame_samples, window_frames):\n",
    "            start, end = win\n",
    "            chunks['slice_file_name'].append(sample.slice_file_name)\n",
    "            chunks['fold'].append(sample.fold)\n",
    "            # to assume class is same as that of parent sample maybe a bit optimistic\n",
    "            # not certain that every chunk has content representative of class\n",
    "            # alternative would be multi-instance learning\n",
    "            chunks['classID'].append(sample.classID) \n",
    "            chunks['start'].append(start/sample_rate)\n",
    "            chunks['end'].append(end/sample_rate)\n",
    "            \n",
    "    df = pandas.DataFrame(chunks)\n",
    "    \n",
    "    if cut_length:\n",
    "        w = (df.end-df.start > cut_length)\n",
    "        cleaned = df[w]\n",
    "        print('cutting {} samples shorter than {} seconds'.format(len(df) - len(cleaned), cut_length))\n",
    "    \n",
    "    return cleaned\n",
    "\n",
    "        \n",
    "df = expand_training_set(folds[0][0], frame_samples=frame_samples, window_frames=window_frames)\n",
    "print(len(df))\n",
    "(df.end-df.start).hist(bins=20)  "
   ]
  },
  {
   "cell_type": "code",
   "execution_count": 212,
   "metadata": {},
   "outputs": [
    {
     "data": {
      "text/plain": [
       "(32, 73)"
      ]
     },
     "execution_count": 212,
     "metadata": {},
     "output_type": "execute_result"
    }
   ],
   "source": [
    "settings = dict(\n",
    "    samplerate=16000,\n",
    "    n_mels=32,\n",
    "    fmin=0,\n",
    "    fmax=8000,\n",
    "    n_fft=512,\n",
    "    hop_length=256,\n",
    ")\n",
    "\n",
    "# TODO: implement data augmentation\n",
    "def load_sample(sample, window_frames=72):\n",
    "    n_mels = settings['n_mels']\n",
    "    sample_rate = settings['samplerate']\n",
    "    hop_length = settings['hop_length']\n",
    "    \n",
    "    # Load precomputed features\n",
    "    folder = os.path.join('pre', preprocess.settings_id(settings, feature='mels'))\n",
    "    path = preprocess.feature_path(sample, out_folder=folder)\n",
    "    mels = numpy.load(path)['arr_0']\n",
    "    \n",
    "    # Cut out the relevant part\n",
    "    start = int(sample.start * (sample_rate / hop_length))\n",
    "    end = int(sample.end * (sample_rate / hop_length))\n",
    "    d = (end-start) / sample_rate\n",
    "    mels = mels[:, start:end]\n",
    "\n",
    "    # zero-pad window to standard length\n",
    "    if window_frames is None:\n",
    "        padded = mels\n",
    "    else:\n",
    "        padded = numpy.full((n_mels, window_frames), 0)    \n",
    "        inp = mels[:, 0:min(window_frames, mels.shape[1])]\n",
    "        padded[:, 0:inp.shape[1]] = inp\n",
    "    \n",
    "    log_mels = librosa.core.power_to_db(padded, top_db=80, ref=numpy.max)\n",
    "    \n",
    "    return log_mels\n",
    "    \n",
    "load_sample(df.iloc[5]).shape"
   ]
  },
  {
   "cell_type": "code",
   "execution_count": 247,
   "metadata": {},
   "outputs": [
    {
     "data": {
      "text/plain": [
       "(16, (8, 32, 73, 1), (8, 10))"
      ]
     },
     "execution_count": 247,
     "metadata": {},
     "output_type": "execute_result"
    }
   ],
   "source": [
    "import joblib\n",
    "def gen(X, Y, loader, batchsize=10, n_classes=10, n_jobs=1):\n",
    "    \n",
    "    assert len(X) == len(Y), 'X and Y must be equal length'\n",
    "    assert len(X) % batchsize == 0, 'input length must be divisible by @batchsize'\n",
    "    \n",
    "    with joblib.Parallel(n_jobs=n_jobs, prefer='threads') as parallel:\n",
    "    \n",
    "        batch_start = 0\n",
    "        while True:\n",
    "            if batch_start >= len(X):\n",
    "                batch_start = 0\n",
    "            \n",
    "            def load_data(inp):\n",
    "                return loader(inp)\n",
    "                \n",
    "            bb = X.iloc[batch_start:batch_start+batchsize]\n",
    "            batch_input = [i for _, i in bb.iterrows()]\n",
    "            \n",
    "            # do the heavy part in parallel\n",
    "            features = parallel(joblib.delayed(load_data)(d) for d in batch_input)\n",
    "            \n",
    "            batch_data = []\n",
    "            batch_labels = []\n",
    "            for i, data in enumerate(features):\n",
    "                data = numpy.expand_dims(data, -1)\n",
    "                y = Y.iloc[batch_start+i]\n",
    "                y = keras.utils.to_categorical(y, num_classes=n_classes)\n",
    "                batch_data.append(data)\n",
    "                batch_labels.append(y)\n",
    "\n",
    "            batch = (numpy.stack(batch_data), numpy.stack(batch_labels))\n",
    "            batch_start += batchsize\n",
    "            yield batch\n",
    "\n",
    "fold = df\n",
    "import itertools\n",
    "g = gen(fold[0:16], fold.classID[0:16], loader=load_sample, batchsize=8)\n",
    "batches = list(itertools.islice(g, 16))\n",
    "len(batches), batches[0][0].shape, batches[0][1].shape"
   ]
  },
  {
   "cell_type": "code",
   "execution_count": null,
   "metadata": {},
   "outputs": [
    {
     "name": "stdout",
     "output_type": "stream",
     "text": [
      "cutting 730 samples shorter than 1.0 seconds\n",
      "cutting 74 samples shorter than 1.0 seconds\n",
      "Epoch 1/10\n",
      "400/400 [==============================] - 2530s 6s/step - loss: 1.8873 - acc: 0.3179 - val_loss: 1.4412 - val_acc: 0.5152\n",
      "\n",
      "Epoch 00001: saving model to first\n",
      "Epoch 2/10\n",
      "400/400 [==============================] - 2292s 6s/step - loss: 1.5540 - acc: 0.4491 - val_loss: 1.2818 - val_acc: 0.6235\n",
      "\n",
      "Epoch 00002: saving model to first\n",
      "Epoch 3/10\n",
      "400/400 [==============================] - 2911s 7s/step - loss: 1.3947 - acc: 0.5131 - val_loss: 1.2589 - val_acc: 0.5938\n",
      "\n",
      "Epoch 00003: saving model to first\n",
      "Epoch 4/10\n",
      "400/400 [==============================] - 2238s 6s/step - loss: 1.2803 - acc: 0.5562 - val_loss: 1.1814 - val_acc: 0.6558\n",
      "\n",
      "Epoch 00004: saving model to first\n",
      "Epoch 5/10\n",
      "400/400 [==============================] - 2351s 6s/step - loss: 1.1925 - acc: 0.5903 - val_loss: 1.1229 - val_acc: 0.6903\n",
      "\n",
      "Epoch 00005: saving model to first\n",
      "Epoch 6/10\n",
      " 89/400 [=====>........................] - ETA: 24:22 - loss: 1.1489 - acc: 0.6040"
     ]
    }
   ],
   "source": [
    "# import dense\n",
    "import dilated\n",
    "model = dilated.build_model(bands=32, frames=73, channels=1)\n",
    "\n",
    "model.compile(loss='categorical_crossentropy', optimizer='rmsprop', metrics=['accuracy'])\n",
    "\n",
    "train = expand_training_set(folds[0][0], frame_samples=frame_samples, window_frames=window_frames)\n",
    "val = expand_training_set(folds[0][1], frame_samples=frame_samples, window_frames=window_frames)\n",
    "\n",
    "train = train.sample(20000, replace=False)\n",
    "val = val.sample(2000, replace=False)\n",
    "\n",
    "batch_size = 50\n",
    "\n",
    "checkpoint = keras.callbacks.ModelCheckpoint('first.hdf5', monitor='val_acc', mode='max',\n",
    "                             period=1, verbose=1, save_best_only=True)\n",
    "callbacks_list = [checkpoint]\n",
    "\n",
    "train_gen = gen(train, train.classID, loader=load_sample, batchsize=batch_size)\n",
    "val_gen = gen(val, val.classID, loader=load_sample, batchsize=batch_size)\n",
    "\n",
    "model.fit_generator(train_gen, validation_data=val_gen,\n",
    "                    steps_per_epoch=math.ceil(len(train)/batch_size),\n",
    "                    validation_steps=math.ceil(len(val)/batch_size),\n",
    "                    callbacks=callbacks_list,\n",
    "                    epochs=10, verbose=1)"
   ]
  },
  {
   "cell_type": "code",
   "execution_count": 240,
   "metadata": {},
   "outputs": [],
   "source": [
    "model.save('first.hdf5')"
   ]
  },
  {
   "cell_type": "code",
   "execution_count": null,
   "metadata": {},
   "outputs": [],
   "source": []
  }
 ],
 "metadata": {
  "kernelspec": {
   "display_name": "Python 3",
   "language": "python",
   "name": "python3"
  },
  "language_info": {
   "codemirror_mode": {
    "name": "ipython",
    "version": 3
   },
   "file_extension": ".py",
   "mimetype": "text/x-python",
   "name": "python",
   "nbconvert_exporter": "python",
   "pygments_lexer": "ipython3",
   "version": "3.7.2"
  }
 },
 "nbformat": 4,
 "nbformat_minor": 2
}
