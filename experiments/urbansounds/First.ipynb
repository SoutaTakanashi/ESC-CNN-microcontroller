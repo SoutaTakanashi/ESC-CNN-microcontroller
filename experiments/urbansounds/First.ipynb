{
 "cells": [
  {
   "cell_type": "code",
   "execution_count": 2,
   "metadata": {},
   "outputs": [],
   "source": [
    "%matplotlib inline\n",
    "%load_ext autoreload\n",
    "%autoreload 2"
   ]
  },
  {
   "cell_type": "code",
   "execution_count": 48,
   "metadata": {},
   "outputs": [],
   "source": [
    "import math\n",
    "import os.path\n",
    "\n",
    "import keras\n",
    "import librosa.feature\n",
    "import sklearn\n",
    "\n",
    "import pandas\n",
    "import numpy\n",
    "from matplotlib import pyplot as plt"
   ]
  },
  {
   "cell_type": "code",
   "execution_count": 33,
   "metadata": {},
   "outputs": [
    {
     "data": {
      "text/html": [
       "<div>\n",
       "<style scoped>\n",
       "    .dataframe tbody tr th:only-of-type {\n",
       "        vertical-align: middle;\n",
       "    }\n",
       "\n",
       "    .dataframe tbody tr th {\n",
       "        vertical-align: top;\n",
       "    }\n",
       "\n",
       "    .dataframe thead th {\n",
       "        text-align: right;\n",
       "    }\n",
       "</style>\n",
       "<table border=\"1\" class=\"dataframe\">\n",
       "  <thead>\n",
       "    <tr style=\"text-align: right;\">\n",
       "      <th></th>\n",
       "      <th>slice_file_name</th>\n",
       "      <th>fsID</th>\n",
       "      <th>start</th>\n",
       "      <th>end</th>\n",
       "      <th>salience</th>\n",
       "      <th>fold</th>\n",
       "      <th>classID</th>\n",
       "      <th>class</th>\n",
       "    </tr>\n",
       "  </thead>\n",
       "  <tbody>\n",
       "    <tr>\n",
       "      <th>0</th>\n",
       "      <td>100032-3-0-0.wav</td>\n",
       "      <td>100032</td>\n",
       "      <td>0.0</td>\n",
       "      <td>0.317551</td>\n",
       "      <td>1</td>\n",
       "      <td>5</td>\n",
       "      <td>3</td>\n",
       "      <td>dog_bark</td>\n",
       "    </tr>\n",
       "    <tr>\n",
       "      <th>1</th>\n",
       "      <td>100263-2-0-117.wav</td>\n",
       "      <td>100263</td>\n",
       "      <td>58.5</td>\n",
       "      <td>62.500000</td>\n",
       "      <td>1</td>\n",
       "      <td>5</td>\n",
       "      <td>2</td>\n",
       "      <td>children_playing</td>\n",
       "    </tr>\n",
       "    <tr>\n",
       "      <th>2</th>\n",
       "      <td>100263-2-0-121.wav</td>\n",
       "      <td>100263</td>\n",
       "      <td>60.5</td>\n",
       "      <td>64.500000</td>\n",
       "      <td>1</td>\n",
       "      <td>5</td>\n",
       "      <td>2</td>\n",
       "      <td>children_playing</td>\n",
       "    </tr>\n",
       "    <tr>\n",
       "      <th>3</th>\n",
       "      <td>100263-2-0-126.wav</td>\n",
       "      <td>100263</td>\n",
       "      <td>63.0</td>\n",
       "      <td>67.000000</td>\n",
       "      <td>1</td>\n",
       "      <td>5</td>\n",
       "      <td>2</td>\n",
       "      <td>children_playing</td>\n",
       "    </tr>\n",
       "    <tr>\n",
       "      <th>4</th>\n",
       "      <td>100263-2-0-137.wav</td>\n",
       "      <td>100263</td>\n",
       "      <td>68.5</td>\n",
       "      <td>72.500000</td>\n",
       "      <td>1</td>\n",
       "      <td>5</td>\n",
       "      <td>2</td>\n",
       "      <td>children_playing</td>\n",
       "    </tr>\n",
       "  </tbody>\n",
       "</table>\n",
       "</div>"
      ],
      "text/plain": [
       "      slice_file_name    fsID  start        end  salience  fold  classID  \\\n",
       "0    100032-3-0-0.wav  100032    0.0   0.317551         1     5        3   \n",
       "1  100263-2-0-117.wav  100263   58.5  62.500000         1     5        2   \n",
       "2  100263-2-0-121.wav  100263   60.5  64.500000         1     5        2   \n",
       "3  100263-2-0-126.wav  100263   63.0  67.000000         1     5        2   \n",
       "4  100263-2-0-137.wav  100263   68.5  72.500000         1     5        2   \n",
       "\n",
       "              class  \n",
       "0          dog_bark  \n",
       "1  children_playing  \n",
       "2  children_playing  \n",
       "3  children_playing  \n",
       "4  children_playing  "
      ]
     },
     "execution_count": 33,
     "metadata": {},
     "output_type": "execute_result"
    }
   ],
   "source": [
    "\n",
    "\n",
    "def load_dataset(path):\n",
    "    metadata_path = os.path.join(path, 'metadata/UrbanSound8K.csv')\n",
    "    samples = pandas.read_csv(metadata_path)\n",
    "    return samples\n",
    "\n",
    "dataset_path = '../../data/UrbanSound8K/'\n",
    "def sample_path(sample):\n",
    "    return os.path.join(dataset_path, 'audio', 'fold'+str(sample.fold), sample.slice_file_name)\n",
    "\n",
    "data = load_dataset(dataset_path)\n",
    "data.head()"
   ]
  },
  {
   "cell_type": "code",
   "execution_count": 38,
   "metadata": {},
   "outputs": [
    {
     "data": {
      "text/plain": [
       "<matplotlib.axes._subplots.AxesSubplot at 0x7f3ce05309e8>"
      ]
     },
     "execution_count": 38,
     "metadata": {},
     "output_type": "execute_result"
    },
    {
     "data": {
      "image/png": "[encoded data removed]",
      "text/plain": [
       "<Figure size 432x288 with 1 Axes>"
      ]
     },
     "metadata": {
      "needs_background": "light"
     },
     "output_type": "display_data"
    }
   ],
   "source": [
    "(data.end - data.start).hist()"
   ]
  },
  {
   "cell_type": "code",
   "execution_count": 73,
   "metadata": {},
   "outputs": [
    {
     "data": {
      "text/plain": [
       "(32, 126)"
      ]
     },
     "execution_count": 73,
     "metadata": {},
     "output_type": "execute_result"
    }
   ],
   "source": [
    "def load_sample(sample, sr=16000, n_mels=32, n_fft=1024, hop_length=512, pad_length=126):\n",
    "    path = sample_path(sample)\n",
    "    y, sr = librosa.load(path, sr=sr)\n",
    "    mels = librosa.feature.melspectrogram(y, n_mels=n_mels, n_fft=n_fft, hop_length=hop_length)\n",
    "    log_mels = librosa.core.power_to_db(mels, top_db=80, ref=numpy.max)\n",
    "    \n",
    "    if pad_length:\n",
    "        out = numpy.full((n_mels, 126), -80)\n",
    "        out[:, 0:log_mels.shape[1]] = log_mels\n",
    "    else:\n",
    "        out = log_mels\n",
    "    \n",
    "    return out\n",
    "    \n",
    "load_sample(data.iloc[91]).shape"
   ]
  },
  {
   "cell_type": "code",
   "execution_count": 74,
   "metadata": {},
   "outputs": [
    {
     "data": {
      "text/plain": [
       "((6316, 8), (1579, 8), (837, 8))"
      ]
     },
     "execution_count": 74,
     "metadata": {},
     "output_type": "execute_result"
    }
   ],
   "source": [
    "# Use fold=10 for testing, as recommended by Urbansound8k dataset authors\n",
    "def split_dataset(data, val_size=0.2):\n",
    "    train = data[data.fold != 10]\n",
    "    test = data[data.fold == 10]\n",
    "\n",
    "    from sklearn.model_selection import train_test_split\n",
    "    train, val = train_test_split(train, test_size=val_size)\n",
    "\n",
    "    return train, val, test\n",
    "                 \n",
    "train, validate, test = split_dataset(data)\n",
    "train.shape, validate.shape, test.shape"
   ]
  },
  {
   "cell_type": "code",
   "execution_count": 99,
   "metadata": {},
   "outputs": [
    {
     "data": {
      "text/plain": [
       "((2, 32, 126, 1), (2, 10))"
      ]
     },
     "execution_count": 99,
     "metadata": {},
     "output_type": "execute_result"
    }
   ],
   "source": [
    "def gen(X, Y, loader, batchsize=10):\n",
    "    n_classes = len(numpy.unique(Y))\n",
    "    \n",
    "    sample_idx = 0\n",
    "    while True:\n",
    "        batch_data = []\n",
    "        batch_labels = []\n",
    "        \n",
    "        while len(batch_data) < batchsize:\n",
    "            if sample_idx >= len(X):\n",
    "                break\n",
    "            \n",
    "            data = loader(X.iloc[sample_idx])\n",
    "            data = numpy.expand_dims(data, -1)\n",
    "            \n",
    "            y = Y.iloc[sample_idx]\n",
    "            y = keras.utils.to_categorical(y, num_classes=n_classes)\n",
    "            \n",
    "            batch_data.append(data)\n",
    "            batch_labels.append(y)\n",
    "            sample_idx += 1\n",
    "            \n",
    "        batch = (numpy.stack(batch_data), numpy.stack(batch_labels))\n",
    "        #print('b', batch[0].shape, batch[1].shape)\n",
    "        yield batch\n",
    "            \n",
    "            \n",
    "g = gen(train, train.classID, loader=load_sample, batchsize=2)\n",
    "b = next(g)\n",
    "b[0].shape, b[1].shape"
   ]
  },
  {
   "cell_type": "code",
   "execution_count": null,
   "metadata": {},
   "outputs": [
    {
     "name": "stdout",
     "output_type": "stream",
     "text": [
      "Epoch 1/10\n",
      " 21/211 [=>............................] - ETA: 23:21 - loss: 2.6972 - acc: 0.1143"
     ]
    }
   ],
   "source": [
    "\n",
    "import dense\n",
    "import dilated\n",
    "model = dilated.build_model(bands=32, frames=126, channels=1)\n",
    "\n",
    "model.compile(loss='categorical_crossentropy', optimizer='rmsprop', metrics=['accuracy'])\n",
    "\n",
    "\n",
    "batch_size = 30\n",
    "train_gen = gen(train, train.classID, loader=load_sample, batchsize=batch_size)\n",
    "val_gen = gen(validate, validate.classID, loader=load_sample, batchsize=batch_size)\n",
    "\n",
    "model.fit_generator(train_gen, validation_data=val_gen,\n",
    "                    steps_per_epoch=math.ceil(len(train)/batch_size),\n",
    "                    validation_steps=math.ceil(len(validate)/batch_size),\n",
    "                    epochs=10, verbose=1)"
   ]
  },
  {
   "cell_type": "code",
   "execution_count": null,
   "metadata": {},
   "outputs": [],
   "source": []
  }
 ],
 "metadata": {
  "kernelspec": {
   "display_name": "Python 3",
   "language": "python",
   "name": "python3"
  },
  "language_info": {
   "codemirror_mode": {
    "name": "ipython",
    "version": 3
   },
   "file_extension": ".py",
   "mimetype": "text/x-python",
   "name": "python",
   "nbconvert_exporter": "python",
   "pygments_lexer": "ipython3",
   "version": "3.7.2"
  }
 },
 "nbformat": 4,
 "nbformat_minor": 2
}
