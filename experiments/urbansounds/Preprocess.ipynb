{
 "cells": [
  {
   "cell_type": "code",
   "execution_count": 1,
   "metadata": {},
   "outputs": [
    {
     "name": "stderr",
     "output_type": "stream",
     "text": [
      "Using TensorFlow backend.\n"
     ]
    }
   ],
   "source": [
    "import math\n",
    "import os.path\n",
    "\n",
    "import keras\n",
    "import librosa.feature\n",
    "import sklearn\n",
    "\n",
    "import pandas\n",
    "import numpy\n",
    "from matplotlib import pyplot as plt\n"
   ]
  },
  {
   "cell_type": "code",
   "execution_count": 2,
   "metadata": {},
   "outputs": [
    {
     "data": {
      "text/html": [
       "<div>\n",
       "<style scoped>\n",
       "    .dataframe tbody tr th:only-of-type {\n",
       "        vertical-align: middle;\n",
       "    }\n",
       "\n",
       "    .dataframe tbody tr th {\n",
       "        vertical-align: top;\n",
       "    }\n",
       "\n",
       "    .dataframe thead th {\n",
       "        text-align: right;\n",
       "    }\n",
       "</style>\n",
       "<table border=\"1\" class=\"dataframe\">\n",
       "  <thead>\n",
       "    <tr style=\"text-align: right;\">\n",
       "      <th></th>\n",
       "      <th>slice_file_name</th>\n",
       "      <th>fsID</th>\n",
       "      <th>start</th>\n",
       "      <th>end</th>\n",
       "      <th>salience</th>\n",
       "      <th>fold</th>\n",
       "      <th>classID</th>\n",
       "      <th>class</th>\n",
       "    </tr>\n",
       "  </thead>\n",
       "  <tbody>\n",
       "    <tr>\n",
       "      <th>0</th>\n",
       "      <td>100032-3-0-0.wav</td>\n",
       "      <td>100032</td>\n",
       "      <td>0.0</td>\n",
       "      <td>0.317551</td>\n",
       "      <td>1</td>\n",
       "      <td>5</td>\n",
       "      <td>3</td>\n",
       "      <td>dog_bark</td>\n",
       "    </tr>\n",
       "    <tr>\n",
       "      <th>1</th>\n",
       "      <td>100263-2-0-117.wav</td>\n",
       "      <td>100263</td>\n",
       "      <td>58.5</td>\n",
       "      <td>62.500000</td>\n",
       "      <td>1</td>\n",
       "      <td>5</td>\n",
       "      <td>2</td>\n",
       "      <td>children_playing</td>\n",
       "    </tr>\n",
       "    <tr>\n",
       "      <th>2</th>\n",
       "      <td>100263-2-0-121.wav</td>\n",
       "      <td>100263</td>\n",
       "      <td>60.5</td>\n",
       "      <td>64.500000</td>\n",
       "      <td>1</td>\n",
       "      <td>5</td>\n",
       "      <td>2</td>\n",
       "      <td>children_playing</td>\n",
       "    </tr>\n",
       "    <tr>\n",
       "      <th>3</th>\n",
       "      <td>100263-2-0-126.wav</td>\n",
       "      <td>100263</td>\n",
       "      <td>63.0</td>\n",
       "      <td>67.000000</td>\n",
       "      <td>1</td>\n",
       "      <td>5</td>\n",
       "      <td>2</td>\n",
       "      <td>children_playing</td>\n",
       "    </tr>\n",
       "    <tr>\n",
       "      <th>4</th>\n",
       "      <td>100263-2-0-137.wav</td>\n",
       "      <td>100263</td>\n",
       "      <td>68.5</td>\n",
       "      <td>72.500000</td>\n",
       "      <td>1</td>\n",
       "      <td>5</td>\n",
       "      <td>2</td>\n",
       "      <td>children_playing</td>\n",
       "    </tr>\n",
       "  </tbody>\n",
       "</table>\n",
       "</div>"
      ],
      "text/plain": [
       "      slice_file_name    fsID  start        end  salience  fold  classID  \\\n",
       "0    100032-3-0-0.wav  100032    0.0   0.317551         1     5        3   \n",
       "1  100263-2-0-117.wav  100263   58.5  62.500000         1     5        2   \n",
       "2  100263-2-0-121.wav  100263   60.5  64.500000         1     5        2   \n",
       "3  100263-2-0-126.wav  100263   63.0  67.000000         1     5        2   \n",
       "4  100263-2-0-137.wav  100263   68.5  72.500000         1     5        2   \n",
       "\n",
       "              class  \n",
       "0          dog_bark  \n",
       "1  children_playing  \n",
       "2  children_playing  \n",
       "3  children_playing  \n",
       "4  children_playing  "
      ]
     },
     "execution_count": 2,
     "metadata": {},
     "output_type": "execute_result"
    }
   ],
   "source": [
    "def load_dataset(path):\n",
    "    metadata_path = os.path.join(path, 'metadata/UrbanSound8K.csv')\n",
    "    samples = pandas.read_csv(metadata_path)\n",
    "    return samples\n",
    "\n",
    "dataset_path = '../../data/UrbanSound8K/'\n",
    "def sample_path(sample):\n",
    "    return os.path.join(dataset_path, 'audio', 'fold'+str(sample.fold), sample.slice_file_name)\n",
    "\n",
    "data = load_dataset(dataset_path)\n",
    "data.head()"
   ]
  },
  {
   "cell_type": "code",
   "execution_count": 16,
   "metadata": {},
   "outputs": [],
   "source": [
    "def feature_extract(y, sr, n_mels=32, n_fft=512, hop_length=256):\n",
    "    mels = librosa.feature.melspectrogram(y, n_mels=n_mels, n_fft=n_fft, hop_length=hop_length)\n",
    "    log_mels = librosa.core.power_to_db(mels, top_db=80, ref=numpy.max)\n",
    "    return log_mels\n",
    "    \n",
    "def silence_feature(bands, length):\n",
    "    return numpy.full((bands, length), -0)\n",
    "    \n",
    "def test_silence_feature():\n",
    "    sr = 16000\n",
    "    mels = 32\n",
    "    \n",
    "    length = int(0.1*sr)\n",
    "    silence = numpy.zeros(length) + numpy.random.normal(0.0, 1e-6, size=length)\n",
    "    f = feature_extract(silence, sr, n_mels=mels)\n",
    "    silent_f = silence_feature(mels, f.shape[1])\n",
    "    numpy.testing.assert_equal(f, silent_f)\n",
    "\n",
    "test_silence_feature()"
   ]
  },
  {
   "cell_type": "code",
   "execution_count": 45,
   "metadata": {},
   "outputs": [
    {
     "data": {
      "text/plain": [
       "'mels:fmax=8000,fmin=0,hop_length=256,n_fft=512,n_mels=32,samplerate=16000'"
      ]
     },
     "execution_count": 45,
     "metadata": {},
     "output_type": "execute_result"
    }
   ],
   "source": [
    "def settings_id(settings, feature='feature'):\n",
    "    keys = sorted(settings.keys())\n",
    "    settings_str = ','.join([ \"{}={}\".format(k, str(settings[k])) for k in keys ])\n",
    "    return feature + ':' + settings_str\n",
    "        \n",
    "settings = dict(\n",
    "    samplerate=16000,\n",
    "    n_mels=32,\n",
    "    fmin=0,\n",
    "    fmax=8000,\n",
    "    n_fft=512,\n",
    "    hop_length=256,\n",
    ")\n",
    "\n",
    "settings_id(settings, feature='mels')"
   ]
  },
  {
   "cell_type": "code",
   "execution_count": 73,
   "metadata": {},
   "outputs": [
    {
     "name": "stderr",
     "output_type": "stream",
     "text": [
      "[Parallel(n_jobs=8)]: Using backend LokyBackend with 8 concurrent workers.\n",
      "[Parallel(n_jobs=8)]: Done 148 tasks      | elapsed:   12.1s\n",
      "[Parallel(n_jobs=8)]: Done 346 tasks      | elapsed:   28.4s\n",
      "[Parallel(n_jobs=8)]: Done 596 tasks      | elapsed:   58.0s\n",
      "[Parallel(n_jobs=8)]: Done 946 tasks      | elapsed:  1.8min\n",
      "[Parallel(n_jobs=8)]: Done 1396 tasks      | elapsed:  2.4min\n",
      "[Parallel(n_jobs=8)]: Done 1946 tasks      | elapsed:  3.6min\n",
      "[Parallel(n_jobs=8)]: Done 2596 tasks      | elapsed:  4.5min\n",
      "[Parallel(n_jobs=8)]: Done 3346 tasks      | elapsed:  6.2min\n",
      "[Parallel(n_jobs=8)]: Done 4196 tasks      | elapsed:  7.4min\n",
      "[Parallel(n_jobs=8)]: Done 5146 tasks      | elapsed:  9.4min\n",
      "[Parallel(n_jobs=8)]: Done 6196 tasks      | elapsed: 11.1min\n",
      "[Parallel(n_jobs=8)]: Done 7346 tasks      | elapsed: 13.1min\n",
      "[Parallel(n_jobs=8)]: Done 8622 tasks      | elapsed: 15.1min\n",
      "[Parallel(n_jobs=8)]: Done 8732 out of 8732 | elapsed: 15.3min finished\n"
     ]
    }
   ],
   "source": [
    "def compute_mels(filepath, settings):\n",
    "    y, sr = librosa.load(filepath, sr=settings['samplerate'])\n",
    "    from librosa.feature import melspectrogram \n",
    "    mels = melspectrogram(y, sr=sr,\n",
    "                         n_mels=settings['n_mels'],\n",
    "                         n_fft=settings['n_fft'],\n",
    "                         hop_length=settings['hop_length'],\n",
    "                         fmin=settings['fmin'],\n",
    "                         fmax=settings['fmax'])\n",
    "    return mels\n",
    "\n",
    "import joblib\n",
    "\n",
    "def precompute(samples, settings, out_dir, n_jobs=8, verbose=1, force=False):\n",
    "    out_folder = os.path.join(out_dir, settings_id(settings, feature='mels'))\n",
    "    if not os.path.exists(out_folder):\n",
    "        os.makedirs(out_folder)\n",
    "\n",
    "    def compute(inp, outp):\n",
    "        if os.path.exists(outp) and not force:\n",
    "            return outp\n",
    "\n",
    "        f = compute_mels(inp, settings)\n",
    "        numpy.savez(outp, f)\n",
    "        return outp\n",
    "    \n",
    "    def job_spec(sample):\n",
    "        path = sample_path(sample)\n",
    "        tokens = path.split(os.sep)\n",
    "        filename = tokens[-1]\n",
    "        filename = filename.replace('.wav', '.npz')\n",
    "        out_fold = os.path.join(out_folder, tokens[-2])\n",
    "        if not os.path.exists(out_fold):\n",
    "            os.makedirs(out_fold)\n",
    "        \n",
    "        out_path = os.path.join(out_fold, filename)\n",
    "        return path, out_path\n",
    "        \n",
    "    jobs = [joblib.delayed(compute)(*job_spec(sample)) for _, sample in samples.iterrows()]\n",
    "    feature_files = joblib.Parallel(n_jobs=n_jobs, verbose=verbose)(jobs) \n",
    "        \n",
    "\n",
    "precompute(data, settings, out_dir='./pre', force=True)"
   ]
  },
  {
   "cell_type": "code",
   "execution_count": 21,
   "metadata": {},
   "outputs": [
    {
     "data": {
      "text/plain": [
       "23.219954648526077"
      ]
     },
     "execution_count": 21,
     "metadata": {},
     "output_type": "execute_result"
    }
   ],
   "source": [
    "(1024/44.100)"
   ]
  },
  {
   "cell_type": "code",
   "execution_count": 22,
   "metadata": {},
   "outputs": [
    {
     "data": {
      "text/plain": [
       "16.0"
      ]
     },
     "execution_count": 22,
     "metadata": {},
     "output_type": "execute_result"
    }
   ],
   "source": [
    "(256)/16.000"
   ]
  },
  {
   "cell_type": "code",
   "execution_count": null,
   "metadata": {},
   "outputs": [],
   "source": []
  }
 ],
 "metadata": {
  "kernelspec": {
   "display_name": "Python 3",
   "language": "python",
   "name": "python3"
  },
  "language_info": {
   "codemirror_mode": {
    "name": "ipython",
    "version": 3
   },
   "file_extension": ".py",
   "mimetype": "text/x-python",
   "name": "python",
   "nbconvert_exporter": "python",
   "pygments_lexer": "ipython3",
   "version": "3.7.2"
  }
 },
 "nbformat": 4,
 "nbformat_minor": 2
}
