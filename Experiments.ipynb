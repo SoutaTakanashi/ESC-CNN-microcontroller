{
 "cells": [
  {
   "cell_type": "code",
   "execution_count": 21,
   "metadata": {},
   "outputs": [],
   "source": [
    "%matplotlib inline\n",
    "%load_ext autoreload\n",
    "%autoreload 2"
   ]
  },
  {
   "cell_type": "code",
   "execution_count": 222,
   "metadata": {},
   "outputs": [],
   "source": [
    "import math\n",
    "import os.path\n",
    "\n",
    "import keras\n",
    "import sklearn\n",
    "import seaborn\n",
    "import pandas\n",
    "import numpy\n",
    "from matplotlib import pyplot as plt\n",
    "\n",
    "from microesc import urbansound8k, preprocess, train, test, report, stm32convert, stats, models\n"
   ]
  },
  {
   "cell_type": "code",
   "execution_count": 3,
   "metadata": {},
   "outputs": [
    {
     "data": {
      "text/html": [
       "<div>\n",
       "<style scoped>\n",
       "    .dataframe tbody tr th:only-of-type {\n",
       "        vertical-align: middle;\n",
       "    }\n",
       "\n",
       "    .dataframe tbody tr th {\n",
       "        vertical-align: top;\n",
       "    }\n",
       "\n",
       "    .dataframe thead th {\n",
       "        text-align: right;\n",
       "    }\n",
       "</style>\n",
       "<table border=\"1\" class=\"dataframe\">\n",
       "  <thead>\n",
       "    <tr style=\"text-align: right;\">\n",
       "      <th></th>\n",
       "      <th>slice_file_name</th>\n",
       "      <th>fsID</th>\n",
       "      <th>start</th>\n",
       "      <th>end</th>\n",
       "      <th>salience</th>\n",
       "      <th>fold</th>\n",
       "      <th>classID</th>\n",
       "      <th>class</th>\n",
       "    </tr>\n",
       "  </thead>\n",
       "  <tbody>\n",
       "    <tr>\n",
       "      <th>0</th>\n",
       "      <td>100032-3-0-0.wav</td>\n",
       "      <td>100032</td>\n",
       "      <td>0.0</td>\n",
       "      <td>0.317551</td>\n",
       "      <td>1</td>\n",
       "      <td>5</td>\n",
       "      <td>3</td>\n",
       "      <td>dog_bark</td>\n",
       "    </tr>\n",
       "    <tr>\n",
       "      <th>1</th>\n",
       "      <td>100263-2-0-117.wav</td>\n",
       "      <td>100263</td>\n",
       "      <td>58.5</td>\n",
       "      <td>62.500000</td>\n",
       "      <td>1</td>\n",
       "      <td>5</td>\n",
       "      <td>2</td>\n",
       "      <td>children_playing</td>\n",
       "    </tr>\n",
       "    <tr>\n",
       "      <th>2</th>\n",
       "      <td>100263-2-0-121.wav</td>\n",
       "      <td>100263</td>\n",
       "      <td>60.5</td>\n",
       "      <td>64.500000</td>\n",
       "      <td>1</td>\n",
       "      <td>5</td>\n",
       "      <td>2</td>\n",
       "      <td>children_playing</td>\n",
       "    </tr>\n",
       "    <tr>\n",
       "      <th>3</th>\n",
       "      <td>100263-2-0-126.wav</td>\n",
       "      <td>100263</td>\n",
       "      <td>63.0</td>\n",
       "      <td>67.000000</td>\n",
       "      <td>1</td>\n",
       "      <td>5</td>\n",
       "      <td>2</td>\n",
       "      <td>children_playing</td>\n",
       "    </tr>\n",
       "    <tr>\n",
       "      <th>4</th>\n",
       "      <td>100263-2-0-137.wav</td>\n",
       "      <td>100263</td>\n",
       "      <td>68.5</td>\n",
       "      <td>72.500000</td>\n",
       "      <td>1</td>\n",
       "      <td>5</td>\n",
       "      <td>2</td>\n",
       "      <td>children_playing</td>\n",
       "    </tr>\n",
       "  </tbody>\n",
       "</table>\n",
       "</div>"
      ],
      "text/plain": [
       "      slice_file_name    fsID  start        end  salience  fold  classID  \\\n",
       "0    100032-3-0-0.wav  100032    0.0   0.317551         1     5        3   \n",
       "1  100263-2-0-117.wav  100263   58.5  62.500000         1     5        2   \n",
       "2  100263-2-0-121.wav  100263   60.5  64.500000         1     5        2   \n",
       "3  100263-2-0-126.wav  100263   63.0  67.000000         1     5        2   \n",
       "4  100263-2-0-137.wav  100263   68.5  72.500000         1     5        2   \n",
       "\n",
       "              class  \n",
       "0          dog_bark  \n",
       "1  children_playing  \n",
       "2  children_playing  \n",
       "3  children_playing  \n",
       "4  children_playing  "
      ]
     },
     "execution_count": 3,
     "metadata": {},
     "output_type": "execute_result"
    }
   ],
   "source": [
    "data = urbansound8k.load_dataset()\n",
    "data.head()"
   ]
  },
  {
   "cell_type": "code",
   "execution_count": 157,
   "metadata": {},
   "outputs": [
    {
     "data": {
      "text/plain": [
       "<matplotlib.axes._subplots.AxesSubplot at 0x7fac12b85240>"
      ]
     },
     "execution_count": 157,
     "metadata": {},
     "output_type": "execute_result"
    },
    {
     "data": {
      "image/png": "[encoded data removed]",
      "text/plain": [
       "<Figure size 432x288 with 1 Axes>"
      ]
     },
     "metadata": {
      "needs_background": "light"
     },
     "output_type": "display_data"
    }
   ],
   "source": [
    "(data.end - data.start).hist()"
   ]
  },
  {
   "cell_type": "code",
   "execution_count": 259,
   "metadata": {},
   "outputs": [
    {
     "name": "stdout",
     "output_type": "stream",
     "text": [
      "o {'frames': 31, 'bands': 60, 'channels': 1, 'pool': (2, 2), 'use_strides': True, 'kernels_start': 20}\n"
     ]
    },
    {
     "data": {
      "text/plain": [
       "{'maccs_frame': 3180954,\n",
       " 'flash_usage': 359510.0,\n",
       " 'ram_usage_max': 56490.0,\n",
       " 'ram_usage_min': 56490.0}"
      ]
     },
     "execution_count": 259,
     "metadata": {},
     "output_type": "execute_result"
    }
   ],
   "source": [
    "s = {\n",
    "    'model': 'sbcnn',\n",
    "    'frames': 31,\n",
    "    'n_mels': 60,\n",
    "    'samplerate': 22050,\n",
    "    'conv_size': (3,3),\n",
    "    'downsample_size': (2,2),\n",
    "    'downsample_type': 'stride',\n",
    "    'filters': 20,\n",
    "}\n",
    "model = models.build(s)\n",
    "ss, ll = stats.check_model_constraints(model)\n",
    "ss"
   ]
  },
  {
   "cell_type": "code",
   "execution_count": 243,
   "metadata": {},
   "outputs": [
    {
     "data": {
      "text/plain": [
       "{'maccs_frame': 2912486,\n",
       " 'flash_usage': 185600.0,\n",
       " 'ram_usage_max': 25320.0,\n",
       " 'ram_usage_min': 25320.0}"
      ]
     },
     "execution_count": 243,
     "metadata": {},
     "output_type": "execute_result"
    }
   ],
   "source": [
    "ss"
   ]
  },
  {
   "cell_type": "code",
   "execution_count": 250,
   "metadata": {},
   "outputs": [
    {
     "data": {
      "text/html": [
       "<div>\n",
       "<style scoped>\n",
       "    .dataframe tbody tr th:only-of-type {\n",
       "        vertical-align: middle;\n",
       "    }\n",
       "\n",
       "    .dataframe tbody tr th {\n",
       "        vertical-align: top;\n",
       "    }\n",
       "\n",
       "    .dataframe thead th {\n",
       "        text-align: right;\n",
       "    }\n",
       "</style>\n",
       "<table border=\"1\" class=\"dataframe\">\n",
       "  <thead>\n",
       "    <tr style=\"text-align: right;\">\n",
       "      <th></th>\n",
       "      <th>name</th>\n",
       "      <th>type</th>\n",
       "      <th>shape_in</th>\n",
       "      <th>shape_out</th>\n",
       "      <th>size_in</th>\n",
       "      <th>size_out</th>\n",
       "      <th>activations</th>\n",
       "      <th>weights</th>\n",
       "    </tr>\n",
       "  </thead>\n",
       "  <tbody>\n",
       "    <tr>\n",
       "      <th>0</th>\n",
       "      <td>conv2d_16</td>\n",
       "      <td>Conv2D</td>\n",
       "      <td>(60, 31, 1)</td>\n",
       "      <td>(60, 31, 24)</td>\n",
       "      <td>1860</td>\n",
       "      <td>44640</td>\n",
       "      <td>5400</td>\n",
       "      <td>240</td>\n",
       "    </tr>\n",
       "    <tr>\n",
       "      <th>3</th>\n",
       "      <td>activation_26</td>\n",
       "      <td>Activation</td>\n",
       "      <td>(15, 15, 24)</td>\n",
       "      <td>(15, 15, 24)</td>\n",
       "      <td>5400</td>\n",
       "      <td>5400</td>\n",
       "      <td>5400</td>\n",
       "      <td>NaN</td>\n",
       "    </tr>\n",
       "    <tr>\n",
       "      <th>4</th>\n",
       "      <td>conv2d_17</td>\n",
       "      <td>Conv2D</td>\n",
       "      <td>(15, 15, 24)</td>\n",
       "      <td>(15, 15, 48)</td>\n",
       "      <td>5400</td>\n",
       "      <td>10800</td>\n",
       "      <td>1008</td>\n",
       "      <td>10416</td>\n",
       "    </tr>\n",
       "    <tr>\n",
       "      <th>7</th>\n",
       "      <td>activation_27</td>\n",
       "      <td>Activation</td>\n",
       "      <td>(3, 7, 48)</td>\n",
       "      <td>(3, 7, 48)</td>\n",
       "      <td>1008</td>\n",
       "      <td>1008</td>\n",
       "      <td>1008</td>\n",
       "      <td>NaN</td>\n",
       "    </tr>\n",
       "    <tr>\n",
       "      <th>8</th>\n",
       "      <td>conv2d_18</td>\n",
       "      <td>Conv2D</td>\n",
       "      <td>(3, 7, 48)</td>\n",
       "      <td>(1, 5, 48)</td>\n",
       "      <td>1008</td>\n",
       "      <td>240</td>\n",
       "      <td>480</td>\n",
       "      <td>20784</td>\n",
       "    </tr>\n",
       "    <tr>\n",
       "      <th>12</th>\n",
       "      <td>dense_11</td>\n",
       "      <td>Dense</td>\n",
       "      <td>(240,)</td>\n",
       "      <td>(64,)</td>\n",
       "      <td>240</td>\n",
       "      <td>64</td>\n",
       "      <td>64</td>\n",
       "      <td>15424</td>\n",
       "    </tr>\n",
       "    <tr>\n",
       "      <th>13</th>\n",
       "      <td>activation_29</td>\n",
       "      <td>Activation</td>\n",
       "      <td>(64,)</td>\n",
       "      <td>(64,)</td>\n",
       "      <td>64</td>\n",
       "      <td>64</td>\n",
       "      <td>64</td>\n",
       "      <td>NaN</td>\n",
       "    </tr>\n",
       "    <tr>\n",
       "      <th>15</th>\n",
       "      <td>dense_12</td>\n",
       "      <td>Dense</td>\n",
       "      <td>(64,)</td>\n",
       "      <td>(10,)</td>\n",
       "      <td>64</td>\n",
       "      <td>10</td>\n",
       "      <td>10</td>\n",
       "      <td>650</td>\n",
       "    </tr>\n",
       "    <tr>\n",
       "      <th>17</th>\n",
       "      <td>activation_30</td>\n",
       "      <td>Activation</td>\n",
       "      <td>(10,)</td>\n",
       "      <td>(10,)</td>\n",
       "      <td>10</td>\n",
       "      <td>10</td>\n",
       "      <td>10</td>\n",
       "      <td>NaN</td>\n",
       "    </tr>\n",
       "  </tbody>\n",
       "</table>\n",
       "</div>"
      ],
      "text/plain": [
       "             name        type      shape_in     shape_out  size_in  size_out  \\\n",
       "0       conv2d_16      Conv2D   (60, 31, 1)  (60, 31, 24)     1860     44640   \n",
       "3   activation_26  Activation  (15, 15, 24)  (15, 15, 24)     5400      5400   \n",
       "4       conv2d_17      Conv2D  (15, 15, 24)  (15, 15, 48)     5400     10800   \n",
       "7   activation_27  Activation    (3, 7, 48)    (3, 7, 48)     1008      1008   \n",
       "8       conv2d_18      Conv2D    (3, 7, 48)    (1, 5, 48)     1008       240   \n",
       "12       dense_11       Dense        (240,)         (64,)      240        64   \n",
       "13  activation_29  Activation         (64,)         (64,)       64        64   \n",
       "15       dense_12       Dense         (64,)         (10,)       64        10   \n",
       "17  activation_30  Activation         (10,)         (10,)       10        10   \n",
       "\n",
       "    activations weights  \n",
       "0          5400     240  \n",
       "3          5400     NaN  \n",
       "4          1008   10416  \n",
       "7          1008     NaN  \n",
       "8           480   20784  \n",
       "12           64   15424  \n",
       "13           64     NaN  \n",
       "15           10     650  \n",
       "17           10     NaN  "
      ]
     },
     "execution_count": 250,
     "metadata": {},
     "output_type": "execute_result"
    }
   ],
   "source": [
    "ll"
   ]
  },
  {
   "cell_type": "code",
   "execution_count": 248,
   "metadata": {},
   "outputs": [
    {
     "data": {
      "text/plain": [
       "4960.0"
      ]
     },
     "execution_count": 248,
     "metadata": {},
     "output_type": "execute_result"
    }
   ],
   "source": [
    "60*31*24 / 9"
   ]
  },
  {
   "cell_type": "code",
   "execution_count": 249,
   "metadata": {},
   "outputs": [
    {
     "data": {
      "text/plain": [
       "5400"
      ]
     },
     "execution_count": 249,
     "metadata": {},
     "output_type": "execute_result"
    }
   ],
   "source": [
    "15*15*24"
   ]
  },
  {
   "cell_type": "code",
   "execution_count": 247,
   "metadata": {},
   "outputs": [
    {
     "data": {
      "image/png": "[encoded data removed]",
      "text/plain": [
       "<Figure size 288x432 with 1 Axes>"
      ]
     },
     "metadata": {
      "needs_background": "light"
     },
     "output_type": "display_data"
    }
   ],
   "source": [
    "def plot_layers_ram(layers_ram, ax=None, max_ram=64e3):\n",
    "    \n",
    "    if not ax:\n",
    "        fig, ax = plt.subplots(1, figsize=(4, 6))\n",
    "    \n",
    "    l = layers_ram.sort_index(ascending=False)\n",
    "    l['activations_ram'] = 4 * l.activations\n",
    "    l = l[l.activations_ram.notna()]\n",
    "    l.plot(kind='barh', ax=ax, y='activations_ram', x='name')\n",
    "    ax.axvspan(xmin=0, xmax=max_ram, alpha=0.2, color='green')\n",
    "    \n",
    "    return fig\n",
    "    \n",
    "plot_layers_ram(ll);\n"
   ]
  },
  {
   "cell_type": "code",
   "execution_count": 28,
   "metadata": {},
   "outputs": [
    {
     "data": {
      "text/plain": [
       "(None, 60, 31, 1)"
      ]
     },
     "execution_count": 28,
     "metadata": {},
     "output_type": "execute_result"
    }
   ],
   "source": [
    "model.layers[0].get_output_shape_at(0)"
   ]
  },
  {
   "cell_type": "code",
   "execution_count": null,
   "metadata": {},
   "outputs": [],
   "source": [
    "# TODO: calculate per-class accuracy. For each fold\n",
    "# TODO: compare single-frame accuracy (from training) versus voted accuracy\n",
    "# TODO: compare no-overlap, 50% overlap and 10% overlap"
   ]
  },
  {
   "cell_type": "code",
   "execution_count": null,
   "metadata": {},
   "outputs": [],
   "source": []
  }
 ],
 "metadata": {
  "kernelspec": {
   "display_name": "Python 3",
   "language": "python",
   "name": "python3"
  },
  "language_info": {
   "codemirror_mode": {
    "name": "ipython",
    "version": 3
   },
   "file_extension": ".py",
   "mimetype": "text/x-python",
   "name": "python",
   "nbconvert_exporter": "python",
   "pygments_lexer": "ipython3",
   "version": "3.7.2"
  }
 },
 "nbformat": 4,
 "nbformat_minor": 2
}
