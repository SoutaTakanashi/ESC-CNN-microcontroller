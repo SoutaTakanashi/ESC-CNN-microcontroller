{
 "cells": [
  {
   "cell_type": "code",
   "execution_count": 1,
   "metadata": {},
   "outputs": [],
   "source": [
    "%matplotlib inline\n",
    "%load_ext autoreload\n",
    "%autoreload 2"
   ]
  },
  {
   "cell_type": "code",
   "execution_count": 3,
   "metadata": {},
   "outputs": [],
   "source": [
    "import math\n",
    "import os.path\n",
    "\n",
    "import keras\n",
    "import sklearn\n",
    "\n",
    "import pandas\n",
    "import numpy\n",
    "from matplotlib import pyplot as plt\n",
    "\n",
    "from microesc import urbansound8k, preprocess, train, test\n"
   ]
  },
  {
   "cell_type": "code",
   "execution_count": 6,
   "metadata": {},
   "outputs": [
    {
     "data": {
      "text/html": [
       "<div>\n",
       "<style scoped>\n",
       "    .dataframe tbody tr th:only-of-type {\n",
       "        vertical-align: middle;\n",
       "    }\n",
       "\n",
       "    .dataframe tbody tr th {\n",
       "        vertical-align: top;\n",
       "    }\n",
       "\n",
       "    .dataframe thead th {\n",
       "        text-align: right;\n",
       "    }\n",
       "</style>\n",
       "<table border=\"1\" class=\"dataframe\">\n",
       "  <thead>\n",
       "    <tr style=\"text-align: right;\">\n",
       "      <th></th>\n",
       "      <th>slice_file_name</th>\n",
       "      <th>fsID</th>\n",
       "      <th>start</th>\n",
       "      <th>end</th>\n",
       "      <th>salience</th>\n",
       "      <th>fold</th>\n",
       "      <th>classID</th>\n",
       "      <th>class</th>\n",
       "    </tr>\n",
       "  </thead>\n",
       "  <tbody>\n",
       "    <tr>\n",
       "      <th>0</th>\n",
       "      <td>100032-3-0-0.wav</td>\n",
       "      <td>100032</td>\n",
       "      <td>0.0</td>\n",
       "      <td>0.317551</td>\n",
       "      <td>1</td>\n",
       "      <td>5</td>\n",
       "      <td>3</td>\n",
       "      <td>dog_bark</td>\n",
       "    </tr>\n",
       "    <tr>\n",
       "      <th>1</th>\n",
       "      <td>100263-2-0-117.wav</td>\n",
       "      <td>100263</td>\n",
       "      <td>58.5</td>\n",
       "      <td>62.500000</td>\n",
       "      <td>1</td>\n",
       "      <td>5</td>\n",
       "      <td>2</td>\n",
       "      <td>children_playing</td>\n",
       "    </tr>\n",
       "    <tr>\n",
       "      <th>2</th>\n",
       "      <td>100263-2-0-121.wav</td>\n",
       "      <td>100263</td>\n",
       "      <td>60.5</td>\n",
       "      <td>64.500000</td>\n",
       "      <td>1</td>\n",
       "      <td>5</td>\n",
       "      <td>2</td>\n",
       "      <td>children_playing</td>\n",
       "    </tr>\n",
       "    <tr>\n",
       "      <th>3</th>\n",
       "      <td>100263-2-0-126.wav</td>\n",
       "      <td>100263</td>\n",
       "      <td>63.0</td>\n",
       "      <td>67.000000</td>\n",
       "      <td>1</td>\n",
       "      <td>5</td>\n",
       "      <td>2</td>\n",
       "      <td>children_playing</td>\n",
       "    </tr>\n",
       "    <tr>\n",
       "      <th>4</th>\n",
       "      <td>100263-2-0-137.wav</td>\n",
       "      <td>100263</td>\n",
       "      <td>68.5</td>\n",
       "      <td>72.500000</td>\n",
       "      <td>1</td>\n",
       "      <td>5</td>\n",
       "      <td>2</td>\n",
       "      <td>children_playing</td>\n",
       "    </tr>\n",
       "  </tbody>\n",
       "</table>\n",
       "</div>"
      ],
      "text/plain": [
       "      slice_file_name    fsID  start        end  salience  fold  classID  \\\n",
       "0    100032-3-0-0.wav  100032    0.0   0.317551         1     5        3   \n",
       "1  100263-2-0-117.wav  100263   58.5  62.500000         1     5        2   \n",
       "2  100263-2-0-121.wav  100263   60.5  64.500000         1     5        2   \n",
       "3  100263-2-0-126.wav  100263   63.0  67.000000         1     5        2   \n",
       "4  100263-2-0-137.wav  100263   68.5  72.500000         1     5        2   \n",
       "\n",
       "              class  \n",
       "0          dog_bark  \n",
       "1  children_playing  \n",
       "2  children_playing  \n",
       "3  children_playing  \n",
       "4  children_playing  "
      ]
     },
     "execution_count": 6,
     "metadata": {},
     "output_type": "execute_result"
    }
   ],
   "source": [
    "data = urbansound8k.load_dataset()\n",
    "data.head()"
   ]
  },
  {
   "cell_type": "code",
   "execution_count": 10,
   "metadata": {},
   "outputs": [
    {
     "name": "stdout",
     "output_type": "stream",
     "text": [
      "Failed to load job sbcnn16k30-20190303-1949-a653-fold0: [Errno 2] File b'data/models/sbcnn16k30-20190303-1949-a653-fold0/train.csv' does not exist: b'data/models/sbcnn16k30-20190303-1949-a653-fold0/train.csv'\n",
      "Failed to load job ldcnn20k60-20190306-0634-ce06-fold0: [Errno 2] File b'data/models/ldcnn20k60-20190306-0634-ce06-fold0/train.csv' does not exist: b'data/models/ldcnn20k60-20190306-0634-ce06-fold0/train.csv'\n",
      "Failed to load job sbcnn16k30-20190302-1902-f03a-fold0: [Errno 2] File b'data/models/sbcnn16k30-20190302-1902-f03a-fold0/train.csv' does not exist: b'data/models/sbcnn16k30-20190302-1902-f03a-fold0/train.csv'\n",
      "Failed to load job sbcnn16k32aug-20190301-0240-abbd-fold0: [Errno 2] File b'data/models/sbcnn16k32aug-20190301-0240-abbd-fold0/train.csv' does not exist: b'data/models/sbcnn16k32aug-20190301-0240-abbd-fold0/train.csv'\n",
      "Failed to load job ldcnn20k60-20190306-0525-0767-fold0: [Errno 2] File b'data/models/ldcnn20k60-20190306-0525-0767-fold0/train.csv' does not exist: b'data/models/ldcnn20k60-20190306-0525-0767-fold0/train.csv'\n",
      "Failed to load job ldcnn20k60-20190310-2309-291d-fold0: [Errno 2] File b'data/models/ldcnn20k60-20190310-2309-291d-fold0/train.csv' does not exist: b'data/models/ldcnn20k60-20190310-2309-291d-fold0/train.csv'\n",
      "Failed to load job sbcnn16k30-20190302-1737-5c84-fold0: [Errno 2] File b'data/models/sbcnn16k30-20190302-1737-5c84-fold0/train.csv' does not exist: b'data/models/sbcnn16k30-20190302-1737-5c84-fold0/train.csv'\n",
      "Failed to load job sbcnn16k32aug-20190301-0242-6ef3-fold0: [Errno 2] File b'data/models/sbcnn16k32aug-20190301-0242-6ef3-fold0/train.csv' does not exist: b'data/models/sbcnn16k32aug-20190301-0242-6ef3-fold0/train.csv'\n",
      "Failed to load job sbcnn16k30-20190302-2238-c63f-fold0: [Errno 2] File b'data/models/sbcnn16k30-20190302-2238-c63f-fold0/train.csv' does not exist: b'data/models/sbcnn16k30-20190302-2238-c63f-fold0/train.csv'\n",
      "Failed to load job sbcnn16k30-20190302-2115-8a3d-fold0: [Errno 2] File b'data/models/sbcnn16k30-20190302-2115-8a3d-fold0/train.csv' does not exist: b'data/models/sbcnn16k30-20190302-2115-8a3d-fold0/train.csv'\n",
      "Failed to load job ldcnn20k60-20190311-1608-693f-fold0: [Errno 2] File b'data/models/ldcnn20k60-20190311-1608-693f-fold0/train.csv' does not exist: b'data/models/ldcnn20k60-20190311-1608-693f-fold0/train.csv'\n",
      "Failed to load job sbcnn16k32aug-20190301-0152-1180-fold0: [Errno 2] File b'data/models/sbcnn16k32aug-20190301-0152-1180-fold0/train.csv' does not exist: b'data/models/sbcnn16k32aug-20190301-0152-1180-fold0/train.csv'\n",
      "Failed to load job sbcnn16k30-20190302-2009-fd7d-fold0: [Errno 2] File b'data/models/sbcnn16k30-20190302-2009-fd7d-fold0/train.csv' does not exist: b'data/models/sbcnn16k30-20190302-2009-fd7d-fold0/train.csv'\n",
      "Failed to load job ldcnn20k60-20190310-2105-9883-fold0: [Errno 2] File b'data/models/ldcnn20k60-20190310-2105-9883-fold0/train.csv' does not exist: b'data/models/ldcnn20k60-20190310-2105-9883-fold0/train.csv'\n",
      "Failed to load job sbcnn16k30-20190303-2020-19c7-fold0: Length of values does not match length of index\n",
      "Failed to load job sbcnn16k30-20190302-2040-2b8c-fold0: [Errno 2] File b'data/models/sbcnn16k30-20190302-2040-2b8c-fold0/train.csv' does not exist: b'data/models/sbcnn16k30-20190302-2040-2b8c-fold0/train.csv'\n",
      "Failed to load job sbcnn16k30-20190302-2335-829b-fold0: [Errno 2] File b'data/models/sbcnn16k30-20190302-2335-829b-fold0/train.csv' does not exist: b'data/models/sbcnn16k30-20190302-2335-829b-fold0/train.csv'\n",
      "Failed to load job sbcnn16k30-20190302-2156-a216-fold0: [Errno 2] File b'data/models/sbcnn16k30-20190302-2156-a216-fold0/train.csv' does not exist: b'data/models/sbcnn16k30-20190302-2156-a216-fold0/train.csv'\n",
      "Failed to load job ldcnn20k60-20190311-0014-0537-fold0: [Errno 2] File b'data/models/ldcnn20k60-20190311-0014-0537-fold0/train.csv' does not exist: b'data/models/ldcnn20k60-20190311-0014-0537-fold0/train.csv'\n",
      "Failed to load job sbcnn16k30-20190302-1611-4f26-fold0: [Errno 2] File b'data/models/sbcnn16k30-20190302-1611-4f26-fold0/train.csv' does not exist: b'data/models/sbcnn16k30-20190302-1611-4f26-fold0/train.csv'\n",
      "Failed to load job sbcnn.orig-2019-02-26-13-56-26d5f8ac-fold0: too many values to unpack (expected 5)\n",
      "Failed to load job sbcnn16k32aug-20190301-0147-7fe7-fold4: [Errno 2] File b'data/models/sbcnn16k32aug-20190301-0147-7fe7-fold4/train.csv' does not exist: b'data/models/sbcnn16k32aug-20190301-0147-7fe7-fold4/train.csv'\n",
      "Failed to load job sbcnn16k30-20190302-2115-7f20-fold0: [Errno 2] File b'data/models/sbcnn16k30-20190302-2115-7f20-fold0/train.csv' does not exist: b'data/models/sbcnn16k30-20190302-2115-7f20-fold0/train.csv'\n",
      "Failed to load job ldcnn20k60-20190310-2335-b653-fold0: [Errno 2] File b'data/models/ldcnn20k60-20190310-2335-b653-fold0/train.csv' does not exist: b'data/models/ldcnn20k60-20190310-2335-b653-fold0/train.csv'\n",
      "Failed to load job sbcnn16k30-20190303-2133-e373-fold0: [Errno 2] File b'data/models/sbcnn16k30-20190303-2133-e373-fold0/train.csv' does not exist: b'data/models/sbcnn16k30-20190303-2133-e373-fold0/train.csv'\n",
      "Failed to load job ldcnn20k60-20190311-0035-f6ca-fold0: Length of values does not match length of index\n",
      "Failed to load job sbcnn16k30-20190302-1849-da10-fold0: [Errno 2] File b'data/models/sbcnn16k30-20190302-1849-da10-fold0/train.csv' does not exist: b'data/models/sbcnn16k30-20190302-1849-da10-fold0/train.csv'\n",
      "Failed to load job sbcnn16k32aug-20190301-0249-0360-fold0: [Errno 2] File b'data/models/sbcnn16k32aug-20190301-0249-0360-fold0/train.csv' does not exist: b'data/models/sbcnn16k32aug-20190301-0249-0360-fold0/train.csv'\n",
      "Failed to load job sbcnn16k32aug-20190301-0058-06e1: not enough values to unpack (expected 5, got 4)\n",
      "Failed to load job ldcnn20k60-20190306-0543-f898-fold0: Length of values does not match length of index\n",
      "Failed to load job ldcnn20k60-20190311-1708-f778-fold0: Length of values does not match length of index\n",
      "Failed to load job sbcnn44k32-20190304-0310-10fe-fold0: [Errno 2] File b'data/models/sbcnn44k32-20190304-0310-10fe-fold0/train.csv' does not exist: b'data/models/sbcnn44k32-20190304-0310-10fe-fold0/train.csv'\n",
      "Failed to load job ldcnn20k60-20190311-1229-f1ae-fold0: [Errno 2] File b'data/models/ldcnn20k60-20190311-1229-f1ae-fold0/train.csv' does not exist: b'data/models/ldcnn20k60-20190311-1229-f1ae-fold0/train.csv'\n",
      "Failed to load job ldcnn20k60-20190310-2252-f9c2-fold0: [Errno 2] File b'data/models/ldcnn20k60-20190310-2252-f9c2-fold0/train.csv' does not exist: b'data/models/ldcnn20k60-20190310-2252-f9c2-fold0/train.csv'\n",
      "Failed to load job sbcnn16k30-20190302-1955-8d3b-fold0: [Errno 2] File b'data/models/sbcnn16k30-20190302-1955-8d3b-fold0/train.csv' does not exist: b'data/models/sbcnn16k30-20190302-1955-8d3b-fold0/train.csv'\n",
      "Failed to load job sbcnn16k30-20190302-2109-f1cb-fold0: [Errno 2] File b'data/models/sbcnn16k30-20190302-2109-f1cb-fold0/train.csv' does not exist: b'data/models/sbcnn16k30-20190302-2109-f1cb-fold0/train.csv'\n",
      "Failed to load job ldcnn20k60-20190306-1623-6ed4-fold0: [Errno 2] File b'data/models/ldcnn20k60-20190306-1623-6ed4-fold0/train.csv' does not exist: b'data/models/ldcnn20k60-20190306-1623-6ed4-fold0/train.csv'\n",
      "Failed to load job sbcnn.orig-2019-02-26-02-12-2c8ffebe-fold7: too many values to unpack (expected 5)\n",
      "Failed to load job sbcnn.orig-2019-02-26-02-12-2c8ffebe-fold5: too many values to unpack (expected 5)\n",
      "Failed to load job ldcnn20k60-20190311-1609-a102-fold0: [Errno 2] File b'data/models/ldcnn20k60-20190311-1609-a102-fold0/train.csv' does not exist: b'data/models/ldcnn20k60-20190311-1609-a102-fold0/train.csv'\n",
      "Failed to load job ldcnn20k60-20190310-2254-3f9b-fold0: [Errno 2] File b'data/models/ldcnn20k60-20190310-2254-3f9b-fold0/train.csv' does not exist: b'data/models/ldcnn20k60-20190310-2254-3f9b-fold0/train.csv'\n",
      "Failed to load job ldcnn20k60-20190311-0343-e08d-fold0: [Errno 2] File b'data/models/ldcnn20k60-20190311-0343-e08d-fold0/train.csv' does not exist: b'data/models/ldcnn20k60-20190311-0343-e08d-fold0/train.csv'\n",
      "Failed to load job sbcnn16k30-20190303-0130-6c66-fold0: [Errno 2] File b'data/models/sbcnn16k30-20190303-0130-6c66-fold0/train.csv' does not exist: b'data/models/sbcnn16k30-20190303-0130-6c66-fold0/train.csv'\n",
      "Failed to load job sbcnn.orig-2019-02-26-02-12-2c8ffebe-fold1: too many values to unpack (expected 5)\n",
      "Failed to load job ldcnn20k60-20190312-0313-d213-fold0: [Errno 2] File b'data/models/ldcnn20k60-20190312-0313-d213-fold0/train.csv' does not exist: b'data/models/ldcnn20k60-20190312-0313-d213-fold0/train.csv'\n",
      "Failed to load job sbcnn16k30-20190302-1927-9743-fold0: [Errno 2] File b'data/models/sbcnn16k30-20190302-1927-9743-fold0/train.csv' does not exist: b'data/models/sbcnn16k30-20190302-1927-9743-fold0/train.csv'\n",
      "Failed to load job sbcnn16k30-2019-02-26-22-44-99208a3b-fold2: too many values to unpack (expected 5)\n",
      "Failed to load job sbcnn16k30-20190302-1611-4f26-fold5: [Errno 2] File b'data/models/sbcnn16k30-20190302-1611-4f26-fold5/train.csv' does not exist: b'data/models/sbcnn16k30-20190302-1611-4f26-fold5/train.csv'\n",
      "Failed to load job ldcnn20k60-20190311-0009-8d05-fold0: [Errno 2] File b'data/models/ldcnn20k60-20190311-0009-8d05-fold0/train.csv' does not exist: b'data/models/ldcnn20k60-20190311-0009-8d05-fold0/train.csv'\n",
      "Failed to load job ldcnn20k60-20190306-1623-7ba2-fold0: [Errno 2] File b'data/models/ldcnn20k60-20190306-1623-7ba2-fold0/train.csv' does not exist: b'data/models/ldcnn20k60-20190306-1623-7ba2-fold0/train.csv'\n",
      "Failed to load job sbcnn16k32aug-20190301-0253-51f2-fold0: [Errno 2] File b'data/models/sbcnn16k32aug-20190301-0253-51f2-fold0/train.csv' does not exist: b'data/models/sbcnn16k32aug-20190301-0253-51f2-fold0/train.csv'\n",
      "Failed to load job ldcnn20k60-20190306-0522-912a-fold0: [Errno 2] File b'data/models/ldcnn20k60-20190306-0522-912a-fold0/train.csv' does not exist: b'data/models/ldcnn20k60-20190306-0522-912a-fold0/train.csv'\n",
      "Failed to load job sbcnn16k30-20190303-2016-c348-fold0: [Errno 2] File b'data/models/sbcnn16k30-20190303-2016-c348-fold0/train.csv' does not exist: b'data/models/sbcnn16k30-20190303-2016-c348-fold0/train.csv'\n",
      "Failed to load job ldcnn20k60-20190306-0524-0863-fold0: [Errno 2] File b'data/models/ldcnn20k60-20190306-0524-0863-fold0/train.csv' does not exist: b'data/models/ldcnn20k60-20190306-0524-0863-fold0/train.csv'\n",
      "Failed to load job ldcnn20k60-20190311-2247-39cc-fold0: [Errno 2] File b'data/models/ldcnn20k60-20190311-2247-39cc-fold0/train.csv' does not exist: b'data/models/ldcnn20k60-20190311-2247-39cc-fold0/train.csv'\n",
      "Failed to load job sbcnn16k30-20190303-2019-d37b-fold0: [Errno 2] File b'data/models/sbcnn16k30-20190303-2019-d37b-fold0/train.csv' does not exist: b'data/models/sbcnn16k30-20190303-2019-d37b-fold0/train.csv'\n",
      "Failed to load job sbcnn16k30-20190302-1611-4f26-fold4: [Errno 2] File b'data/models/sbcnn16k30-20190302-1611-4f26-fold4/train.csv' does not exist: b'data/models/sbcnn16k30-20190302-1611-4f26-fold4/train.csv'\n",
      "Failed to load job sbcnn16k30-20190302-2003-8c69-fold0: [Errno 2] File b'data/models/sbcnn16k30-20190302-2003-8c69-fold0/train.csv' does not exist: b'data/models/sbcnn16k30-20190302-2003-8c69-fold0/train.csv'\n",
      "Failed to load job ldcnn20k60-20190311-1548-e873-fold0: [Errno 2] File b'data/models/ldcnn20k60-20190311-1548-e873-fold0/train.csv' does not exist: b'data/models/ldcnn20k60-20190311-1548-e873-fold0/train.csv'\n",
      "Failed to load job ldcnn20k60-20190311-0248-4945-fold0: [Errno 2] File b'data/models/ldcnn20k60-20190311-0248-4945-fold0/train.csv' does not exist: b'data/models/ldcnn20k60-20190311-0248-4945-fold0/train.csv'\n",
      "Failed to load job ldcnn20k60-20190311-1609-e570-fold0: [Errno 2] File b'data/models/ldcnn20k60-20190311-1609-e570-fold0/train.csv' does not exist: b'data/models/ldcnn20k60-20190311-1609-e570-fold0/train.csv'\n",
      "Failed to load job ldcnn20k60-20190325-2352-2ed7-fold0: [Errno 2] File b'data/models/ldcnn20k60-20190325-2352-2ed7-fold0/train.csv' does not exist: b'data/models/ldcnn20k60-20190325-2352-2ed7-fold0/train.csv'\n",
      "Failed to load job sbcnn16k30-20190303-1956-a418-fold0: [Errno 2] File b'data/models/sbcnn16k30-20190303-1956-a418-fold0/train.csv' does not exist: b'data/models/sbcnn16k30-20190303-1956-a418-fold0/train.csv'\n",
      "Failed to load job sbcnn16k32aug-20190301-0120-7148-fold7: [Errno 2] File b'data/models/sbcnn16k32aug-20190301-0120-7148-fold7/train.csv' does not exist: b'data/models/sbcnn16k32aug-20190301-0120-7148-fold7/train.csv'\n",
      "Failed to load job ldcnn20k60-20190317-0055-07e1-fold0: [Errno 2] File b'data/models/ldcnn20k60-20190317-0055-07e1-fold0/train.csv' does not exist: b'data/models/ldcnn20k60-20190317-0055-07e1-fold0/train.csv'\n",
      "Failed to load job sbcnn16k30-20190302-1611-4f26-fold2: [Errno 2] File b'data/models/sbcnn16k30-20190302-1611-4f26-fold2/train.csv' does not exist: b'data/models/sbcnn16k30-20190302-1611-4f26-fold2/train.csv'\n",
      "Failed to load job ldcnn20k60-20190310-2244-916e-fold0: [Errno 2] File b'data/models/ldcnn20k60-20190310-2244-916e-fold0/train.csv' does not exist: b'data/models/ldcnn20k60-20190310-2244-916e-fold0/train.csv'\n",
      "Failed to load job sbcnn16k30-20190303-1935-b16c-fold0: [Errno 2] File b'data/models/sbcnn16k30-20190303-1935-b16c-fold0/train.csv' does not exist: b'data/models/sbcnn16k30-20190303-1935-b16c-fold0/train.csv'\n",
      "Failed to load job ldcnn20k60-20190312-0311-8893-fold0: [Errno 2] File b'data/models/ldcnn20k60-20190312-0311-8893-fold0/train.csv' does not exist: b'data/models/ldcnn20k60-20190312-0311-8893-fold0/train.csv'\n",
      "Failed to load job ldcnn20k60-20190316-1417-04f1-fold0: [Errno 2] File b'data/models/ldcnn20k60-20190316-1417-04f1-fold0/train.csv' does not exist: b'data/models/ldcnn20k60-20190316-1417-04f1-fold0/train.csv'\n",
      "Failed to load job sbcnn16k32aug-20190301-0100-6a56-fold0: [Errno 2] File b'data/models/sbcnn16k32aug-20190301-0100-6a56-fold0/train.csv' does not exist: b'data/models/sbcnn16k32aug-20190301-0100-6a56-fold0/train.csv'\n",
      "Failed to load job sbcnn.orig-2019-02-26-02-12-2c8ffebe-fold8: too many values to unpack (expected 5)\n",
      "Failed to load job ldcnn20k60-20190310-2333-9b0a-fold0: [Errno 2] File b'data/models/ldcnn20k60-20190310-2333-9b0a-fold0/train.csv' does not exist: b'data/models/ldcnn20k60-20190310-2333-9b0a-fold0/train.csv'\n",
      "Failed to load job sbcnn16k32aug-20190301-0240-8958-fold0: [Errno 2] File b'data/models/sbcnn16k32aug-20190301-0240-8958-fold0/train.csv' does not exist: b'data/models/sbcnn16k32aug-20190301-0240-8958-fold0/train.csv'\n",
      "Failed to load job sbcnn16k30-20190302-2303-974b-fold0: [Errno 2] File b'data/models/sbcnn16k30-20190302-2303-974b-fold0/train.csv' does not exist: b'data/models/sbcnn16k30-20190302-2303-974b-fold0/train.csv'\n",
      "Failed to load job ldcnn20k60-20190306-1604-7743-fold0: [Errno 2] File b'data/models/ldcnn20k60-20190306-1604-7743-fold0/train.csv' does not exist: b'data/models/ldcnn20k60-20190306-1604-7743-fold0/train.csv'\n",
      "Failed to load job ldcnn20k60-20190306-0509-4d2f-fold0: [Errno 2] File b'data/models/ldcnn20k60-20190306-0509-4d2f-fold0/train.csv' does not exist: b'data/models/ldcnn20k60-20190306-0509-4d2f-fold0/train.csv'\n",
      "Failed to load job sbcnn16k30-20190303-0130-1dd0-fold0: [Errno 2] File b'data/models/sbcnn16k30-20190303-0130-1dd0-fold0/train.csv' does not exist: b'data/models/sbcnn16k30-20190303-0130-1dd0-fold0/train.csv'\n",
      "Failed to load job ldcnn20k60-20190316-1524-7fcb-fold0: [Errno 2] File b'data/models/ldcnn20k60-20190316-1524-7fcb-fold0/train.csv' does not exist: b'data/models/ldcnn20k60-20190316-1524-7fcb-fold0/train.csv'\n",
      "Failed to load job ldcnn20k60-20190311-0116-a428-fold0: [Errno 2] File b'data/models/ldcnn20k60-20190311-0116-a428-fold0/train.csv' does not exist: b'data/models/ldcnn20k60-20190311-0116-a428-fold0/train.csv'\n",
      "Failed to load job sbcnn16k30-20190303-1948-5dd7-fold0: [Errno 2] File b'data/models/sbcnn16k30-20190303-1948-5dd7-fold0/train.csv' does not exist: b'data/models/sbcnn16k30-20190303-1948-5dd7-fold0/train.csv'\n",
      "Failed to load job sbcnn16k32aug-20190301-0120-7148-fold3: [Errno 2] File b'data/models/sbcnn16k32aug-20190301-0120-7148-fold3/train.csv' does not exist: b'data/models/sbcnn16k32aug-20190301-0120-7148-fold3/train.csv'\n",
      "Failed to load job ldcnn20k60-20190310-2241-ddb6-fold0: [Errno 2] File b'data/models/ldcnn20k60-20190310-2241-ddb6-fold0/train.csv' does not exist: b'data/models/ldcnn20k60-20190310-2241-ddb6-fold0/train.csv'\n",
      "Failed to load job ldcnn20k60-20190311-0023-c308-fold0: [Errno 2] File b'data/models/ldcnn20k60-20190311-0023-c308-fold0/train.csv' does not exist: b'data/models/ldcnn20k60-20190311-0023-c308-fold0/train.csv'\n",
      "Failed to load job sbcnn16k30-2019-02-26-22-44-99208a3b-fold8: too many values to unpack (expected 5)\n",
      "Failed to load job sbcnn16k30-20190303-2018-5c93-fold0: [Errno 2] File b'data/models/sbcnn16k30-20190303-2018-5c93-fold0/train.csv' does not exist: b'data/models/sbcnn16k30-20190303-2018-5c93-fold0/train.csv'\n",
      "Failed to load job ldcnn20k60-20190312-0140-872e-fold0: [Errno 2] File b'data/models/ldcnn20k60-20190312-0140-872e-fold0/train.csv' does not exist: b'data/models/ldcnn20k60-20190312-0140-872e-fold0/train.csv'\n",
      "Failed to load job ldcnn20k60-20190317-1453-1067-fold0: [Errno 2] File b'data/models/ldcnn20k60-20190317-1453-1067-fold0/train.csv' does not exist: b'data/models/ldcnn20k60-20190317-1453-1067-fold0/train.csv'\n",
      "Failed to load job sbcnn16k30-20190303-2134-7c53-fold0: Length of values does not match length of index\n",
      "Failed to load job ldcnn20k60-20190311-2003-977a-fold0: [Errno 2] File b'data/models/ldcnn20k60-20190311-2003-977a-fold0/train.csv' does not exist: b'data/models/ldcnn20k60-20190311-2003-977a-fold0/train.csv'\n",
      "Failed to load job ldcnn20k60-20190315-2127-e721-fold0: [Errno 2] File b'data/models/ldcnn20k60-20190315-2127-e721-fold0/train.csv' does not exist: b'data/models/ldcnn20k60-20190315-2127-e721-fold0/train.csv'\n",
      "Failed to load job ldcnn20k60-20190311-0115-c8eb-fold0: [Errno 2] File b'data/models/ldcnn20k60-20190311-0115-c8eb-fold0/train.csv' does not exist: b'data/models/ldcnn20k60-20190311-0115-c8eb-fold0/train.csv'\n",
      "Failed to load job sbcnn16k32aug-20190301-0147-7fe7-fold8: [Errno 2] File b'data/models/sbcnn16k32aug-20190301-0147-7fe7-fold8/train.csv' does not exist: b'data/models/sbcnn16k32aug-20190301-0147-7fe7-fold8/train.csv'\n",
      "Failed to load job sbcnn16k30-20190302-1611-4f26-fold7: [Errno 2] File b'data/models/sbcnn16k30-20190302-1611-4f26-fold7/train.csv' does not exist: b'data/models/sbcnn16k30-20190302-1611-4f26-fold7/train.csv'\n",
      "Failed to load job ldcnn20k60-20190311-0343-476f-fold0: [Errno 2] File b'data/models/ldcnn20k60-20190311-0343-476f-fold0/train.csv' does not exist: b'data/models/ldcnn20k60-20190311-0343-476f-fold0/train.csv'\n",
      "Failed to load job ldcnn20k60-20190306-0528-0620-fold0: Length of values does not match length of index\n",
      "Failed to load job sbcnn.orig-2019-02-26-02-33-f302ed8f-fold0: too many values to unpack (expected 5)\n",
      "Failed to load job ldcnn20k60-20190316-2008-bec5-fold0: [Errno 2] File b'data/models/ldcnn20k60-20190316-2008-bec5-fold0/train.csv' does not exist: b'data/models/ldcnn20k60-20190316-2008-bec5-fold0/train.csv'\n",
      "Failed to load job sbcnn16k30-20190303-1934-b32e-fold0: [Errno 2] File b'data/models/sbcnn16k30-20190303-1934-b32e-fold0/train.csv' does not exist: b'data/models/sbcnn16k30-20190303-1934-b32e-fold0/train.csv'\n",
      "Failed to load job sbcnn44k128aug-20190227-0220-48ba-fold3: [Errno 2] File b'data/models/sbcnn44k128aug-20190227-0220-48ba-fold3/train.csv' does not exist: b'data/models/sbcnn44k128aug-20190227-0220-48ba-fold3/train.csv'\n",
      "Failed to load job sbcnn16k32aug-20190301-0248-365c-fold0: [Errno 2] File b'data/models/sbcnn16k32aug-20190301-0248-365c-fold0/train.csv' does not exist: b'data/models/sbcnn16k32aug-20190301-0248-365c-fold0/train.csv'\n",
      "Failed to load job sbcnn16k32aug-20190301-0252-3b85-fold0: [Errno 2] File b'data/models/sbcnn16k32aug-20190301-0252-3b85-fold0/train.csv' does not exist: b'data/models/sbcnn16k32aug-20190301-0252-3b85-fold0/train.csv'\n",
      "Failed to load job ldcnn20k60-20190312-0011-f7ad-fold0: [Errno 2] File b'data/models/ldcnn20k60-20190312-0011-f7ad-fold0/train.csv' does not exist: b'data/models/ldcnn20k60-20190312-0011-f7ad-fold0/train.csv'\n",
      "Failed to load job sbcnn16k30-20190303-2019-d0e7-fold0: [Errno 2] File b'data/models/sbcnn16k30-20190303-2019-d0e7-fold0/train.csv' does not exist: b'data/models/sbcnn16k30-20190303-2019-d0e7-fold0/train.csv'\n",
      "Failed to load job sbcnn.orig-2019-02-26-13-56-26d5f8ac-fold2: too many values to unpack (expected 5)\n",
      "Failed to load job ldcnn20k60-20190310-2111-68a2-fold0: [Errno 2] File b'data/models/ldcnn20k60-20190310-2111-68a2-fold0/train.csv' does not exist: b'data/models/ldcnn20k60-20190310-2111-68a2-fold0/train.csv'\n",
      "Failed to load job sbcnn16k32aug-20190301-0120-7148-fold5: [Errno 2] File b'data/models/sbcnn16k32aug-20190301-0120-7148-fold5/train.csv' does not exist: b'data/models/sbcnn16k32aug-20190301-0120-7148-fold5/train.csv'\n",
      "Failed to load job ldcnn20k60-20190306-0514-def7-fold0: [Errno 2] File b'data/models/ldcnn20k60-20190306-0514-def7-fold0/train.csv' does not exist: b'data/models/ldcnn20k60-20190306-0514-def7-fold0/train.csv'\n",
      "Failed to load job sbcnn16k30-20190302-1507-9dde-fold0: [Errno 2] File b'data/models/sbcnn16k30-20190302-1507-9dde-fold0/train.csv' does not exist: b'data/models/sbcnn16k30-20190302-1507-9dde-fold0/train.csv'\n",
      "Failed to load job sbcnn16k30-20190302-2328-d6cf-fold0: [Errno 2] File b'data/models/sbcnn16k30-20190302-2328-d6cf-fold0/train.csv' does not exist: b'data/models/sbcnn16k30-20190302-2328-d6cf-fold0/train.csv'\n",
      "Failed to load job ldcnn20k60-20190310-2253-b2ba-fold0: [Errno 2] File b'data/models/ldcnn20k60-20190310-2253-b2ba-fold0/train.csv' does not exist: b'data/models/ldcnn20k60-20190310-2253-b2ba-fold0/train.csv'\n",
      "Failed to load job ldcnn20k60-20190311-0027-7ed9-fold0: [Errno 2] File b'data/models/ldcnn20k60-20190311-0027-7ed9-fold0/train.csv' does not exist: b'data/models/ldcnn20k60-20190311-0027-7ed9-fold0/train.csv'\n",
      "Failed to load job sbcnn16k32aug-20190301-0147-7fe7-fold3: [Errno 2] File b'data/models/sbcnn16k32aug-20190301-0147-7fe7-fold3/train.csv' does not exist: b'data/models/sbcnn16k32aug-20190301-0147-7fe7-fold3/train.csv'\n",
      "Failed to load job ldcnn20k60-20190306-1622-cc28-fold0: [Errno 2] File b'data/models/ldcnn20k60-20190306-1622-cc28-fold0/train.csv' does not exist: b'data/models/ldcnn20k60-20190306-1622-cc28-fold0/train.csv'\n",
      "Failed to load job ldcnn20k60-20190311-1609-8d7e-fold0: [Errno 2] File b'data/models/ldcnn20k60-20190311-1609-8d7e-fold0/train.csv' does not exist: b'data/models/ldcnn20k60-20190311-1609-8d7e-fold0/train.csv'\n",
      "Failed to load job sbcnn16k30-20190303-1950-a2c1-fold0: [Errno 2] File b'data/models/sbcnn16k30-20190303-1950-a2c1-fold0/train.csv' does not exist: b'data/models/sbcnn16k30-20190303-1950-a2c1-fold0/train.csv'\n",
      "Failed to load job sbcnn16k30-20190303-1947-b784-fold0: [Errno 2] File b'data/models/sbcnn16k30-20190303-1947-b784-fold0/train.csv' does not exist: b'data/models/sbcnn16k30-20190303-1947-b784-fold0/train.csv'\n",
      "Failed to load job sbcnn16k32aug-20190301-0256-5b9b-fold0: [Errno 2] File b'data/models/sbcnn16k32aug-20190301-0256-5b9b-fold0/train.csv' does not exist: b'data/models/sbcnn16k32aug-20190301-0256-5b9b-fold0/train.csv'\n",
      "Failed to load job ldcnn20k60-20190316-0546-8843-fold0: [Errno 2] File b'data/models/ldcnn20k60-20190316-0546-8843-fold0/train.csv' does not exist: b'data/models/ldcnn20k60-20190316-0546-8843-fold0/train.csv'\n",
      "Failed to load job ldcnn20k60-20190310-2245-3baa-fold0: [Errno 2] File b'data/models/ldcnn20k60-20190310-2245-3baa-fold0/train.csv' does not exist: b'data/models/ldcnn20k60-20190310-2245-3baa-fold0/train.csv'\n",
      "Failed to load job sbcnn16k30-20190303-0110-a022-fold0: [Errno 2] File b'data/models/sbcnn16k30-20190303-0110-a022-fold0/train.csv' does not exist: b'data/models/sbcnn16k30-20190303-0110-a022-fold0/train.csv'\n",
      "Failed to load job sbcnn16k30-20190303-1944-eef0-fold0: [Errno 2] File b'data/models/sbcnn16k30-20190303-1944-eef0-fold0/train.csv' does not exist: b'data/models/sbcnn16k30-20190303-1944-eef0-fold0/train.csv'\n",
      "Failed to load job ldcnn20k60-20190331-2028-cbe1-fold0: [Errno 2] File b'data/models/ldcnn20k60-20190331-2028-cbe1-fold0/train.csv' does not exist: b'data/models/ldcnn20k60-20190331-2028-cbe1-fold0/train.csv'\n",
      "Failed to load job ldcnn20k60-20190312-0140-f7b7-fold0: [Errno 2] File b'data/models/ldcnn20k60-20190312-0140-f7b7-fold0/train.csv' does not exist: b'data/models/ldcnn20k60-20190312-0140-f7b7-fold0/train.csv'\n",
      "Failed to load job sbcnn16k30-20190303-1946-462d-fold0: [Errno 2] File b'data/models/sbcnn16k30-20190303-1946-462d-fold0/train.csv' does not exist: b'data/models/sbcnn16k30-20190303-1946-462d-fold0/train.csv'\n",
      "Failed to load job ldcnn20k60-20190316-0546-33b2-fold0: [Errno 2] File b'data/models/ldcnn20k60-20190316-0546-33b2-fold0/train.csv' does not exist: b'data/models/ldcnn20k60-20190316-0546-33b2-fold0/train.csv'\n",
      "Failed to load job ldcnn20k60-20190306-0537-b962-fold0: [Errno 2] File b'data/models/ldcnn20k60-20190306-0537-b962-fold0/train.csv' does not exist: b'data/models/ldcnn20k60-20190306-0537-b962-fold0/train.csv'\n",
      "Failed to load job ldcnn20k60-20190306-0551-3d7f-fold0: Length of values does not match length of index\n",
      "Failed to load job ldcnn20k60-20190306-0538-5139-fold0: Length of values does not match length of index\n",
      "Failed to load job sbcnn16k32aug-20190301-0120-7148-fold8: [Errno 2] File b'data/models/sbcnn16k32aug-20190301-0120-7148-fold8/train.csv' does not exist: b'data/models/sbcnn16k32aug-20190301-0120-7148-fold8/train.csv'\n",
      "Failed to load job ldcnn20k60-20190312-0311-29c7-fold0: [Errno 2] File b'data/models/ldcnn20k60-20190312-0311-29c7-fold0/train.csv' does not exist: b'data/models/ldcnn20k60-20190312-0311-29c7-fold0/train.csv'\n",
      "Failed to load job ldcnn20k60-20190306-0531-2af8-fold0: Length of values does not match length of index\n",
      "Failed to load job sbcnn.orig-2019-02-26-13-56-26d5f8ac-fold6: too many values to unpack (expected 5)\n",
      "Failed to load job ldcnn20k60-20190316-1419-8b6b-fold0: [Errno 2] File b'data/models/ldcnn20k60-20190316-1419-8b6b-fold0/train.csv' does not exist: b'data/models/ldcnn20k60-20190316-1419-8b6b-fold0/train.csv'\n",
      "Failed to load job sbcnn16k30-20190302-1611-4f26-fold8: [Errno 2] File b'data/models/sbcnn16k30-20190302-1611-4f26-fold8/train.csv' does not exist: b'data/models/sbcnn16k30-20190302-1611-4f26-fold8/train.csv'\n",
      "Failed to load job ldcnn20k60-20190312-0140-4a28-fold0: [Errno 2] File b'data/models/ldcnn20k60-20190312-0140-4a28-fold0/train.csv' does not exist: b'data/models/ldcnn20k60-20190312-0140-4a28-fold0/train.csv'\n",
      "Failed to load job ldcnn20k60-20190310-2336-91f9-fold0: [Errno 2] File b'data/models/ldcnn20k60-20190310-2336-91f9-fold0/train.csv' does not exist: b'data/models/ldcnn20k60-20190310-2336-91f9-fold0/train.csv'\n",
      "Failed to load job ldcnn20k60-20190310-2105-ac8c-fold0: [Errno 2] File b'data/models/ldcnn20k60-20190310-2105-ac8c-fold0/train.csv' does not exist: b'data/models/ldcnn20k60-20190310-2105-ac8c-fold0/train.csv'\n",
      "Failed to load job sbcnn44k128aug-20190227-0220-48ba-fold6: [Errno 2] File b'data/models/sbcnn44k128aug-20190227-0220-48ba-fold6/train.csv' does not exist: b'data/models/sbcnn44k128aug-20190227-0220-48ba-fold6/train.csv'\n",
      "Failed to load job sbcnn.orig-2019-02-26-13-56-26d5f8ac-fold3: too many values to unpack (expected 5)\n",
      "Failed to load job sbcnn16k30-20190303-2017-d134-fold0: [Errno 2] File b'data/models/sbcnn16k30-20190303-2017-d134-fold0/train.csv' does not exist: b'data/models/sbcnn16k30-20190303-2017-d134-fold0/train.csv'\n",
      "Failed to load job ldcnn20k60-20190311-0342-1f27-fold0: [Errno 2] File b'data/models/ldcnn20k60-20190311-0342-1f27-fold0/train.csv' does not exist: b'data/models/ldcnn20k60-20190311-0342-1f27-fold0/train.csv'\n",
      "Failed to load job ldcnn20k60-20190312-0314-158a-fold0: [Errno 2] File b'data/models/ldcnn20k60-20190312-0314-158a-fold0/train.csv' does not exist: b'data/models/ldcnn20k60-20190312-0314-158a-fold0/train.csv'\n",
      "Failed to load job ldcnn20k60-20190311-1627-9ab3-fold0: [Errno 2] File b'data/models/ldcnn20k60-20190311-1627-9ab3-fold0/train.csv' does not exist: b'data/models/ldcnn20k60-20190311-1627-9ab3-fold0/train.csv'\n",
      "Failed to load job ldcnn20k60-20190306-0510-b0a3-fold0: [Errno 2] File b'data/models/ldcnn20k60-20190306-0510-b0a3-fold0/train.csv' does not exist: b'data/models/ldcnn20k60-20190306-0510-b0a3-fold0/train.csv'\n",
      "Failed to load job sbcnn16k30-20190303-2017-db86-fold0: [Errno 2] File b'data/models/sbcnn16k30-20190303-2017-db86-fold0/train.csv' does not exist: b'data/models/sbcnn16k30-20190303-2017-db86-fold0/train.csv'\n",
      "Failed to load job sbcnn.orig-2019-02-26-13-56-26d5f8ac-fold4: too many values to unpack (expected 5)\n",
      "Failed to load job ldcnn20k60-20190311-1547-c39e-fold0: [Errno 2] File b'data/models/ldcnn20k60-20190311-1547-c39e-fold0/train.csv' does not exist: b'data/models/ldcnn20k60-20190311-1547-c39e-fold0/train.csv'\n",
      "Failed to load job sbcnn44k32-20190304-0310-931e-fold0: [Errno 2] File b'data/models/sbcnn44k32-20190304-0310-931e-fold0/train.csv' does not exist: b'data/models/sbcnn44k32-20190304-0310-931e-fold0/train.csv'\n",
      "Failed to load job sbcnn16k30-2019-02-26-22-44-99208a3b-fold0: too many values to unpack (expected 5)\n",
      "Failed to load job sbcnn16k30-20190302-1844-2ed3-fold0: [Errno 2] File b'data/models/sbcnn16k30-20190302-1844-2ed3-fold0/train.csv' does not exist: b'data/models/sbcnn16k30-20190302-1844-2ed3-fold0/train.csv'\n",
      "Failed to load job sbcnn16k30-20190303-1944-fb3b-fold0: [Errno 2] File b'data/models/sbcnn16k30-20190303-1944-fb3b-fold0/train.csv' does not exist: b'data/models/sbcnn16k30-20190303-1944-fb3b-fold0/train.csv'\n",
      "Failed to load job sbcnn16k30-20190302-1459-83f6-fold0: [Errno 2] File b'data/models/sbcnn16k30-20190302-1459-83f6-fold0/train.csv' does not exist: b'data/models/sbcnn16k30-20190302-1459-83f6-fold0/train.csv'\n",
      "Failed to load job sbcnn16k30-20190303-2018-224e-fold0: [Errno 2] File b'data/models/sbcnn16k30-20190303-2018-224e-fold0/train.csv' does not exist: b'data/models/sbcnn16k30-20190303-2018-224e-fold0/train.csv'\n",
      "Failed to load job ldcnn20k60-20190311-1338-8346-fold0: [Errno 2] File b'data/models/ldcnn20k60-20190311-1338-8346-fold0/train.csv' does not exist: b'data/models/ldcnn20k60-20190311-1338-8346-fold0/train.csv'\n",
      "Failed to load job ldcnn20k60-20190311-2248-b4e5-fold0: [Errno 2] File b'data/models/ldcnn20k60-20190311-2248-b4e5-fold0/train.csv' does not exist: b'data/models/ldcnn20k60-20190311-2248-b4e5-fold0/train.csv'\n",
      "Failed to load job ldcnn20k60-20190306-1618-d034-fold0: Length of values does not match length of index\n",
      "Failed to load job ldcnn20k60-20190306-0541-7bb3-fold0: Length of values does not match length of index\n",
      "Failed to load job sbcnn.orig-2019-02-26-13-56-26d5f8ac-fold5: too many values to unpack (expected 5)\n",
      "Failed to load job ldcnn20k60-20190306-0545-730c-fold0: Length of values does not match length of index\n",
      "Failed to load job sbcnn16k30-20190302-2359-16a9-fold0: [Errno 2] File b'data/models/sbcnn16k30-20190302-2359-16a9-fold0/train.csv' does not exist: b'data/models/sbcnn16k30-20190302-2359-16a9-fold0/train.csv'\n",
      "Failed to load job ldcnn20k60-20190311-0343-76b0-fold0: [Errno 2] File b'data/models/ldcnn20k60-20190311-0343-76b0-fold0/train.csv' does not exist: b'data/models/ldcnn20k60-20190311-0343-76b0-fold0/train.csv'\n",
      "Failed to load job ldcnn20k60-20190311-2003-0f0e-fold0: [Errno 2] File b'data/models/ldcnn20k60-20190311-2003-0f0e-fold0/train.csv' does not exist: b'data/models/ldcnn20k60-20190311-2003-0f0e-fold0/train.csv'\n",
      "Failed to load job sbcnn16k32aug-20190301-0147-7fe7-fold2: [Errno 2] File b'data/models/sbcnn16k32aug-20190301-0147-7fe7-fold2/train.csv' does not exist: b'data/models/sbcnn16k32aug-20190301-0147-7fe7-fold2/train.csv'\n",
      "Failed to load job ldcnn20k60-20190316-1417-72b4-fold0: [Errno 2] File b'data/models/ldcnn20k60-20190316-1417-72b4-fold0/train.csv' does not exist: b'data/models/ldcnn20k60-20190316-1417-72b4-fold0/train.csv'\n",
      "Failed to load job sbcnn.orig-2019-02-26-02-33-f302ed8f-fold4: too many values to unpack (expected 5)\n",
      "Failed to load job ldcnn20k60-20190311-2018-c1a4-fold0: Length of values does not match length of index\n",
      "Failed to load job sbcnn16k30-2019-02-26-22-44-99208a3b-fold3: too many values to unpack (expected 5)\n",
      "Failed to load job sbcnn16k30-20190303-1945-baf7-fold0: [Errno 2] File b'data/models/sbcnn16k30-20190303-1945-baf7-fold0/train.csv' does not exist: b'data/models/sbcnn16k30-20190303-1945-baf7-fold0/train.csv'\n",
      "Failed to load job ldcnn20k60-20190310-2309-f11f-fold0: [Errno 2] File b'data/models/ldcnn20k60-20190310-2309-f11f-fold0/train.csv' does not exist: b'data/models/ldcnn20k60-20190310-2309-f11f-fold0/train.csv'\n",
      "Failed to load job sbcnn16k32aug-20190301-0120-7148-fold4: [Errno 2] File b'data/models/sbcnn16k32aug-20190301-0120-7148-fold4/train.csv' does not exist: b'data/models/sbcnn16k32aug-20190301-0120-7148-fold4/train.csv'\n",
      "Failed to load job sbcnn16k32aug-20190301-0241-6c1d-fold0: [Errno 2] File b'data/models/sbcnn16k32aug-20190301-0241-6c1d-fold0/train.csv' does not exist: b'data/models/sbcnn16k32aug-20190301-0241-6c1d-fold0/train.csv'\n",
      "Failed to load job sbcnn16k32aug-20190301-0240-571e-fold0: [Errno 2] File b'data/models/sbcnn16k32aug-20190301-0240-571e-fold0/train.csv' does not exist: b'data/models/sbcnn16k32aug-20190301-0240-571e-fold0/train.csv'\n",
      "Failed to load job sbcnn44k128aug-20190227-0220-48ba-fold1: [Errno 2] File b'data/models/sbcnn44k128aug-20190227-0220-48ba-fold1/train.csv' does not exist: b'data/models/sbcnn44k128aug-20190227-0220-48ba-fold1/train.csv'\n",
      "Failed to load job ldcnn20k60-20190316-0545-18c7-fold0: [Errno 2] File b'data/models/ldcnn20k60-20190316-0545-18c7-fold0/train.csv' does not exist: b'data/models/ldcnn20k60-20190316-0545-18c7-fold0/train.csv'\n",
      "Failed to load job sbcnn16k30-20190302-2219-d651-fold0: [Errno 2] File b'data/models/sbcnn16k30-20190302-2219-d651-fold0/train.csv' does not exist: b'data/models/sbcnn16k30-20190302-2219-d651-fold0/train.csv'\n",
      "Failed to load job sbcnn44k128aug-20190227-0220-48ba-fold8: [Errno 2] File b'data/models/sbcnn44k128aug-20190227-0220-48ba-fold8/train.csv' does not exist: b'data/models/sbcnn44k128aug-20190227-0220-48ba-fold8/train.csv'\n",
      "Failed to load job sbcnn16k30-20190303-1955-dcd5-fold0: [Errno 2] File b'data/models/sbcnn16k30-20190303-1955-dcd5-fold0/train.csv' does not exist: b'data/models/sbcnn16k30-20190303-1955-dcd5-fold0/train.csv'\n",
      "Failed to load job sbcnn16k30-20190303-0121-a0f3-fold0: [Errno 2] File b'data/models/sbcnn16k30-20190303-0121-a0f3-fold0/train.csv' does not exist: b'data/models/sbcnn16k30-20190303-0121-a0f3-fold0/train.csv'\n",
      "Failed to load job ldcnn20k60-20190311-0115-4c78-fold0: [Errno 2] File b'data/models/ldcnn20k60-20190311-0115-4c78-fold0/train.csv' does not exist: b'data/models/ldcnn20k60-20190311-0115-4c78-fold0/train.csv'\n",
      "Failed to load job sbcnn16k30-20190303-0025-2398-fold0: [Errno 2] File b'data/models/sbcnn16k30-20190303-0025-2398-fold0/train.csv' does not exist: b'data/models/sbcnn16k30-20190303-0025-2398-fold0/train.csv'\n",
      "Failed to load job ldcnn20k60-20190311-0026-df07-fold0: [Errno 2] File b'data/models/ldcnn20k60-20190311-0026-df07-fold0/train.csv' does not exist: b'data/models/ldcnn20k60-20190311-0026-df07-fold0/train.csv'\n",
      "Failed to load job sbcnn16k32aug-20190301-0254-9b2f-fold0: [Errno 2] File b'data/models/sbcnn16k32aug-20190301-0254-9b2f-fold0/train.csv' does not exist: b'data/models/sbcnn16k32aug-20190301-0254-9b2f-fold0/train.csv'\n",
      "Failed to load job sbcnn16k32aug-20190301-0147-7fe7-fold5: [Errno 2] File b'data/models/sbcnn16k32aug-20190301-0147-7fe7-fold5/train.csv' does not exist: b'data/models/sbcnn16k32aug-20190301-0147-7fe7-fold5/train.csv'\n",
      "Failed to load job ldcnn20k60-20190310-2331-d42b-fold0: [Errno 2] File b'data/models/ldcnn20k60-20190310-2331-d42b-fold0/train.csv' does not exist: b'data/models/ldcnn20k60-20190310-2331-d42b-fold0/train.csv'\n",
      "Failed to load job sbcnn16k32aug: not enough values to unpack (expected 5, got 1)\n",
      "Failed to load job sbcnn44k128aug-20190227-0220-48ba-fold2: [Errno 2] File b'data/models/sbcnn44k128aug-20190227-0220-48ba-fold2/train.csv' does not exist: b'data/models/sbcnn44k128aug-20190227-0220-48ba-fold2/train.csv'\n",
      "Failed to load job sbcnn16k32aug-20190301-0147-7fe7-fold7: [Errno 2] File b'data/models/sbcnn16k32aug-20190301-0147-7fe7-fold7/train.csv' does not exist: b'data/models/sbcnn16k32aug-20190301-0147-7fe7-fold7/train.csv'\n",
      "Failed to load job sbcnn16k30-2019-02-26-22-44-99208a3b-fold1: too many values to unpack (expected 5)\n",
      "Failed to load job ldcnn20k60-20190306-0631-e0a3-fold0: Length of values does not match length of index\n",
      "Failed to load job sbcnn16k30-20190303-1945-726f-fold0: [Errno 2] File b'data/models/sbcnn16k30-20190303-1945-726f-fold0/train.csv' does not exist: b'data/models/sbcnn16k30-20190303-1945-726f-fold0/train.csv'\n",
      "Failed to load job sbcnn16k32aug-20190301-0147-7fe7-fold1: [Errno 2] File b'data/models/sbcnn16k32aug-20190301-0147-7fe7-fold1/train.csv' does not exist: b'data/models/sbcnn16k32aug-20190301-0147-7fe7-fold1/train.csv'\n"
     ]
    },
    {
     "name": "stdout",
     "output_type": "stream",
     "text": [
      "Failed to load job sbcnn16k30-20190302-1828-e66d-fold0: [Errno 2] File b'data/models/sbcnn16k30-20190302-1828-e66d-fold0/train.csv' does not exist: b'data/models/sbcnn16k30-20190302-1828-e66d-fold0/train.csv'\n",
      "Failed to load job ldcnn20k60-20190316-1420-3979-fold0: [Errno 2] File b'data/models/ldcnn20k60-20190316-1420-3979-fold0/train.csv' does not exist: b'data/models/ldcnn20k60-20190316-1420-3979-fold0/train.csv'\n",
      "Failed to load job sbcnn.orig-2019-02-26-02-12-2c8ffebe-fold0: too many values to unpack (expected 5)\n",
      "Failed to load job sbcnn16k30-20190302-2052-6d84-fold0: [Errno 2] File b'data/models/sbcnn16k30-20190302-2052-6d84-fold0/train.csv' does not exist: b'data/models/sbcnn16k30-20190302-2052-6d84-fold0/train.csv'\n",
      "Failed to load job sbcnn16k32aug-20190301-0147-7fe7-fold0: [Errno 2] File b'data/models/sbcnn16k32aug-20190301-0147-7fe7-fold0/train.csv' does not exist: b'data/models/sbcnn16k32aug-20190301-0147-7fe7-fold0/train.csv'\n",
      "Failed to load job sbcnn16k30-20190303-0152-ca0a-fold0: [Errno 2] File b'data/models/sbcnn16k30-20190303-0152-ca0a-fold0/train.csv' does not exist: b'data/models/sbcnn16k30-20190303-0152-ca0a-fold0/train.csv'\n",
      "Failed to load job sbcnn44k128aug-20190227-0220-48ba-fold0: [Errno 2] File b'data/models/sbcnn44k128aug-20190227-0220-48ba-fold0/train.csv' does not exist: b'data/models/sbcnn44k128aug-20190227-0220-48ba-fold0/train.csv'\n",
      "Failed to load job ldcnn20k60-20190315-2127-125d-fold0: [Errno 2] File b'data/models/ldcnn20k60-20190315-2127-125d-fold0/train.csv' does not exist: b'data/models/ldcnn20k60-20190315-2127-125d-fold0/train.csv'\n",
      "Failed to load job ldcnn20k60-20190311-0008-1f1a-fold0: [Errno 2] File b'data/models/ldcnn20k60-20190311-0008-1f1a-fold0/train.csv' does not exist: b'data/models/ldcnn20k60-20190311-0008-1f1a-fold0/train.csv'\n",
      "Failed to load job ldcnn20k60-20190311-0342-ca54-fold0: [Errno 2] File b'data/models/ldcnn20k60-20190311-0342-ca54-fold0/train.csv' does not exist: b'data/models/ldcnn20k60-20190311-0342-ca54-fold0/train.csv'\n",
      "Failed to load job ldcnn20k60-20190316-2008-3c52-fold0: [Errno 2] File b'data/models/ldcnn20k60-20190316-2008-3c52-fold0/train.csv' does not exist: b'data/models/ldcnn20k60-20190316-2008-3c52-fold0/train.csv'\n",
      "Failed to load job sbcnn.orig-2019-02-26-13-56-26d5f8ac-fold7: too many values to unpack (expected 5)\n",
      "Failed to load job sbcnn44k32-20190304-0311-324a-fold0: [Errno 2] File b'data/models/sbcnn44k32-20190304-0311-324a-fold0/train.csv' does not exist: b'data/models/sbcnn44k32-20190304-0311-324a-fold0/train.csv'\n",
      "Failed to load job sbcnn44k32-20190304-0309-91bc-fold0: [Errno 2] File b'data/models/sbcnn44k32-20190304-0309-91bc-fold0/train.csv' does not exist: b'data/models/sbcnn44k32-20190304-0309-91bc-fold0/train.csv'\n",
      "Failed to load job sbcnn16k30-20190302-2244-8501-fold0: [Errno 2] File b'data/models/sbcnn16k30-20190302-2244-8501-fold0/train.csv' does not exist: b'data/models/sbcnn16k30-20190302-2244-8501-fold0/train.csv'\n",
      "Failed to load job sbcnn.orig-2019-02-26-02-33-f302ed8f-fold2: too many values to unpack (expected 5)\n",
      "Failed to load job ldcnn20k60-20190311-0116-f005-fold0: [Errno 2] File b'data/models/ldcnn20k60-20190311-0116-f005-fold0/train.csv' does not exist: b'data/models/ldcnn20k60-20190311-0116-f005-fold0/train.csv'\n",
      "Failed to load job ldcnn20k60-20190311-0033-539f-fold0: [Errno 2] File b'data/models/ldcnn20k60-20190311-0033-539f-fold0/train.csv' does not exist: b'data/models/ldcnn20k60-20190311-0033-539f-fold0/train.csv'\n",
      "Failed to load job sbcnn16k30-20190303-2133-ca5d-fold0: [Errno 2] File b'data/models/sbcnn16k30-20190303-2133-ca5d-fold0/train.csv' does not exist: b'data/models/sbcnn16k30-20190303-2133-ca5d-fold0/train.csv'\n",
      "Failed to load job ldcnn20k60-20190306-1622-9dee-fold0: [Errno 2] File b'data/models/ldcnn20k60-20190306-1622-9dee-fold0/train.csv' does not exist: b'data/models/ldcnn20k60-20190306-1622-9dee-fold0/train.csv'\n",
      "Failed to load job ldcnn20k60-20190310-2306-8441-fold0: [Errno 2] File b'data/models/ldcnn20k60-20190310-2306-8441-fold0/train.csv' does not exist: b'data/models/ldcnn20k60-20190310-2306-8441-fold0/train.csv'\n",
      "Failed to load job ldcnn20k60-20190315-2127-b410-fold0: [Errno 2] File b'data/models/ldcnn20k60-20190315-2127-b410-fold0/train.csv' does not exist: b'data/models/ldcnn20k60-20190315-2127-b410-fold0/train.csv'\n",
      "Failed to load job sbcnn16k30-20190303-1945-93b6-fold0: [Errno 2] File b'data/models/sbcnn16k30-20190303-1945-93b6-fold0/train.csv' does not exist: b'data/models/sbcnn16k30-20190303-1945-93b6-fold0/train.csv'\n",
      "Failed to load job ldcnn20k60-20190310-2241-3c42-fold0: [Errno 2] File b'data/models/ldcnn20k60-20190310-2241-3c42-fold0/train.csv' does not exist: b'data/models/ldcnn20k60-20190310-2241-3c42-fold0/train.csv'\n",
      "Failed to load job sbcnn16k30-20190303-2017-32d9-fold0: [Errno 2] File b'data/models/sbcnn16k30-20190303-2017-32d9-fold0/train.csv' does not exist: b'data/models/sbcnn16k30-20190303-2017-32d9-fold0/train.csv'\n",
      "Failed to load job ldcnn20k60-20190310-2335-ba05-fold0: [Errno 2] File b'data/models/ldcnn20k60-20190310-2335-ba05-fold0/train.csv' does not exist: b'data/models/ldcnn20k60-20190310-2335-ba05-fold0/train.csv'\n",
      "Failed to load job ldcnn20k60-20190316-1416-bef0-fold0: [Errno 2] File b'data/models/ldcnn20k60-20190316-1416-bef0-fold0/train.csv' does not exist: b'data/models/ldcnn20k60-20190316-1416-bef0-fold0/train.csv'\n",
      "Failed to load job ldcnn20k60-20190311-0009-945e-fold0: [Errno 2] File b'data/models/ldcnn20k60-20190311-0009-945e-fold0/train.csv' does not exist: b'data/models/ldcnn20k60-20190311-0009-945e-fold0/train.csv'\n",
      "Failed to load job sbcnn.orig-2019-02-26-02-33-f302ed8f-fold3: too many values to unpack (expected 5)\n",
      "Failed to load job sbcnn16k30-20190303-2018-3758-fold0: [Errno 2] File b'data/models/sbcnn16k30-20190303-2018-3758-fold0/train.csv' does not exist: b'data/models/sbcnn16k30-20190303-2018-3758-fold0/train.csv'\n",
      "Failed to load job sbcnn16k30-20190302-2017-df3a-fold0: [Errno 2] File b'data/models/sbcnn16k30-20190302-2017-df3a-fold0/train.csv' does not exist: b'data/models/sbcnn16k30-20190302-2017-df3a-fold0/train.csv'\n",
      "Failed to load job ldcnn20k60-20190311-0033-d882-fold0: [Errno 2] File b'data/models/ldcnn20k60-20190311-0033-d882-fold0/train.csv' does not exist: b'data/models/ldcnn20k60-20190311-0033-d882-fold0/train.csv'\n",
      "Failed to load job sbcnn16k32aug-20190301-0249-336f-fold0: [Errno 2] File b'data/models/sbcnn16k32aug-20190301-0249-336f-fold0/train.csv' does not exist: b'data/models/sbcnn16k32aug-20190301-0249-336f-fold0/train.csv'\n",
      "Failed to load job sbcnn16k30-2019-02-26-22-44-99208a3b-fold7: too many values to unpack (expected 5)\n",
      "Failed to load job sbcnn.orig-2019-02-26-02-12-2c8ffebe-fold6: too many values to unpack (expected 5)\n",
      "Failed to load job sbcnn16k32aug-20190301-0238-e31b-fold0: [Errno 2] File b'data/models/sbcnn16k32aug-20190301-0238-e31b-fold0/train.csv' does not exist: b'data/models/sbcnn16k32aug-20190301-0238-e31b-fold0/train.csv'\n",
      "Failed to load job ldcnn20k60-20190315-2127-a8b8-fold0: [Errno 2] File b'data/models/ldcnn20k60-20190315-2127-a8b8-fold0/train.csv' does not exist: b'data/models/ldcnn20k60-20190315-2127-a8b8-fold0/train.csv'\n",
      "Failed to load job ldcnn20k60-20190311-0008-06da-fold0: [Errno 2] File b'data/models/ldcnn20k60-20190311-0008-06da-fold0/train.csv' does not exist: b'data/models/ldcnn20k60-20190311-0008-06da-fold0/train.csv'\n",
      "Failed to load job sbcnn44k128aug-20190227-0220-48ba-fold5: [Errno 2] File b'data/models/sbcnn44k128aug-20190227-0220-48ba-fold5/train.csv' does not exist: b'data/models/sbcnn44k128aug-20190227-0220-48ba-fold5/train.csv'\n",
      "Failed to load job sbcnn16k30-2019-02-26-22-44-99208a3b-fold5: too many values to unpack (expected 5)\n",
      "Failed to load job ldcnn20k60-20190310-2312-f1e1-fold0: [Errno 2] File b'data/models/ldcnn20k60-20190310-2312-f1e1-fold0/train.csv' does not exist: b'data/models/ldcnn20k60-20190310-2312-f1e1-fold0/train.csv'\n",
      "Failed to load job ldcnn20k60-20190316-2008-d92d-fold0: [Errno 2] File b'data/models/ldcnn20k60-20190316-2008-d92d-fold0/train.csv' does not exist: b'data/models/ldcnn20k60-20190316-2008-d92d-fold0/train.csv'\n",
      "Failed to load job sbcnn16k30-20190302-2328-ff37-fold0: [Errno 2] File b'data/models/sbcnn16k30-20190302-2328-ff37-fold0/train.csv' does not exist: b'data/models/sbcnn16k30-20190302-2328-ff37-fold0/train.csv'\n",
      "Failed to load job ldcnn20k60-20190311-1626-43ba-fold0: [Errno 2] File b'data/models/ldcnn20k60-20190311-1626-43ba-fold0/train.csv' does not exist: b'data/models/ldcnn20k60-20190311-1626-43ba-fold0/train.csv'\n",
      "Failed to load job sbcnn16k30-2019-02-26-22-44-99208a3b-fold6: too many values to unpack (expected 5)\n",
      "Failed to load job sbcnn16k30-20190302-1732-1631-fold0: [Errno 2] File b'data/models/sbcnn16k30-20190302-1732-1631-fold0/train.csv' does not exist: b'data/models/sbcnn16k30-20190302-1732-1631-fold0/train.csv'\n",
      "Failed to load job sbcnn16k30-20190303-1950-0b4c-fold0: [Errno 2] File b'data/models/sbcnn16k30-20190303-1950-0b4c-fold0/train.csv' does not exist: b'data/models/sbcnn16k30-20190303-1950-0b4c-fold0/train.csv'\n",
      "Failed to load job sbcnn16k32aug-20190301-0120-7148-fold1: [Errno 2] File b'data/models/sbcnn16k32aug-20190301-0120-7148-fold1/train.csv' does not exist: b'data/models/sbcnn16k32aug-20190301-0120-7148-fold1/train.csv'\n",
      "Failed to load job sbcnn16k32aug-20190301-0120-7148-fold2: [Errno 2] File b'data/models/sbcnn16k32aug-20190301-0120-7148-fold2/train.csv' does not exist: b'data/models/sbcnn16k32aug-20190301-0120-7148-fold2/train.csv'\n",
      "Failed to load job sbcnn16k30-20190302-2032-71fe-fold0: [Errno 2] File b'data/models/sbcnn16k30-20190302-2032-71fe-fold0/train.csv' does not exist: b'data/models/sbcnn16k30-20190302-2032-71fe-fold0/train.csv'\n",
      "Failed to load job ldcnn20k60-20190311-0343-6ea5-fold0: [Errno 2] File b'data/models/ldcnn20k60-20190311-0343-6ea5-fold0/train.csv' does not exist: b'data/models/ldcnn20k60-20190311-0343-6ea5-fold0/train.csv'\n",
      "Failed to load job sbcnn16k32aug-20190301-0120-7148-fold0: [Errno 2] File b'data/models/sbcnn16k32aug-20190301-0120-7148-fold0/train.csv' does not exist: b'data/models/sbcnn16k32aug-20190301-0120-7148-fold0/train.csv'\n",
      "Failed to load job sbcnn16k30-20190302-2022-5e53-fold0: [Errno 2] File b'data/models/sbcnn16k30-20190302-2022-5e53-fold0/train.csv' does not exist: b'data/models/sbcnn16k30-20190302-2022-5e53-fold0/train.csv'\n",
      "Failed to load job 6f126ed0-6783-46ba-add8-a259c52ef268: [Errno 2] File b'data/models/6f126ed0-6783-46ba-add8-a259c52ef268/train.csv' does not exist: b'data/models/6f126ed0-6783-46ba-add8-a259c52ef268/train.csv'\n",
      "Failed to load job ldcnn20k60-20190310-2105-cb40-fold0: [Errno 2] File b'data/models/ldcnn20k60-20190310-2105-cb40-fold0/train.csv' does not exist: b'data/models/ldcnn20k60-20190310-2105-cb40-fold0/train.csv'\n",
      "Failed to load job ldcnn20k60-20190310-2111-3276-fold0: [Errno 2] File b'data/models/ldcnn20k60-20190310-2111-3276-fold0/train.csv' does not exist: b'data/models/ldcnn20k60-20190310-2111-3276-fold0/train.csv'\n",
      "Failed to load job sbcnn16k30-2019-02-26-22-44-99208a3b-fold4: too many values to unpack (expected 5)\n",
      "Failed to load job ldcnn20k60-20190311-0023-618b-fold0: [Errno 2] File b'data/models/ldcnn20k60-20190311-0023-618b-fold0/train.csv' does not exist: b'data/models/ldcnn20k60-20190311-0023-618b-fold0/train.csv'\n",
      "Failed to load job sbcnn16k32aug-20190301-0253-dc85-fold0: [Errno 2] File b'data/models/sbcnn16k32aug-20190301-0253-dc85-fold0/train.csv' does not exist: b'data/models/sbcnn16k32aug-20190301-0253-dc85-fold0/train.csv'\n",
      "Failed to load job sbcnn16k30-20190302-1505-f8db-fold0: [Errno 2] File b'data/models/sbcnn16k30-20190302-1505-f8db-fold0/train.csv' does not exist: b'data/models/sbcnn16k30-20190302-1505-f8db-fold0/train.csv'\n",
      "Failed to load job ldcnn20k60-20190312-0011-ee8d-fold0: [Errno 2] File b'data/models/ldcnn20k60-20190312-0011-ee8d-fold0/train.csv' does not exist: b'data/models/ldcnn20k60-20190312-0011-ee8d-fold0/train.csv'\n",
      "Failed to load job sbcnn44k128-20190303-2148-f881-fold0: [Errno 2] File b'data/models/sbcnn44k128-20190303-2148-f881-fold0/train.csv' does not exist: b'data/models/sbcnn44k128-20190303-2148-f881-fold0/train.csv'\n",
      "Failed to load job sbcnn44k128aug-20190227-0220-48ba-fold7: [Errno 2] File b'data/models/sbcnn44k128aug-20190227-0220-48ba-fold7/train.csv' does not exist: b'data/models/sbcnn44k128aug-20190227-0220-48ba-fold7/train.csv'\n",
      "Failed to load job ldcnn20k60-20190310-2330-66bd-fold0: [Errno 2] File b'data/models/ldcnn20k60-20190310-2330-66bd-fold0/train.csv' does not exist: b'data/models/ldcnn20k60-20190310-2330-66bd-fold0/train.csv'\n",
      "Failed to load job sbcnn16k30-20190302-2057-57e0-fold0: [Errno 2] File b'data/models/sbcnn16k30-20190302-2057-57e0-fold0/train.csv' does not exist: b'data/models/sbcnn16k30-20190302-2057-57e0-fold0/train.csv'\n",
      "Failed to load job ldcnn20k60-20190306-0603-8250-fold0: Length of values does not match length of index\n",
      "Failed to load job sbcnn16k30-20190302-1611-4f26-fold1: [Errno 2] File b'data/models/sbcnn16k30-20190302-1611-4f26-fold1/train.csv' does not exist: b'data/models/sbcnn16k30-20190302-1611-4f26-fold1/train.csv'\n",
      "Failed to load job ldcnn20k60-20190310-2112-9ad0-fold0: [Errno 2] File b'data/models/ldcnn20k60-20190310-2112-9ad0-fold0/train.csv' does not exist: b'data/models/ldcnn20k60-20190310-2112-9ad0-fold0/train.csv'\n",
      "Failed to load job ldcnn20k60-20190310-2330-5995-fold0: [Errno 2] File b'data/models/ldcnn20k60-20190310-2330-5995-fold0/train.csv' does not exist: b'data/models/ldcnn20k60-20190310-2330-5995-fold0/train.csv'\n",
      "Failed to load job sbcnn16k32aug-20190301-0240-6866-fold0: [Errno 2] File b'data/models/sbcnn16k32aug-20190301-0240-6866-fold0/train.csv' does not exist: b'data/models/sbcnn16k32aug-20190301-0240-6866-fold0/train.csv'\n",
      "Failed to load job ldcnn20k60-20190311-0115-c0fe-fold0: [Errno 2] File b'data/models/ldcnn20k60-20190311-0115-c0fe-fold0/train.csv' does not exist: b'data/models/ldcnn20k60-20190311-0115-c0fe-fold0/train.csv'\n",
      "Failed to load job ldcnn20k60-20190310-2243-1939-fold0: [Errno 2] File b'data/models/ldcnn20k60-20190310-2243-1939-fold0/train.csv' does not exist: b'data/models/ldcnn20k60-20190310-2243-1939-fold0/train.csv'\n",
      "Failed to load job ldcnn20k60-20190316-0545-8335-fold0: [Errno 2] File b'data/models/ldcnn20k60-20190316-0545-8335-fold0/train.csv' does not exist: b'data/models/ldcnn20k60-20190316-0545-8335-fold0/train.csv'\n",
      "Failed to load job ldcnn20k60-20190316-1912-43e8-fold0: Length of values does not match length of index\n",
      "Failed to load job ldcnn20k60-20190310-2254-d983-fold0: Length of values does not match length of index\n",
      "Failed to load job sbcnn44k128aug-20190227-0220-48ba-fold4: [Errno 2] File b'data/models/sbcnn44k128aug-20190227-0220-48ba-fold4/train.csv' does not exist: b'data/models/sbcnn44k128aug-20190227-0220-48ba-fold4/train.csv'\n",
      "Failed to load job ldcnn20k60-20190311-1626-5568-fold0: [Errno 2] File b'data/models/ldcnn20k60-20190311-1626-5568-fold0/train.csv' does not exist: b'data/models/ldcnn20k60-20190311-1626-5568-fold0/train.csv'\n",
      "Failed to load job sbcnn16k30-20190302-2106-07b1-fold0: [Errno 2] File b'data/models/sbcnn16k30-20190302-2106-07b1-fold0/train.csv' does not exist: b'data/models/sbcnn16k30-20190302-2106-07b1-fold0/train.csv'\n",
      "Failed to load job ldcnn20k60-20190310-2113-aab4-fold0: [Errno 2] File b'data/models/ldcnn20k60-20190310-2113-aab4-fold0/train.csv' does not exist: b'data/models/ldcnn20k60-20190310-2113-aab4-fold0/train.csv'\n",
      "Failed to load job sbcnn16k30-20190302-1611-4f26-fold6: [Errno 2] File b'data/models/sbcnn16k30-20190302-1611-4f26-fold6/train.csv' does not exist: b'data/models/sbcnn16k30-20190302-1611-4f26-fold6/train.csv'\n",
      "Failed to load job sbcnn16k30-20190303-1934-15df-fold0: [Errno 2] File b'data/models/sbcnn16k30-20190303-1934-15df-fold0/train.csv' does not exist: b'data/models/sbcnn16k30-20190303-1934-15df-fold0/train.csv'\n",
      "Failed to load job sbcnn.orig-2019-02-26-13-56-26d5f8ac-fold8: too many values to unpack (expected 5)\n",
      "Failed to load job ldcnn20k60-20190311-2248-1657-fold0: [Errno 2] File b'data/models/ldcnn20k60-20190311-2248-1657-fold0/train.csv' does not exist: b'data/models/ldcnn20k60-20190311-2248-1657-fold0/train.csv'\n",
      "Failed to load job ldcnn20k60-20190311-0027-dde4-fold0: [Errno 2] File b'data/models/ldcnn20k60-20190311-0027-dde4-fold0/train.csv' does not exist: b'data/models/ldcnn20k60-20190311-0027-dde4-fold0/train.csv'\n",
      "Failed to load job ldcnn20k60-20190315-2027-36e1-fold0: [Errno 2] File b'data/models/ldcnn20k60-20190315-2027-36e1-fold0/train.csv' does not exist: b'data/models/ldcnn20k60-20190315-2027-36e1-fold0/train.csv'\n",
      "Failed to load job ldcnn20k60-20190317-1644-fe83-fold0: Length of values does not match length of index\n",
      "Failed to load job ldcnn20k60-20190317-1453-11f1-fold0: [Errno 2] File b'data/models/ldcnn20k60-20190317-1453-11f1-fold0/train.csv' does not exist: b'data/models/ldcnn20k60-20190317-1453-11f1-fold0/train.csv'\n",
      "Failed to load job sbcnn16k30-20190302-1946-cd3e-fold0: [Errno 2] File b'data/models/sbcnn16k30-20190302-1946-cd3e-fold0/train.csv' does not exist: b'data/models/sbcnn16k30-20190302-1946-cd3e-fold0/train.csv'\n",
      "Failed to load job sbcnn16k30-20190302-1611-4f26-fold3: [Errno 2] File b'data/models/sbcnn16k30-20190302-1611-4f26-fold3/train.csv' does not exist: b'data/models/sbcnn16k30-20190302-1611-4f26-fold3/train.csv'\n",
      "Failed to load job sbcnn16k30-20190302-2158-bc8a-fold0: [Errno 2] File b'data/models/sbcnn16k30-20190302-2158-bc8a-fold0/train.csv' does not exist: b'data/models/sbcnn16k30-20190302-2158-bc8a-fold0/train.csv'\n",
      "Failed to load job sbcnn16k30-20190302-1856-f9d4-fold0: [Errno 2] File b'data/models/sbcnn16k30-20190302-1856-f9d4-fold0/train.csv' does not exist: b'data/models/sbcnn16k30-20190302-1856-f9d4-fold0/train.csv'\n",
      "Failed to load job ldcnn20k60-20190316-0545-54c9-fold0: [Errno 2] File b'data/models/ldcnn20k60-20190316-0545-54c9-fold0/train.csv' does not exist: b'data/models/ldcnn20k60-20190316-0545-54c9-fold0/train.csv'\n",
      "Failed to load job ldcnn20k60-20190311-0025-4028-fold0: [Errno 2] File b'data/models/ldcnn20k60-20190311-0025-4028-fold0/train.csv' does not exist: b'data/models/ldcnn20k60-20190311-0025-4028-fold0/train.csv'\n",
      "Failed to load job sbcnn16k32aug-20190301-0147-7fe7-fold6: [Errno 2] File b'data/models/sbcnn16k32aug-20190301-0147-7fe7-fold6/train.csv' does not exist: b'data/models/sbcnn16k32aug-20190301-0147-7fe7-fold6/train.csv'\n",
      "Failed to load job sbcnn.orig-2019-02-26-13-56-26d5f8ac-fold1: too many values to unpack (expected 5)\n",
      "Failed to load job ldcnn20k60-20190311-0401-47fa-fold0: [Errno 2] File b'data/models/ldcnn20k60-20190311-0401-47fa-fold0/train.csv' does not exist: b'data/models/ldcnn20k60-20190311-0401-47fa-fold0/train.csv'\n",
      "Failed to load job ldcnn20k60-20190310-2313-1801-fold0: [Errno 2] File b'data/models/ldcnn20k60-20190310-2313-1801-fold0/train.csv' does not exist: b'data/models/ldcnn20k60-20190310-2313-1801-fold0/train.csv'\n",
      "Failed to load job sbcnn16k32aug-20190301-0240-fe85-fold0: [Errno 2] File b'data/models/sbcnn16k32aug-20190301-0240-fe85-fold0/train.csv' does not exist: b'data/models/sbcnn16k32aug-20190301-0240-fe85-fold0/train.csv'\n",
      "Failed to load job ldcnn20k60-20190311-0342-fcab-fold0: [Errno 2] File b'data/models/ldcnn20k60-20190311-0342-fcab-fold0/train.csv' does not exist: b'data/models/ldcnn20k60-20190311-0342-fcab-fold0/train.csv'\n",
      "Failed to load job ldcnn20k60-20190311-0029-3104-fold0: [Errno 2] File b'data/models/ldcnn20k60-20190311-0029-3104-fold0/train.csv' does not exist: b'data/models/ldcnn20k60-20190311-0029-3104-fold0/train.csv'\n",
      "Failed to load job sbcnn16k30-20190302-2138-dbe7-fold0: [Errno 2] File b'data/models/sbcnn16k30-20190302-2138-dbe7-fold0/train.csv' does not exist: b'data/models/sbcnn16k30-20190302-2138-dbe7-fold0/train.csv'\n",
      "Failed to load job ldcnn20k60-20190306-0558-d20c-fold0: Length of values does not match length of index\n",
      "Failed to load job ldcnn20k60-20190316-2009-ddd3-fold0: Length of values does not match length of index\n",
      "Failed to load job sbcnn16k30-20190302-1507-b746-fold0: [Errno 2] File b'data/models/sbcnn16k30-20190302-1507-b746-fold0/train.csv' does not exist: b'data/models/sbcnn16k30-20190302-1507-b746-fold0/train.csv'\n",
      "Failed to load job ldcnn20k60-20190316-0358-7195-fold0: Length of values does not match length of index\n",
      "Failed to load job ldcnn20k60-20190311-0014-2e54-fold0: [Errno 2] File b'data/models/ldcnn20k60-20190311-0014-2e54-fold0/train.csv' does not exist: b'data/models/ldcnn20k60-20190311-0014-2e54-fold0/train.csv'\n",
      "Failed to load job sbcnn16k32aug-20190301-0242-d464-fold0: [Errno 2] File b'data/models/sbcnn16k32aug-20190301-0242-d464-fold0/train.csv' does not exist: b'data/models/sbcnn16k32aug-20190301-0242-d464-fold0/train.csv'\n",
      "Failed to load job ldcnn20k60-20190306-0609-30cd-fold0: Length of values does not match length of index\n",
      "Failed to load job ldcnn20k60-20190310-2240-d068-fold0: [Errno 2] File b'data/models/ldcnn20k60-20190310-2240-d068-fold0/train.csv' does not exist: b'data/models/ldcnn20k60-20190310-2240-d068-fold0/train.csv'\n",
      "Failed to load job ldcnn20k60-20190306-0526-e6d7-fold0: Length of values does not match length of index\n",
      "Failed to load job sbcnn16k30-20190302-1816-32d3-fold0: [Errno 2] File b'data/models/sbcnn16k30-20190302-1816-32d3-fold0/train.csv' does not exist: b'data/models/sbcnn16k30-20190302-1816-32d3-fold0/train.csv'\n",
      "Failed to load job ldcnn20k60-20190311-0347-90d0-fold0: [Errno 2] File b'data/models/ldcnn20k60-20190311-0347-90d0-fold0/train.csv' does not exist: b'data/models/ldcnn20k60-20190311-0347-90d0-fold0/train.csv'\n",
      "Failed to load job ldcnn20k60-20190310-2252-53d0-fold0: [Errno 2] File b'data/models/ldcnn20k60-20190310-2252-53d0-fold0/train.csv' does not exist: b'data/models/ldcnn20k60-20190310-2252-53d0-fold0/train.csv'\n",
      "Failed to load job sbcnn16k30-20190303-1955-34ca-fold0: [Errno 2] File b'data/models/sbcnn16k30-20190303-1955-34ca-fold0/train.csv' does not exist: b'data/models/sbcnn16k30-20190303-1955-34ca-fold0/train.csv'\n",
      "Failed to load job sbcnn16k32aug-20190301-0120-7148-fold6: [Errno 2] File b'data/models/sbcnn16k32aug-20190301-0120-7148-fold6/train.csv' does not exist: b'data/models/sbcnn16k32aug-20190301-0120-7148-fold6/train.csv'\n",
      "Failed to load job ldcnn20k60-20190306-0635-c9d8-fold0: [Errno 2] File b'data/models/ldcnn20k60-20190306-0635-c9d8-fold0/train.csv' does not exist: b'data/models/ldcnn20k60-20190306-0635-c9d8-fold0/train.csv'\n",
      "Failed to load job ldcnn20k60-20190312-0312-e5dc-fold0: [Errno 2] File b'data/models/ldcnn20k60-20190312-0312-e5dc-fold0/train.csv' does not exist: b'data/models/ldcnn20k60-20190312-0312-e5dc-fold0/train.csv'\n",
      "Failed to load job ldcnn20k60-20190310-2253-3654-fold0: [Errno 2] File b'data/models/ldcnn20k60-20190310-2253-3654-fold0/train.csv' does not exist: b'data/models/ldcnn20k60-20190310-2253-3654-fold0/train.csv'\n",
      "Failed to load job sbcnn16k30-20190303-2018-a8c3-fold0: [Errno 2] File b'data/models/sbcnn16k30-20190303-2018-a8c3-fold0/train.csv' does not exist: b'data/models/sbcnn16k30-20190303-2018-a8c3-fold0/train.csv'\n",
      "Failed to load job sbcnn16k30-20190302-2325-9e0f-fold0: [Errno 2] File b'data/models/sbcnn16k30-20190302-2325-9e0f-fold0/train.csv' does not exist: b'data/models/sbcnn16k30-20190302-2325-9e0f-fold0/train.csv'\n"
     ]
    }
   ],
   "source": [
    "df = test.load_train_history('data/models')"
   ]
  },
  {
   "cell_type": "code",
   "execution_count": 17,
   "metadata": {},
   "outputs": [
    {
     "data": {
      "text/plain": [
       "<matplotlib.axes._subplots.AxesSubplot at 0x7f628d9e3240>"
      ]
     },
     "execution_count": 17,
     "metadata": {},
     "output_type": "execute_result"
    },
    {
     "data": {
      "image/png": "[encoded data removed]",
      "text/plain": [
       "<Figure size 432x288 with 1 Axes>"
      ]
     },
     "metadata": {
      "needs_background": "light"
     },
     "output_type": "display_data"
    }
   ],
   "source": [
    "df.voted_val_acc.hist(bins=50)"
   ]
  },
  {
   "cell_type": "code",
   "execution_count": 19,
   "metadata": {},
   "outputs": [
    {
     "data": {
      "text/html": [
       "<div>\n",
       "<style scoped>\n",
       "    .dataframe tbody tr th:only-of-type {\n",
       "        vertical-align: middle;\n",
       "    }\n",
       "\n",
       "    .dataframe tbody tr th {\n",
       "        vertical-align: top;\n",
       "    }\n",
       "\n",
       "    .dataframe thead th {\n",
       "        text-align: right;\n",
       "    }\n",
       "</style>\n",
       "<table border=\"1\" class=\"dataframe\">\n",
       "  <thead>\n",
       "    <tr style=\"text-align: right;\">\n",
       "      <th></th>\n",
       "      <th>acc</th>\n",
       "      <th>epoch</th>\n",
       "      <th>fold</th>\n",
       "      <th>loss</th>\n",
       "      <th>model</th>\n",
       "      <th>run</th>\n",
       "      <th>template</th>\n",
       "      <th>top3</th>\n",
       "      <th>val_acc</th>\n",
       "      <th>val_loss</th>\n",
       "      <th>val_top3</th>\n",
       "      <th>voted_val_acc</th>\n",
       "    </tr>\n",
       "  </thead>\n",
       "  <tbody>\n",
       "    <tr>\n",
       "      <th>39</th>\n",
       "      <td>0.674433</td>\n",
       "      <td>40</td>\n",
       "      <td>0</td>\n",
       "      <td>0.976088</td>\n",
       "      <td>data/models/ldcnn20k60-20190316-0548-bfe2-fold...</td>\n",
       "      <td>20190316-0548-bfe2</td>\n",
       "      <td>ldcnn20k60</td>\n",
       "      <td>NaN</td>\n",
       "      <td>0.685962</td>\n",
       "      <td>0.973320</td>\n",
       "      <td>NaN</td>\n",
       "      <td>0.769759</td>\n",
       "    </tr>\n",
       "    <tr>\n",
       "      <th>42</th>\n",
       "      <td>0.677767</td>\n",
       "      <td>43</td>\n",
       "      <td>0</td>\n",
       "      <td>0.963537</td>\n",
       "      <td>data/models/ldcnn20k60-20190316-0548-bfe2-fold...</td>\n",
       "      <td>20190316-0548-bfe2</td>\n",
       "      <td>ldcnn20k60</td>\n",
       "      <td>NaN</td>\n",
       "      <td>0.652885</td>\n",
       "      <td>1.047280</td>\n",
       "      <td>NaN</td>\n",
       "      <td>0.758305</td>\n",
       "    </tr>\n",
       "    <tr>\n",
       "      <th>13</th>\n",
       "      <td>0.427267</td>\n",
       "      <td>14</td>\n",
       "      <td>0</td>\n",
       "      <td>1.629935</td>\n",
       "      <td>data/models/ldcnn20k60-20190311-0423-302d-fold...</td>\n",
       "      <td>20190311-0423-302d</td>\n",
       "      <td>ldcnn20k60</td>\n",
       "      <td>NaN</td>\n",
       "      <td>0.668462</td>\n",
       "      <td>1.209446</td>\n",
       "      <td>NaN</td>\n",
       "      <td>0.751432</td>\n",
       "    </tr>\n",
       "    <tr>\n",
       "      <th>37</th>\n",
       "      <td>0.669867</td>\n",
       "      <td>38</td>\n",
       "      <td>0</td>\n",
       "      <td>0.986234</td>\n",
       "      <td>data/models/ldcnn20k60-20190316-0548-bfe2-fold...</td>\n",
       "      <td>20190316-0548-bfe2</td>\n",
       "      <td>ldcnn20k60</td>\n",
       "      <td>NaN</td>\n",
       "      <td>0.667500</td>\n",
       "      <td>0.985157</td>\n",
       "      <td>NaN</td>\n",
       "      <td>0.749141</td>\n",
       "    </tr>\n",
       "    <tr>\n",
       "      <th>48</th>\n",
       "      <td>0.690900</td>\n",
       "      <td>49</td>\n",
       "      <td>0</td>\n",
       "      <td>0.944461</td>\n",
       "      <td>data/models/ldcnn20k60-20190316-0548-bfe2-fold...</td>\n",
       "      <td>20190316-0548-bfe2</td>\n",
       "      <td>ldcnn20k60</td>\n",
       "      <td>NaN</td>\n",
       "      <td>0.663846</td>\n",
       "      <td>1.053781</td>\n",
       "      <td>NaN</td>\n",
       "      <td>0.730813</td>\n",
       "    </tr>\n",
       "    <tr>\n",
       "      <th>13</th>\n",
       "      <td>0.509067</td>\n",
       "      <td>14</td>\n",
       "      <td>0</td>\n",
       "      <td>1.318073</td>\n",
       "      <td>data/models/sbcnn44k128aug-20190303-2355-abd0-...</td>\n",
       "      <td>20190303-2355-abd0</td>\n",
       "      <td>sbcnn44k128aug</td>\n",
       "      <td>NaN</td>\n",
       "      <td>0.700200</td>\n",
       "      <td>1.175862</td>\n",
       "      <td>NaN</td>\n",
       "      <td>0.730813</td>\n",
       "    </tr>\n",
       "    <tr>\n",
       "      <th>13</th>\n",
       "      <td>0.403667</td>\n",
       "      <td>14</td>\n",
       "      <td>0</td>\n",
       "      <td>1.699590</td>\n",
       "      <td>data/models/ldcnn20k60-20190312-0012-49b7-fold...</td>\n",
       "      <td>20190312-0012-49b7</td>\n",
       "      <td>ldcnn20k60</td>\n",
       "      <td>NaN</td>\n",
       "      <td>0.656923</td>\n",
       "      <td>1.286173</td>\n",
       "      <td>NaN</td>\n",
       "      <td>0.728522</td>\n",
       "    </tr>\n",
       "    <tr>\n",
       "      <th>43</th>\n",
       "      <td>0.685533</td>\n",
       "      <td>44</td>\n",
       "      <td>0</td>\n",
       "      <td>0.963850</td>\n",
       "      <td>data/models/ldcnn20k60-20190316-0548-bfe2-fold...</td>\n",
       "      <td>20190316-0548-bfe2</td>\n",
       "      <td>ldcnn20k60</td>\n",
       "      <td>NaN</td>\n",
       "      <td>0.651346</td>\n",
       "      <td>1.057788</td>\n",
       "      <td>NaN</td>\n",
       "      <td>0.727377</td>\n",
       "    </tr>\n",
       "    <tr>\n",
       "      <th>9</th>\n",
       "      <td>0.382267</td>\n",
       "      <td>10</td>\n",
       "      <td>0</td>\n",
       "      <td>1.770334</td>\n",
       "      <td>data/models/ldcnn20k60-20190312-0012-49b7-fold...</td>\n",
       "      <td>20190312-0012-49b7</td>\n",
       "      <td>ldcnn20k60</td>\n",
       "      <td>NaN</td>\n",
       "      <td>0.638846</td>\n",
       "      <td>1.370502</td>\n",
       "      <td>NaN</td>\n",
       "      <td>0.727377</td>\n",
       "    </tr>\n",
       "    <tr>\n",
       "      <th>38</th>\n",
       "      <td>0.674867</td>\n",
       "      <td>39</td>\n",
       "      <td>0</td>\n",
       "      <td>0.982806</td>\n",
       "      <td>data/models/ldcnn20k60-20190316-0548-bfe2-fold...</td>\n",
       "      <td>20190316-0548-bfe2</td>\n",
       "      <td>ldcnn20k60</td>\n",
       "      <td>NaN</td>\n",
       "      <td>0.659038</td>\n",
       "      <td>1.045083</td>\n",
       "      <td>NaN</td>\n",
       "      <td>0.725086</td>\n",
       "    </tr>\n",
       "    <tr>\n",
       "      <th>22</th>\n",
       "      <td>0.633833</td>\n",
       "      <td>23</td>\n",
       "      <td>0</td>\n",
       "      <td>1.089155</td>\n",
       "      <td>data/models/ldcnn20k60-20190316-0548-bfe2-fold...</td>\n",
       "      <td>20190316-0548-bfe2</td>\n",
       "      <td>ldcnn20k60</td>\n",
       "      <td>NaN</td>\n",
       "      <td>0.637308</td>\n",
       "      <td>1.191039</td>\n",
       "      <td>NaN</td>\n",
       "      <td>0.725086</td>\n",
       "    </tr>\n",
       "    <tr>\n",
       "      <th>46</th>\n",
       "      <td>0.680967</td>\n",
       "      <td>47</td>\n",
       "      <td>0</td>\n",
       "      <td>0.954182</td>\n",
       "      <td>data/models/ldcnn20k60-20190316-0548-bfe2-fold...</td>\n",
       "      <td>20190316-0548-bfe2</td>\n",
       "      <td>ldcnn20k60</td>\n",
       "      <td>NaN</td>\n",
       "      <td>0.667500</td>\n",
       "      <td>1.010929</td>\n",
       "      <td>NaN</td>\n",
       "      <td>0.725086</td>\n",
       "    </tr>\n",
       "    <tr>\n",
       "      <th>12</th>\n",
       "      <td>0.501733</td>\n",
       "      <td>13</td>\n",
       "      <td>0</td>\n",
       "      <td>1.346166</td>\n",
       "      <td>data/models/sbcnn44k128aug-20190303-2355-abd0-...</td>\n",
       "      <td>20190303-2355-abd0</td>\n",
       "      <td>sbcnn44k128aug</td>\n",
       "      <td>NaN</td>\n",
       "      <td>0.695600</td>\n",
       "      <td>1.111178</td>\n",
       "      <td>NaN</td>\n",
       "      <td>0.722795</td>\n",
       "    </tr>\n",
       "    <tr>\n",
       "      <th>9</th>\n",
       "      <td>0.621233</td>\n",
       "      <td>10</td>\n",
       "      <td>0</td>\n",
       "      <td>1.124965</td>\n",
       "      <td>data/models/ldcnn20k60-20190317-1218-7eca-fold...</td>\n",
       "      <td>20190317-1218-7eca</td>\n",
       "      <td>ldcnn20k60</td>\n",
       "      <td>NaN</td>\n",
       "      <td>0.640962</td>\n",
       "      <td>1.145056</td>\n",
       "      <td>NaN</td>\n",
       "      <td>0.721649</td>\n",
       "    </tr>\n",
       "    <tr>\n",
       "      <th>16</th>\n",
       "      <td>0.630500</td>\n",
       "      <td>17</td>\n",
       "      <td>0</td>\n",
       "      <td>1.088660</td>\n",
       "      <td>data/models/ldcnn20k60-20190317-1810-eb5a-fold...</td>\n",
       "      <td>20190317-1810-eb5a</td>\n",
       "      <td>ldcnn20k60</td>\n",
       "      <td>NaN</td>\n",
       "      <td>0.640385</td>\n",
       "      <td>1.087978</td>\n",
       "      <td>NaN</td>\n",
       "      <td>0.720504</td>\n",
       "    </tr>\n",
       "    <tr>\n",
       "      <th>45</th>\n",
       "      <td>0.683800</td>\n",
       "      <td>46</td>\n",
       "      <td>0</td>\n",
       "      <td>0.954630</td>\n",
       "      <td>data/models/ldcnn20k60-20190316-0548-bfe2-fold...</td>\n",
       "      <td>20190316-0548-bfe2</td>\n",
       "      <td>ldcnn20k60</td>\n",
       "      <td>NaN</td>\n",
       "      <td>0.632692</td>\n",
       "      <td>1.101068</td>\n",
       "      <td>NaN</td>\n",
       "      <td>0.719359</td>\n",
       "    </tr>\n",
       "    <tr>\n",
       "      <th>35</th>\n",
       "      <td>0.696933</td>\n",
       "      <td>36</td>\n",
       "      <td>0</td>\n",
       "      <td>0.909461</td>\n",
       "      <td>data/models/ldcnn20k60-20190317-1454-97be-fold...</td>\n",
       "      <td>20190317-1454-97be</td>\n",
       "      <td>ldcnn20k60</td>\n",
       "      <td>NaN</td>\n",
       "      <td>0.623462</td>\n",
       "      <td>1.229589</td>\n",
       "      <td>NaN</td>\n",
       "      <td>0.719359</td>\n",
       "    </tr>\n",
       "    <tr>\n",
       "      <th>29</th>\n",
       "      <td>0.658433</td>\n",
       "      <td>30</td>\n",
       "      <td>0</td>\n",
       "      <td>1.023844</td>\n",
       "      <td>data/models/ldcnn20k60-20190316-0548-bfe2-fold...</td>\n",
       "      <td>20190316-0548-bfe2</td>\n",
       "      <td>ldcnn20k60</td>\n",
       "      <td>NaN</td>\n",
       "      <td>0.640192</td>\n",
       "      <td>1.031479</td>\n",
       "      <td>NaN</td>\n",
       "      <td>0.719359</td>\n",
       "    </tr>\n",
       "    <tr>\n",
       "      <th>10</th>\n",
       "      <td>0.389667</td>\n",
       "      <td>11</td>\n",
       "      <td>0</td>\n",
       "      <td>1.745198</td>\n",
       "      <td>data/models/ldcnn20k60-20190312-0012-49b7-fold...</td>\n",
       "      <td>20190312-0012-49b7</td>\n",
       "      <td>ldcnn20k60</td>\n",
       "      <td>NaN</td>\n",
       "      <td>0.634038</td>\n",
       "      <td>1.348257</td>\n",
       "      <td>NaN</td>\n",
       "      <td>0.718213</td>\n",
       "    </tr>\n",
       "    <tr>\n",
       "      <th>6</th>\n",
       "      <td>0.461800</td>\n",
       "      <td>7</td>\n",
       "      <td>0</td>\n",
       "      <td>1.506931</td>\n",
       "      <td>data/models/sbcnn44k128aug-20190303-2355-abd0-...</td>\n",
       "      <td>20190303-2355-abd0</td>\n",
       "      <td>sbcnn44k128aug</td>\n",
       "      <td>NaN</td>\n",
       "      <td>0.692400</td>\n",
       "      <td>1.176951</td>\n",
       "      <td>NaN</td>\n",
       "      <td>0.718213</td>\n",
       "    </tr>\n",
       "    <tr>\n",
       "      <th>19</th>\n",
       "      <td>0.520967</td>\n",
       "      <td>20</td>\n",
       "      <td>0</td>\n",
       "      <td>1.246328</td>\n",
       "      <td>data/models/sbcnn44k128aug-20190303-2355-abd0-...</td>\n",
       "      <td>20190303-2355-abd0</td>\n",
       "      <td>sbcnn44k128aug</td>\n",
       "      <td>NaN</td>\n",
       "      <td>0.687000</td>\n",
       "      <td>1.190270</td>\n",
       "      <td>NaN</td>\n",
       "      <td>0.718213</td>\n",
       "    </tr>\n",
       "    <tr>\n",
       "      <th>27</th>\n",
       "      <td>0.423500</td>\n",
       "      <td>28</td>\n",
       "      <td>0</td>\n",
       "      <td>1.622578</td>\n",
       "      <td>data/models/ldcnn20k60-20190312-0141-63b5-fold...</td>\n",
       "      <td>20190312-0141-63b5</td>\n",
       "      <td>ldcnn20k60</td>\n",
       "      <td>NaN</td>\n",
       "      <td>0.661154</td>\n",
       "      <td>1.262631</td>\n",
       "      <td>NaN</td>\n",
       "      <td>0.717068</td>\n",
       "    </tr>\n",
       "    <tr>\n",
       "      <th>15</th>\n",
       "      <td>0.397967</td>\n",
       "      <td>16</td>\n",
       "      <td>0</td>\n",
       "      <td>1.720571</td>\n",
       "      <td>data/models/ldcnn20k60-20190312-0141-63b5-fold...</td>\n",
       "      <td>20190312-0141-63b5</td>\n",
       "      <td>ldcnn20k60</td>\n",
       "      <td>NaN</td>\n",
       "      <td>0.652115</td>\n",
       "      <td>1.317391</td>\n",
       "      <td>NaN</td>\n",
       "      <td>0.715922</td>\n",
       "    </tr>\n",
       "    <tr>\n",
       "      <th>17</th>\n",
       "      <td>0.422067</td>\n",
       "      <td>18</td>\n",
       "      <td>0</td>\n",
       "      <td>1.637526</td>\n",
       "      <td>data/models/ldcnn20k60-20190312-0012-49b7-fold...</td>\n",
       "      <td>20190312-0012-49b7</td>\n",
       "      <td>ldcnn20k60</td>\n",
       "      <td>NaN</td>\n",
       "      <td>0.651154</td>\n",
       "      <td>1.223448</td>\n",
       "      <td>NaN</td>\n",
       "      <td>0.715922</td>\n",
       "    </tr>\n",
       "    <tr>\n",
       "      <th>11</th>\n",
       "      <td>0.501567</td>\n",
       "      <td>12</td>\n",
       "      <td>0</td>\n",
       "      <td>1.363194</td>\n",
       "      <td>data/models/sbcnn44k128aug-20190303-2355-abd0-...</td>\n",
       "      <td>20190303-2355-abd0</td>\n",
       "      <td>sbcnn44k128aug</td>\n",
       "      <td>NaN</td>\n",
       "      <td>0.693400</td>\n",
       "      <td>1.219368</td>\n",
       "      <td>NaN</td>\n",
       "      <td>0.714777</td>\n",
       "    </tr>\n",
       "    <tr>\n",
       "      <th>10</th>\n",
       "      <td>0.490667</td>\n",
       "      <td>11</td>\n",
       "      <td>0</td>\n",
       "      <td>1.388140</td>\n",
       "      <td>data/models/sbcnn44k128aug-20190303-2148-77d8-...</td>\n",
       "      <td>20190303-2148-77d8</td>\n",
       "      <td>sbcnn44k128aug</td>\n",
       "      <td>NaN</td>\n",
       "      <td>0.698200</td>\n",
       "      <td>1.139219</td>\n",
       "      <td>NaN</td>\n",
       "      <td>0.714777</td>\n",
       "    </tr>\n",
       "    <tr>\n",
       "      <th>21</th>\n",
       "      <td>0.430800</td>\n",
       "      <td>22</td>\n",
       "      <td>0</td>\n",
       "      <td>1.606146</td>\n",
       "      <td>data/models/ldcnn20k60-20190312-0012-49b7-fold...</td>\n",
       "      <td>20190312-0012-49b7</td>\n",
       "      <td>ldcnn20k60</td>\n",
       "      <td>NaN</td>\n",
       "      <td>0.629231</td>\n",
       "      <td>1.249269</td>\n",
       "      <td>NaN</td>\n",
       "      <td>0.713631</td>\n",
       "    </tr>\n",
       "    <tr>\n",
       "      <th>32</th>\n",
       "      <td>0.617333</td>\n",
       "      <td>33</td>\n",
       "      <td>0</td>\n",
       "      <td>1.135868</td>\n",
       "      <td>data/models/ldcnn20k60-20190316-2116-26f6-fold...</td>\n",
       "      <td>20190316-2116-26f6</td>\n",
       "      <td>ldcnn20k60</td>\n",
       "      <td>NaN</td>\n",
       "      <td>0.623654</td>\n",
       "      <td>1.159281</td>\n",
       "      <td>NaN</td>\n",
       "      <td>0.713631</td>\n",
       "    </tr>\n",
       "    <tr>\n",
       "      <th>11</th>\n",
       "      <td>0.392967</td>\n",
       "      <td>12</td>\n",
       "      <td>0</td>\n",
       "      <td>1.736745</td>\n",
       "      <td>data/models/ldcnn20k60-20190312-0012-49b7-fold...</td>\n",
       "      <td>20190312-0012-49b7</td>\n",
       "      <td>ldcnn20k60</td>\n",
       "      <td>NaN</td>\n",
       "      <td>0.653269</td>\n",
       "      <td>1.279724</td>\n",
       "      <td>NaN</td>\n",
       "      <td>0.713631</td>\n",
       "    </tr>\n",
       "    <tr>\n",
       "      <th>10</th>\n",
       "      <td>0.371067</td>\n",
       "      <td>11</td>\n",
       "      <td>0</td>\n",
       "      <td>1.806029</td>\n",
       "      <td>data/models/ldcnn20k60-20190311-2249-cae1-fold...</td>\n",
       "      <td>20190311-2249-cae1</td>\n",
       "      <td>ldcnn20k60</td>\n",
       "      <td>NaN</td>\n",
       "      <td>0.633269</td>\n",
       "      <td>1.452741</td>\n",
       "      <td>NaN</td>\n",
       "      <td>0.713631</td>\n",
       "    </tr>\n",
       "    <tr>\n",
       "      <th>...</th>\n",
       "      <td>...</td>\n",
       "      <td>...</td>\n",
       "      <td>...</td>\n",
       "      <td>...</td>\n",
       "      <td>...</td>\n",
       "      <td>...</td>\n",
       "      <td>...</td>\n",
       "      <td>...</td>\n",
       "      <td>...</td>\n",
       "      <td>...</td>\n",
       "      <td>...</td>\n",
       "      <td>...</td>\n",
       "    </tr>\n",
       "    <tr>\n",
       "      <th>0</th>\n",
       "      <td>0.060000</td>\n",
       "      <td>1</td>\n",
       "      <td>0</td>\n",
       "      <td>2.493225</td>\n",
       "      <td>data/models/sbcnn16k30-20190303-2023-f224-fold...</td>\n",
       "      <td>20190303-2023-f224</td>\n",
       "      <td>sbcnn16k30</td>\n",
       "      <td>NaN</td>\n",
       "      <td>0.060000</td>\n",
       "      <td>2.449552</td>\n",
       "      <td>NaN</td>\n",
       "      <td>0.038946</td>\n",
       "    </tr>\n",
       "    <tr>\n",
       "      <th>2</th>\n",
       "      <td>0.060000</td>\n",
       "      <td>3</td>\n",
       "      <td>0</td>\n",
       "      <td>2.500360</td>\n",
       "      <td>data/models/sbcnn16k30-20190303-2023-f224-fold...</td>\n",
       "      <td>20190303-2023-f224</td>\n",
       "      <td>sbcnn16k30</td>\n",
       "      <td>NaN</td>\n",
       "      <td>0.020000</td>\n",
       "      <td>2.437223</td>\n",
       "      <td>NaN</td>\n",
       "      <td>0.037801</td>\n",
       "    </tr>\n",
       "    <tr>\n",
       "      <th>1</th>\n",
       "      <td>0.000000</td>\n",
       "      <td>2</td>\n",
       "      <td>0</td>\n",
       "      <td>2.549762</td>\n",
       "      <td>data/models/sbcnn16k30-20190303-2023-f224-fold...</td>\n",
       "      <td>20190303-2023-f224</td>\n",
       "      <td>sbcnn16k30</td>\n",
       "      <td>NaN</td>\n",
       "      <td>0.040000</td>\n",
       "      <td>2.455848</td>\n",
       "      <td>NaN</td>\n",
       "      <td>0.033219</td>\n",
       "    </tr>\n",
       "    <tr>\n",
       "      <th>0</th>\n",
       "      <td>0.283625</td>\n",
       "      <td>1</td>\n",
       "      <td>0</td>\n",
       "      <td>2.129057</td>\n",
       "      <td>data/models/ldcnn20k60-20190311-0030-ba60-fold...</td>\n",
       "      <td>20190311-0030-ba60</td>\n",
       "      <td>ldcnn20k60</td>\n",
       "      <td>NaN</td>\n",
       "      <td>0.403000</td>\n",
       "      <td>2.028447</td>\n",
       "      <td>NaN</td>\n",
       "      <td>NaN</td>\n",
       "    </tr>\n",
       "    <tr>\n",
       "      <th>1</th>\n",
       "      <td>0.446625</td>\n",
       "      <td>2</td>\n",
       "      <td>0</td>\n",
       "      <td>1.743701</td>\n",
       "      <td>data/models/ldcnn20k60-20190311-0030-ba60-fold...</td>\n",
       "      <td>20190311-0030-ba60</td>\n",
       "      <td>ldcnn20k60</td>\n",
       "      <td>NaN</td>\n",
       "      <td>0.420000</td>\n",
       "      <td>1.947163</td>\n",
       "      <td>NaN</td>\n",
       "      <td>NaN</td>\n",
       "    </tr>\n",
       "    <tr>\n",
       "      <th>0</th>\n",
       "      <td>0.307000</td>\n",
       "      <td>1</td>\n",
       "      <td>0</td>\n",
       "      <td>2.069291</td>\n",
       "      <td>data/models/ldcnn20k60-20190310-2321-7431-fold...</td>\n",
       "      <td>20190310-2321-7431</td>\n",
       "      <td>ldcnn20k60</td>\n",
       "      <td>NaN</td>\n",
       "      <td>0.385000</td>\n",
       "      <td>1.959270</td>\n",
       "      <td>NaN</td>\n",
       "      <td>NaN</td>\n",
       "    </tr>\n",
       "    <tr>\n",
       "      <th>1</th>\n",
       "      <td>0.432375</td>\n",
       "      <td>2</td>\n",
       "      <td>0</td>\n",
       "      <td>1.754980</td>\n",
       "      <td>data/models/ldcnn20k60-20190310-2321-7431-fold...</td>\n",
       "      <td>20190310-2321-7431</td>\n",
       "      <td>ldcnn20k60</td>\n",
       "      <td>NaN</td>\n",
       "      <td>0.429000</td>\n",
       "      <td>1.893501</td>\n",
       "      <td>NaN</td>\n",
       "      <td>NaN</td>\n",
       "    </tr>\n",
       "    <tr>\n",
       "      <th>2</th>\n",
       "      <td>0.495375</td>\n",
       "      <td>3</td>\n",
       "      <td>0</td>\n",
       "      <td>1.606373</td>\n",
       "      <td>data/models/ldcnn20k60-20190310-2321-7431-fold...</td>\n",
       "      <td>20190310-2321-7431</td>\n",
       "      <td>ldcnn20k60</td>\n",
       "      <td>NaN</td>\n",
       "      <td>0.433000</td>\n",
       "      <td>1.850549</td>\n",
       "      <td>NaN</td>\n",
       "      <td>NaN</td>\n",
       "    </tr>\n",
       "    <tr>\n",
       "      <th>3</th>\n",
       "      <td>0.517250</td>\n",
       "      <td>4</td>\n",
       "      <td>0</td>\n",
       "      <td>1.537282</td>\n",
       "      <td>data/models/ldcnn20k60-20190310-2321-7431-fold...</td>\n",
       "      <td>20190310-2321-7431</td>\n",
       "      <td>ldcnn20k60</td>\n",
       "      <td>NaN</td>\n",
       "      <td>0.468000</td>\n",
       "      <td>1.777175</td>\n",
       "      <td>NaN</td>\n",
       "      <td>NaN</td>\n",
       "    </tr>\n",
       "    <tr>\n",
       "      <th>4</th>\n",
       "      <td>0.558875</td>\n",
       "      <td>5</td>\n",
       "      <td>0</td>\n",
       "      <td>1.440846</td>\n",
       "      <td>data/models/ldcnn20k60-20190310-2321-7431-fold...</td>\n",
       "      <td>20190310-2321-7431</td>\n",
       "      <td>ldcnn20k60</td>\n",
       "      <td>NaN</td>\n",
       "      <td>0.458000</td>\n",
       "      <td>1.637641</td>\n",
       "      <td>NaN</td>\n",
       "      <td>NaN</td>\n",
       "    </tr>\n",
       "    <tr>\n",
       "      <th>0</th>\n",
       "      <td>0.296375</td>\n",
       "      <td>1</td>\n",
       "      <td>0</td>\n",
       "      <td>2.097704</td>\n",
       "      <td>data/models/ldcnn20k60-20190311-0015-5ab4-fold...</td>\n",
       "      <td>20190311-0015-5ab4</td>\n",
       "      <td>ldcnn20k60</td>\n",
       "      <td>NaN</td>\n",
       "      <td>0.391000</td>\n",
       "      <td>1.974986</td>\n",
       "      <td>NaN</td>\n",
       "      <td>NaN</td>\n",
       "    </tr>\n",
       "    <tr>\n",
       "      <th>1</th>\n",
       "      <td>0.473000</td>\n",
       "      <td>2</td>\n",
       "      <td>0</td>\n",
       "      <td>1.680655</td>\n",
       "      <td>data/models/ldcnn20k60-20190311-0015-5ab4-fold...</td>\n",
       "      <td>20190311-0015-5ab4</td>\n",
       "      <td>ldcnn20k60</td>\n",
       "      <td>NaN</td>\n",
       "      <td>0.454000</td>\n",
       "      <td>1.931374</td>\n",
       "      <td>NaN</td>\n",
       "      <td>NaN</td>\n",
       "    </tr>\n",
       "    <tr>\n",
       "      <th>2</th>\n",
       "      <td>0.546500</td>\n",
       "      <td>3</td>\n",
       "      <td>0</td>\n",
       "      <td>1.437206</td>\n",
       "      <td>data/models/ldcnn20k60-20190311-0015-5ab4-fold...</td>\n",
       "      <td>20190311-0015-5ab4</td>\n",
       "      <td>ldcnn20k60</td>\n",
       "      <td>NaN</td>\n",
       "      <td>0.498000</td>\n",
       "      <td>1.741431</td>\n",
       "      <td>NaN</td>\n",
       "      <td>NaN</td>\n",
       "    </tr>\n",
       "    <tr>\n",
       "      <th>3</th>\n",
       "      <td>0.603125</td>\n",
       "      <td>4</td>\n",
       "      <td>0</td>\n",
       "      <td>1.284956</td>\n",
       "      <td>data/models/ldcnn20k60-20190311-0015-5ab4-fold...</td>\n",
       "      <td>20190311-0015-5ab4</td>\n",
       "      <td>ldcnn20k60</td>\n",
       "      <td>NaN</td>\n",
       "      <td>0.497000</td>\n",
       "      <td>1.755008</td>\n",
       "      <td>NaN</td>\n",
       "      <td>NaN</td>\n",
       "    </tr>\n",
       "    <tr>\n",
       "      <th>4</th>\n",
       "      <td>0.653000</td>\n",
       "      <td>5</td>\n",
       "      <td>0</td>\n",
       "      <td>1.175151</td>\n",
       "      <td>data/models/ldcnn20k60-20190311-0015-5ab4-fold...</td>\n",
       "      <td>20190311-0015-5ab4</td>\n",
       "      <td>ldcnn20k60</td>\n",
       "      <td>NaN</td>\n",
       "      <td>0.487000</td>\n",
       "      <td>1.880725</td>\n",
       "      <td>NaN</td>\n",
       "      <td>NaN</td>\n",
       "    </tr>\n",
       "    <tr>\n",
       "      <th>0</th>\n",
       "      <td>0.100000</td>\n",
       "      <td>1</td>\n",
       "      <td>0</td>\n",
       "      <td>2.415395</td>\n",
       "      <td>data/models/sbcnn16k30-20190303-1957-a8f9-fold...</td>\n",
       "      <td>20190303-1957-a8f9</td>\n",
       "      <td>sbcnn16k30</td>\n",
       "      <td>0.62</td>\n",
       "      <td>0.080000</td>\n",
       "      <td>2.439054</td>\n",
       "      <td>0.24</td>\n",
       "      <td>NaN</td>\n",
       "    </tr>\n",
       "    <tr>\n",
       "      <th>1</th>\n",
       "      <td>0.080000</td>\n",
       "      <td>2</td>\n",
       "      <td>0</td>\n",
       "      <td>2.465290</td>\n",
       "      <td>data/models/sbcnn16k30-20190303-1957-a8f9-fold...</td>\n",
       "      <td>20190303-1957-a8f9</td>\n",
       "      <td>sbcnn16k30</td>\n",
       "      <td>0.52</td>\n",
       "      <td>0.100000</td>\n",
       "      <td>2.408851</td>\n",
       "      <td>0.34</td>\n",
       "      <td>NaN</td>\n",
       "    </tr>\n",
       "    <tr>\n",
       "      <th>2</th>\n",
       "      <td>0.120000</td>\n",
       "      <td>3</td>\n",
       "      <td>0</td>\n",
       "      <td>2.407305</td>\n",
       "      <td>data/models/sbcnn16k30-20190303-1957-a8f9-fold...</td>\n",
       "      <td>20190303-1957-a8f9</td>\n",
       "      <td>sbcnn16k30</td>\n",
       "      <td>0.56</td>\n",
       "      <td>0.160000</td>\n",
       "      <td>2.405587</td>\n",
       "      <td>0.38</td>\n",
       "      <td>NaN</td>\n",
       "    </tr>\n",
       "    <tr>\n",
       "      <th>3</th>\n",
       "      <td>0.160000</td>\n",
       "      <td>4</td>\n",
       "      <td>0</td>\n",
       "      <td>2.409826</td>\n",
       "      <td>data/models/sbcnn16k30-20190303-1957-a8f9-fold...</td>\n",
       "      <td>20190303-1957-a8f9</td>\n",
       "      <td>sbcnn16k30</td>\n",
       "      <td>0.46</td>\n",
       "      <td>0.140000</td>\n",
       "      <td>2.418119</td>\n",
       "      <td>0.34</td>\n",
       "      <td>NaN</td>\n",
       "    </tr>\n",
       "    <tr>\n",
       "      <th>4</th>\n",
       "      <td>0.180000</td>\n",
       "      <td>5</td>\n",
       "      <td>0</td>\n",
       "      <td>2.431036</td>\n",
       "      <td>data/models/sbcnn16k30-20190303-1957-a8f9-fold...</td>\n",
       "      <td>20190303-1957-a8f9</td>\n",
       "      <td>sbcnn16k30</td>\n",
       "      <td>0.56</td>\n",
       "      <td>0.160000</td>\n",
       "      <td>2.409561</td>\n",
       "      <td>0.44</td>\n",
       "      <td>NaN</td>\n",
       "    </tr>\n",
       "    <tr>\n",
       "      <th>5</th>\n",
       "      <td>0.100000</td>\n",
       "      <td>6</td>\n",
       "      <td>0</td>\n",
       "      <td>2.421652</td>\n",
       "      <td>data/models/sbcnn16k30-20190303-1957-a8f9-fold...</td>\n",
       "      <td>20190303-1957-a8f9</td>\n",
       "      <td>sbcnn16k30</td>\n",
       "      <td>0.60</td>\n",
       "      <td>0.180000</td>\n",
       "      <td>2.413848</td>\n",
       "      <td>0.46</td>\n",
       "      <td>NaN</td>\n",
       "    </tr>\n",
       "    <tr>\n",
       "      <th>6</th>\n",
       "      <td>0.060000</td>\n",
       "      <td>7</td>\n",
       "      <td>0</td>\n",
       "      <td>2.474240</td>\n",
       "      <td>data/models/sbcnn16k30-20190303-1957-a8f9-fold...</td>\n",
       "      <td>20190303-1957-a8f9</td>\n",
       "      <td>sbcnn16k30</td>\n",
       "      <td>0.48</td>\n",
       "      <td>0.180000</td>\n",
       "      <td>2.399552</td>\n",
       "      <td>0.52</td>\n",
       "      <td>NaN</td>\n",
       "    </tr>\n",
       "    <tr>\n",
       "      <th>7</th>\n",
       "      <td>0.100000</td>\n",
       "      <td>8</td>\n",
       "      <td>0</td>\n",
       "      <td>2.466265</td>\n",
       "      <td>data/models/sbcnn16k30-20190303-1957-a8f9-fold...</td>\n",
       "      <td>20190303-1957-a8f9</td>\n",
       "      <td>sbcnn16k30</td>\n",
       "      <td>0.48</td>\n",
       "      <td>0.160000</td>\n",
       "      <td>2.404871</td>\n",
       "      <td>0.40</td>\n",
       "      <td>NaN</td>\n",
       "    </tr>\n",
       "    <tr>\n",
       "      <th>8</th>\n",
       "      <td>0.120000</td>\n",
       "      <td>9</td>\n",
       "      <td>0</td>\n",
       "      <td>2.436047</td>\n",
       "      <td>data/models/sbcnn16k30-20190303-1957-a8f9-fold...</td>\n",
       "      <td>20190303-1957-a8f9</td>\n",
       "      <td>sbcnn16k30</td>\n",
       "      <td>0.46</td>\n",
       "      <td>0.120000</td>\n",
       "      <td>2.415313</td>\n",
       "      <td>0.34</td>\n",
       "      <td>NaN</td>\n",
       "    </tr>\n",
       "    <tr>\n",
       "      <th>9</th>\n",
       "      <td>0.080000</td>\n",
       "      <td>10</td>\n",
       "      <td>0</td>\n",
       "      <td>2.441945</td>\n",
       "      <td>data/models/sbcnn16k30-20190303-1957-a8f9-fold...</td>\n",
       "      <td>20190303-1957-a8f9</td>\n",
       "      <td>sbcnn16k30</td>\n",
       "      <td>0.68</td>\n",
       "      <td>0.180000</td>\n",
       "      <td>2.411068</td>\n",
       "      <td>0.36</td>\n",
       "      <td>NaN</td>\n",
       "    </tr>\n",
       "    <tr>\n",
       "      <th>10</th>\n",
       "      <td>0.240000</td>\n",
       "      <td>11</td>\n",
       "      <td>0</td>\n",
       "      <td>2.391131</td>\n",
       "      <td>data/models/sbcnn16k30-20190303-1957-a8f9-fold...</td>\n",
       "      <td>20190303-1957-a8f9</td>\n",
       "      <td>sbcnn16k30</td>\n",
       "      <td>0.54</td>\n",
       "      <td>0.100000</td>\n",
       "      <td>2.422633</td>\n",
       "      <td>0.34</td>\n",
       "      <td>NaN</td>\n",
       "    </tr>\n",
       "    <tr>\n",
       "      <th>11</th>\n",
       "      <td>0.060000</td>\n",
       "      <td>12</td>\n",
       "      <td>0</td>\n",
       "      <td>2.450908</td>\n",
       "      <td>data/models/sbcnn16k30-20190303-1957-a8f9-fold...</td>\n",
       "      <td>20190303-1957-a8f9</td>\n",
       "      <td>sbcnn16k30</td>\n",
       "      <td>0.50</td>\n",
       "      <td>0.160000</td>\n",
       "      <td>2.401928</td>\n",
       "      <td>0.38</td>\n",
       "      <td>NaN</td>\n",
       "    </tr>\n",
       "    <tr>\n",
       "      <th>12</th>\n",
       "      <td>0.120000</td>\n",
       "      <td>13</td>\n",
       "      <td>0</td>\n",
       "      <td>2.443646</td>\n",
       "      <td>data/models/sbcnn16k30-20190303-1957-a8f9-fold...</td>\n",
       "      <td>20190303-1957-a8f9</td>\n",
       "      <td>sbcnn16k30</td>\n",
       "      <td>0.46</td>\n",
       "      <td>0.140000</td>\n",
       "      <td>2.388887</td>\n",
       "      <td>0.38</td>\n",
       "      <td>NaN</td>\n",
       "    </tr>\n",
       "    <tr>\n",
       "      <th>13</th>\n",
       "      <td>0.080000</td>\n",
       "      <td>14</td>\n",
       "      <td>0</td>\n",
       "      <td>2.431236</td>\n",
       "      <td>data/models/sbcnn16k30-20190303-1957-a8f9-fold...</td>\n",
       "      <td>20190303-1957-a8f9</td>\n",
       "      <td>sbcnn16k30</td>\n",
       "      <td>0.56</td>\n",
       "      <td>0.160000</td>\n",
       "      <td>2.398407</td>\n",
       "      <td>0.46</td>\n",
       "      <td>NaN</td>\n",
       "    </tr>\n",
       "    <tr>\n",
       "      <th>14</th>\n",
       "      <td>0.120000</td>\n",
       "      <td>15</td>\n",
       "      <td>0</td>\n",
       "      <td>2.409370</td>\n",
       "      <td>data/models/sbcnn16k30-20190303-1957-a8f9-fold...</td>\n",
       "      <td>20190303-1957-a8f9</td>\n",
       "      <td>sbcnn16k30</td>\n",
       "      <td>0.58</td>\n",
       "      <td>0.200000</td>\n",
       "      <td>2.398680</td>\n",
       "      <td>0.44</td>\n",
       "      <td>NaN</td>\n",
       "    </tr>\n",
       "  </tbody>\n",
       "</table>\n",
       "<p>1730 rows × 12 columns</p>\n",
       "</div>"
      ],
      "text/plain": [
       "         acc  epoch  fold      loss  \\\n",
       "39  0.674433     40     0  0.976088   \n",
       "42  0.677767     43     0  0.963537   \n",
       "13  0.427267     14     0  1.629935   \n",
       "37  0.669867     38     0  0.986234   \n",
       "48  0.690900     49     0  0.944461   \n",
       "13  0.509067     14     0  1.318073   \n",
       "13  0.403667     14     0  1.699590   \n",
       "43  0.685533     44     0  0.963850   \n",
       "9   0.382267     10     0  1.770334   \n",
       "38  0.674867     39     0  0.982806   \n",
       "22  0.633833     23     0  1.089155   \n",
       "46  0.680967     47     0  0.954182   \n",
       "12  0.501733     13     0  1.346166   \n",
       "9   0.621233     10     0  1.124965   \n",
       "16  0.630500     17     0  1.088660   \n",
       "45  0.683800     46     0  0.954630   \n",
       "35  0.696933     36     0  0.909461   \n",
       "29  0.658433     30     0  1.023844   \n",
       "10  0.389667     11     0  1.745198   \n",
       "6   0.461800      7     0  1.506931   \n",
       "19  0.520967     20     0  1.246328   \n",
       "27  0.423500     28     0  1.622578   \n",
       "15  0.397967     16     0  1.720571   \n",
       "17  0.422067     18     0  1.637526   \n",
       "11  0.501567     12     0  1.363194   \n",
       "10  0.490667     11     0  1.388140   \n",
       "21  0.430800     22     0  1.606146   \n",
       "32  0.617333     33     0  1.135868   \n",
       "11  0.392967     12     0  1.736745   \n",
       "10  0.371067     11     0  1.806029   \n",
       "..       ...    ...   ...       ...   \n",
       "0   0.060000      1     0  2.493225   \n",
       "2   0.060000      3     0  2.500360   \n",
       "1   0.000000      2     0  2.549762   \n",
       "0   0.283625      1     0  2.129057   \n",
       "1   0.446625      2     0  1.743701   \n",
       "0   0.307000      1     0  2.069291   \n",
       "1   0.432375      2     0  1.754980   \n",
       "2   0.495375      3     0  1.606373   \n",
       "3   0.517250      4     0  1.537282   \n",
       "4   0.558875      5     0  1.440846   \n",
       "0   0.296375      1     0  2.097704   \n",
       "1   0.473000      2     0  1.680655   \n",
       "2   0.546500      3     0  1.437206   \n",
       "3   0.603125      4     0  1.284956   \n",
       "4   0.653000      5     0  1.175151   \n",
       "0   0.100000      1     0  2.415395   \n",
       "1   0.080000      2     0  2.465290   \n",
       "2   0.120000      3     0  2.407305   \n",
       "3   0.160000      4     0  2.409826   \n",
       "4   0.180000      5     0  2.431036   \n",
       "5   0.100000      6     0  2.421652   \n",
       "6   0.060000      7     0  2.474240   \n",
       "7   0.100000      8     0  2.466265   \n",
       "8   0.120000      9     0  2.436047   \n",
       "9   0.080000     10     0  2.441945   \n",
       "10  0.240000     11     0  2.391131   \n",
       "11  0.060000     12     0  2.450908   \n",
       "12  0.120000     13     0  2.443646   \n",
       "13  0.080000     14     0  2.431236   \n",
       "14  0.120000     15     0  2.409370   \n",
       "\n",
       "                                                model                 run  \\\n",
       "39  data/models/ldcnn20k60-20190316-0548-bfe2-fold...  20190316-0548-bfe2   \n",
       "42  data/models/ldcnn20k60-20190316-0548-bfe2-fold...  20190316-0548-bfe2   \n",
       "13  data/models/ldcnn20k60-20190311-0423-302d-fold...  20190311-0423-302d   \n",
       "37  data/models/ldcnn20k60-20190316-0548-bfe2-fold...  20190316-0548-bfe2   \n",
       "48  data/models/ldcnn20k60-20190316-0548-bfe2-fold...  20190316-0548-bfe2   \n",
       "13  data/models/sbcnn44k128aug-20190303-2355-abd0-...  20190303-2355-abd0   \n",
       "13  data/models/ldcnn20k60-20190312-0012-49b7-fold...  20190312-0012-49b7   \n",
       "43  data/models/ldcnn20k60-20190316-0548-bfe2-fold...  20190316-0548-bfe2   \n",
       "9   data/models/ldcnn20k60-20190312-0012-49b7-fold...  20190312-0012-49b7   \n",
       "38  data/models/ldcnn20k60-20190316-0548-bfe2-fold...  20190316-0548-bfe2   \n",
       "22  data/models/ldcnn20k60-20190316-0548-bfe2-fold...  20190316-0548-bfe2   \n",
       "46  data/models/ldcnn20k60-20190316-0548-bfe2-fold...  20190316-0548-bfe2   \n",
       "12  data/models/sbcnn44k128aug-20190303-2355-abd0-...  20190303-2355-abd0   \n",
       "9   data/models/ldcnn20k60-20190317-1218-7eca-fold...  20190317-1218-7eca   \n",
       "16  data/models/ldcnn20k60-20190317-1810-eb5a-fold...  20190317-1810-eb5a   \n",
       "45  data/models/ldcnn20k60-20190316-0548-bfe2-fold...  20190316-0548-bfe2   \n",
       "35  data/models/ldcnn20k60-20190317-1454-97be-fold...  20190317-1454-97be   \n",
       "29  data/models/ldcnn20k60-20190316-0548-bfe2-fold...  20190316-0548-bfe2   \n",
       "10  data/models/ldcnn20k60-20190312-0012-49b7-fold...  20190312-0012-49b7   \n",
       "6   data/models/sbcnn44k128aug-20190303-2355-abd0-...  20190303-2355-abd0   \n",
       "19  data/models/sbcnn44k128aug-20190303-2355-abd0-...  20190303-2355-abd0   \n",
       "27  data/models/ldcnn20k60-20190312-0141-63b5-fold...  20190312-0141-63b5   \n",
       "15  data/models/ldcnn20k60-20190312-0141-63b5-fold...  20190312-0141-63b5   \n",
       "17  data/models/ldcnn20k60-20190312-0012-49b7-fold...  20190312-0012-49b7   \n",
       "11  data/models/sbcnn44k128aug-20190303-2355-abd0-...  20190303-2355-abd0   \n",
       "10  data/models/sbcnn44k128aug-20190303-2148-77d8-...  20190303-2148-77d8   \n",
       "21  data/models/ldcnn20k60-20190312-0012-49b7-fold...  20190312-0012-49b7   \n",
       "32  data/models/ldcnn20k60-20190316-2116-26f6-fold...  20190316-2116-26f6   \n",
       "11  data/models/ldcnn20k60-20190312-0012-49b7-fold...  20190312-0012-49b7   \n",
       "10  data/models/ldcnn20k60-20190311-2249-cae1-fold...  20190311-2249-cae1   \n",
       "..                                                ...                 ...   \n",
       "0   data/models/sbcnn16k30-20190303-2023-f224-fold...  20190303-2023-f224   \n",
       "2   data/models/sbcnn16k30-20190303-2023-f224-fold...  20190303-2023-f224   \n",
       "1   data/models/sbcnn16k30-20190303-2023-f224-fold...  20190303-2023-f224   \n",
       "0   data/models/ldcnn20k60-20190311-0030-ba60-fold...  20190311-0030-ba60   \n",
       "1   data/models/ldcnn20k60-20190311-0030-ba60-fold...  20190311-0030-ba60   \n",
       "0   data/models/ldcnn20k60-20190310-2321-7431-fold...  20190310-2321-7431   \n",
       "1   data/models/ldcnn20k60-20190310-2321-7431-fold...  20190310-2321-7431   \n",
       "2   data/models/ldcnn20k60-20190310-2321-7431-fold...  20190310-2321-7431   \n",
       "3   data/models/ldcnn20k60-20190310-2321-7431-fold...  20190310-2321-7431   \n",
       "4   data/models/ldcnn20k60-20190310-2321-7431-fold...  20190310-2321-7431   \n",
       "0   data/models/ldcnn20k60-20190311-0015-5ab4-fold...  20190311-0015-5ab4   \n",
       "1   data/models/ldcnn20k60-20190311-0015-5ab4-fold...  20190311-0015-5ab4   \n",
       "2   data/models/ldcnn20k60-20190311-0015-5ab4-fold...  20190311-0015-5ab4   \n",
       "3   data/models/ldcnn20k60-20190311-0015-5ab4-fold...  20190311-0015-5ab4   \n",
       "4   data/models/ldcnn20k60-20190311-0015-5ab4-fold...  20190311-0015-5ab4   \n",
       "0   data/models/sbcnn16k30-20190303-1957-a8f9-fold...  20190303-1957-a8f9   \n",
       "1   data/models/sbcnn16k30-20190303-1957-a8f9-fold...  20190303-1957-a8f9   \n",
       "2   data/models/sbcnn16k30-20190303-1957-a8f9-fold...  20190303-1957-a8f9   \n",
       "3   data/models/sbcnn16k30-20190303-1957-a8f9-fold...  20190303-1957-a8f9   \n",
       "4   data/models/sbcnn16k30-20190303-1957-a8f9-fold...  20190303-1957-a8f9   \n",
       "5   data/models/sbcnn16k30-20190303-1957-a8f9-fold...  20190303-1957-a8f9   \n",
       "6   data/models/sbcnn16k30-20190303-1957-a8f9-fold...  20190303-1957-a8f9   \n",
       "7   data/models/sbcnn16k30-20190303-1957-a8f9-fold...  20190303-1957-a8f9   \n",
       "8   data/models/sbcnn16k30-20190303-1957-a8f9-fold...  20190303-1957-a8f9   \n",
       "9   data/models/sbcnn16k30-20190303-1957-a8f9-fold...  20190303-1957-a8f9   \n",
       "10  data/models/sbcnn16k30-20190303-1957-a8f9-fold...  20190303-1957-a8f9   \n",
       "11  data/models/sbcnn16k30-20190303-1957-a8f9-fold...  20190303-1957-a8f9   \n",
       "12  data/models/sbcnn16k30-20190303-1957-a8f9-fold...  20190303-1957-a8f9   \n",
       "13  data/models/sbcnn16k30-20190303-1957-a8f9-fold...  20190303-1957-a8f9   \n",
       "14  data/models/sbcnn16k30-20190303-1957-a8f9-fold...  20190303-1957-a8f9   \n",
       "\n",
       "          template  top3   val_acc  val_loss  val_top3  voted_val_acc  \n",
       "39      ldcnn20k60   NaN  0.685962  0.973320       NaN       0.769759  \n",
       "42      ldcnn20k60   NaN  0.652885  1.047280       NaN       0.758305  \n",
       "13      ldcnn20k60   NaN  0.668462  1.209446       NaN       0.751432  \n",
       "37      ldcnn20k60   NaN  0.667500  0.985157       NaN       0.749141  \n",
       "48      ldcnn20k60   NaN  0.663846  1.053781       NaN       0.730813  \n",
       "13  sbcnn44k128aug   NaN  0.700200  1.175862       NaN       0.730813  \n",
       "13      ldcnn20k60   NaN  0.656923  1.286173       NaN       0.728522  \n",
       "43      ldcnn20k60   NaN  0.651346  1.057788       NaN       0.727377  \n",
       "9       ldcnn20k60   NaN  0.638846  1.370502       NaN       0.727377  \n",
       "38      ldcnn20k60   NaN  0.659038  1.045083       NaN       0.725086  \n",
       "22      ldcnn20k60   NaN  0.637308  1.191039       NaN       0.725086  \n",
       "46      ldcnn20k60   NaN  0.667500  1.010929       NaN       0.725086  \n",
       "12  sbcnn44k128aug   NaN  0.695600  1.111178       NaN       0.722795  \n",
       "9       ldcnn20k60   NaN  0.640962  1.145056       NaN       0.721649  \n",
       "16      ldcnn20k60   NaN  0.640385  1.087978       NaN       0.720504  \n",
       "45      ldcnn20k60   NaN  0.632692  1.101068       NaN       0.719359  \n",
       "35      ldcnn20k60   NaN  0.623462  1.229589       NaN       0.719359  \n",
       "29      ldcnn20k60   NaN  0.640192  1.031479       NaN       0.719359  \n",
       "10      ldcnn20k60   NaN  0.634038  1.348257       NaN       0.718213  \n",
       "6   sbcnn44k128aug   NaN  0.692400  1.176951       NaN       0.718213  \n",
       "19  sbcnn44k128aug   NaN  0.687000  1.190270       NaN       0.718213  \n",
       "27      ldcnn20k60   NaN  0.661154  1.262631       NaN       0.717068  \n",
       "15      ldcnn20k60   NaN  0.652115  1.317391       NaN       0.715922  \n",
       "17      ldcnn20k60   NaN  0.651154  1.223448       NaN       0.715922  \n",
       "11  sbcnn44k128aug   NaN  0.693400  1.219368       NaN       0.714777  \n",
       "10  sbcnn44k128aug   NaN  0.698200  1.139219       NaN       0.714777  \n",
       "21      ldcnn20k60   NaN  0.629231  1.249269       NaN       0.713631  \n",
       "32      ldcnn20k60   NaN  0.623654  1.159281       NaN       0.713631  \n",
       "11      ldcnn20k60   NaN  0.653269  1.279724       NaN       0.713631  \n",
       "10      ldcnn20k60   NaN  0.633269  1.452741       NaN       0.713631  \n",
       "..             ...   ...       ...       ...       ...            ...  \n",
       "0       sbcnn16k30   NaN  0.060000  2.449552       NaN       0.038946  \n",
       "2       sbcnn16k30   NaN  0.020000  2.437223       NaN       0.037801  \n",
       "1       sbcnn16k30   NaN  0.040000  2.455848       NaN       0.033219  \n",
       "0       ldcnn20k60   NaN  0.403000  2.028447       NaN            NaN  \n",
       "1       ldcnn20k60   NaN  0.420000  1.947163       NaN            NaN  \n",
       "0       ldcnn20k60   NaN  0.385000  1.959270       NaN            NaN  \n",
       "1       ldcnn20k60   NaN  0.429000  1.893501       NaN            NaN  \n",
       "2       ldcnn20k60   NaN  0.433000  1.850549       NaN            NaN  \n",
       "3       ldcnn20k60   NaN  0.468000  1.777175       NaN            NaN  \n",
       "4       ldcnn20k60   NaN  0.458000  1.637641       NaN            NaN  \n",
       "0       ldcnn20k60   NaN  0.391000  1.974986       NaN            NaN  \n",
       "1       ldcnn20k60   NaN  0.454000  1.931374       NaN            NaN  \n",
       "2       ldcnn20k60   NaN  0.498000  1.741431       NaN            NaN  \n",
       "3       ldcnn20k60   NaN  0.497000  1.755008       NaN            NaN  \n",
       "4       ldcnn20k60   NaN  0.487000  1.880725       NaN            NaN  \n",
       "0       sbcnn16k30  0.62  0.080000  2.439054      0.24            NaN  \n",
       "1       sbcnn16k30  0.52  0.100000  2.408851      0.34            NaN  \n",
       "2       sbcnn16k30  0.56  0.160000  2.405587      0.38            NaN  \n",
       "3       sbcnn16k30  0.46  0.140000  2.418119      0.34            NaN  \n",
       "4       sbcnn16k30  0.56  0.160000  2.409561      0.44            NaN  \n",
       "5       sbcnn16k30  0.60  0.180000  2.413848      0.46            NaN  \n",
       "6       sbcnn16k30  0.48  0.180000  2.399552      0.52            NaN  \n",
       "7       sbcnn16k30  0.48  0.160000  2.404871      0.40            NaN  \n",
       "8       sbcnn16k30  0.46  0.120000  2.415313      0.34            NaN  \n",
       "9       sbcnn16k30  0.68  0.180000  2.411068      0.36            NaN  \n",
       "10      sbcnn16k30  0.54  0.100000  2.422633      0.34            NaN  \n",
       "11      sbcnn16k30  0.50  0.160000  2.401928      0.38            NaN  \n",
       "12      sbcnn16k30  0.46  0.140000  2.388887      0.38            NaN  \n",
       "13      sbcnn16k30  0.56  0.160000  2.398407      0.46            NaN  \n",
       "14      sbcnn16k30  0.58  0.200000  2.398680      0.44            NaN  \n",
       "\n",
       "[1730 rows x 12 columns]"
      ]
     },
     "execution_count": 19,
     "metadata": {},
     "output_type": "execute_result"
    }
   ],
   "source": [
    "df.sort_values('voted_val_acc', ascending=False)"
   ]
  },
  {
   "cell_type": "code",
   "execution_count": 157,
   "metadata": {},
   "outputs": [
    {
     "data": {
      "text/plain": [
       "<matplotlib.axes._subplots.AxesSubplot at 0x7fac12b85240>"
      ]
     },
     "execution_count": 157,
     "metadata": {},
     "output_type": "execute_result"
    },
    {
     "data": {
      "image/png": "[encoded data removed]",
      "text/plain": [
       "<Figure size 432x288 with 1 Axes>"
      ]
     },
     "metadata": {
      "needs_background": "light"
     },
     "output_type": "display_data"
    }
   ],
   "source": [
    "(data.end - data.start).hist()"
   ]
  },
  {
   "cell_type": "code",
   "execution_count": null,
   "metadata": {},
   "outputs": [],
   "source": []
  },
  {
   "cell_type": "code",
   "execution_count": 158,
   "metadata": {},
   "outputs": [
    {
     "data": {
      "text/plain": [
       "0    4.0\n",
       "dtype: float64"
      ]
     },
     "execution_count": 158,
     "metadata": {},
     "output_type": "execute_result"
    }
   ],
   "source": [
    "(data.end-data.start).mode()"
   ]
  },
  {
   "cell_type": "code",
   "execution_count": 159,
   "metadata": {},
   "outputs": [
    {
     "data": {
      "text/plain": [
       "(9, (7022, 8), (873, 8), (837, 8))"
      ]
     },
     "execution_count": 159,
     "metadata": {},
     "output_type": "execute_result"
    }
   ],
   "source": [
    "folds, test = urbansound8k.folds(data)\n",
    "len(folds), folds[0][0].shape, folds[0][1].shape, test.shape"
   ]
  },
  {
   "cell_type": "code",
   "execution_count": 160,
   "metadata": {},
   "outputs": [
    {
     "name": "stdout",
     "output_type": "stream",
     "text": [
      "window size 1.152\n",
      "17920.0 8704.0\n"
     ]
    },
    {
     "data": {
      "text/plain": [
       "[(0, 18432),\n",
       " (9216.0, 27648.0),\n",
       " (18432.0, 36864.0),\n",
       " (27648.0, 46080.0),\n",
       " (36864.0, 55296.0),\n",
       " (46080.0, 64000),\n",
       " (55296.0, 64000)]"
      ]
     },
     "execution_count": 160,
     "metadata": {},
     "output_type": "execute_result"
    }
   ],
   "source": [
    "frame_samples=256\n",
    "window_frames=72\n",
    "fs=16000\n",
    "w_ms = (frame_samples*window_frames/fs)\n",
    "print('window size', w_ms)\n",
    "w = list(train.sample_windows(int(4.0*fs), frame_samples=frame_samples, window_frames=window_frames))\n",
    "print(w[-2][1] - w[-2][0], w[-1][1] - w[-1][0])\n",
    "w"
   ]
  },
  {
   "cell_type": "code",
   "execution_count": 204,
   "metadata": {},
   "outputs": [
    {
     "data": {
      "text/plain": [
       "(128, 128, 1)"
      ]
     },
     "execution_count": 204,
     "metadata": {},
     "output_type": "execute_result"
    }
   ],
   "source": [
    "sbcnn16k32_settings = dict(\n",
    "    feature='mels',\n",
    "    samplerate=16000,\n",
    "    n_mels=32,\n",
    "    fmin=0,\n",
    "    fmax=8000,\n",
    "    n_fft=512,\n",
    "    hop_length=256,\n",
    "    augmentations=5,\n",
    ")\n",
    "\n",
    "sbcnn44k128_settings = dict(\n",
    "    feature='mels',\n",
    "    samplerate=44100,\n",
    "    n_mels=128,\n",
    "    fmin=0,\n",
    "    fmax=22050,\n",
    "    n_fft=1024,\n",
    "    hop_length=1024,\n",
    "    augmentations=5,\n",
    ")\n",
    "window_frames = 128\n",
    "settings = sbcnn44k128_settings\n",
    "\n",
    "def load_sample(sample):\n",
    "    return train.load_sample(sample, settings, window_frames=window_frames, feature_dir='../../scratch/aug')\n",
    "    \n",
    "load_sample(folds[0][0].iloc[5]).shape"
   ]
  },
  {
   "cell_type": "code",
   "execution_count": 169,
   "metadata": {},
   "outputs": [
    {
     "data": {
      "text/plain": [
       "(16, (8, 32, 72, 1), (8, 10))"
      ]
     },
     "execution_count": 169,
     "metadata": {},
     "output_type": "execute_result"
    }
   ],
   "source": [
    "gen = train.dataframe_generator\n",
    "\n",
    "fold = folds[0][1]\n",
    "import itertools\n",
    "g = gen(fold[0:16], fold.classID[0:16], loader=load_sample, batchsize=8)\n",
    "batches = list(itertools.islice(g, 16))\n",
    "len(batches), batches[0][0].shape, batches[0][1].shape"
   ]
  },
  {
   "cell_type": "code",
   "execution_count": 170,
   "metadata": {},
   "outputs": [
    {
     "name": "stdout",
     "output_type": "stream",
     "text": [
      "_________________________________________________________________\n",
      "Layer (type)                 Output Shape              Param #   \n",
      "=================================================================\n",
      "conv2d_22 (Conv2D)           (None, 32, 72, 24)        240       \n",
      "_________________________________________________________________\n",
      "max_pooling2d_23 (MaxPooling (None, 10, 24, 24)        0         \n",
      "_________________________________________________________________\n",
      "activation_76 (Activation)   (None, 10, 24, 24)        0         \n",
      "_________________________________________________________________\n",
      "conv2d_23 (Conv2D)           (None, 10, 24, 48)        10416     \n",
      "_________________________________________________________________\n",
      "max_pooling2d_24 (MaxPooling (None, 3, 8, 48)          0         \n",
      "_________________________________________________________________\n",
      "activation_77 (Activation)   (None, 3, 8, 48)          0         \n",
      "_________________________________________________________________\n",
      "conv2d_24 (Conv2D)           (None, 1, 6, 48)          20784     \n",
      "_________________________________________________________________\n",
      "activation_78 (Activation)   (None, 1, 6, 48)          0         \n",
      "_________________________________________________________________\n",
      "flatten_8 (Flatten)          (None, 288)               0         \n",
      "_________________________________________________________________\n",
      "dense_23 (Dense)             (None, 64)                18496     \n",
      "_________________________________________________________________\n",
      "activation_79 (Activation)   (None, 64)                0         \n",
      "_________________________________________________________________\n",
      "dropout_31 (Dropout)         (None, 64)                0         \n",
      "_________________________________________________________________\n",
      "dense_24 (Dense)             (None, 10)                650       \n",
      "_________________________________________________________________\n",
      "dropout_32 (Dropout)         (None, 10)                0         \n",
      "_________________________________________________________________\n",
      "activation_80 (Activation)   (None, 10)                0         \n",
      "=================================================================\n",
      "Total params: 50,586\n",
      "Trainable params: 50,586\n",
      "Non-trainable params: 0\n",
      "_________________________________________________________________\n"
     ]
    }
   ],
   "source": [
    "import dense\n",
    "import sbcnn\n",
    "import dilated\n",
    "\n",
    "def build_model():\n",
    "\n",
    "    #model = dilated.build_model(bands=32, frames=72, channels=1, kernels=[32,32,32,32])\n",
    "    model = sbcnn.build_model(bands=32, frames=72, channels=1, pool=(3,3))\n",
    "    #model = dense.build_model(bands=32, frames=72, channels=1, pooling='avg',\n",
    "    #                          dropout=0.5, growth=30, reduction=0.5)\n",
    "    \n",
    "    #model = dense.build_model(bands=32, frames=72, channels=1, pooling='avg',\n",
    "    #                          dropout=0.5, growth=30, reduction=0.5)\n",
    "    \n",
    "    return model\n",
    "\n",
    "build_model().summary()"
   ]
  },
  {
   "cell_type": "code",
   "execution_count": 174,
   "metadata": {},
   "outputs": [
    {
     "name": "stdout",
     "output_type": "stream",
     "text": [
      "Epoch 1/1\n",
      "1/1 [==============================] - 5s 5s/step - loss: 10.3700 - acc: 0.1200 - val_loss: 4.3289 - val_acc: 0.1300\n",
      "\n",
      "Epoch 00001: saving model to test2/e01-v4.33.t10.37.model.hdf5\n"
     ]
    }
   ],
   "source": [
    "os.makedirs('test2')\n",
    "h = train.train_model(\"test2\", folds[0],\n",
    "                      builder=build_model, loader=load_sample, val_loader=load_sample,\n",
    "                      frame_samples=frame_samples, window_frames=window_frames,\n",
    "                      epochs=1, train_samples=100, val_samples=100, batch_size=100)"
   ]
  },
  {
   "cell_type": "code",
   "execution_count": 175,
   "metadata": {},
   "outputs": [
    {
     "data": {
      "text/html": [
       "<div>\n",
       "<style scoped>\n",
       "    .dataframe tbody tr th:only-of-type {\n",
       "        vertical-align: middle;\n",
       "    }\n",
       "\n",
       "    .dataframe tbody tr th {\n",
       "        vertical-align: top;\n",
       "    }\n",
       "\n",
       "    .dataframe thead th {\n",
       "        text-align: right;\n",
       "    }\n",
       "</style>\n",
       "<table border=\"1\" class=\"dataframe\">\n",
       "  <thead>\n",
       "    <tr style=\"text-align: right;\">\n",
       "      <th></th>\n",
       "      <th>epoch</th>\n",
       "      <th>val_loss</th>\n",
       "      <th>val_acc</th>\n",
       "      <th>loss</th>\n",
       "      <th>acc</th>\n",
       "    </tr>\n",
       "  </thead>\n",
       "  <tbody>\n",
       "    <tr>\n",
       "      <th>0</th>\n",
       "      <td>0</td>\n",
       "      <td>4.328907</td>\n",
       "      <td>0.13</td>\n",
       "      <td>10.370008</td>\n",
       "      <td>0.12</td>\n",
       "    </tr>\n",
       "  </tbody>\n",
       "</table>\n",
       "</div>"
      ],
      "text/plain": [
       "   epoch  val_loss  val_acc       loss   acc\n",
       "0      0  4.328907     0.13  10.370008  0.12"
      ]
     },
     "execution_count": 175,
     "metadata": {},
     "output_type": "execute_result"
    }
   ],
   "source": [
    "train.history_dataframe(h)"
   ]
  },
  {
   "cell_type": "code",
   "execution_count": 207,
   "metadata": {},
   "outputs": [
    {
     "data": {
      "text/plain": [
       "<keras.engine.sequential.Sequential at 0x7fac0d7ed828>"
      ]
     },
     "execution_count": 207,
     "metadata": {},
     "output_type": "execute_result"
    }
   ],
   "source": [
    "p = '../../jobs/sbcnn.orig-2019-02-26-02-12-2c8ffebe-fold7/e10-v13.78.model.hdf5'\n",
    "model = keras.models.load_model(p)\n",
    "model"
   ]
  },
  {
   "cell_type": "code",
   "execution_count": 177,
   "metadata": {
    "scrolled": true
   },
   "outputs": [
    {
     "data": {
      "text/plain": [
       "fold\n",
       "0    AxesSubplot(0.125,0.125;0.775x0.755)\n",
       "1    AxesSubplot(0.125,0.125;0.775x0.755)\n",
       "2    AxesSubplot(0.125,0.125;0.775x0.755)\n",
       "3    AxesSubplot(0.125,0.125;0.775x0.755)\n",
       "4    AxesSubplot(0.125,0.125;0.775x0.755)\n",
       "5    AxesSubplot(0.125,0.125;0.775x0.755)\n",
       "6    AxesSubplot(0.125,0.125;0.775x0.755)\n",
       "7    AxesSubplot(0.125,0.125;0.775x0.755)\n",
       "8    AxesSubplot(0.125,0.125;0.775x0.755)\n",
       "dtype: object"
      ]
     },
     "execution_count": 177,
     "metadata": {},
     "output_type": "execute_result"
    },
    {
     "data": {
      "image/png": "[encoded data removed]",
      "text/plain": [
       "<Figure size 432x288 with 1 Axes>"
      ]
     },
     "metadata": {
      "needs_background": "light"
     },
     "output_type": "display_data"
    },
    {
     "data": {
      "image/png": "[encoded data removed]",
      "text/plain": [
       "<Figure size 432x288 with 1 Axes>"
      ]
     },
     "metadata": {
      "needs_background": "light"
     },
     "output_type": "display_data"
    },
    {
     "data": {
      "image/png": "[encoded data removed]",
      "text/plain": [
       "<Figure size 432x288 with 1 Axes>"
      ]
     },
     "metadata": {
      "needs_background": "light"
     },
     "output_type": "display_data"
    },
    {
     "data": {
      "image/png": "[encoded data removed]",
      "text/plain": [
       "<Figure size 432x288 with 1 Axes>"
      ]
     },
     "metadata": {
      "needs_background": "light"
     },
     "output_type": "display_data"
    },
    {
     "data": {
      "image/png": "[encoded data removed]",
      "text/plain": [
       "<Figure size 432x288 with 1 Axes>"
      ]
     },
     "metadata": {
      "needs_background": "light"
     },
     "output_type": "display_data"
    },
    {
     "data": {
      "image/png": "[encoded data removed]",
      "text/plain": [
       "<Figure size 432x288 with 1 Axes>"
      ]
     },
     "metadata": {
      "needs_background": "light"
     },
     "output_type": "display_data"
    },
    {
     "data": {
      "image/png": "[encoded data removed]",
      "text/plain": [
       "<Figure size 432x288 with 1 Axes>"
      ]
     },
     "metadata": {
      "needs_background": "light"
     },
     "output_type": "display_data"
    },
    {
     "data": {
      "image/png": "[encoded data removed]",
      "text/plain": [
       "<Figure size 432x288 with 1 Axes>"
      ]
     },
     "metadata": {
      "needs_background": "light"
     },
     "output_type": "display_data"
    },
    {
     "data": {
      "image/png": "[encoded data removed]",
      "text/plain": [
       "<Figure size 432x288 with 1 Axes>"
      ]
     },
     "metadata": {
      "needs_background": "light"
     },
     "output_type": "display_data"
    }
   ],
   "source": [
    "# jobs/sbcnn.orig-2019-02-26-13-56-26d5f8ac-fold8/history.csv\n",
    "\n",
    "\n",
    "\n",
    "df.groupby('fold').plot(y=['loss', 'val_loss'])"
   ]
  },
  {
   "cell_type": "code",
   "execution_count": 178,
   "metadata": {
    "scrolled": true
   },
   "outputs": [
    {
     "data": {
      "text/plain": [
       "fold\n",
       "0    AxesSubplot(0.125,0.125;0.775x0.755)\n",
       "1    AxesSubplot(0.125,0.125;0.775x0.755)\n",
       "2    AxesSubplot(0.125,0.125;0.775x0.755)\n",
       "3    AxesSubplot(0.125,0.125;0.775x0.755)\n",
       "4    AxesSubplot(0.125,0.125;0.775x0.755)\n",
       "5    AxesSubplot(0.125,0.125;0.775x0.755)\n",
       "6    AxesSubplot(0.125,0.125;0.775x0.755)\n",
       "7    AxesSubplot(0.125,0.125;0.775x0.755)\n",
       "8    AxesSubplot(0.125,0.125;0.775x0.755)\n",
       "dtype: object"
      ]
     },
     "execution_count": 178,
     "metadata": {},
     "output_type": "execute_result"
    },
    {
     "data": {
      "image/png": "[encoded data removed]",
      "text/plain": [
       "<Figure size 432x288 with 1 Axes>"
      ]
     },
     "metadata": {
      "needs_background": "light"
     },
     "output_type": "display_data"
    },
    {
     "data": {
      "image/png": "[encoded data removed]",
      "text/plain": [
       "<Figure size 432x288 with 1 Axes>"
      ]
     },
     "metadata": {
      "needs_background": "light"
     },
     "output_type": "display_data"
    },
    {
     "data": {
      "image/png": "[encoded data removed]",
      "text/plain": [
       "<Figure size 432x288 with 1 Axes>"
      ]
     },
     "metadata": {
      "needs_background": "light"
     },
     "output_type": "display_data"
    },
    {
     "data": {
      "image/png": "[encoded data removed]",
      "text/plain": [
       "<Figure size 432x288 with 1 Axes>"
      ]
     },
     "metadata": {
      "needs_background": "light"
     },
     "output_type": "display_data"
    },
    {
     "data": {
      "image/png": "[encoded data removed]",
      "text/plain": [
       "<Figure size 432x288 with 1 Axes>"
      ]
     },
     "metadata": {
      "needs_background": "light"
     },
     "output_type": "display_data"
    },
    {
     "data": {
      "image/png": "[encoded data removed]",
      "text/plain": [
       "<Figure size 432x288 with 1 Axes>"
      ]
     },
     "metadata": {
      "needs_background": "light"
     },
     "output_type": "display_data"
    },
    {
     "data": {
      "image/png": "[encoded data removed]",
      "text/plain": [
       "<Figure size 432x288 with 1 Axes>"
      ]
     },
     "metadata": {
      "needs_background": "light"
     },
     "output_type": "display_data"
    },
    {
     "data": {
      "image/png": "[encoded data removed]",
      "text/plain": [
       "<Figure size 432x288 with 1 Axes>"
      ]
     },
     "metadata": {
      "needs_background": "light"
     },
     "output_type": "display_data"
    },
    {
     "data": {
      "image/png": "[encoded data removed]",
      "text/plain": [
       "<Figure size 432x288 with 1 Axes>"
      ]
     },
     "metadata": {
      "needs_background": "light"
     },
     "output_type": "display_data"
    }
   ],
   "source": [
    "df.groupby('fold').plot(y=['acc', 'val_acc'])"
   ]
  },
  {
   "cell_type": "code",
   "execution_count": 179,
   "metadata": {},
   "outputs": [
    {
     "data": {
      "text/plain": [
       "array([<matplotlib.axes._subplots.AxesSubplot object at 0x7fac5d0db128>],\n",
       "      dtype=object)"
      ]
     },
     "execution_count": 179,
     "metadata": {},
     "output_type": "execute_result"
    },
    {
     "data": {
      "image/png": "[encoded data removed]",
      "text/plain": [
       "<Figure size 432x288 with 1 Axes>"
      ]
     },
     "metadata": {
      "needs_background": "light"
     },
     "output_type": "display_data"
    }
   ],
   "source": [
    "best_by_loss = df.groupby('fold').apply(lambda d: d.sort_values('val_loss', ascending=True).head(1))\n",
    "best_by_loss.plot(y='val_acc', kind='bar', subplots=True)"
   ]
  },
  {
   "cell_type": "code",
   "execution_count": 180,
   "metadata": {},
   "outputs": [
    {
     "data": {
      "text/plain": [
       "array([<matplotlib.axes._subplots.AxesSubplot object at 0x7fac5d05e4a8>],\n",
       "      dtype=object)"
      ]
     },
     "execution_count": 180,
     "metadata": {},
     "output_type": "execute_result"
    },
    {
     "data": {
      "image/png": "[encoded data removed]",
      "text/plain": [
       "<Figure size 432x288 with 1 Axes>"
      ]
     },
     "metadata": {
      "needs_background": "light"
     },
     "output_type": "display_data"
    }
   ],
   "source": [
    "best_by_acc = df.groupby('fold').apply(lambda d: d.sort_values('val_acc', ascending=False).head(1))\n",
    "best_by_acc.plot(y='val_acc', kind='bar', subplots=True)"
   ]
  },
  {
   "cell_type": "code",
   "execution_count": 181,
   "metadata": {},
   "outputs": [],
   "source": [
    "# Takes 30 seconds+\n",
    "models = best_by_loss['model'].apply(lambda p: keras.models.load_model(p))\n"
   ]
  },
  {
   "cell_type": "code",
   "execution_count": 221,
   "metadata": {},
   "outputs": [],
   "source": [
    "def score(model, data):\n",
    "    predictions = predict_windowed(settings, model, data, method='majority', overlap=0.1)\n",
    "    s = accuracy_score(data.classID, predictions)\n",
    "    print('acc', s)\n",
    "    return s"
   ]
  },
  {
   "cell_type": "code",
   "execution_count": 192,
   "metadata": {},
   "outputs": [],
   "source": [
    "sbcnn44k128 = scores"
   ]
  },
  {
   "cell_type": "code",
   "execution_count": 222,
   "metadata": {},
   "outputs": [
    {
     "name": "stdout",
     "output_type": "stream",
     "text": [
      "acc 0.6857825567502986\n",
      "acc 0.7060931899641577\n",
      "acc 0.6152927120669056\n",
      "acc 0.7371565113500598\n",
      "acc 0.7108721624850657\n",
      "acc 0.6786140979689367\n",
      "acc 0.7132616487455197\n",
      "acc 0.6200716845878136\n",
      "acc 0.7216248506571087\n"
     ]
    }
   ],
   "source": [
    "scores = [ score(m, test) for m in models ]"
   ]
  },
  {
   "cell_type": "code",
   "execution_count": 200,
   "metadata": {},
   "outputs": [
    {
     "name": "stdout",
     "output_type": "stream",
     "text": [
      "acc 0.722794959908362\n",
      "acc 0.6565315315315315\n",
      "acc 0.6810810810810811\n",
      "acc 0.7575757575757576\n",
      "acc 0.7435897435897436\n",
      "acc 0.6816524908869988\n",
      "acc 0.7494033412887828\n",
      "acc 0.6687344913151365\n",
      "acc 0.7365196078431373\n"
     ]
    },
    {
     "data": {
      "text/plain": [
       "0.7108758894467256"
      ]
     },
     "execution_count": 200,
     "metadata": {},
     "output_type": "execute_result"
    }
   ],
   "source": [
    "val_scores = [ score(m, folds[i][1]) for i, m in enumerate(models) ]\n",
    "numpy.mean(val_scores)"
   ]
  },
  {
   "cell_type": "code",
   "execution_count": 224,
   "metadata": {},
   "outputs": [
    {
     "data": {
      "text/plain": [
       "[0.6810035842293907,\n",
       " 0.7084826762246117,\n",
       " 0.6188769414575866,\n",
       " 0.7323775388291517,\n",
       " 0.7168458781362007,\n",
       " 0.6821983273596177,\n",
       " 0.7108721624850657,\n",
       " 0.6140979689366786,\n",
       " 0.7192353643966547]"
      ]
     },
     "execution_count": 224,
     "metadata": {},
     "output_type": "execute_result"
    }
   ],
   "source": [
    "sbcnn44k128"
   ]
  },
  {
   "cell_type": "code",
   "execution_count": null,
   "metadata": {},
   "outputs": [],
   "source": [
    "# TODO: calculate per-class accuracy. For each fold\n",
    "# TODO: compare single-frame accuracy (from training) versus voted accuracy\n",
    "# TODO: compare no-overlap, 50% overlap and 10% overlap"
   ]
  },
  {
   "cell_type": "code",
   "execution_count": 151,
   "metadata": {},
   "outputs": [
    {
     "data": {
      "text/plain": [
       "(816, 8)"
      ]
     },
     "execution_count": 151,
     "metadata": {},
     "output_type": "execute_result"
    }
   ],
   "source": [
    "folds[8][1].shape"
   ]
  },
  {
   "cell_type": "code",
   "execution_count": 187,
   "metadata": {},
   "outputs": [],
   "source": [
    "df = pandas.DataFrame({'test_acc': sbcnn16k32 })\n",
    "df.to_csv('../sbcnn16k32.results.csv')"
   ]
  },
  {
   "cell_type": "code",
   "execution_count": 199,
   "metadata": {},
   "outputs": [
    {
     "data": {
      "text/plain": [
       "(0.6, 0.85)"
      ]
     },
     "execution_count": 199,
     "metadata": {},
     "output_type": "execute_result"
    },
    {
     "data": {
      "image/png": "[encoded data removed]",
      "text/plain": [
       "<Figure size 576x288 with 1 Axes>"
      ]
     },
     "metadata": {
      "needs_background": "light"
     },
     "output_type": "display_data"
    }
   ],
   "source": [
    "df = pandas.DataFrame({\n",
    "    'SB-CNN 16kHz 32mels 1 second': sbcnn16k32,\n",
    "    'SB-CNN 44.1kHz 128mels 3 seconds': sbcnn44k128,\n",
    "})\n",
    "df.to_csv('results.csv')\n",
    "ax = df.boxplot(figsize=(8,4))\n",
    "ax.set_ylim((0.6, 0.85))"
   ]
  },
  {
   "cell_type": "code",
   "execution_count": 223,
   "metadata": {},
   "outputs": [
    {
     "data": {
      "text/plain": [
       "(0.6876410460639851, 0.7060931899641577)"
      ]
     },
     "execution_count": 223,
     "metadata": {},
     "output_type": "execute_result"
    }
   ],
   "source": [
    "numpy.mean(scores), numpy.median(scores)"
   ]
  },
  {
   "cell_type": "code",
   "execution_count": 225,
   "metadata": {},
   "outputs": [
    {
     "data": {
      "text/plain": [
       "[0.6547192353643967,\n",
       " 0.6391875746714456,\n",
       " 0.6463560334528077,\n",
       " 0.6571087216248507,\n",
       " 0.6642771804062126,\n",
       " 0.7431302270011948,\n",
       " 0.6511350059737157,\n",
       " 0.7120669056152927,\n",
       " 0.6403823178016727]"
      ]
     },
     "execution_count": 225,
     "metadata": {},
     "output_type": "execute_result"
    }
   ],
   "source": [
    "sbcnn16k32"
   ]
  },
  {
   "cell_type": "code",
   "execution_count": 226,
   "metadata": {},
   "outputs": [
    {
     "data": {
      "text/plain": [
       "0.6675959113235099"
      ]
     },
     "execution_count": 226,
     "metadata": {},
     "output_type": "execute_result"
    }
   ],
   "source": [
    "numpy.mean(sbcnn16k32)"
   ]
  },
  {
   "cell_type": "code",
   "execution_count": null,
   "metadata": {},
   "outputs": [],
   "source": []
  }
 ],
 "metadata": {
  "kernelspec": {
   "display_name": "Python 3",
   "language": "python",
   "name": "python3"
  },
  "language_info": {
   "codemirror_mode": {
    "name": "ipython",
    "version": 3
   },
   "file_extension": ".py",
   "mimetype": "text/x-python",
   "name": "python",
   "nbconvert_exporter": "python",
   "pygments_lexer": "ipython3",
   "version": "3.7.2"
  }
 },
 "nbformat": 4,
 "nbformat_minor": 2
}
