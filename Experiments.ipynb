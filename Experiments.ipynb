{
 "cells": [
  {
   "cell_type": "code",
   "execution_count": 1,
   "metadata": {},
   "outputs": [],
   "source": [
    "%matplotlib inline\n",
    "%load_ext autoreload\n",
    "%autoreload 2"
   ]
  },
  {
   "cell_type": "code",
   "execution_count": 35,
   "metadata": {},
   "outputs": [],
   "source": [
    "import math\n",
    "import os.path\n",
    "\n",
    "import keras\n",
    "import sklearn\n",
    "import seaborn\n",
    "import pandas\n",
    "import numpy\n",
    "from matplotlib import pyplot as plt\n",
    "\n",
    "from microesc import urbansound8k, preprocess, train, test, report, stm32convert, stats, settings, models, features, common\n"
   ]
  },
  {
   "cell_type": "code",
   "execution_count": 73,
   "metadata": {},
   "outputs": [
    {
     "data": {
      "text/html": [
       "<div>\n",
       "<style scoped>\n",
       "    .dataframe tbody tr th:only-of-type {\n",
       "        vertical-align: middle;\n",
       "    }\n",
       "\n",
       "    .dataframe tbody tr th {\n",
       "        vertical-align: top;\n",
       "    }\n",
       "\n",
       "    .dataframe thead th {\n",
       "        text-align: right;\n",
       "    }\n",
       "</style>\n",
       "<table border=\"1\" class=\"dataframe\">\n",
       "  <thead>\n",
       "    <tr style=\"text-align: right;\">\n",
       "      <th></th>\n",
       "      <th>slice_file_name</th>\n",
       "      <th>fsID</th>\n",
       "      <th>start</th>\n",
       "      <th>end</th>\n",
       "      <th>salience</th>\n",
       "      <th>fold</th>\n",
       "      <th>classID</th>\n",
       "      <th>class</th>\n",
       "    </tr>\n",
       "  </thead>\n",
       "  <tbody>\n",
       "    <tr>\n",
       "      <th>0</th>\n",
       "      <td>100032-3-0-0.wav</td>\n",
       "      <td>100032</td>\n",
       "      <td>0.0</td>\n",
       "      <td>0.317551</td>\n",
       "      <td>1</td>\n",
       "      <td>5</td>\n",
       "      <td>3</td>\n",
       "      <td>dog_bark</td>\n",
       "    </tr>\n",
       "    <tr>\n",
       "      <th>1</th>\n",
       "      <td>100263-2-0-117.wav</td>\n",
       "      <td>100263</td>\n",
       "      <td>58.5</td>\n",
       "      <td>62.500000</td>\n",
       "      <td>1</td>\n",
       "      <td>5</td>\n",
       "      <td>2</td>\n",
       "      <td>children_playing</td>\n",
       "    </tr>\n",
       "    <tr>\n",
       "      <th>2</th>\n",
       "      <td>100263-2-0-121.wav</td>\n",
       "      <td>100263</td>\n",
       "      <td>60.5</td>\n",
       "      <td>64.500000</td>\n",
       "      <td>1</td>\n",
       "      <td>5</td>\n",
       "      <td>2</td>\n",
       "      <td>children_playing</td>\n",
       "    </tr>\n",
       "    <tr>\n",
       "      <th>3</th>\n",
       "      <td>100263-2-0-126.wav</td>\n",
       "      <td>100263</td>\n",
       "      <td>63.0</td>\n",
       "      <td>67.000000</td>\n",
       "      <td>1</td>\n",
       "      <td>5</td>\n",
       "      <td>2</td>\n",
       "      <td>children_playing</td>\n",
       "    </tr>\n",
       "    <tr>\n",
       "      <th>4</th>\n",
       "      <td>100263-2-0-137.wav</td>\n",
       "      <td>100263</td>\n",
       "      <td>68.5</td>\n",
       "      <td>72.500000</td>\n",
       "      <td>1</td>\n",
       "      <td>5</td>\n",
       "      <td>2</td>\n",
       "      <td>children_playing</td>\n",
       "    </tr>\n",
       "  </tbody>\n",
       "</table>\n",
       "</div>"
      ],
      "text/plain": [
       "      slice_file_name    fsID  start        end  salience  fold  classID  \\\n",
       "0    100032-3-0-0.wav  100032    0.0   0.317551         1     5        3   \n",
       "1  100263-2-0-117.wav  100263   58.5  62.500000         1     5        2   \n",
       "2  100263-2-0-121.wav  100263   60.5  64.500000         1     5        2   \n",
       "3  100263-2-0-126.wav  100263   63.0  67.000000         1     5        2   \n",
       "4  100263-2-0-137.wav  100263   68.5  72.500000         1     5        2   \n",
       "\n",
       "              class  \n",
       "0          dog_bark  \n",
       "1  children_playing  \n",
       "2  children_playing  \n",
       "3  children_playing  \n",
       "4  children_playing  "
      ]
     },
     "execution_count": 73,
     "metadata": {},
     "output_type": "execute_result"
    }
   ],
   "source": [
    "data = urbansound8k.load_dataset()\n",
    "data.head()"
   ]
  },
  {
   "cell_type": "code",
   "execution_count": 157,
   "metadata": {},
   "outputs": [
    {
     "data": {
      "text/plain": [
       "<matplotlib.axes._subplots.AxesSubplot at 0x7fac12b85240>"
      ]
     },
     "execution_count": 157,
     "metadata": {},
     "output_type": "execute_result"
    },
    {
     "data": {
      "image/png": "[encoded data removed]",
      "text/plain": [
       "<Figure size 432x288 with 1 Axes>"
      ]
     },
     "metadata": {
      "needs_background": "light"
     },
     "output_type": "display_data"
    }
   ],
   "source": [
    "(data.end - data.start).hist()"
   ]
  },
  {
   "cell_type": "code",
   "execution_count": 5,
   "metadata": {},
   "outputs": [
    {
     "data": {
      "text/html": [
       "<div>\n",
       "<style scoped>\n",
       "    .dataframe tbody tr th:only-of-type {\n",
       "        vertical-align: middle;\n",
       "    }\n",
       "\n",
       "    .dataframe tbody tr th {\n",
       "        vertical-align: top;\n",
       "    }\n",
       "\n",
       "    .dataframe thead th {\n",
       "        text-align: right;\n",
       "    }\n",
       "</style>\n",
       "<table border=\"1\" class=\"dataframe\">\n",
       "  <thead>\n",
       "    <tr style=\"text-align: right;\">\n",
       "      <th></th>\n",
       "      <th>epoch</th>\n",
       "      <th>acc</th>\n",
       "      <th>loss</th>\n",
       "      <th>val_acc</th>\n",
       "      <th>val_loss</th>\n",
       "      <th>voted_val_acc</th>\n",
       "      <th>fold</th>\n",
       "      <th>experiment</th>\n",
       "      <th>run</th>\n",
       "      <th>model_path</th>\n",
       "    </tr>\n",
       "  </thead>\n",
       "  <tbody>\n",
       "    <tr>\n",
       "      <th>0</th>\n",
       "      <td>1</td>\n",
       "      <td>0.142067</td>\n",
       "      <td>2.457795</td>\n",
       "      <td>0.217692</td>\n",
       "      <td>2.273984</td>\n",
       "      <td>0.241422</td>\n",
       "      <td>8</td>\n",
       "      <td>8</td>\n",
       "      <td>20190501-0223-bd5a</td>\n",
       "      <td>data/models/8-20190501-0223-bd5a-fold8/e01-v2....</td>\n",
       "    </tr>\n",
       "    <tr>\n",
       "      <th>1</th>\n",
       "      <td>2</td>\n",
       "      <td>0.191000</td>\n",
       "      <td>2.304349</td>\n",
       "      <td>0.250192</td>\n",
       "      <td>2.169231</td>\n",
       "      <td>0.253676</td>\n",
       "      <td>8</td>\n",
       "      <td>8</td>\n",
       "      <td>20190501-0223-bd5a</td>\n",
       "      <td>data/models/8-20190501-0223-bd5a-fold8/e02-v2....</td>\n",
       "    </tr>\n",
       "    <tr>\n",
       "      <th>2</th>\n",
       "      <td>3</td>\n",
       "      <td>0.217767</td>\n",
       "      <td>2.253371</td>\n",
       "      <td>0.354423</td>\n",
       "      <td>2.082320</td>\n",
       "      <td>0.356618</td>\n",
       "      <td>8</td>\n",
       "      <td>8</td>\n",
       "      <td>20190501-0223-bd5a</td>\n",
       "      <td>data/models/8-20190501-0223-bd5a-fold8/e03-v2....</td>\n",
       "    </tr>\n",
       "    <tr>\n",
       "      <th>3</th>\n",
       "      <td>4</td>\n",
       "      <td>0.233133</td>\n",
       "      <td>2.217945</td>\n",
       "      <td>0.332500</td>\n",
       "      <td>2.051456</td>\n",
       "      <td>0.357843</td>\n",
       "      <td>8</td>\n",
       "      <td>8</td>\n",
       "      <td>20190501-0223-bd5a</td>\n",
       "      <td>data/models/8-20190501-0223-bd5a-fold8/e04-v2....</td>\n",
       "    </tr>\n",
       "    <tr>\n",
       "      <th>4</th>\n",
       "      <td>5</td>\n",
       "      <td>0.236367</td>\n",
       "      <td>2.195759</td>\n",
       "      <td>0.336154</td>\n",
       "      <td>2.022574</td>\n",
       "      <td>0.351716</td>\n",
       "      <td>8</td>\n",
       "      <td>8</td>\n",
       "      <td>20190501-0223-bd5a</td>\n",
       "      <td>data/models/8-20190501-0223-bd5a-fold8/e05-v2....</td>\n",
       "    </tr>\n",
       "  </tbody>\n",
       "</table>\n",
       "</div>"
      ],
      "text/plain": [
       "   epoch       acc      loss   val_acc  val_loss  voted_val_acc  fold  \\\n",
       "0      1  0.142067  2.457795  0.217692  2.273984       0.241422     8   \n",
       "1      2  0.191000  2.304349  0.250192  2.169231       0.253676     8   \n",
       "2      3  0.217767  2.253371  0.354423  2.082320       0.356618     8   \n",
       "3      4  0.233133  2.217945  0.332500  2.051456       0.357843     8   \n",
       "4      5  0.236367  2.195759  0.336154  2.022574       0.351716     8   \n",
       "\n",
       "  experiment                 run  \\\n",
       "0          8  20190501-0223-bd5a   \n",
       "1          8  20190501-0223-bd5a   \n",
       "2          8  20190501-0223-bd5a   \n",
       "3          8  20190501-0223-bd5a   \n",
       "4          8  20190501-0223-bd5a   \n",
       "\n",
       "                                          model_path  \n",
       "0  data/models/8-20190501-0223-bd5a-fold8/e01-v2....  \n",
       "1  data/models/8-20190501-0223-bd5a-fold8/e02-v2....  \n",
       "2  data/models/8-20190501-0223-bd5a-fold8/e03-v2....  \n",
       "3  data/models/8-20190501-0223-bd5a-fold8/e04-v2....  \n",
       "4  data/models/8-20190501-0223-bd5a-fold8/e05-v2....  "
      ]
     },
     "execution_count": 5,
     "metadata": {},
     "output_type": "execute_result"
    }
   ],
   "source": [
    "hist = test.load_train_history('data/models/', '20190501-0223-bd5a-fold8')\n",
    "hist.head()"
   ]
  },
  {
   "cell_type": "code",
   "execution_count": 17,
   "metadata": {},
   "outputs": [
    {
     "data": {
      "text/html": [
       "<div>\n",
       "<style scoped>\n",
       "    .dataframe tbody tr th:only-of-type {\n",
       "        vertical-align: middle;\n",
       "    }\n",
       "\n",
       "    .dataframe tbody tr th {\n",
       "        vertical-align: top;\n",
       "    }\n",
       "\n",
       "    .dataframe thead th {\n",
       "        text-align: right;\n",
       "    }\n",
       "</style>\n",
       "<table border=\"1\" class=\"dataframe\">\n",
       "  <thead>\n",
       "    <tr style=\"text-align: right;\">\n",
       "      <th></th>\n",
       "      <th></th>\n",
       "      <th></th>\n",
       "      <th>epoch</th>\n",
       "      <th>acc</th>\n",
       "      <th>loss</th>\n",
       "      <th>val_acc</th>\n",
       "      <th>val_loss</th>\n",
       "      <th>voted_val_acc</th>\n",
       "      <th>fold</th>\n",
       "      <th>experiment</th>\n",
       "      <th>run</th>\n",
       "      <th>model_path</th>\n",
       "    </tr>\n",
       "    <tr>\n",
       "      <th>experiment</th>\n",
       "      <th>fold</th>\n",
       "      <th></th>\n",
       "      <th></th>\n",
       "      <th></th>\n",
       "      <th></th>\n",
       "      <th></th>\n",
       "      <th></th>\n",
       "      <th></th>\n",
       "      <th></th>\n",
       "      <th></th>\n",
       "      <th></th>\n",
       "      <th></th>\n",
       "    </tr>\n",
       "  </thead>\n",
       "  <tbody>\n",
       "    <tr>\n",
       "      <th>0</th>\n",
       "      <th>8</th>\n",
       "      <th>80</th>\n",
       "      <td>81</td>\n",
       "      <td>0.486600</td>\n",
       "      <td>1.375160</td>\n",
       "      <td>0.691154</td>\n",
       "      <td>1.172646</td>\n",
       "      <td>0.737745</td>\n",
       "      <td>8</td>\n",
       "      <td>0</td>\n",
       "      <td>20190501-0223-bd5a</td>\n",
       "      <td>data/models/0-20190501-0223-bd5a-fold8/e81-v1....</td>\n",
       "    </tr>\n",
       "    <tr>\n",
       "      <th>1</th>\n",
       "      <th>8</th>\n",
       "      <th>82</th>\n",
       "      <td>83</td>\n",
       "      <td>0.461533</td>\n",
       "      <td>1.477567</td>\n",
       "      <td>0.658462</td>\n",
       "      <td>1.222978</td>\n",
       "      <td>0.708333</td>\n",
       "      <td>8</td>\n",
       "      <td>1</td>\n",
       "      <td>20190501-0223-bd5a</td>\n",
       "      <td>data/models/1-20190501-0223-bd5a-fold8/e83-v1....</td>\n",
       "    </tr>\n",
       "    <tr>\n",
       "      <th>10</th>\n",
       "      <th>8</th>\n",
       "      <th>98</th>\n",
       "      <td>99</td>\n",
       "      <td>0.402133</td>\n",
       "      <td>1.677952</td>\n",
       "      <td>0.614615</td>\n",
       "      <td>1.344095</td>\n",
       "      <td>0.669118</td>\n",
       "      <td>8</td>\n",
       "      <td>10</td>\n",
       "      <td>20190501-0223-bd5a</td>\n",
       "      <td>data/models/10-20190501-0223-bd5a-fold8/e99-v1...</td>\n",
       "    </tr>\n",
       "    <tr>\n",
       "      <th>2</th>\n",
       "      <th>8</th>\n",
       "      <th>81</th>\n",
       "      <td>82</td>\n",
       "      <td>0.436733</td>\n",
       "      <td>1.558458</td>\n",
       "      <td>0.661923</td>\n",
       "      <td>1.265230</td>\n",
       "      <td>0.726716</td>\n",
       "      <td>8</td>\n",
       "      <td>2</td>\n",
       "      <td>20190501-0223-bd5a</td>\n",
       "      <td>data/models/2-20190501-0223-bd5a-fold8/e82-v1....</td>\n",
       "    </tr>\n",
       "    <tr>\n",
       "      <th>3</th>\n",
       "      <th>8</th>\n",
       "      <th>78</th>\n",
       "      <td>79</td>\n",
       "      <td>0.427333</td>\n",
       "      <td>1.585985</td>\n",
       "      <td>0.650577</td>\n",
       "      <td>1.245131</td>\n",
       "      <td>0.697304</td>\n",
       "      <td>8</td>\n",
       "      <td>3</td>\n",
       "      <td>20190501-0223-bd5a</td>\n",
       "      <td>data/models/3-20190501-0223-bd5a-fold8/e79-v1....</td>\n",
       "    </tr>\n",
       "  </tbody>\n",
       "</table>\n",
       "</div>"
      ],
      "text/plain": [
       "                    epoch       acc      loss   val_acc  val_loss  \\\n",
       "experiment fold                                                     \n",
       "0          8    80     81  0.486600  1.375160  0.691154  1.172646   \n",
       "1          8    82     83  0.461533  1.477567  0.658462  1.222978   \n",
       "10         8    98     99  0.402133  1.677952  0.614615  1.344095   \n",
       "2          8    81     82  0.436733  1.558458  0.661923  1.265230   \n",
       "3          8    78     79  0.427333  1.585985  0.650577  1.245131   \n",
       "\n",
       "                    voted_val_acc  fold experiment                 run  \\\n",
       "experiment fold                                                          \n",
       "0          8    80       0.737745     8          0  20190501-0223-bd5a   \n",
       "1          8    82       0.708333     8          1  20190501-0223-bd5a   \n",
       "10         8    98       0.669118     8         10  20190501-0223-bd5a   \n",
       "2          8    81       0.726716     8          2  20190501-0223-bd5a   \n",
       "3          8    78       0.697304     8          3  20190501-0223-bd5a   \n",
       "\n",
       "                                                           model_path  \n",
       "experiment fold                                                        \n",
       "0          8    80  data/models/0-20190501-0223-bd5a-fold8/e81-v1....  \n",
       "1          8    82  data/models/1-20190501-0223-bd5a-fold8/e83-v1....  \n",
       "10         8    98  data/models/10-20190501-0223-bd5a-fold8/e99-v1...  \n",
       "2          8    81  data/models/2-20190501-0223-bd5a-fold8/e82-v1....  \n",
       "3          8    78  data/models/3-20190501-0223-bd5a-fold8/e79-v1....  "
      ]
     },
     "execution_count": 17,
     "metadata": {},
     "output_type": "execute_result"
    }
   ],
   "source": [
    "# best.nickname == 'Stride-DS-5x5'\n",
    "best = test.pick_best(hist)\n",
    "best.head()"
   ]
  },
  {
   "cell_type": "code",
   "execution_count": 21,
   "metadata": {},
   "outputs": [
    {
     "data": {
      "text/plain": [
       "'data/models/3-20190501-0223-bd5a-fold8/e79-v1.25.t1.59.model.hdf5'"
      ]
     },
     "execution_count": 21,
     "metadata": {},
     "output_type": "execute_result"
    }
   ],
   "source": [
    "model_path = best[best.experiment == '3'].model_path[0]\n",
    "model_path"
   ]
  },
  {
   "cell_type": "code",
   "execution_count": 100,
   "metadata": {},
   "outputs": [
    {
     "name": "stdout",
     "output_type": "stream",
     "text": [
      "(1653, 9)\n"
     ]
    },
    {
     "data": {
      "text/html": [
       "<div>\n",
       "<style scoped>\n",
       "    .dataframe tbody tr th:only-of-type {\n",
       "        vertical-align: middle;\n",
       "    }\n",
       "\n",
       "    .dataframe tbody tr th {\n",
       "        vertical-align: top;\n",
       "    }\n",
       "\n",
       "    .dataframe thead th {\n",
       "        text-align: right;\n",
       "    }\n",
       "</style>\n",
       "<table border=\"1\" class=\"dataframe\">\n",
       "  <thead>\n",
       "    <tr style=\"text-align: right;\">\n",
       "      <th></th>\n",
       "      <th>slice_file_name</th>\n",
       "      <th>fsID</th>\n",
       "      <th>start</th>\n",
       "      <th>end</th>\n",
       "      <th>salience</th>\n",
       "      <th>fold</th>\n",
       "      <th>classID</th>\n",
       "      <th>class</th>\n",
       "      <th>set</th>\n",
       "    </tr>\n",
       "  </thead>\n",
       "  <tbody>\n",
       "    <tr>\n",
       "      <th>9</th>\n",
       "      <td>100648-1-0-0.wav</td>\n",
       "      <td>100648</td>\n",
       "      <td>4.823402</td>\n",
       "      <td>5.471927</td>\n",
       "      <td>2</td>\n",
       "      <td>10</td>\n",
       "      <td>1</td>\n",
       "      <td>car_horn</td>\n",
       "      <td>test</td>\n",
       "    </tr>\n",
       "    <tr>\n",
       "      <th>10</th>\n",
       "      <td>100648-1-1-0.wav</td>\n",
       "      <td>100648</td>\n",
       "      <td>8.998279</td>\n",
       "      <td>10.052132</td>\n",
       "      <td>2</td>\n",
       "      <td>10</td>\n",
       "      <td>1</td>\n",
       "      <td>car_horn</td>\n",
       "      <td>test</td>\n",
       "    </tr>\n",
       "    <tr>\n",
       "      <th>67</th>\n",
       "      <td>101729-0-0-1.wav</td>\n",
       "      <td>101729</td>\n",
       "      <td>0.500000</td>\n",
       "      <td>4.500000</td>\n",
       "      <td>2</td>\n",
       "      <td>9</td>\n",
       "      <td>0</td>\n",
       "      <td>air_conditioner</td>\n",
       "      <td>val</td>\n",
       "    </tr>\n",
       "    <tr>\n",
       "      <th>68</th>\n",
       "      <td>101729-0-0-11.wav</td>\n",
       "      <td>101729</td>\n",
       "      <td>5.500000</td>\n",
       "      <td>9.500000</td>\n",
       "      <td>2</td>\n",
       "      <td>9</td>\n",
       "      <td>0</td>\n",
       "      <td>air_conditioner</td>\n",
       "      <td>val</td>\n",
       "    </tr>\n",
       "  </tbody>\n",
       "</table>\n",
       "</div>"
      ],
      "text/plain": [
       "      slice_file_name    fsID     start        end  salience  fold  classID  \\\n",
       "9    100648-1-0-0.wav  100648  4.823402   5.471927         2    10        1   \n",
       "10   100648-1-1-0.wav  100648  8.998279  10.052132         2    10        1   \n",
       "67   101729-0-0-1.wav  101729  0.500000   4.500000         2     9        0   \n",
       "68  101729-0-0-11.wav  101729  5.500000   9.500000         2     9        0   \n",
       "\n",
       "              class   set  \n",
       "9          car_horn  test  \n",
       "10         car_horn  test  \n",
       "67  air_conditioner   val  \n",
       "68  air_conditioner   val  "
      ]
     },
     "execution_count": 100,
     "metadata": {},
     "output_type": "execute_result"
    }
   ],
   "source": [
    "def create_eval_set(fold):\n",
    "    data = urbansound8k.load_dataset()\n",
    "    folds, test  = urbansound8k.folds(data)\n",
    "    test = test.copy()\n",
    "    train = folds[fold][0].copy()\n",
    "    val = folds[fold][1].copy()\n",
    "\n",
    "    test['set'] = 'test'\n",
    "    train['set'] = 'train'\n",
    "    val['set'] = 'val'\n",
    "    # XXX: include train?\n",
    "    df = pandas.concat([test, val])\n",
    "    return df\n",
    "     \n",
    "eval_set = create_eval_set(fold=8)\n",
    "print(eval_set.shape)\n",
    "eval_set.groupby('set').head(2)"
   ]
  },
  {
   "cell_type": "code",
   "execution_count": 108,
   "metadata": {},
   "outputs": [
    {
     "name": "stdout",
     "output_type": "stream",
     "text": [
      "Warning: Sample Sample(start=2.8792743764172335, end=3.24140589569161, fold=10, slice_file_name='26344-4-1-0.wav') with start 2.8792743764172335 has 0 length\n"
     ]
    },
    {
     "data": {
      "text/html": [
       "<div>\n",
       "<style scoped>\n",
       "    .dataframe tbody tr th:only-of-type {\n",
       "        vertical-align: middle;\n",
       "    }\n",
       "\n",
       "    .dataframe tbody tr th {\n",
       "        vertical-align: top;\n",
       "    }\n",
       "\n",
       "    .dataframe thead th {\n",
       "        text-align: right;\n",
       "    }\n",
       "</style>\n",
       "<table border=\"1\" class=\"dataframe\">\n",
       "  <thead>\n",
       "    <tr style=\"text-align: right;\">\n",
       "      <th></th>\n",
       "      <th>slice_file_name</th>\n",
       "      <th>fsID</th>\n",
       "      <th>start</th>\n",
       "      <th>end</th>\n",
       "      <th>salience</th>\n",
       "      <th>fold</th>\n",
       "      <th>classID</th>\n",
       "      <th>class</th>\n",
       "      <th>set</th>\n",
       "      <th>predictions</th>\n",
       "    </tr>\n",
       "  </thead>\n",
       "  <tbody>\n",
       "    <tr>\n",
       "      <th>9</th>\n",
       "      <td>100648-1-0-0.wav</td>\n",
       "      <td>100648</td>\n",
       "      <td>4.823402</td>\n",
       "      <td>5.471927</td>\n",
       "      <td>2</td>\n",
       "      <td>10</td>\n",
       "      <td>1</td>\n",
       "      <td>car_horn</td>\n",
       "      <td>test</td>\n",
       "      <td>[0.03206492, 0.12941872, 0.11333097, 0.1137044...</td>\n",
       "    </tr>\n",
       "    <tr>\n",
       "      <th>10</th>\n",
       "      <td>100648-1-1-0.wav</td>\n",
       "      <td>100648</td>\n",
       "      <td>8.998279</td>\n",
       "      <td>10.052132</td>\n",
       "      <td>2</td>\n",
       "      <td>10</td>\n",
       "      <td>1</td>\n",
       "      <td>car_horn</td>\n",
       "      <td>test</td>\n",
       "      <td>[0.014229942, 0.16539712, 0.066213205, 0.14090...</td>\n",
       "    </tr>\n",
       "    <tr>\n",
       "      <th>67</th>\n",
       "      <td>101729-0-0-1.wav</td>\n",
       "      <td>101729</td>\n",
       "      <td>0.500000</td>\n",
       "      <td>4.500000</td>\n",
       "      <td>2</td>\n",
       "      <td>9</td>\n",
       "      <td>0</td>\n",
       "      <td>air_conditioner</td>\n",
       "      <td>val</td>\n",
       "      <td>[0.09555469, 0.010715012, 0.03366288, 0.101037...</td>\n",
       "    </tr>\n",
       "    <tr>\n",
       "      <th>68</th>\n",
       "      <td>101729-0-0-11.wav</td>\n",
       "      <td>101729</td>\n",
       "      <td>5.500000</td>\n",
       "      <td>9.500000</td>\n",
       "      <td>2</td>\n",
       "      <td>9</td>\n",
       "      <td>0</td>\n",
       "      <td>air_conditioner</td>\n",
       "      <td>val</td>\n",
       "      <td>[0.18683255, 0.015797311, 0.06032902, 0.090838...</td>\n",
       "    </tr>\n",
       "  </tbody>\n",
       "</table>\n",
       "</div>"
      ],
      "text/plain": [
       "      slice_file_name    fsID     start        end  salience  fold  classID  \\\n",
       "9    100648-1-0-0.wav  100648  4.823402   5.471927         2    10        1   \n",
       "10   100648-1-1-0.wav  100648  8.998279  10.052132         2    10        1   \n",
       "67   101729-0-0-1.wav  101729  0.500000   4.500000         2     9        0   \n",
       "68  101729-0-0-11.wav  101729  5.500000   9.500000         2     9        0   \n",
       "\n",
       "              class   set                                        predictions  \n",
       "9          car_horn  test  [0.03206492, 0.12941872, 0.11333097, 0.1137044...  \n",
       "10         car_horn  test  [0.014229942, 0.16539712, 0.066213205, 0.14090...  \n",
       "67  air_conditioner   val  [0.09555469, 0.010715012, 0.03366288, 0.101037...  \n",
       "68  air_conditioner   val  [0.18683255, 0.015797311, 0.06032902, 0.090838...  "
      ]
     },
     "execution_count": 108,
     "metadata": {},
     "output_type": "execute_result"
    }
   ],
   "source": [
    "exsettings = settings.load_settings(common.load_settings_path('experiments/ldcnn20k60.yaml'))\n",
    "\n",
    "def load_sample(sample):\n",
    "    fsettings = features.settings(exsettings)\n",
    "    return features.load_sample(sample, fsettings, start_time=sample.start,\n",
    "                window_frames=exsettings['frames'], feature_dir='data/features')\n",
    "\n",
    "def predict(model, data):\n",
    "    return features.predict_voted(exsettings, model, data, loader=load_sample,\n",
    "                                    method=exsettings['voting'], overlap=exsettings['voting_overlap'])\n",
    "\n",
    "def model_predict(predictor, model_path, data):\n",
    "    model = keras.models.load_model(model_path)\n",
    "    p = predictor(model, data)\n",
    "    return p\n",
    "\n",
    "p = model_predict(predict, model_path, eval_set)\n",
    "eval_set['predictions'] = list(p)\n",
    "eval_set.groupby('set').head(2)"
   ]
  },
  {
   "cell_type": "code",
   "execution_count": 212,
   "metadata": {},
   "outputs": [
    {
     "data": {
      "text/html": [
       "<div>\n",
       "<style scoped>\n",
       "    .dataframe tbody tr th:only-of-type {\n",
       "        vertical-align: middle;\n",
       "    }\n",
       "\n",
       "    .dataframe tbody tr th {\n",
       "        vertical-align: top;\n",
       "    }\n",
       "\n",
       "    .dataframe thead th {\n",
       "        text-align: right;\n",
       "    }\n",
       "</style>\n",
       "<table border=\"1\" class=\"dataframe\">\n",
       "  <thead>\n",
       "    <tr style=\"text-align: right;\">\n",
       "      <th></th>\n",
       "      <th>slice_file_name</th>\n",
       "      <th>fsID</th>\n",
       "      <th>start</th>\n",
       "      <th>end</th>\n",
       "      <th>salience</th>\n",
       "      <th>fold</th>\n",
       "      <th>classID</th>\n",
       "      <th>class</th>\n",
       "      <th>set</th>\n",
       "      <th>predictions</th>\n",
       "      <th>best_p</th>\n",
       "      <th>best_y</th>\n",
       "      <th>correct</th>\n",
       "    </tr>\n",
       "  </thead>\n",
       "  <tbody>\n",
       "    <tr>\n",
       "      <th>9</th>\n",
       "      <td>100648-1-0-0.wav</td>\n",
       "      <td>100648</td>\n",
       "      <td>4.823402</td>\n",
       "      <td>5.471927</td>\n",
       "      <td>2</td>\n",
       "      <td>10</td>\n",
       "      <td>1</td>\n",
       "      <td>car_horn</td>\n",
       "      <td>test</td>\n",
       "      <td>[0.03206492, 0.12941872, 0.11333097, 0.1137044...</td>\n",
       "      <td>0.235730</td>\n",
       "      <td>4</td>\n",
       "      <td>False</td>\n",
       "    </tr>\n",
       "    <tr>\n",
       "      <th>10</th>\n",
       "      <td>100648-1-1-0.wav</td>\n",
       "      <td>100648</td>\n",
       "      <td>8.998279</td>\n",
       "      <td>10.052132</td>\n",
       "      <td>2</td>\n",
       "      <td>10</td>\n",
       "      <td>1</td>\n",
       "      <td>car_horn</td>\n",
       "      <td>test</td>\n",
       "      <td>[0.014229942, 0.16539712, 0.066213205, 0.14090...</td>\n",
       "      <td>0.226467</td>\n",
       "      <td>4</td>\n",
       "      <td>False</td>\n",
       "    </tr>\n",
       "    <tr>\n",
       "      <th>11</th>\n",
       "      <td>100648-1-2-0.wav</td>\n",
       "      <td>100648</td>\n",
       "      <td>16.699509</td>\n",
       "      <td>17.104837</td>\n",
       "      <td>2</td>\n",
       "      <td>10</td>\n",
       "      <td>1</td>\n",
       "      <td>car_horn</td>\n",
       "      <td>test</td>\n",
       "      <td>[0.0050243563, 0.14825162, 0.009926457, 0.1720...</td>\n",
       "      <td>0.342725</td>\n",
       "      <td>4</td>\n",
       "      <td>False</td>\n",
       "    </tr>\n",
       "  </tbody>\n",
       "</table>\n",
       "</div>"
      ],
      "text/plain": [
       "     slice_file_name    fsID      start        end  salience  fold  classID  \\\n",
       "9   100648-1-0-0.wav  100648   4.823402   5.471927         2    10        1   \n",
       "10  100648-1-1-0.wav  100648   8.998279  10.052132         2    10        1   \n",
       "11  100648-1-2-0.wav  100648  16.699509  17.104837         2    10        1   \n",
       "\n",
       "       class   set                                        predictions  \\\n",
       "9   car_horn  test  [0.03206492, 0.12941872, 0.11333097, 0.1137044...   \n",
       "10  car_horn  test  [0.014229942, 0.16539712, 0.066213205, 0.14090...   \n",
       "11  car_horn  test  [0.0050243563, 0.14825162, 0.009926457, 0.1720...   \n",
       "\n",
       "      best_p  best_y  correct  \n",
       "9   0.235730       4    False  \n",
       "10  0.226467       4    False  \n",
       "11  0.342725       4    False  "
      ]
     },
     "execution_count": 212,
     "metadata": {},
     "output_type": "execute_result"
    }
   ],
   "source": [
    "eval_set['class'] = eval_set.classID.apply(lambda i: urbansound8k.classnames[i])\n",
    "eval_set['best_p'] = eval_set.predictions.apply(lambda p: numpy.max(p))\n",
    "eval_set['best_y'] = eval_set.predictions.apply(lambda p: numpy.argmax(p))\n",
    "eval_set['correct'] = eval_set.best_y == eval_set.classID\n",
    "eval_set.head(3)"
   ]
  },
  {
   "cell_type": "code",
   "execution_count": 144,
   "metadata": {},
   "outputs": [
    {
     "data": {
      "text/plain": [
       "array([<matplotlib.axes._subplots.AxesSubplot object at 0x7f02c3dbb9e8>,\n",
       "       <matplotlib.axes._subplots.AxesSubplot object at 0x7f02c3cc6470>],\n",
       "      dtype=object)"
      ]
     },
     "execution_count": 144,
     "metadata": {},
     "output_type": "execute_result"
    },
    {
     "data": {
      "image/png": "[encoded data removed]",
      "text/plain": [
       "<Figure size 576x216 with 2 Axes>"
      ]
     },
     "metadata": {
      "needs_background": "light"
     },
     "output_type": "display_data"
    }
   ],
   "source": [
    "eval_set.best_p.hist(by=eval_set['correct'], bins=20, figsize=(8, 3))"
   ]
  },
  {
   "cell_type": "code",
   "execution_count": 150,
   "metadata": {},
   "outputs": [
    {
     "data": {
      "text/plain": [
       "array([[<matplotlib.axes._subplots.AxesSubplot object at 0x7f02bf5ca3c8>,\n",
       "        <matplotlib.axes._subplots.AxesSubplot object at 0x7f02bf4e21d0>],\n",
       "       [<matplotlib.axes._subplots.AxesSubplot object at 0x7f02bf4996a0>,\n",
       "        <matplotlib.axes._subplots.AxesSubplot object at 0x7f02bf4a6c18>]],\n",
       "      dtype=object)"
      ]
     },
     "execution_count": 150,
     "metadata": {},
     "output_type": "execute_result"
    },
    {
     "data": {
      "image/png": "[encoded data removed]",
      "text/plain": [
       "<Figure size 576x216 with 4 Axes>"
      ]
     },
     "metadata": {
      "needs_background": "light"
     },
     "output_type": "display_data"
    }
   ],
   "source": [
    "eval_set.best_p.hist(by=(eval_set['correct'], eval_set['salience']), bins=20, figsize=(8, 3))"
   ]
  },
  {
   "cell_type": "code",
   "execution_count": 210,
   "metadata": {},
   "outputs": [
    {
     "data": {
      "text/plain": [
       "0.37763323783874514"
      ]
     },
     "execution_count": 210,
     "metadata": {},
     "output_type": "execute_result"
    }
   ],
   "source": [
    "def threshold(df, q=0.8):\n",
    "    q = df[df.correct == False].best_p.quantile(q=q)\n",
    "    return q\n",
    "    \n",
    "threshold(eval_set[eval_set.set == 'val'])"
   ]
  },
  {
   "cell_type": "code",
   "execution_count": 213,
   "metadata": {},
   "outputs": [
    {
     "data": {
      "text/plain": [
       "class\n",
       "air_conditioner     0.368953\n",
       "car_horn            0.383808\n",
       "children_playing    0.372627\n",
       "dog_bark            0.357520\n",
       "drilling            0.555217\n",
       "engine_idling       0.291193\n",
       "gun_shot            0.338796\n",
       "jackhammer          0.632930\n",
       "siren               0.259379\n",
       "street_music        0.308365\n",
       "dtype: float64"
      ]
     },
     "execution_count": 213,
     "metadata": {},
     "output_type": "execute_result"
    }
   ],
   "source": [
    "eval_set[eval_set.set == 'val'].groupby('class').apply(threshold)"
   ]
  },
  {
   "cell_type": "code",
   "execution_count": 206,
   "metadata": {},
   "outputs": [
    {
     "data": {
      "text/plain": [
       "<matplotlib.axes._subplots.AxesSubplot at 0x7f02baf6ebe0>"
      ]
     },
     "execution_count": 206,
     "metadata": {},
     "output_type": "execute_result"
    },
    {
     "data": {
      "image/png": "[encoded data removed]",
      "text/plain": [
       "<Figure size 432x288 with 1 Axes>"
      ]
     },
     "metadata": {
      "needs_background": "light"
     },
     "output_type": "display_data"
    }
   ],
   "source": [
    "def plot_errors(df, ax=None, q=0.8, bins=20):\n",
    "    \n",
    "    if ax is None:\n",
    "        fig, ax = plt.subplots(1)\n",
    "    \n",
    "    (_, wrong), (isright, right) = df.groupby('correct')\n",
    "    assert isright == True\n",
    "    \n",
    "    # FIXME: add legend\n",
    "    right.best_p.hist(ax=ax, color='green', alpha=0.4, bins=bins)\n",
    "    wrong.best_p.hist(ax=ax, color='red', alpha=0.4, bins=bins)\n",
    "    \n",
    "    # Illustrate a threshold\n",
    "    if q is not None:\n",
    "        p_min = threshold(df, q=q)\n",
    "        ax.axvline(x=p_min, color='black', linewidth=1.0, alpha=0.7)\n",
    "\n",
    "    return ax\n",
    "    \n",
    "\n",
    "plot_errors(eval_set)"
   ]
  },
  {
   "cell_type": "code",
   "execution_count": 220,
   "metadata": {},
   "outputs": [
    {
     "data": {
      "image/png": "[encoded data removed]",
      "text/plain": [
       "<Figure size 288x864 with 10 Axes>"
      ]
     },
     "metadata": {
      "needs_background": "light"
     },
     "output_type": "display_data"
    }
   ],
   "source": [
    "def plot_errors_classwise(df, figsize=(4,12)):\n",
    "\n",
    "    groups = eval_set.groupby('class')\n",
    "    fig, axs = plt.subplots(len(groups), figsize=figsize)\n",
    "    for i, (classname, data) in enumerate(groups):\n",
    "        ax = axs[i]\n",
    "        ax.set_title(classname)\n",
    "        plot_errors(data, ax=ax)\n",
    "    \n",
    "    fig.tight_layout()\n",
    "    return fig\n",
    "\n",
    "plot_errors_classwise(eval_set[eval_set.set == 'val']);"
   ]
  },
  {
   "cell_type": "code",
   "execution_count": 374,
   "metadata": {},
   "outputs": [
    {
     "data": {
      "image/png": "[encoded data removed]",
      "text/plain": [
       "<Figure size 432x288 with 1 Axes>"
      ]
     },
     "metadata": {
      "needs_background": "light"
     },
     "output_type": "display_data"
    },
    {
     "data": {
      "image/png": "[encoded data removed]",
      "text/plain": [
       "<Figure size 432x288 with 1 Axes>"
      ]
     },
     "metadata": {
      "needs_background": "light"
     },
     "output_type": "display_data"
    }
   ],
   "source": [
    "def score(df, average=None, threshold=0.0):\n",
    "    y_true = df.classID\n",
    "    y_pred = df.best_y\n",
    "\n",
    "    uncertain = df.best_p < threshold\n",
    "    uncertain_ratio = numpy.count_nonzero(uncertain.astype(int)) / len(y_pred)\n",
    "    y_pred = y_pred.mask(uncertain, 11) # unknown class\n",
    "  \n",
    "    labels = list(range(0,10)) # don't count unknown class\n",
    "    precision = sklearn.metrics.precision_score(y_true, y_pred, average=average, labels=labels)\n",
    "    recall = sklearn.metrics.recall_score(y_true, y_pred, average=average, labels=labels)\n",
    "    out = pandas.Series({\n",
    "        'precision': precision,\n",
    "        'recall': recall,    \n",
    "        'uncertain': uncertain_ratio,\n",
    "    })\n",
    "    return out\n",
    "\n",
    "val = eval_set[eval_set.set == 'test']\n",
    "\n",
    "def plot_precision_recall(average):\n",
    "    df = pandas.DataFrame({\n",
    "        'threshold': numpy.linspace(0, 1.0, 50, endpoint=False)\n",
    "    })\n",
    "\n",
    "    tradeoff = df.apply(lambda r: score(val, average=average, threshold=r.threshold), axis=1)\n",
    "    tradeoff['threshold'] = df.threshold\n",
    "\n",
    "    ax = tradeoff.plot.line(y='precision', x='recall', ylim=(0.0, 1.0))\n",
    "    ax.set_yticks(numpy.arange(0.0, 1.0, 0.1))\n",
    "    ax.grid(True)\n",
    "\n",
    "    #ax = tradeoff.plot.line(y=['precision', 'recall'], x='threshold', ylim=(0.0, 1.0))\n",
    "    #ax.set_yticks(numpy.arange(0.0, 1.0, 0.1))\n",
    "    #ax.grid(True, axis='y')\n",
    "\n",
    "plot_precision_recall(average='micro')\n",
    "plot_precision_recall(average='macro')"
   ]
  },
  {
   "cell_type": "markdown",
   "metadata": {},
   "source": [
    "Precision-recall curve very different with macro versus micro averaging.\n"
   ]
  },
  {
   "cell_type": "code",
   "execution_count": 250,
   "metadata": {},
   "outputs": [
    {
     "name": "stdout",
     "output_type": "stream",
     "text": [
      "y_ 2    136\n",
      "9    121\n",
      "7    115\n",
      "3     96\n",
      "5     89\n",
      "8     78\n",
      "4     70\n",
      "0     51\n",
      "1     35\n",
      "6     25\n",
      "Name: best_y, dtype: int64\n",
      "Base (0.7022058823529411, 0.7022058823529411)\n",
      "u Int64Index([  67,   68,   69,   70,   71,   72,   73,   74,   75,   76,\n",
      "            ...\n",
      "            8661, 8662, 8709, 8710, 8711, 8712, 8713, 8714, 8715, 8716],\n",
      "           dtype='int64', length=816)\n"
     ]
    },
    {
     "ename": "KeyError",
     "evalue": "\"['slice_file_name' 'fsID' 'start' 'end' 'salience' 'fold' 'classID'\\n 'class' 'set' 'predictions' 'best_p' 'best_y' 'correct'] not found in axis\"",
     "output_type": "error",
     "traceback": [
      "\u001b[0;31m---------------------------------------------------------------------------\u001b[0m",
      "\u001b[0;31mKeyError\u001b[0m                                  Traceback (most recent call last)",
      "\u001b[0;32m<ipython-input-250-b08efdc04214>\u001b[0m in \u001b[0;36m<module>\u001b[0;34m\u001b[0m\n\u001b[1;32m      1\u001b[0m \u001b[0mval\u001b[0m \u001b[0;34m=\u001b[0m \u001b[0meval_set\u001b[0m\u001b[0;34m[\u001b[0m\u001b[0meval_set\u001b[0m\u001b[0;34m.\u001b[0m\u001b[0mset\u001b[0m \u001b[0;34m==\u001b[0m \u001b[0;34m'val'\u001b[0m\u001b[0;34m]\u001b[0m\u001b[0;34m\u001b[0m\u001b[0;34m\u001b[0m\u001b[0m\n\u001b[1;32m      2\u001b[0m \u001b[0mprint\u001b[0m\u001b[0;34m(\u001b[0m\u001b[0;34m'Base'\u001b[0m\u001b[0;34m,\u001b[0m \u001b[0mscore\u001b[0m\u001b[0;34m(\u001b[0m\u001b[0mval\u001b[0m\u001b[0;34m,\u001b[0m \u001b[0maverage\u001b[0m\u001b[0;34m=\u001b[0m\u001b[0;34m'micro'\u001b[0m\u001b[0;34m)\u001b[0m\u001b[0;34m)\u001b[0m\u001b[0;34m\u001b[0m\u001b[0;34m\u001b[0m\u001b[0m\n\u001b[0;32m----> 3\u001b[0;31m \u001b[0mscore\u001b[0m\u001b[0;34m(\u001b[0m\u001b[0mval\u001b[0m\u001b[0;34m,\u001b[0m \u001b[0maverage\u001b[0m\u001b[0;34m=\u001b[0m\u001b[0;34m'micro'\u001b[0m\u001b[0;34m,\u001b[0m \u001b[0mthreshold\u001b[0m\u001b[0;34m=\u001b[0m\u001b[0;36m0.37\u001b[0m\u001b[0;34m)\u001b[0m\u001b[0;34m\u001b[0m\u001b[0;34m\u001b[0m\u001b[0m\n\u001b[0m",
      "\u001b[0;32m<ipython-input-249-827eede088cf>\u001b[0m in \u001b[0;36mscore\u001b[0;34m(df, average, threshold)\u001b[0m\n\u001b[1;32m      6\u001b[0m         \u001b[0muncertain\u001b[0m \u001b[0;34m=\u001b[0m \u001b[0mdf\u001b[0m\u001b[0;34m.\u001b[0m\u001b[0mwhere\u001b[0m\u001b[0;34m(\u001b[0m\u001b[0mdf\u001b[0m\u001b[0;34m.\u001b[0m\u001b[0mbest_p\u001b[0m \u001b[0;34m<\u001b[0m \u001b[0mthreshold\u001b[0m\u001b[0;34m)\u001b[0m\u001b[0;34m\u001b[0m\u001b[0;34m\u001b[0m\u001b[0m\n\u001b[1;32m      7\u001b[0m         \u001b[0mprint\u001b[0m\u001b[0;34m(\u001b[0m\u001b[0;34m'u'\u001b[0m\u001b[0;34m,\u001b[0m \u001b[0muncertain\u001b[0m\u001b[0;34m.\u001b[0m\u001b[0mindex\u001b[0m\u001b[0;34m)\u001b[0m\u001b[0;34m\u001b[0m\u001b[0;34m\u001b[0m\u001b[0m\n\u001b[0;32m----> 8\u001b[0;31m         \u001b[0my_pred\u001b[0m \u001b[0;34m=\u001b[0m \u001b[0my_pred\u001b[0m\u001b[0;34m.\u001b[0m\u001b[0mdrop\u001b[0m\u001b[0;34m(\u001b[0m\u001b[0muncertain\u001b[0m\u001b[0;34m)\u001b[0m\u001b[0;34m\u001b[0m\u001b[0;34m\u001b[0m\u001b[0m\n\u001b[0m\u001b[1;32m      9\u001b[0m         \u001b[0my_true\u001b[0m \u001b[0;34m=\u001b[0m \u001b[0my_true\u001b[0m\u001b[0;34m.\u001b[0m\u001b[0mdrop\u001b[0m\u001b[0;34m(\u001b[0m\u001b[0muncertain\u001b[0m\u001b[0;34m)\u001b[0m\u001b[0;34m\u001b[0m\u001b[0;34m\u001b[0m\u001b[0m\n\u001b[1;32m     10\u001b[0m         \u001b[0;31m#y_pred = y_pred.where(, math.nan)\u001b[0m\u001b[0;34m\u001b[0m\u001b[0;34m\u001b[0m\u001b[0;34m\u001b[0m\u001b[0m\n",
      "\u001b[0;32m/usr/lib/python3.7/site-packages/pandas/core/series.py\u001b[0m in \u001b[0;36mdrop\u001b[0;34m(self, labels, axis, index, columns, level, inplace, errors)\u001b[0m\n\u001b[1;32m   3827\u001b[0m         return super(Series, self).drop(labels=labels, axis=axis, index=index,\n\u001b[1;32m   3828\u001b[0m                                         \u001b[0mcolumns\u001b[0m\u001b[0;34m=\u001b[0m\u001b[0mcolumns\u001b[0m\u001b[0;34m,\u001b[0m \u001b[0mlevel\u001b[0m\u001b[0;34m=\u001b[0m\u001b[0mlevel\u001b[0m\u001b[0;34m,\u001b[0m\u001b[0;34m\u001b[0m\u001b[0;34m\u001b[0m\u001b[0m\n\u001b[0;32m-> 3829\u001b[0;31m                                         inplace=inplace, errors=errors)\n\u001b[0m\u001b[1;32m   3830\u001b[0m \u001b[0;34m\u001b[0m\u001b[0m\n\u001b[1;32m   3831\u001b[0m     \u001b[0;34m@\u001b[0m\u001b[0mSubstitution\u001b[0m\u001b[0;34m(\u001b[0m\u001b[0;34m**\u001b[0m\u001b[0m_shared_doc_kwargs\u001b[0m\u001b[0;34m)\u001b[0m\u001b[0;34m\u001b[0m\u001b[0;34m\u001b[0m\u001b[0m\n",
      "\u001b[0;32m/usr/lib/python3.7/site-packages/pandas/core/generic.py\u001b[0m in \u001b[0;36mdrop\u001b[0;34m(self, labels, axis, index, columns, level, inplace, errors)\u001b[0m\n\u001b[1;32m   3778\u001b[0m         \u001b[0;32mfor\u001b[0m \u001b[0maxis\u001b[0m\u001b[0;34m,\u001b[0m \u001b[0mlabels\u001b[0m \u001b[0;32min\u001b[0m \u001b[0maxes\u001b[0m\u001b[0;34m.\u001b[0m\u001b[0mitems\u001b[0m\u001b[0;34m(\u001b[0m\u001b[0;34m)\u001b[0m\u001b[0;34m:\u001b[0m\u001b[0;34m\u001b[0m\u001b[0;34m\u001b[0m\u001b[0m\n\u001b[1;32m   3779\u001b[0m             \u001b[0;32mif\u001b[0m \u001b[0mlabels\u001b[0m \u001b[0;32mis\u001b[0m \u001b[0;32mnot\u001b[0m \u001b[0;32mNone\u001b[0m\u001b[0;34m:\u001b[0m\u001b[0;34m\u001b[0m\u001b[0;34m\u001b[0m\u001b[0m\n\u001b[0;32m-> 3780\u001b[0;31m                 \u001b[0mobj\u001b[0m \u001b[0;34m=\u001b[0m \u001b[0mobj\u001b[0m\u001b[0;34m.\u001b[0m\u001b[0m_drop_axis\u001b[0m\u001b[0;34m(\u001b[0m\u001b[0mlabels\u001b[0m\u001b[0;34m,\u001b[0m \u001b[0maxis\u001b[0m\u001b[0;34m,\u001b[0m \u001b[0mlevel\u001b[0m\u001b[0;34m=\u001b[0m\u001b[0mlevel\u001b[0m\u001b[0;34m,\u001b[0m \u001b[0merrors\u001b[0m\u001b[0;34m=\u001b[0m\u001b[0merrors\u001b[0m\u001b[0;34m)\u001b[0m\u001b[0;34m\u001b[0m\u001b[0;34m\u001b[0m\u001b[0m\n\u001b[0m\u001b[1;32m   3781\u001b[0m \u001b[0;34m\u001b[0m\u001b[0m\n\u001b[1;32m   3782\u001b[0m         \u001b[0;32mif\u001b[0m \u001b[0minplace\u001b[0m\u001b[0;34m:\u001b[0m\u001b[0;34m\u001b[0m\u001b[0;34m\u001b[0m\u001b[0m\n",
      "\u001b[0;32m/usr/lib/python3.7/site-packages/pandas/core/generic.py\u001b[0m in \u001b[0;36m_drop_axis\u001b[0;34m(self, labels, axis, level, errors)\u001b[0m\n\u001b[1;32m   3810\u001b[0m                 \u001b[0mnew_axis\u001b[0m \u001b[0;34m=\u001b[0m \u001b[0maxis\u001b[0m\u001b[0;34m.\u001b[0m\u001b[0mdrop\u001b[0m\u001b[0;34m(\u001b[0m\u001b[0mlabels\u001b[0m\u001b[0;34m,\u001b[0m \u001b[0mlevel\u001b[0m\u001b[0;34m=\u001b[0m\u001b[0mlevel\u001b[0m\u001b[0;34m,\u001b[0m \u001b[0merrors\u001b[0m\u001b[0;34m=\u001b[0m\u001b[0merrors\u001b[0m\u001b[0;34m)\u001b[0m\u001b[0;34m\u001b[0m\u001b[0;34m\u001b[0m\u001b[0m\n\u001b[1;32m   3811\u001b[0m             \u001b[0;32melse\u001b[0m\u001b[0;34m:\u001b[0m\u001b[0;34m\u001b[0m\u001b[0;34m\u001b[0m\u001b[0m\n\u001b[0;32m-> 3812\u001b[0;31m                 \u001b[0mnew_axis\u001b[0m \u001b[0;34m=\u001b[0m \u001b[0maxis\u001b[0m\u001b[0;34m.\u001b[0m\u001b[0mdrop\u001b[0m\u001b[0;34m(\u001b[0m\u001b[0mlabels\u001b[0m\u001b[0;34m,\u001b[0m \u001b[0merrors\u001b[0m\u001b[0;34m=\u001b[0m\u001b[0merrors\u001b[0m\u001b[0;34m)\u001b[0m\u001b[0;34m\u001b[0m\u001b[0;34m\u001b[0m\u001b[0m\n\u001b[0m\u001b[1;32m   3813\u001b[0m             \u001b[0mresult\u001b[0m \u001b[0;34m=\u001b[0m \u001b[0mself\u001b[0m\u001b[0;34m.\u001b[0m\u001b[0mreindex\u001b[0m\u001b[0;34m(\u001b[0m\u001b[0;34m**\u001b[0m\u001b[0;34m{\u001b[0m\u001b[0maxis_name\u001b[0m\u001b[0;34m:\u001b[0m \u001b[0mnew_axis\u001b[0m\u001b[0;34m}\u001b[0m\u001b[0;34m)\u001b[0m\u001b[0;34m\u001b[0m\u001b[0;34m\u001b[0m\u001b[0m\n\u001b[1;32m   3814\u001b[0m \u001b[0;34m\u001b[0m\u001b[0m\n",
      "\u001b[0;32m/usr/lib/python3.7/site-packages/pandas/core/indexes/base.py\u001b[0m in \u001b[0;36mdrop\u001b[0;34m(self, labels, errors)\u001b[0m\n\u001b[1;32m   4963\u001b[0m             \u001b[0;32mif\u001b[0m \u001b[0merrors\u001b[0m \u001b[0;34m!=\u001b[0m \u001b[0;34m'ignore'\u001b[0m\u001b[0;34m:\u001b[0m\u001b[0;34m\u001b[0m\u001b[0;34m\u001b[0m\u001b[0m\n\u001b[1;32m   4964\u001b[0m                 raise KeyError(\n\u001b[0;32m-> 4965\u001b[0;31m                     '{} not found in axis'.format(labels[mask]))\n\u001b[0m\u001b[1;32m   4966\u001b[0m             \u001b[0mindexer\u001b[0m \u001b[0;34m=\u001b[0m \u001b[0mindexer\u001b[0m\u001b[0;34m[\u001b[0m\u001b[0;34m~\u001b[0m\u001b[0mmask\u001b[0m\u001b[0;34m]\u001b[0m\u001b[0;34m\u001b[0m\u001b[0;34m\u001b[0m\u001b[0m\n\u001b[1;32m   4967\u001b[0m         \u001b[0;32mreturn\u001b[0m \u001b[0mself\u001b[0m\u001b[0;34m.\u001b[0m\u001b[0mdelete\u001b[0m\u001b[0;34m(\u001b[0m\u001b[0mindexer\u001b[0m\u001b[0;34m)\u001b[0m\u001b[0;34m\u001b[0m\u001b[0;34m\u001b[0m\u001b[0m\n",
      "\u001b[0;31mKeyError\u001b[0m: \"['slice_file_name' 'fsID' 'start' 'end' 'salience' 'fold' 'classID'\\n 'class' 'set' 'predictions' 'best_p' 'best_y' 'correct'] not found in axis\""
     ]
    }
   ],
   "source": []
  },
  {
   "cell_type": "code",
   "execution_count": null,
   "metadata": {},
   "outputs": [],
   "source": []
  },
  {
   "cell_type": "code",
   "execution_count": null,
   "metadata": {},
   "outputs": [],
   "source": []
  },
  {
   "cell_type": "code",
   "execution_count": 17,
   "metadata": {},
   "outputs": [
    {
     "data": {
      "text/html": [
       "<div>\n",
       "<style scoped>\n",
       "    .dataframe tbody tr th:only-of-type {\n",
       "        vertical-align: middle;\n",
       "    }\n",
       "\n",
       "    .dataframe tbody tr th {\n",
       "        vertical-align: top;\n",
       "    }\n",
       "\n",
       "    .dataframe thead th {\n",
       "        text-align: right;\n",
       "    }\n",
       "</style>\n",
       "<table border=\"1\" class=\"dataframe\">\n",
       "  <thead>\n",
       "    <tr style=\"text-align: right;\">\n",
       "      <th></th>\n",
       "      <th>cpu_mhz</th>\n",
       "      <th>cycles_avg</th>\n",
       "      <th>cycles_macc</th>\n",
       "      <th>duration_avg</th>\n",
       "      <th>macc</th>\n",
       "      <th>stack</th>\n",
       "    </tr>\n",
       "    <tr>\n",
       "      <th>experiment</th>\n",
       "      <th></th>\n",
       "      <th></th>\n",
       "      <th></th>\n",
       "      <th></th>\n",
       "      <th></th>\n",
       "      <th></th>\n",
       "    </tr>\n",
       "  </thead>\n",
       "  <tbody>\n",
       "    <tr>\n",
       "      <th>0</th>\n",
       "      <td>80</td>\n",
       "      <td>77743690</td>\n",
       "      <td>7.632552</td>\n",
       "      <td>0.971796</td>\n",
       "      <td>10185806</td>\n",
       "      <td>388</td>\n",
       "    </tr>\n",
       "    <tr>\n",
       "      <th>4</th>\n",
       "      <td>80</td>\n",
       "      <td>5858230</td>\n",
       "      <td>13.551088</td>\n",
       "      <td>0.073227</td>\n",
       "      <td>432307</td>\n",
       "      <td>292</td>\n",
       "    </tr>\n",
       "    <tr>\n",
       "      <th>2</th>\n",
       "      <td>80</td>\n",
       "      <td>6527943</td>\n",
       "      <td>13.678647</td>\n",
       "      <td>0.081599</td>\n",
       "      <td>477236</td>\n",
       "      <td>292</td>\n",
       "    </tr>\n",
       "    <tr>\n",
       "      <th>3</th>\n",
       "      <td>80</td>\n",
       "      <td>4932455</td>\n",
       "      <td>14.508458</td>\n",
       "      <td>0.061655</td>\n",
       "      <td>339971</td>\n",
       "      <td>292</td>\n",
       "    </tr>\n",
       "    <tr>\n",
       "      <th>1</th>\n",
       "      <td>80</td>\n",
       "      <td>26011364</td>\n",
       "      <td>8.726309</td>\n",
       "      <td>0.325142</td>\n",
       "      <td>2980798</td>\n",
       "      <td>276</td>\n",
       "    </tr>\n",
       "  </tbody>\n",
       "</table>\n",
       "</div>"
      ],
      "text/plain": [
       "            cpu_mhz  cycles_avg  cycles_macc  duration_avg      macc  stack\n",
       "experiment                                                                 \n",
       "0                80    77743690     7.632552      0.971796  10185806    388\n",
       "4                80     5858230    13.551088      0.073227    432307    292\n",
       "2                80     6527943    13.678647      0.081599    477236    292\n",
       "3                80     4932455    14.508458      0.061655    339971    292\n",
       "1                80    26011364     8.726309      0.325142   2980798    276"
      ]
     },
     "execution_count": 17,
     "metadata": {},
     "output_type": "execute_result"
    }
   ],
   "source": [
    "import json\n",
    "\n",
    "# TODO: check that MACC is correct wrt given by stm32conv\n",
    "def load_device_results(results_dir):\n",
    "\n",
    "    frames = []\n",
    "    \n",
    "    for filename in os.listdir(results_dir):\n",
    "        if filename.endswith('.device.json'):\n",
    "            experiment = filename.rstrip('.device.json')\n",
    "            p = os.path.join(results_dir, filename)\n",
    "            with open(p, 'r') as f:\n",
    "                contents = f.read()\n",
    "                contents = contents.replace(\"'\", '\"') # hack invalid JSON\n",
    "                d = json.loads(contents)\n",
    "                d['experiment'] = experiment\n",
    "                df = pandas.DataFrame([d])\n",
    "                frames.append(df)\n",
    "\n",
    "    df = pandas.concat(frames)\n",
    "    df.set_index('experiment', inplace=True)\n",
    "    return df\n",
    "\n",
    "run = '20190412-1024'\n",
    "results_dir = os.path.join('./data/results', run)\n",
    "df = load_device_results(results_dir)\n",
    "df"
   ]
  },
  {
   "cell_type": "code",
   "execution_count": 18,
   "metadata": {},
   "outputs": [
    {
     "data": {
      "text/plain": [
       "<matplotlib.axes._subplots.AxesSubplot at 0x7f231703b940>"
      ]
     },
     "execution_count": 18,
     "metadata": {},
     "output_type": "execute_result"
    },
    {
     "data": {
      "image/png": "[encoded data removed]",
      "text/plain": [
       "<Figure size 432x288 with 1 Axes>"
      ]
     },
     "metadata": {
      "needs_background": "light"
     },
     "output_type": "display_data"
    }
   ],
   "source": [
    "df.plot.scatter(y='cycles_avg', x='duration_avg')"
   ]
  },
  {
   "cell_type": "code",
   "execution_count": 20,
   "metadata": {},
   "outputs": [
    {
     "data": {
      "text/plain": [
       "<matplotlib.axes._subplots.AxesSubplot at 0x7f23170cacc0>"
      ]
     },
     "execution_count": 20,
     "metadata": {},
     "output_type": "execute_result"
    },
    {
     "data": {
      "image/png": "[encoded data removed]",
      "text/plain": [
       "<Figure size 432x288 with 1 Axes>"
      ]
     },
     "metadata": {
      "needs_background": "light"
     },
     "output_type": "display_data"
    }
   ],
   "source": [
    "df.plot.scatter(y='cycles_macc', x='macc')"
   ]
  },
  {
   "cell_type": "code",
   "execution_count": 22,
   "metadata": {},
   "outputs": [
    {
     "name": "stdout",
     "output_type": "stream",
     "text": [
      "WARNING:tensorflow:From /usr/lib/python3.7/site-packages/keras/backend/tensorflow_backend.py:3445: calling dropout (from tensorflow.python.ops.nn_ops) with keep_prob is deprecated and will be removed in a future version.\n",
      "Instructions for updating:\n",
      "Please use `rate` instead of `keep_prob`. Rate should be set to `rate = 1 - keep_prob`.\n"
     ]
    },
    {
     "data": {
      "text/plain": [
       "{'maccs_frame': 843838,\n",
       " 'flash_usage': 287460.0,\n",
       " 'ram_usage_max': 56250.0,\n",
       " 'ram_usage_min': 56250.0}"
      ]
     },
     "execution_count": 22,
     "metadata": {},
     "output_type": "execute_result"
    }
   ],
   "source": [
    "s = {\n",
    "    'model': 'strided',\n",
    "    'frames': 31,\n",
    "    'n_mels': 60,\n",
    "    'samplerate': 22050,\n",
    "    'conv_size': (3,3),\n",
    "    'conv_block': 'effnet',\n",
    "    'downsample_size': (2,2),\n",
    "    'n_stages': 3,\n",
    "    'n_blocks_per_stage': 2,\n",
    "    'filters': 20,\n",
    "}\n",
    "model = models.build(s)\n",
    "ss, ll = stats.check_model_constraints(model)\n",
    "ss"
   ]
  },
  {
   "cell_type": "code",
   "execution_count": 23,
   "metadata": {},
   "outputs": [
    {
     "name": "stdout",
     "output_type": "stream",
     "text": [
      "_________________________________________________________________\n",
      "Layer (type)                 Output Shape              Param #   \n",
      "=================================================================\n",
      "input_2 (InputLayer)         (None, 60, 31, 1)         0         \n",
      "_________________________________________________________________\n",
      "conv0 (Conv2D)               (None, 30, 16, 20)        200       \n",
      "_________________________________________________________________\n",
      "conv0_bn (BatchNormalization (None, 30, 16, 20)        80        \n",
      "_________________________________________________________________\n",
      "conv0_relu (Activation)      (None, 30, 16, 20)        0         \n",
      "_________________________________________________________________\n",
      "conv1pw (Conv2D)             (None, 30, 16, 10)        200       \n",
      "_________________________________________________________________\n",
      "conv1pw_bn (BatchNormalizati (None, 30, 16, 10)        40        \n",
      "_________________________________________________________________\n",
      "conv1pw_relu (Activation)    (None, 30, 16, 10)        0         \n",
      "_________________________________________________________________\n",
      "conv1dwv (DepthwiseConv2D)   (None, 30, 16, 10)        30        \n",
      "_________________________________________________________________\n",
      "conv1dwv_bn (BatchNormalizat (None, 30, 16, 10)        40        \n",
      "_________________________________________________________________\n",
      "conv1dwv_relu (Activation)   (None, 30, 16, 10)        0         \n",
      "_________________________________________________________________\n",
      "conv1dwh (DepthwiseConv2D)   (None, 30, 16, 10)        30        \n",
      "_________________________________________________________________\n",
      "conv1dwh_bn (BatchNormalizat (None, 30, 16, 10)        40        \n",
      "_________________________________________________________________\n",
      "conv1dwh_relu (Activation)   (None, 30, 16, 10)        0         \n",
      "_________________________________________________________________\n",
      "conv1rh (Conv2D)             (None, 30, 16, 20)        200       \n",
      "_________________________________________________________________\n",
      "conv1rh_bn (BatchNormalizati (None, 30, 16, 20)        80        \n",
      "_________________________________________________________________\n",
      "conv1rh_relu (Activation)    (None, 30, 16, 20)        0         \n",
      "_________________________________________________________________\n",
      "conv2pw (Conv2D)             (None, 15, 8, 17)         340       \n",
      "_________________________________________________________________\n",
      "conv2pw_bn (BatchNormalizati (None, 15, 8, 17)         68        \n",
      "_________________________________________________________________\n",
      "conv2pw_relu (Activation)    (None, 15, 8, 17)         0         \n",
      "_________________________________________________________________\n",
      "conv2dwv (DepthwiseConv2D)   (None, 15, 8, 17)         51        \n",
      "_________________________________________________________________\n",
      "conv2dwv_bn (BatchNormalizat (None, 15, 8, 17)         68        \n",
      "_________________________________________________________________\n",
      "conv2dwv_relu (Activation)   (None, 15, 8, 17)         0         \n",
      "_________________________________________________________________\n",
      "conv2dwh (DepthwiseConv2D)   (None, 15, 8, 17)         51        \n",
      "_________________________________________________________________\n",
      "conv2dwh_bn (BatchNormalizat (None, 15, 8, 17)         68        \n",
      "_________________________________________________________________\n",
      "conv2dwh_relu (Activation)   (None, 15, 8, 17)         0         \n",
      "_________________________________________________________________\n",
      "conv2rh (Conv2D)             (None, 15, 8, 35)         595       \n",
      "_________________________________________________________________\n",
      "conv2rh_bn (BatchNormalizati (None, 15, 8, 35)         140       \n",
      "_________________________________________________________________\n",
      "conv2rh_relu (Activation)    (None, 15, 8, 35)         0         \n",
      "_________________________________________________________________\n",
      "conv3pw (Conv2D)             (None, 15, 8, 17)         595       \n",
      "_________________________________________________________________\n",
      "conv3pw_bn (BatchNormalizati (None, 15, 8, 17)         68        \n",
      "_________________________________________________________________\n",
      "conv3pw_relu (Activation)    (None, 15, 8, 17)         0         \n",
      "_________________________________________________________________\n",
      "conv3dwv (DepthwiseConv2D)   (None, 15, 8, 17)         51        \n",
      "_________________________________________________________________\n",
      "conv3dwv_bn (BatchNormalizat (None, 15, 8, 17)         68        \n",
      "_________________________________________________________________\n",
      "conv3dwv_relu (Activation)   (None, 15, 8, 17)         0         \n",
      "_________________________________________________________________\n",
      "conv3dwh (DepthwiseConv2D)   (None, 15, 8, 17)         51        \n",
      "_________________________________________________________________\n",
      "conv3dwh_bn (BatchNormalizat (None, 15, 8, 17)         68        \n",
      "_________________________________________________________________\n",
      "conv3dwh_relu (Activation)   (None, 15, 8, 17)         0         \n",
      "_________________________________________________________________\n",
      "conv3rh (Conv2D)             (None, 15, 8, 35)         595       \n",
      "_________________________________________________________________\n",
      "conv3rh_bn (BatchNormalizati (None, 15, 8, 35)         140       \n",
      "_________________________________________________________________\n",
      "conv3rh_relu (Activation)    (None, 15, 8, 35)         0         \n",
      "_________________________________________________________________\n",
      "conv4pw (Conv2D)             (None, 8, 4, 30)          1050      \n",
      "_________________________________________________________________\n",
      "conv4pw_bn (BatchNormalizati (None, 8, 4, 30)          120       \n",
      "_________________________________________________________________\n",
      "conv4pw_relu (Activation)    (None, 8, 4, 30)          0         \n",
      "_________________________________________________________________\n",
      "conv4dwv (DepthwiseConv2D)   (None, 8, 4, 30)          90        \n",
      "_________________________________________________________________\n",
      "conv4dwv_bn (BatchNormalizat (None, 8, 4, 30)          120       \n",
      "_________________________________________________________________\n",
      "conv4dwv_relu (Activation)   (None, 8, 4, 30)          0         \n",
      "_________________________________________________________________\n",
      "conv4dwh (DepthwiseConv2D)   (None, 8, 4, 30)          90        \n",
      "_________________________________________________________________\n",
      "conv4dwh_bn (BatchNormalizat (None, 8, 4, 30)          120       \n",
      "_________________________________________________________________\n",
      "conv4dwh_relu (Activation)   (None, 8, 4, 30)          0         \n",
      "_________________________________________________________________\n",
      "conv4rh (Conv2D)             (None, 8, 4, 61)          1830      \n",
      "_________________________________________________________________\n",
      "conv4rh_bn (BatchNormalizati (None, 8, 4, 61)          244       \n",
      "_________________________________________________________________\n",
      "conv4rh_relu (Activation)    (None, 8, 4, 61)          0         \n",
      "_________________________________________________________________\n",
      "conv5pw (Conv2D)             (None, 8, 4, 30)          1830      \n",
      "_________________________________________________________________\n",
      "conv5pw_bn (BatchNormalizati (None, 8, 4, 30)          120       \n",
      "_________________________________________________________________\n",
      "conv5pw_relu (Activation)    (None, 8, 4, 30)          0         \n",
      "_________________________________________________________________\n",
      "conv5dwv (DepthwiseConv2D)   (None, 8, 2, 30)          90        \n",
      "_________________________________________________________________\n",
      "conv5dwv_bn (BatchNormalizat (None, 8, 2, 30)          120       \n",
      "_________________________________________________________________\n",
      "conv5dwv_relu (Activation)   (None, 8, 2, 30)          0         \n",
      "_________________________________________________________________\n",
      "conv5dwh (DepthwiseConv2D)   (None, 8, 2, 30)          90        \n",
      "_________________________________________________________________\n",
      "conv5dwh_bn (BatchNormalizat (None, 8, 2, 30)          120       \n",
      "_________________________________________________________________\n",
      "conv5dwh_relu (Activation)   (None, 8, 2, 30)          0         \n",
      "_________________________________________________________________\n",
      "conv5rh (Conv2D)             (None, 8, 2, 61)          1830      \n",
      "_________________________________________________________________\n",
      "conv5rh_bn (BatchNormalizati (None, 8, 2, 61)          244       \n",
      "_________________________________________________________________\n",
      "conv5rh_relu (Activation)    (None, 8, 2, 61)          0         \n",
      "_________________________________________________________________\n",
      "flatten_1 (Flatten)          (None, 976)               0         \n",
      "_________________________________________________________________\n",
      "dense_1 (Dense)              (None, 64)                62528     \n",
      "_________________________________________________________________\n",
      "activation_1 (Activation)    (None, 64)                0         \n",
      "_________________________________________________________________\n",
      "dropout_1 (Dropout)          (None, 64)                0         \n",
      "_________________________________________________________________\n",
      "dense_2 (Dense)              (None, 10)                650       \n",
      "_________________________________________________________________\n",
      "dropout_2 (Dropout)          (None, 10)                0         \n",
      "_________________________________________________________________\n",
      "activation_2 (Activation)    (None, 10)                0         \n",
      "=================================================================\n",
      "Total params: 75,243\n",
      "Trainable params: 74,155\n",
      "Non-trainable params: 1,088\n",
      "_________________________________________________________________\n"
     ]
    }
   ],
   "source": [
    "model.summary()"
   ]
  },
  {
   "cell_type": "code",
   "execution_count": 24,
   "metadata": {},
   "outputs": [
    {
     "data": {
      "image/png": "[encoded data removed]",
      "text/plain": [
       "<Figure size 288x432 with 1 Axes>"
      ]
     },
     "metadata": {
      "needs_background": "light"
     },
     "output_type": "display_data"
    }
   ],
   "source": [
    "def plot_layers_ram(layers_ram, ax=None, max_ram=64e3):\n",
    "    \n",
    "    if not ax:\n",
    "        fig, ax = plt.subplots(1, figsize=(4, 6))\n",
    "    \n",
    "    l = layers_ram.sort_index(ascending=False)\n",
    "    l['activations_ram'] = 4 * l.activations\n",
    "    l = l[l.activations_ram.notna()]\n",
    "    l.plot(kind='barh', ax=ax, y='activations_ram', x='name')\n",
    "    ax.axvspan(xmin=0, xmax=max_ram, alpha=0.2, color='green')\n",
    "    \n",
    "    return fig\n",
    "    \n",
    "plot_layers_ram(ll);\n"
   ]
  },
  {
   "cell_type": "code",
   "execution_count": 28,
   "metadata": {},
   "outputs": [
    {
     "data": {
      "text/plain": [
       "(None, 60, 31, 1)"
      ]
     },
     "execution_count": 28,
     "metadata": {},
     "output_type": "execute_result"
    }
   ],
   "source": [
    "model.layers[0].get_output_shape_at(0)"
   ]
  },
  {
   "cell_type": "code",
   "execution_count": null,
   "metadata": {},
   "outputs": [],
   "source": [
    "# TODO: calculate per-class accuracy. For each fold\n",
    "# TODO: compare single-frame accuracy (from training) versus voted accuracy\n",
    "# TODO: compare no-overlap, 50% overlap and 10% overlap"
   ]
  },
  {
   "cell_type": "code",
   "execution_count": null,
   "metadata": {},
   "outputs": [],
   "source": []
  }
 ],
 "metadata": {
  "kernelspec": {
   "display_name": "Python 3",
   "language": "python",
   "name": "python3"
  },
  "language_info": {
   "codemirror_mode": {
    "name": "ipython",
    "version": 3
   },
   "file_extension": ".py",
   "mimetype": "text/x-python",
   "name": "python",
   "nbconvert_exporter": "python",
   "pygments_lexer": "ipython3",
   "version": "3.7.3"
  }
 },
 "nbformat": 4,
 "nbformat_minor": 2
}
