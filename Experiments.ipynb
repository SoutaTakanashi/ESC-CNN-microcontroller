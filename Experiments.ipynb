{
 "cells": [
  {
   "cell_type": "code",
   "execution_count": 1,
   "metadata": {},
   "outputs": [],
   "source": [
    "%matplotlib inline\n",
    "%load_ext autoreload\n",
    "%autoreload 2"
   ]
  },
  {
   "cell_type": "code",
   "execution_count": 2,
   "metadata": {},
   "outputs": [
    {
     "name": "stderr",
     "output_type": "stream",
     "text": [
      "Using TensorFlow backend.\n"
     ]
    }
   ],
   "source": [
    "import math\n",
    "import os.path\n",
    "\n",
    "import keras\n",
    "import sklearn\n",
    "import seaborn\n",
    "import pandas\n",
    "import numpy\n",
    "from matplotlib import pyplot as plt\n",
    "\n",
    "from microesc import urbansound8k, preprocess, train, test, report, stm32convert, stats, models\n"
   ]
  },
  {
   "cell_type": "code",
   "execution_count": 4,
   "metadata": {},
   "outputs": [
    {
     "data": {
      "text/html": [
       "<div>\n",
       "<style scoped>\n",
       "    .dataframe tbody tr th:only-of-type {\n",
       "        vertical-align: middle;\n",
       "    }\n",
       "\n",
       "    .dataframe tbody tr th {\n",
       "        vertical-align: top;\n",
       "    }\n",
       "\n",
       "    .dataframe thead th {\n",
       "        text-align: right;\n",
       "    }\n",
       "</style>\n",
       "<table border=\"1\" class=\"dataframe\">\n",
       "  <thead>\n",
       "    <tr style=\"text-align: right;\">\n",
       "      <th></th>\n",
       "      <th>slice_file_name</th>\n",
       "      <th>fsID</th>\n",
       "      <th>start</th>\n",
       "      <th>end</th>\n",
       "      <th>salience</th>\n",
       "      <th>fold</th>\n",
       "      <th>classID</th>\n",
       "      <th>class</th>\n",
       "    </tr>\n",
       "  </thead>\n",
       "  <tbody>\n",
       "    <tr>\n",
       "      <th>0</th>\n",
       "      <td>100032-3-0-0.wav</td>\n",
       "      <td>100032</td>\n",
       "      <td>0.0</td>\n",
       "      <td>0.317551</td>\n",
       "      <td>1</td>\n",
       "      <td>5</td>\n",
       "      <td>3</td>\n",
       "      <td>dog_bark</td>\n",
       "    </tr>\n",
       "    <tr>\n",
       "      <th>1</th>\n",
       "      <td>100263-2-0-117.wav</td>\n",
       "      <td>100263</td>\n",
       "      <td>58.5</td>\n",
       "      <td>62.500000</td>\n",
       "      <td>1</td>\n",
       "      <td>5</td>\n",
       "      <td>2</td>\n",
       "      <td>children_playing</td>\n",
       "    </tr>\n",
       "    <tr>\n",
       "      <th>2</th>\n",
       "      <td>100263-2-0-121.wav</td>\n",
       "      <td>100263</td>\n",
       "      <td>60.5</td>\n",
       "      <td>64.500000</td>\n",
       "      <td>1</td>\n",
       "      <td>5</td>\n",
       "      <td>2</td>\n",
       "      <td>children_playing</td>\n",
       "    </tr>\n",
       "    <tr>\n",
       "      <th>3</th>\n",
       "      <td>100263-2-0-126.wav</td>\n",
       "      <td>100263</td>\n",
       "      <td>63.0</td>\n",
       "      <td>67.000000</td>\n",
       "      <td>1</td>\n",
       "      <td>5</td>\n",
       "      <td>2</td>\n",
       "      <td>children_playing</td>\n",
       "    </tr>\n",
       "    <tr>\n",
       "      <th>4</th>\n",
       "      <td>100263-2-0-137.wav</td>\n",
       "      <td>100263</td>\n",
       "      <td>68.5</td>\n",
       "      <td>72.500000</td>\n",
       "      <td>1</td>\n",
       "      <td>5</td>\n",
       "      <td>2</td>\n",
       "      <td>children_playing</td>\n",
       "    </tr>\n",
       "  </tbody>\n",
       "</table>\n",
       "</div>"
      ],
      "text/plain": [
       "      slice_file_name    fsID  start        end  salience  fold  classID  \\\n",
       "0    100032-3-0-0.wav  100032    0.0   0.317551         1     5        3   \n",
       "1  100263-2-0-117.wav  100263   58.5  62.500000         1     5        2   \n",
       "2  100263-2-0-121.wav  100263   60.5  64.500000         1     5        2   \n",
       "3  100263-2-0-126.wav  100263   63.0  67.000000         1     5        2   \n",
       "4  100263-2-0-137.wav  100263   68.5  72.500000         1     5        2   \n",
       "\n",
       "              class  \n",
       "0          dog_bark  \n",
       "1  children_playing  \n",
       "2  children_playing  \n",
       "3  children_playing  \n",
       "4  children_playing  "
      ]
     },
     "execution_count": 4,
     "metadata": {},
     "output_type": "execute_result"
    }
   ],
   "source": [
    "data = urbansound8k.load_dataset()\n",
    "data.head()"
   ]
  },
  {
   "cell_type": "code",
   "execution_count": 157,
   "metadata": {},
   "outputs": [
    {
     "data": {
      "text/plain": [
       "<matplotlib.axes._subplots.AxesSubplot at 0x7fac12b85240>"
      ]
     },
     "execution_count": 157,
     "metadata": {},
     "output_type": "execute_result"
    },
    {
     "data": {
      "image/png": "[encoded data removed]",
      "text/plain": [
       "<Figure size 432x288 with 1 Axes>"
      ]
     },
     "metadata": {
      "needs_background": "light"
     },
     "output_type": "display_data"
    }
   ],
   "source": [
    "(data.end - data.start).hist()"
   ]
  },
  {
   "cell_type": "code",
   "execution_count": 17,
   "metadata": {},
   "outputs": [
    {
     "data": {
      "text/html": [
       "<div>\n",
       "<style scoped>\n",
       "    .dataframe tbody tr th:only-of-type {\n",
       "        vertical-align: middle;\n",
       "    }\n",
       "\n",
       "    .dataframe tbody tr th {\n",
       "        vertical-align: top;\n",
       "    }\n",
       "\n",
       "    .dataframe thead th {\n",
       "        text-align: right;\n",
       "    }\n",
       "</style>\n",
       "<table border=\"1\" class=\"dataframe\">\n",
       "  <thead>\n",
       "    <tr style=\"text-align: right;\">\n",
       "      <th></th>\n",
       "      <th>cpu_mhz</th>\n",
       "      <th>cycles_avg</th>\n",
       "      <th>cycles_macc</th>\n",
       "      <th>duration_avg</th>\n",
       "      <th>macc</th>\n",
       "      <th>stack</th>\n",
       "    </tr>\n",
       "    <tr>\n",
       "      <th>experiment</th>\n",
       "      <th></th>\n",
       "      <th></th>\n",
       "      <th></th>\n",
       "      <th></th>\n",
       "      <th></th>\n",
       "      <th></th>\n",
       "    </tr>\n",
       "  </thead>\n",
       "  <tbody>\n",
       "    <tr>\n",
       "      <th>0</th>\n",
       "      <td>80</td>\n",
       "      <td>77743690</td>\n",
       "      <td>7.632552</td>\n",
       "      <td>0.971796</td>\n",
       "      <td>10185806</td>\n",
       "      <td>388</td>\n",
       "    </tr>\n",
       "    <tr>\n",
       "      <th>4</th>\n",
       "      <td>80</td>\n",
       "      <td>5858230</td>\n",
       "      <td>13.551088</td>\n",
       "      <td>0.073227</td>\n",
       "      <td>432307</td>\n",
       "      <td>292</td>\n",
       "    </tr>\n",
       "    <tr>\n",
       "      <th>2</th>\n",
       "      <td>80</td>\n",
       "      <td>6527943</td>\n",
       "      <td>13.678647</td>\n",
       "      <td>0.081599</td>\n",
       "      <td>477236</td>\n",
       "      <td>292</td>\n",
       "    </tr>\n",
       "    <tr>\n",
       "      <th>3</th>\n",
       "      <td>80</td>\n",
       "      <td>4932455</td>\n",
       "      <td>14.508458</td>\n",
       "      <td>0.061655</td>\n",
       "      <td>339971</td>\n",
       "      <td>292</td>\n",
       "    </tr>\n",
       "    <tr>\n",
       "      <th>1</th>\n",
       "      <td>80</td>\n",
       "      <td>26011364</td>\n",
       "      <td>8.726309</td>\n",
       "      <td>0.325142</td>\n",
       "      <td>2980798</td>\n",
       "      <td>276</td>\n",
       "    </tr>\n",
       "  </tbody>\n",
       "</table>\n",
       "</div>"
      ],
      "text/plain": [
       "            cpu_mhz  cycles_avg  cycles_macc  duration_avg      macc  stack\n",
       "experiment                                                                 \n",
       "0                80    77743690     7.632552      0.971796  10185806    388\n",
       "4                80     5858230    13.551088      0.073227    432307    292\n",
       "2                80     6527943    13.678647      0.081599    477236    292\n",
       "3                80     4932455    14.508458      0.061655    339971    292\n",
       "1                80    26011364     8.726309      0.325142   2980798    276"
      ]
     },
     "execution_count": 17,
     "metadata": {},
     "output_type": "execute_result"
    }
   ],
   "source": [
    "import json\n",
    "\n",
    "# TODO: check that MACC is correct wrt given by stm32conv\n",
    "def load_device_results(results_dir):\n",
    "\n",
    "    frames = []\n",
    "    \n",
    "    for filename in os.listdir(results_dir):\n",
    "        if filename.endswith('.device.json'):\n",
    "            experiment = filename.rstrip('.device.json')\n",
    "            p = os.path.join(results_dir, filename)\n",
    "            with open(p, 'r') as f:\n",
    "                contents = f.read()\n",
    "                contents = contents.replace(\"'\", '\"') # hack invalid JSON\n",
    "                d = json.loads(contents)\n",
    "                d['experiment'] = experiment\n",
    "                df = pandas.DataFrame([d])\n",
    "                frames.append(df)\n",
    "\n",
    "    df = pandas.concat(frames)\n",
    "    df.set_index('experiment', inplace=True)\n",
    "    return df\n",
    "\n",
    "run = '20190412-1024'\n",
    "results_dir = os.path.join('./data/results', run)\n",
    "df = load_device_results(results_dir)\n",
    "df"
   ]
  },
  {
   "cell_type": "code",
   "execution_count": 18,
   "metadata": {},
   "outputs": [
    {
     "data": {
      "text/plain": [
       "<matplotlib.axes._subplots.AxesSubplot at 0x7f231703b940>"
      ]
     },
     "execution_count": 18,
     "metadata": {},
     "output_type": "execute_result"
    },
    {
     "data": {
      "image/png": "[encoded data removed]",
      "text/plain": [
       "<Figure size 432x288 with 1 Axes>"
      ]
     },
     "metadata": {
      "needs_background": "light"
     },
     "output_type": "display_data"
    }
   ],
   "source": [
    "df.plot.scatter(y='cycles_avg', x='duration_avg')"
   ]
  },
  {
   "cell_type": "code",
   "execution_count": 20,
   "metadata": {},
   "outputs": [
    {
     "data": {
      "text/plain": [
       "<matplotlib.axes._subplots.AxesSubplot at 0x7f23170cacc0>"
      ]
     },
     "execution_count": 20,
     "metadata": {},
     "output_type": "execute_result"
    },
    {
     "data": {
      "image/png": "[encoded data removed]",
      "text/plain": [
       "<Figure size 432x288 with 1 Axes>"
      ]
     },
     "metadata": {
      "needs_background": "light"
     },
     "output_type": "display_data"
    }
   ],
   "source": [
    "df.plot.scatter(y='cycles_macc', x='macc')"
   ]
  },
  {
   "cell_type": "code",
   "execution_count": 22,
   "metadata": {},
   "outputs": [
    {
     "name": "stdout",
     "output_type": "stream",
     "text": [
      "WARNING:tensorflow:From /usr/lib/python3.7/site-packages/keras/backend/tensorflow_backend.py:3445: calling dropout (from tensorflow.python.ops.nn_ops) with keep_prob is deprecated and will be removed in a future version.\n",
      "Instructions for updating:\n",
      "Please use `rate` instead of `keep_prob`. Rate should be set to `rate = 1 - keep_prob`.\n"
     ]
    },
    {
     "data": {
      "text/plain": [
       "{'maccs_frame': 843838,\n",
       " 'flash_usage': 287460.0,\n",
       " 'ram_usage_max': 56250.0,\n",
       " 'ram_usage_min': 56250.0}"
      ]
     },
     "execution_count": 22,
     "metadata": {},
     "output_type": "execute_result"
    }
   ],
   "source": [
    "s = {\n",
    "    'model': 'strided',\n",
    "    'frames': 31,\n",
    "    'n_mels': 60,\n",
    "    'samplerate': 22050,\n",
    "    'conv_size': (3,3),\n",
    "    'conv_block': 'effnet',\n",
    "    'downsample_size': (2,2),\n",
    "    'n_stages': 3,\n",
    "    'n_blocks_per_stage': 2,\n",
    "    'filters': 20,\n",
    "}\n",
    "model = models.build(s)\n",
    "ss, ll = stats.check_model_constraints(model)\n",
    "ss"
   ]
  },
  {
   "cell_type": "code",
   "execution_count": 23,
   "metadata": {},
   "outputs": [
    {
     "name": "stdout",
     "output_type": "stream",
     "text": [
      "_________________________________________________________________\n",
      "Layer (type)                 Output Shape              Param #   \n",
      "=================================================================\n",
      "input_2 (InputLayer)         (None, 60, 31, 1)         0         \n",
      "_________________________________________________________________\n",
      "conv0 (Conv2D)               (None, 30, 16, 20)        200       \n",
      "_________________________________________________________________\n",
      "conv0_bn (BatchNormalization (None, 30, 16, 20)        80        \n",
      "_________________________________________________________________\n",
      "conv0_relu (Activation)      (None, 30, 16, 20)        0         \n",
      "_________________________________________________________________\n",
      "conv1pw (Conv2D)             (None, 30, 16, 10)        200       \n",
      "_________________________________________________________________\n",
      "conv1pw_bn (BatchNormalizati (None, 30, 16, 10)        40        \n",
      "_________________________________________________________________\n",
      "conv1pw_relu (Activation)    (None, 30, 16, 10)        0         \n",
      "_________________________________________________________________\n",
      "conv1dwv (DepthwiseConv2D)   (None, 30, 16, 10)        30        \n",
      "_________________________________________________________________\n",
      "conv1dwv_bn (BatchNormalizat (None, 30, 16, 10)        40        \n",
      "_________________________________________________________________\n",
      "conv1dwv_relu (Activation)   (None, 30, 16, 10)        0         \n",
      "_________________________________________________________________\n",
      "conv1dwh (DepthwiseConv2D)   (None, 30, 16, 10)        30        \n",
      "_________________________________________________________________\n",
      "conv1dwh_bn (BatchNormalizat (None, 30, 16, 10)        40        \n",
      "_________________________________________________________________\n",
      "conv1dwh_relu (Activation)   (None, 30, 16, 10)        0         \n",
      "_________________________________________________________________\n",
      "conv1rh (Conv2D)             (None, 30, 16, 20)        200       \n",
      "_________________________________________________________________\n",
      "conv1rh_bn (BatchNormalizati (None, 30, 16, 20)        80        \n",
      "_________________________________________________________________\n",
      "conv1rh_relu (Activation)    (None, 30, 16, 20)        0         \n",
      "_________________________________________________________________\n",
      "conv2pw (Conv2D)             (None, 15, 8, 17)         340       \n",
      "_________________________________________________________________\n",
      "conv2pw_bn (BatchNormalizati (None, 15, 8, 17)         68        \n",
      "_________________________________________________________________\n",
      "conv2pw_relu (Activation)    (None, 15, 8, 17)         0         \n",
      "_________________________________________________________________\n",
      "conv2dwv (DepthwiseConv2D)   (None, 15, 8, 17)         51        \n",
      "_________________________________________________________________\n",
      "conv2dwv_bn (BatchNormalizat (None, 15, 8, 17)         68        \n",
      "_________________________________________________________________\n",
      "conv2dwv_relu (Activation)   (None, 15, 8, 17)         0         \n",
      "_________________________________________________________________\n",
      "conv2dwh (DepthwiseConv2D)   (None, 15, 8, 17)         51        \n",
      "_________________________________________________________________\n",
      "conv2dwh_bn (BatchNormalizat (None, 15, 8, 17)         68        \n",
      "_________________________________________________________________\n",
      "conv2dwh_relu (Activation)   (None, 15, 8, 17)         0         \n",
      "_________________________________________________________________\n",
      "conv2rh (Conv2D)             (None, 15, 8, 35)         595       \n",
      "_________________________________________________________________\n",
      "conv2rh_bn (BatchNormalizati (None, 15, 8, 35)         140       \n",
      "_________________________________________________________________\n",
      "conv2rh_relu (Activation)    (None, 15, 8, 35)         0         \n",
      "_________________________________________________________________\n",
      "conv3pw (Conv2D)             (None, 15, 8, 17)         595       \n",
      "_________________________________________________________________\n",
      "conv3pw_bn (BatchNormalizati (None, 15, 8, 17)         68        \n",
      "_________________________________________________________________\n",
      "conv3pw_relu (Activation)    (None, 15, 8, 17)         0         \n",
      "_________________________________________________________________\n",
      "conv3dwv (DepthwiseConv2D)   (None, 15, 8, 17)         51        \n",
      "_________________________________________________________________\n",
      "conv3dwv_bn (BatchNormalizat (None, 15, 8, 17)         68        \n",
      "_________________________________________________________________\n",
      "conv3dwv_relu (Activation)   (None, 15, 8, 17)         0         \n",
      "_________________________________________________________________\n",
      "conv3dwh (DepthwiseConv2D)   (None, 15, 8, 17)         51        \n",
      "_________________________________________________________________\n",
      "conv3dwh_bn (BatchNormalizat (None, 15, 8, 17)         68        \n",
      "_________________________________________________________________\n",
      "conv3dwh_relu (Activation)   (None, 15, 8, 17)         0         \n",
      "_________________________________________________________________\n",
      "conv3rh (Conv2D)             (None, 15, 8, 35)         595       \n",
      "_________________________________________________________________\n",
      "conv3rh_bn (BatchNormalizati (None, 15, 8, 35)         140       \n",
      "_________________________________________________________________\n",
      "conv3rh_relu (Activation)    (None, 15, 8, 35)         0         \n",
      "_________________________________________________________________\n",
      "conv4pw (Conv2D)             (None, 8, 4, 30)          1050      \n",
      "_________________________________________________________________\n",
      "conv4pw_bn (BatchNormalizati (None, 8, 4, 30)          120       \n",
      "_________________________________________________________________\n",
      "conv4pw_relu (Activation)    (None, 8, 4, 30)          0         \n",
      "_________________________________________________________________\n",
      "conv4dwv (DepthwiseConv2D)   (None, 8, 4, 30)          90        \n",
      "_________________________________________________________________\n",
      "conv4dwv_bn (BatchNormalizat (None, 8, 4, 30)          120       \n",
      "_________________________________________________________________\n",
      "conv4dwv_relu (Activation)   (None, 8, 4, 30)          0         \n",
      "_________________________________________________________________\n",
      "conv4dwh (DepthwiseConv2D)   (None, 8, 4, 30)          90        \n",
      "_________________________________________________________________\n",
      "conv4dwh_bn (BatchNormalizat (None, 8, 4, 30)          120       \n",
      "_________________________________________________________________\n",
      "conv4dwh_relu (Activation)   (None, 8, 4, 30)          0         \n",
      "_________________________________________________________________\n",
      "conv4rh (Conv2D)             (None, 8, 4, 61)          1830      \n",
      "_________________________________________________________________\n",
      "conv4rh_bn (BatchNormalizati (None, 8, 4, 61)          244       \n",
      "_________________________________________________________________\n",
      "conv4rh_relu (Activation)    (None, 8, 4, 61)          0         \n",
      "_________________________________________________________________\n",
      "conv5pw (Conv2D)             (None, 8, 4, 30)          1830      \n",
      "_________________________________________________________________\n",
      "conv5pw_bn (BatchNormalizati (None, 8, 4, 30)          120       \n",
      "_________________________________________________________________\n",
      "conv5pw_relu (Activation)    (None, 8, 4, 30)          0         \n",
      "_________________________________________________________________\n",
      "conv5dwv (DepthwiseConv2D)   (None, 8, 2, 30)          90        \n",
      "_________________________________________________________________\n",
      "conv5dwv_bn (BatchNormalizat (None, 8, 2, 30)          120       \n",
      "_________________________________________________________________\n",
      "conv5dwv_relu (Activation)   (None, 8, 2, 30)          0         \n",
      "_________________________________________________________________\n",
      "conv5dwh (DepthwiseConv2D)   (None, 8, 2, 30)          90        \n",
      "_________________________________________________________________\n",
      "conv5dwh_bn (BatchNormalizat (None, 8, 2, 30)          120       \n",
      "_________________________________________________________________\n",
      "conv5dwh_relu (Activation)   (None, 8, 2, 30)          0         \n",
      "_________________________________________________________________\n",
      "conv5rh (Conv2D)             (None, 8, 2, 61)          1830      \n",
      "_________________________________________________________________\n",
      "conv5rh_bn (BatchNormalizati (None, 8, 2, 61)          244       \n",
      "_________________________________________________________________\n",
      "conv5rh_relu (Activation)    (None, 8, 2, 61)          0         \n",
      "_________________________________________________________________\n",
      "flatten_1 (Flatten)          (None, 976)               0         \n",
      "_________________________________________________________________\n",
      "dense_1 (Dense)              (None, 64)                62528     \n",
      "_________________________________________________________________\n",
      "activation_1 (Activation)    (None, 64)                0         \n",
      "_________________________________________________________________\n",
      "dropout_1 (Dropout)          (None, 64)                0         \n",
      "_________________________________________________________________\n",
      "dense_2 (Dense)              (None, 10)                650       \n",
      "_________________________________________________________________\n",
      "dropout_2 (Dropout)          (None, 10)                0         \n",
      "_________________________________________________________________\n",
      "activation_2 (Activation)    (None, 10)                0         \n",
      "=================================================================\n",
      "Total params: 75,243\n",
      "Trainable params: 74,155\n",
      "Non-trainable params: 1,088\n",
      "_________________________________________________________________\n"
     ]
    }
   ],
   "source": [
    "model.summary()"
   ]
  },
  {
   "cell_type": "code",
   "execution_count": 24,
   "metadata": {},
   "outputs": [
    {
     "data": {
      "image/png": "[encoded data removed]",
      "text/plain": [
       "<Figure size 288x432 with 1 Axes>"
      ]
     },
     "metadata": {
      "needs_background": "light"
     },
     "output_type": "display_data"
    }
   ],
   "source": [
    "def plot_layers_ram(layers_ram, ax=None, max_ram=64e3):\n",
    "    \n",
    "    if not ax:\n",
    "        fig, ax = plt.subplots(1, figsize=(4, 6))\n",
    "    \n",
    "    l = layers_ram.sort_index(ascending=False)\n",
    "    l['activations_ram'] = 4 * l.activations\n",
    "    l = l[l.activations_ram.notna()]\n",
    "    l.plot(kind='barh', ax=ax, y='activations_ram', x='name')\n",
    "    ax.axvspan(xmin=0, xmax=max_ram, alpha=0.2, color='green')\n",
    "    \n",
    "    return fig\n",
    "    \n",
    "plot_layers_ram(ll);\n"
   ]
  },
  {
   "cell_type": "code",
   "execution_count": 28,
   "metadata": {},
   "outputs": [
    {
     "data": {
      "text/plain": [
       "(None, 60, 31, 1)"
      ]
     },
     "execution_count": 28,
     "metadata": {},
     "output_type": "execute_result"
    }
   ],
   "source": [
    "model.layers[0].get_output_shape_at(0)"
   ]
  },
  {
   "cell_type": "code",
   "execution_count": null,
   "metadata": {},
   "outputs": [],
   "source": [
    "# TODO: calculate per-class accuracy. For each fold\n",
    "# TODO: compare single-frame accuracy (from training) versus voted accuracy\n",
    "# TODO: compare no-overlap, 50% overlap and 10% overlap"
   ]
  },
  {
   "cell_type": "code",
   "execution_count": null,
   "metadata": {},
   "outputs": [],
   "source": []
  }
 ],
 "metadata": {
  "kernelspec": {
   "display_name": "Python 3",
   "language": "python",
   "name": "python3"
  },
  "language_info": {
   "codemirror_mode": {
    "name": "ipython",
    "version": 3
   },
   "file_extension": ".py",
   "mimetype": "text/x-python",
   "name": "python",
   "nbconvert_exporter": "python",
   "pygments_lexer": "ipython3",
   "version": "3.7.2"
  }
 },
 "nbformat": 4,
 "nbformat_minor": 2
}
