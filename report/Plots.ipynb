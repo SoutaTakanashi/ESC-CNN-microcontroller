{
 "cells": [
  {
   "cell_type": "code",
   "execution_count": 2,
   "metadata": {},
   "outputs": [],
   "source": [
    "import pandas\n",
    "from matplotlib import pyplot as plt\n"
   ]
  },
  {
   "cell_type": "code",
   "execution_count": 75,
   "metadata": {},
   "outputs": [
    {
     "name": "stdout",
     "output_type": "stream",
     "text": [
      "           name  accuracy  noaug_acc  mflops  kparams     reference  \\\n",
      "0     PiczakCNN     0.750      0.730   168.0  25534.0        Piczak   \n",
      "1        SB-CNN     0.780      0.720   152.0    432.0  SalomonBello   \n",
      "2  Dmix-CNN-mel     0.826      0.747   837.0   1180.0  ZhichaoZhang   \n",
      "3         D-CNN     0.819        NaN    85.0  33000.0         Zhang   \n",
      "4        LD-CNN     0.790        NaN    19.8    500.0     Zhang2018   \n",
      "5      DilaConv     0.780        NaN     NaN      NaN   YanChen2019   \n",
      "7      EnvNetv2     0.783      0.691     NaN      NaN      Tokozume   \n",
      "8         WSNet     0.700        NaN     NaN    288.0       Xiaojie   \n",
      "\n",
      "                                   augmentation      features  mmacc  \\\n",
      "0  pitchshift,timestretch,dynamicrange,noisemix  logmel+delta   84.0   \n",
      "1  pitchshift,timestretch,dynamicrange,noisemix        logmel   76.0   \n",
      "2                  pitchshift,timestretch,mixup  logmel+delta  443.0   \n",
      "3                                   timestretch  logmel+delta  330.0   \n",
      "4                                   timestretch  logmel+delta    5.6   \n",
      "5                                             ?        logmel    NaN   \n",
      "7                                  betweenclass      waveform    NaN   \n",
      "8                                             ?      waveform    NaN   \n",
      "\n",
      "   frames_second      params       macc_s  \n",
      "0            NaN  25534000.0   84000000.0  \n",
      "1            NaN    432000.0   76000000.0  \n",
      "2            NaN   1180000.0  443000000.0  \n",
      "3            NaN  33000000.0  330000000.0  \n",
      "4            NaN    500000.0    5600000.0  \n",
      "5            NaN         NaN          NaN  \n",
      "7            NaN         NaN          NaN  \n",
      "8            NaN    288000.0          NaN  \n",
      "WARN. Missing \"kparams\" for ['DilaConv', 'EnvNetv2']\n",
      "WARN. Missing \"mmacc\" for ['DilaConv', 'EnvNetv2', 'WSNet']\n"
     ]
    },
    {
     "data": {
      "image/png": "[encoded data removed]",
      "text/plain": [
       "<Figure size 576x288 with 1 Axes>"
      ]
     },
     "metadata": {
      "needs_background": "light"
     },
     "output_type": "display_data"
    }
   ],
   "source": [
    "def check_missing(df, field, name='name'):\n",
    "    missing = df[df[field].isna()]\n",
    "    if len(missing):\n",
    "        print('WARN. Missing \"{}\" for {}'.format(field, list(missing[name])))\n",
    "    \n",
    "def plot_models(data_path, figsize=(8,4)):\n",
    "\n",
    "    fig, ax = plt.subplots(1, figsize=figsize)\n",
    "    df = pandas.read_csv(data_path)\n",
    "    df['params'] = df['kparams']*1e3\n",
    "    df['macc_s'] = df['mmacc']*1e6\n",
    "    # FIXME: calculate per-second\n",
    "    \n",
    "    df = df[df['name'] != 'Dmix-CNN-gt']\n",
    "    \n",
    "    print(df.head(20))\n",
    "    \n",
    "    check_missing(df, 'accuracy')\n",
    "    check_missing(df, 'kparams')\n",
    "    check_missing(df, 'mmacc')\n",
    "\n",
    "    # FIXME: units need to be shifted\n",
    "    # TODO: rename axes to be nice\n",
    "    df.plot.scatter(x='params', y='macc_s', logx=True, logy=True, ax=ax)\n",
    "\n",
    "    # highlight feasible region\n",
    "    feasible_x = 512e3\n",
    "    feasible_y = 5.0e6\n",
    "    x = [ 0, feasible_x, feasible_x, 0 ]\n",
    "    y = [ 0,  0, feasible_y, feasible_y ]\n",
    "    ax.fill(x, y, color='green', alpha=0.5)\n",
    "    \n",
    "    def add_labels(row):\n",
    "        xy = row.params, row.macc_s\n",
    "        label = \"{}  {:.1f}\".format(row['name'], 100*row.accuracy) \n",
    "        ax.annotate(label, xy,\n",
    "                    xytext=(5,40), \n",
    "                    textcoords='offset points',\n",
    "                    size=12,\n",
    "                    rotation=25,\n",
    "                    color='darkslategrey')\n",
    "    df.apply(add_labels, axis=1)\n",
    "\n",
    "    return fig\n",
    "\n",
    "plot_models('urbansound8k-existing.csv');"
   ]
  },
  {
   "cell_type": "code",
   "execution_count": null,
   "metadata": {},
   "outputs": [],
   "source": []
  },
  {
   "cell_type": "code",
   "execution_count": null,
   "metadata": {},
   "outputs": [],
   "source": []
  }
 ],
 "metadata": {
  "kernelspec": {
   "display_name": "Python 3",
   "language": "python",
   "name": "python3"
  },
  "language_info": {
   "codemirror_mode": {
    "name": "ipython",
    "version": 3
   },
   "file_extension": ".py",
   "mimetype": "text/x-python",
   "name": "python",
   "nbconvert_exporter": "python",
   "pygments_lexer": "ipython3",
   "version": "3.7.2"
  }
 },
 "nbformat": 4,
 "nbformat_minor": 2
}
